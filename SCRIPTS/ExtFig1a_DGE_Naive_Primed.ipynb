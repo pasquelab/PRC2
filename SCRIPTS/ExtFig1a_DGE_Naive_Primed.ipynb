{
 "cells": [
  {
   "cell_type": "markdown",
   "metadata": {},
   "source": [
    "# Differential gene expression analysis of naive versus primed"
   ]
  },
  {
   "cell_type": "code",
   "execution_count": 1,
   "metadata": {
    "collapsed": true,
    "jupyter": {
     "outputs_hidden": true
    }
   },
   "outputs": [
    {
     "name": "stderr",
     "output_type": "stream",
     "text": [
      "Registered S3 methods overwritten by 'ggplot2':\n",
      "  method         from \n",
      "  [.quosures     rlang\n",
      "  c.quosures     rlang\n",
      "  print.quosures rlang\n",
      "\n",
      "Attaching package: 'dplyr'\n",
      "\n",
      "The following objects are masked from 'package:stats':\n",
      "\n",
      "    filter, lag\n",
      "\n",
      "The following objects are masked from 'package:base':\n",
      "\n",
      "    intersect, setdiff, setequal, union\n",
      "\n",
      "Loading required package: S4Vectors\n",
      "Loading required package: stats4\n",
      "Loading required package: BiocGenerics\n",
      "Loading required package: parallel\n",
      "\n",
      "Attaching package: 'BiocGenerics'\n",
      "\n",
      "The following objects are masked from 'package:parallel':\n",
      "\n",
      "    clusterApply, clusterApplyLB, clusterCall, clusterEvalQ,\n",
      "    clusterExport, clusterMap, parApply, parCapply, parLapply,\n",
      "    parLapplyLB, parRapply, parSapply, parSapplyLB\n",
      "\n",
      "The following objects are masked from 'package:dplyr':\n",
      "\n",
      "    combine, intersect, setdiff, union\n",
      "\n",
      "The following objects are masked from 'package:stats':\n",
      "\n",
      "    IQR, mad, sd, var, xtabs\n",
      "\n",
      "The following objects are masked from 'package:base':\n",
      "\n",
      "    Filter, Find, Map, Position, Reduce, anyDuplicated, append,\n",
      "    as.data.frame, basename, cbind, colnames, dirname, do.call,\n",
      "    duplicated, eval, evalq, get, grep, grepl, intersect, is.unsorted,\n",
      "    lapply, mapply, match, mget, order, paste, pmax, pmax.int, pmin,\n",
      "    pmin.int, rank, rbind, rownames, sapply, setdiff, sort, table,\n",
      "    tapply, union, unique, unsplit, which, which.max, which.min\n",
      "\n",
      "\n",
      "Attaching package: 'S4Vectors'\n",
      "\n",
      "The following objects are masked from 'package:dplyr':\n",
      "\n",
      "    first, rename\n",
      "\n",
      "The following object is masked from 'package:base':\n",
      "\n",
      "    expand.grid\n",
      "\n",
      "Loading required package: IRanges\n",
      "\n",
      "Attaching package: 'IRanges'\n",
      "\n",
      "The following objects are masked from 'package:dplyr':\n",
      "\n",
      "    collapse, desc, slice\n",
      "\n",
      "Loading required package: GenomicRanges\n",
      "Loading required package: GenomeInfoDb\n",
      "Loading required package: SummarizedExperiment\n",
      "Loading required package: Biobase\n",
      "Welcome to Bioconductor\n",
      "\n",
      "    Vignettes contain introductory material; view with\n",
      "    'browseVignettes()'. To cite Bioconductor, see\n",
      "    'citation(\"Biobase\")', and for packages 'citation(\"pkgname\")'.\n",
      "\n",
      "Loading required package: DelayedArray\n",
      "Loading required package: matrixStats\n",
      "\n",
      "Attaching package: 'matrixStats'\n",
      "\n",
      "The following objects are masked from 'package:Biobase':\n",
      "\n",
      "    anyMissing, rowMedians\n",
      "\n",
      "The following object is masked from 'package:dplyr':\n",
      "\n",
      "    count\n",
      "\n",
      "Loading required package: BiocParallel\n",
      "\n",
      "Attaching package: 'DelayedArray'\n",
      "\n",
      "The following objects are masked from 'package:matrixStats':\n",
      "\n",
      "    colMaxs, colMins, colRanges, rowMaxs, rowMins, rowRanges\n",
      "\n",
      "The following objects are masked from 'package:base':\n",
      "\n",
      "    aperm, apply, rowsum\n",
      "\n",
      "Registered S3 method overwritten by 'openssl':\n",
      "  method      from\n",
      "  print.bytes Rcpp\n",
      "\n",
      "\n",
      "Attaching package: 'tidyr'\n",
      "\n",
      "The following object is masked from 'package:S4Vectors':\n",
      "\n",
      "    expand\n",
      "\n",
      "Loading required package: viridisLite\n",
      "\n",
      "Attaching package: 'gplots'\n",
      "\n",
      "The following object is masked from 'package:IRanges':\n",
      "\n",
      "    space\n",
      "\n",
      "The following object is masked from 'package:S4Vectors':\n",
      "\n",
      "    space\n",
      "\n",
      "The following object is masked from 'package:stats':\n",
      "\n",
      "    lowess\n",
      "\n"
     ]
    }
   ],
   "source": [
    "library(ggplot2)\n",
    "library(dplyr)\n",
    "library(readr)\n",
    "library(DESeq2)\n",
    "library(DiffBind)\n",
    "library(tidyr)\n",
    "library(wesanderson)\n",
    "library(viridis)\n",
    "library(gplots)\n",
    "library(pheatmap)"
   ]
  },
  {
   "cell_type": "code",
   "execution_count": 2,
   "metadata": {},
   "outputs": [],
   "source": [
    "setwd('/lustre1/project/stg_00041/Irene/bulkRNAseq_primed_naive_PRC2i_2020/featureCount/')"
   ]
  },
  {
   "cell_type": "code",
   "execution_count": 3,
   "metadata": {},
   "outputs": [],
   "source": [
    "gene_counts <- read.delim(\"gene_raw_counts_ordered.txt\")"
   ]
  },
  {
   "cell_type": "code",
   "execution_count": 4,
   "metadata": {},
   "outputs": [
    {
     "data": {
      "text/html": [
       "<table>\n",
       "<thead><tr><th scope=col>GeneID</th><th scope=col>primed_rep1</th><th scope=col>primed_rep2</th><th scope=col>primed_rep3</th><th scope=col>primed_PRC2i_rep1</th><th scope=col>primed_PRC2i_rep2</th><th scope=col>primed_PRC2i_rep3</th><th scope=col>naive_rep1</th><th scope=col>naive_rep2</th><th scope=col>naive_rep3</th><th scope=col>naive_PRC2i_rep1</th><th scope=col>naive_PRC2i_rep2</th><th scope=col>naive_PRC2i_rep3</th></tr></thead>\n",
       "<tbody>\n",
       "\t<tr><td>DDX11L1    </td><td>1          </td><td>0          </td><td>0          </td><td>0          </td><td>0          </td><td>0          </td><td>0          </td><td>0          </td><td>0          </td><td>0          </td><td>0          </td><td>0          </td></tr>\n",
       "\t<tr><td>WASH7P     </td><td>0          </td><td>0          </td><td>1          </td><td>2          </td><td>1          </td><td>0          </td><td>0          </td><td>1          </td><td>1          </td><td>0          </td><td>1          </td><td>0          </td></tr>\n",
       "\t<tr><td>MIR6859-1  </td><td>0          </td><td>0          </td><td>0          </td><td>0          </td><td>0          </td><td>0          </td><td>0          </td><td>0          </td><td>0          </td><td>0          </td><td>0          </td><td>0          </td></tr>\n",
       "\t<tr><td>MIR1302-2HG</td><td>0          </td><td>0          </td><td>0          </td><td>0          </td><td>0          </td><td>0          </td><td>0          </td><td>0          </td><td>0          </td><td>0          </td><td>0          </td><td>0          </td></tr>\n",
       "\t<tr><td>MIR1302-2  </td><td>0          </td><td>0          </td><td>0          </td><td>0          </td><td>0          </td><td>0          </td><td>0          </td><td>0          </td><td>0          </td><td>0          </td><td>0          </td><td>0          </td></tr>\n",
       "\t<tr><td>FAM138A    </td><td>0          </td><td>0          </td><td>0          </td><td>0          </td><td>0          </td><td>0          </td><td>0          </td><td>0          </td><td>0          </td><td>0          </td><td>0          </td><td>0          </td></tr>\n",
       "</tbody>\n",
       "</table>\n"
      ],
      "text/latex": [
       "\\begin{tabular}{r|lllllllllllll}\n",
       " GeneID & primed\\_rep1 & primed\\_rep2 & primed\\_rep3 & primed\\_PRC2i\\_rep1 & primed\\_PRC2i\\_rep2 & primed\\_PRC2i\\_rep3 & naive\\_rep1 & naive\\_rep2 & naive\\_rep3 & naive\\_PRC2i\\_rep1 & naive\\_PRC2i\\_rep2 & naive\\_PRC2i\\_rep3\\\\\n",
       "\\hline\n",
       "\t DDX11L1     & 1           & 0           & 0           & 0           & 0           & 0           & 0           & 0           & 0           & 0           & 0           & 0          \\\\\n",
       "\t WASH7P      & 0           & 0           & 1           & 2           & 1           & 0           & 0           & 1           & 1           & 0           & 1           & 0          \\\\\n",
       "\t MIR6859-1   & 0           & 0           & 0           & 0           & 0           & 0           & 0           & 0           & 0           & 0           & 0           & 0          \\\\\n",
       "\t MIR1302-2HG & 0           & 0           & 0           & 0           & 0           & 0           & 0           & 0           & 0           & 0           & 0           & 0          \\\\\n",
       "\t MIR1302-2   & 0           & 0           & 0           & 0           & 0           & 0           & 0           & 0           & 0           & 0           & 0           & 0          \\\\\n",
       "\t FAM138A     & 0           & 0           & 0           & 0           & 0           & 0           & 0           & 0           & 0           & 0           & 0           & 0          \\\\\n",
       "\\end{tabular}\n"
      ],
      "text/markdown": [
       "\n",
       "| GeneID | primed_rep1 | primed_rep2 | primed_rep3 | primed_PRC2i_rep1 | primed_PRC2i_rep2 | primed_PRC2i_rep3 | naive_rep1 | naive_rep2 | naive_rep3 | naive_PRC2i_rep1 | naive_PRC2i_rep2 | naive_PRC2i_rep3 |\n",
       "|---|---|---|---|---|---|---|---|---|---|---|---|---|\n",
       "| DDX11L1     | 1           | 0           | 0           | 0           | 0           | 0           | 0           | 0           | 0           | 0           | 0           | 0           |\n",
       "| WASH7P      | 0           | 0           | 1           | 2           | 1           | 0           | 0           | 1           | 1           | 0           | 1           | 0           |\n",
       "| MIR6859-1   | 0           | 0           | 0           | 0           | 0           | 0           | 0           | 0           | 0           | 0           | 0           | 0           |\n",
       "| MIR1302-2HG | 0           | 0           | 0           | 0           | 0           | 0           | 0           | 0           | 0           | 0           | 0           | 0           |\n",
       "| MIR1302-2   | 0           | 0           | 0           | 0           | 0           | 0           | 0           | 0           | 0           | 0           | 0           | 0           |\n",
       "| FAM138A     | 0           | 0           | 0           | 0           | 0           | 0           | 0           | 0           | 0           | 0           | 0           | 0           |\n",
       "\n"
      ],
      "text/plain": [
       "  GeneID      primed_rep1 primed_rep2 primed_rep3 primed_PRC2i_rep1\n",
       "1 DDX11L1     1           0           0           0                \n",
       "2 WASH7P      0           0           1           2                \n",
       "3 MIR6859-1   0           0           0           0                \n",
       "4 MIR1302-2HG 0           0           0           0                \n",
       "5 MIR1302-2   0           0           0           0                \n",
       "6 FAM138A     0           0           0           0                \n",
       "  primed_PRC2i_rep2 primed_PRC2i_rep3 naive_rep1 naive_rep2 naive_rep3\n",
       "1 0                 0                 0          0          0         \n",
       "2 1                 0                 0          1          1         \n",
       "3 0                 0                 0          0          0         \n",
       "4 0                 0                 0          0          0         \n",
       "5 0                 0                 0          0          0         \n",
       "6 0                 0                 0          0          0         \n",
       "  naive_PRC2i_rep1 naive_PRC2i_rep2 naive_PRC2i_rep3\n",
       "1 0                0                0               \n",
       "2 0                1                0               \n",
       "3 0                0                0               \n",
       "4 0                0                0               \n",
       "5 0                0                0               \n",
       "6 0                0                0               "
      ]
     },
     "metadata": {},
     "output_type": "display_data"
    }
   ],
   "source": [
    "head(gene_counts)"
   ]
  },
  {
   "cell_type": "code",
   "execution_count": 6,
   "metadata": {},
   "outputs": [],
   "source": [
    "myvars_naive <- c(\"GeneID\",\"primed_rep1\",\"primed_rep2\",\"primed_rep3\",\"naive_rep1\",\"naive_rep2\",\"naive_rep3\")"
   ]
  },
  {
   "cell_type": "code",
   "execution_count": 7,
   "metadata": {},
   "outputs": [],
   "source": [
    "gene_counts_primed_naive <- gene_counts[myvars_naive]"
   ]
  },
  {
   "cell_type": "code",
   "execution_count": 8,
   "metadata": {},
   "outputs": [
    {
     "data": {
      "text/html": [
       "<table>\n",
       "<thead><tr><th scope=col>GeneID</th><th scope=col>primed_rep1</th><th scope=col>primed_rep2</th><th scope=col>primed_rep3</th><th scope=col>naive_rep1</th><th scope=col>naive_rep2</th><th scope=col>naive_rep3</th></tr></thead>\n",
       "<tbody>\n",
       "\t<tr><td>DDX11L1    </td><td>1          </td><td>0          </td><td>0          </td><td>0          </td><td>0          </td><td>0          </td></tr>\n",
       "\t<tr><td>WASH7P     </td><td>0          </td><td>0          </td><td>1          </td><td>0          </td><td>1          </td><td>1          </td></tr>\n",
       "\t<tr><td>MIR6859-1  </td><td>0          </td><td>0          </td><td>0          </td><td>0          </td><td>0          </td><td>0          </td></tr>\n",
       "\t<tr><td>MIR1302-2HG</td><td>0          </td><td>0          </td><td>0          </td><td>0          </td><td>0          </td><td>0          </td></tr>\n",
       "\t<tr><td>MIR1302-2  </td><td>0          </td><td>0          </td><td>0          </td><td>0          </td><td>0          </td><td>0          </td></tr>\n",
       "\t<tr><td>FAM138A    </td><td>0          </td><td>0          </td><td>0          </td><td>0          </td><td>0          </td><td>0          </td></tr>\n",
       "</tbody>\n",
       "</table>\n"
      ],
      "text/latex": [
       "\\begin{tabular}{r|lllllll}\n",
       " GeneID & primed\\_rep1 & primed\\_rep2 & primed\\_rep3 & naive\\_rep1 & naive\\_rep2 & naive\\_rep3\\\\\n",
       "\\hline\n",
       "\t DDX11L1     & 1           & 0           & 0           & 0           & 0           & 0          \\\\\n",
       "\t WASH7P      & 0           & 0           & 1           & 0           & 1           & 1          \\\\\n",
       "\t MIR6859-1   & 0           & 0           & 0           & 0           & 0           & 0          \\\\\n",
       "\t MIR1302-2HG & 0           & 0           & 0           & 0           & 0           & 0          \\\\\n",
       "\t MIR1302-2   & 0           & 0           & 0           & 0           & 0           & 0          \\\\\n",
       "\t FAM138A     & 0           & 0           & 0           & 0           & 0           & 0          \\\\\n",
       "\\end{tabular}\n"
      ],
      "text/markdown": [
       "\n",
       "| GeneID | primed_rep1 | primed_rep2 | primed_rep3 | naive_rep1 | naive_rep2 | naive_rep3 |\n",
       "|---|---|---|---|---|---|---|\n",
       "| DDX11L1     | 1           | 0           | 0           | 0           | 0           | 0           |\n",
       "| WASH7P      | 0           | 0           | 1           | 0           | 1           | 1           |\n",
       "| MIR6859-1   | 0           | 0           | 0           | 0           | 0           | 0           |\n",
       "| MIR1302-2HG | 0           | 0           | 0           | 0           | 0           | 0           |\n",
       "| MIR1302-2   | 0           | 0           | 0           | 0           | 0           | 0           |\n",
       "| FAM138A     | 0           | 0           | 0           | 0           | 0           | 0           |\n",
       "\n"
      ],
      "text/plain": [
       "  GeneID      primed_rep1 primed_rep2 primed_rep3 naive_rep1 naive_rep2\n",
       "1 DDX11L1     1           0           0           0          0         \n",
       "2 WASH7P      0           0           1           0          1         \n",
       "3 MIR6859-1   0           0           0           0          0         \n",
       "4 MIR1302-2HG 0           0           0           0          0         \n",
       "5 MIR1302-2   0           0           0           0          0         \n",
       "6 FAM138A     0           0           0           0          0         \n",
       "  naive_rep3\n",
       "1 0         \n",
       "2 1         \n",
       "3 0         \n",
       "4 0         \n",
       "5 0         \n",
       "6 0         "
      ]
     },
     "metadata": {},
     "output_type": "display_data"
    }
   ],
   "source": [
    "head(gene_counts_primed_naive)"
   ]
  },
  {
   "cell_type": "code",
   "execution_count": 9,
   "metadata": {},
   "outputs": [],
   "source": [
    "rownames(gene_counts_primed_naive) <- gene_counts_primed_naive[,1]"
   ]
  },
  {
   "cell_type": "code",
   "execution_count": 10,
   "metadata": {},
   "outputs": [],
   "source": [
    "gene_counts_primed_naive$GeneID <- NULL"
   ]
  },
  {
   "cell_type": "code",
   "execution_count": 11,
   "metadata": {},
   "outputs": [
    {
     "data": {
      "text/html": [
       "<table>\n",
       "<thead><tr><th></th><th scope=col>primed_rep1</th><th scope=col>primed_rep2</th><th scope=col>primed_rep3</th><th scope=col>naive_rep1</th><th scope=col>naive_rep2</th><th scope=col>naive_rep3</th></tr></thead>\n",
       "<tbody>\n",
       "\t<tr><th scope=row>DDX11L1</th><td>1</td><td>0</td><td>0</td><td>0</td><td>0</td><td>0</td></tr>\n",
       "\t<tr><th scope=row>WASH7P</th><td>0</td><td>0</td><td>1</td><td>0</td><td>1</td><td>1</td></tr>\n",
       "\t<tr><th scope=row>MIR6859-1</th><td>0</td><td>0</td><td>0</td><td>0</td><td>0</td><td>0</td></tr>\n",
       "\t<tr><th scope=row>MIR1302-2HG</th><td>0</td><td>0</td><td>0</td><td>0</td><td>0</td><td>0</td></tr>\n",
       "\t<tr><th scope=row>MIR1302-2</th><td>0</td><td>0</td><td>0</td><td>0</td><td>0</td><td>0</td></tr>\n",
       "\t<tr><th scope=row>FAM138A</th><td>0</td><td>0</td><td>0</td><td>0</td><td>0</td><td>0</td></tr>\n",
       "</tbody>\n",
       "</table>\n"
      ],
      "text/latex": [
       "\\begin{tabular}{r|llllll}\n",
       "  & primed\\_rep1 & primed\\_rep2 & primed\\_rep3 & naive\\_rep1 & naive\\_rep2 & naive\\_rep3\\\\\n",
       "\\hline\n",
       "\tDDX11L1 & 1 & 0 & 0 & 0 & 0 & 0\\\\\n",
       "\tWASH7P & 0 & 0 & 1 & 0 & 1 & 1\\\\\n",
       "\tMIR6859-1 & 0 & 0 & 0 & 0 & 0 & 0\\\\\n",
       "\tMIR1302-2HG & 0 & 0 & 0 & 0 & 0 & 0\\\\\n",
       "\tMIR1302-2 & 0 & 0 & 0 & 0 & 0 & 0\\\\\n",
       "\tFAM138A & 0 & 0 & 0 & 0 & 0 & 0\\\\\n",
       "\\end{tabular}\n"
      ],
      "text/markdown": [
       "\n",
       "| <!--/--> | primed_rep1 | primed_rep2 | primed_rep3 | naive_rep1 | naive_rep2 | naive_rep3 |\n",
       "|---|---|---|---|---|---|---|\n",
       "| DDX11L1 | 1 | 0 | 0 | 0 | 0 | 0 |\n",
       "| WASH7P | 0 | 0 | 1 | 0 | 1 | 1 |\n",
       "| MIR6859-1 | 0 | 0 | 0 | 0 | 0 | 0 |\n",
       "| MIR1302-2HG | 0 | 0 | 0 | 0 | 0 | 0 |\n",
       "| MIR1302-2 | 0 | 0 | 0 | 0 | 0 | 0 |\n",
       "| FAM138A | 0 | 0 | 0 | 0 | 0 | 0 |\n",
       "\n"
      ],
      "text/plain": [
       "            primed_rep1 primed_rep2 primed_rep3 naive_rep1 naive_rep2\n",
       "DDX11L1     1           0           0           0          0         \n",
       "WASH7P      0           0           1           0          1         \n",
       "MIR6859-1   0           0           0           0          0         \n",
       "MIR1302-2HG 0           0           0           0          0         \n",
       "MIR1302-2   0           0           0           0          0         \n",
       "FAM138A     0           0           0           0          0         \n",
       "            naive_rep3\n",
       "DDX11L1     0         \n",
       "WASH7P      1         \n",
       "MIR6859-1   0         \n",
       "MIR1302-2HG 0         \n",
       "MIR1302-2   0         \n",
       "FAM138A     0         "
      ]
     },
     "metadata": {},
     "output_type": "display_data"
    }
   ],
   "source": [
    "head(gene_counts_primed_naive)"
   ]
  },
  {
   "cell_type": "code",
   "execution_count": 12,
   "metadata": {},
   "outputs": [],
   "source": [
    "gene_counts_primed_naive <- gene_counts_primed_naive[,c(4,5,6,1,2,3)]"
   ]
  },
  {
   "cell_type": "code",
   "execution_count": 13,
   "metadata": {},
   "outputs": [
    {
     "name": "stdout",
     "output_type": "stream",
     "text": [
      "[1] naive  naive  naive  primed primed primed\n",
      "Levels: primed naive\n"
     ]
    }
   ],
   "source": [
    "condition <- factor(c(\"naive\",\"naive\",\"naive\",\"primed\",\"primed\",\"primed\"), levels = c(\"primed\", \"naive\"))\n",
    "print(condition)"
   ]
  },
  {
   "cell_type": "code",
   "execution_count": 14,
   "metadata": {},
   "outputs": [],
   "source": [
    "colData <- data.frame(sampleName = colnames(gene_counts_primed_naive),\n",
    "                      condition = condition)"
   ]
  },
  {
   "cell_type": "code",
   "execution_count": 15,
   "metadata": {},
   "outputs": [
    {
     "data": {
      "text/html": [
       "<table>\n",
       "<thead><tr><th scope=col>sampleName</th><th scope=col>condition</th></tr></thead>\n",
       "<tbody>\n",
       "\t<tr><td>naive_rep1 </td><td>naive      </td></tr>\n",
       "\t<tr><td>naive_rep2 </td><td>naive      </td></tr>\n",
       "\t<tr><td>naive_rep3 </td><td>naive      </td></tr>\n",
       "\t<tr><td>primed_rep1</td><td>primed     </td></tr>\n",
       "\t<tr><td>primed_rep2</td><td>primed     </td></tr>\n",
       "\t<tr><td>primed_rep3</td><td>primed     </td></tr>\n",
       "</tbody>\n",
       "</table>\n"
      ],
      "text/latex": [
       "\\begin{tabular}{r|ll}\n",
       " sampleName & condition\\\\\n",
       "\\hline\n",
       "\t naive\\_rep1  & naive        \\\\\n",
       "\t naive\\_rep2  & naive        \\\\\n",
       "\t naive\\_rep3  & naive        \\\\\n",
       "\t primed\\_rep1 & primed       \\\\\n",
       "\t primed\\_rep2 & primed       \\\\\n",
       "\t primed\\_rep3 & primed       \\\\\n",
       "\\end{tabular}\n"
      ],
      "text/markdown": [
       "\n",
       "| sampleName | condition |\n",
       "|---|---|\n",
       "| naive_rep1  | naive       |\n",
       "| naive_rep2  | naive       |\n",
       "| naive_rep3  | naive       |\n",
       "| primed_rep1 | primed      |\n",
       "| primed_rep2 | primed      |\n",
       "| primed_rep3 | primed      |\n",
       "\n"
      ],
      "text/plain": [
       "  sampleName  condition\n",
       "1 naive_rep1  naive    \n",
       "2 naive_rep2  naive    \n",
       "3 naive_rep3  naive    \n",
       "4 primed_rep1 primed   \n",
       "5 primed_rep2 primed   \n",
       "6 primed_rep3 primed   "
      ]
     },
     "metadata": {},
     "output_type": "display_data"
    }
   ],
   "source": [
    "colData"
   ]
  },
  {
   "cell_type": "code",
   "execution_count": 16,
   "metadata": {},
   "outputs": [],
   "source": [
    "dds_unbiased <- DESeqDataSetFromMatrix(countData = gene_counts_primed_naive, \n",
    "                                       colData = colData, \n",
    "                                       design = ~ condition)\n",
    "\n",
    "colnames(dds_unbiased) <- colnames(gene_counts_primed_naive)"
   ]
  },
  {
   "cell_type": "code",
   "execution_count": 17,
   "metadata": {},
   "outputs": [
    {
     "data": {
      "text/plain": [
       "class: DESeqDataSet \n",
       "dim: 59050 6 \n",
       "metadata(1): version\n",
       "assays(1): counts\n",
       "rownames(59050): DDX11L1 WASH7P ... MT-TT MT-TP\n",
       "rowData names(0):\n",
       "colnames(6): naive_rep1 naive_rep2 ... primed_rep2 primed_rep3\n",
       "colData names(2): sampleName condition"
      ]
     },
     "metadata": {},
     "output_type": "display_data"
    }
   ],
   "source": [
    "dds_unbiased"
   ]
  },
  {
   "cell_type": "markdown",
   "metadata": {},
   "source": [
    "only keep rows that at least 2 conditions have >1 counts"
   ]
  },
  {
   "cell_type": "code",
   "execution_count": 18,
   "metadata": {},
   "outputs": [],
   "source": [
    "dds_unbiased2 <- dds_unbiased[ rowSums(counts(dds_unbiased)>1) >=2, ]"
   ]
  },
  {
   "cell_type": "code",
   "execution_count": 19,
   "metadata": {},
   "outputs": [
    {
     "data": {
      "text/plain": [
       "class: DESeqDataSet \n",
       "dim: 26808 6 \n",
       "metadata(1): version\n",
       "assays(1): counts\n",
       "rownames(26808): CICP27 AL627309.6 ... MT-TT MT-TP\n",
       "rowData names(0):\n",
       "colnames(6): naive_rep1 naive_rep2 ... primed_rep2 primed_rep3\n",
       "colData names(2): sampleName condition"
      ]
     },
     "metadata": {},
     "output_type": "display_data"
    }
   ],
   "source": [
    "dds_unbiased2"
   ]
  },
  {
   "cell_type": "code",
   "execution_count": 20,
   "metadata": {},
   "outputs": [
    {
     "data": {
      "text/html": [
       "<ol class=list-inline>\n",
       "\t<li>naive</li>\n",
       "\t<li>naive</li>\n",
       "\t<li>naive</li>\n",
       "\t<li>primed</li>\n",
       "\t<li>primed</li>\n",
       "\t<li>primed</li>\n",
       "</ol>\n",
       "\n",
       "<details>\n",
       "\t<summary style=display:list-item;cursor:pointer>\n",
       "\t\t<strong>Levels</strong>:\n",
       "\t</summary>\n",
       "\t<ol class=list-inline>\n",
       "\t\t<li>'primed'</li>\n",
       "\t\t<li>'naive'</li>\n",
       "\t</ol>\n",
       "</details>"
      ],
      "text/latex": [
       "\\begin{enumerate*}\n",
       "\\item naive\n",
       "\\item naive\n",
       "\\item naive\n",
       "\\item primed\n",
       "\\item primed\n",
       "\\item primed\n",
       "\\end{enumerate*}\n",
       "\n",
       "\\emph{Levels}: \\begin{enumerate*}\n",
       "\\item 'primed'\n",
       "\\item 'naive'\n",
       "\\end{enumerate*}\n"
      ],
      "text/markdown": [
       "1. naive\n",
       "2. naive\n",
       "3. naive\n",
       "4. primed\n",
       "5. primed\n",
       "6. primed\n",
       "\n",
       "\n",
       "\n",
       "**Levels**: 1. 'primed'\n",
       "2. 'naive'\n",
       "\n",
       "\n"
      ],
      "text/plain": [
       "[1] naive  naive  naive  primed primed primed\n",
       "Levels: primed naive"
      ]
     },
     "metadata": {},
     "output_type": "display_data"
    }
   ],
   "source": [
    "dds_unbiased2$condition"
   ]
  },
  {
   "cell_type": "code",
   "execution_count": 21,
   "metadata": {},
   "outputs": [
    {
     "name": "stderr",
     "output_type": "stream",
     "text": [
      "estimating size factors\n",
      "estimating dispersions\n",
      "gene-wise dispersion estimates\n",
      "mean-dispersion relationship\n",
      "final dispersion estimates\n",
      "fitting model and testing\n"
     ]
    }
   ],
   "source": [
    "dds2 <- DESeq(dds_unbiased2, betaPrior=FALSE)"
   ]
  },
  {
   "cell_type": "code",
   "execution_count": 22,
   "metadata": {},
   "outputs": [],
   "source": [
    "res_deseq2 <- results(dds2)"
   ]
  },
  {
   "cell_type": "code",
   "execution_count": 23,
   "metadata": {},
   "outputs": [],
   "source": [
    "DEG_analysis <- res_deseq2[order(res_deseq2$log2FoldChange),]"
   ]
  },
  {
   "cell_type": "code",
   "execution_count": 24,
   "metadata": {},
   "outputs": [
    {
     "data": {
      "text/plain": [
       "log2 fold change (MLE): condition naive vs primed \n",
       "Wald test p-value: condition naive vs primed \n",
       "DataFrame with 6 rows and 6 columns\n",
       "                  baseMean    log2FoldChange            lfcSE              stat\n",
       "                 <numeric>         <numeric>        <numeric>         <numeric>\n",
       "LINC00836 580.429371447865 -12.4952125654457 1.25553825453133 -9.95207634681746\n",
       "NMNAT1P3  213.196897376583 -11.0492169810533 1.19220029781129 -9.26791999745183\n",
       "IGSF21    183.298138041243 -10.8312173824493 1.19236520162892 -9.08380869187775\n",
       "PTPRZ1    7225.33077336551 -10.7737443468523 0.31426497387701 -34.2823580176285\n",
       "GRPR      629.631058447236 -10.7589554091269 1.10823988071536 -9.70814676167592\n",
       "LINC01487  172.56045858878 -10.7463908484151 1.19703896343933 -8.97747790726763\n",
       "                         pvalue                  padj\n",
       "                      <numeric>             <numeric>\n",
       "LINC00836  2.46975567306901e-23  2.10916662401915e-22\n",
       "NMNAT1P3   1.89811187112619e-20  1.44184428816321e-19\n",
       "IGSF21     1.04840471062196e-19  7.69356284632986e-19\n",
       "PTPRZ1    1.43772497442943e-257 3.60197134481585e-255\n",
       "GRPR       2.78351900614954e-22  2.27562653241387e-21\n",
       "LINC01487  2.77044273284044e-19  2.00235261092623e-18"
      ]
     },
     "metadata": {},
     "output_type": "display_data"
    }
   ],
   "source": [
    "head(DEG_analysis)"
   ]
  },
  {
   "cell_type": "code",
   "execution_count": 25,
   "metadata": {},
   "outputs": [],
   "source": [
    "complete_naive_primed <- as.data.frame(res_deseq2)"
   ]
  },
  {
   "cell_type": "code",
   "execution_count": 26,
   "metadata": {},
   "outputs": [
    {
     "data": {
      "text/html": [
       "<table>\n",
       "<thead><tr><th></th><th scope=col>baseMean</th><th scope=col>log2FoldChange</th><th scope=col>lfcSE</th><th scope=col>stat</th><th scope=col>pvalue</th><th scope=col>padj</th></tr></thead>\n",
       "<tbody>\n",
       "\t<tr><th scope=row>CICP27</th><td> 0.876662   </td><td>-3.1280752  </td><td>2.5053046   </td><td>-1.2485808  </td><td>2.118184e-01</td><td>0.3055597514</td></tr>\n",
       "\t<tr><th scope=row>AL627309.6</th><td>14.055795   </td><td>-1.3022508  </td><td>0.6075642   </td><td>-2.1433963  </td><td>3.208129e-02</td><td>0.0600812571</td></tr>\n",
       "\t<tr><th scope=row>AL627309.7</th><td>18.669879   </td><td>-2.7736747  </td><td>0.6907259   </td><td>-4.0155939  </td><td>5.929628e-05</td><td>0.0001683316</td></tr>\n",
       "\t<tr><th scope=row>AL627309.5</th><td> 8.379001   </td><td>-3.0497453  </td><td>0.9992758   </td><td>-3.0519554  </td><td>2.273559e-03</td><td>0.0052593443</td></tr>\n",
       "\t<tr><th scope=row>FO538757.1</th><td> 0.970610   </td><td> 1.3017918  </td><td>2.3168150   </td><td> 0.5618885  </td><td>5.741920e-01</td><td>0.6723024312</td></tr>\n",
       "\t<tr><th scope=row>WASH9P</th><td>18.400479   </td><td>-0.7420878  </td><td>0.5339628   </td><td>-1.3897743  </td><td>1.645974e-01</td><td>0.2481923114</td></tr>\n",
       "</tbody>\n",
       "</table>\n"
      ],
      "text/latex": [
       "\\begin{tabular}{r|llllll}\n",
       "  & baseMean & log2FoldChange & lfcSE & stat & pvalue & padj\\\\\n",
       "\\hline\n",
       "\tCICP27 &  0.876662    & -3.1280752   & 2.5053046    & -1.2485808   & 2.118184e-01 & 0.3055597514\\\\\n",
       "\tAL627309.6 & 14.055795    & -1.3022508   & 0.6075642    & -2.1433963   & 3.208129e-02 & 0.0600812571\\\\\n",
       "\tAL627309.7 & 18.669879    & -2.7736747   & 0.6907259    & -4.0155939   & 5.929628e-05 & 0.0001683316\\\\\n",
       "\tAL627309.5 &  8.379001    & -3.0497453   & 0.9992758    & -3.0519554   & 2.273559e-03 & 0.0052593443\\\\\n",
       "\tFO538757.1 &  0.970610    &  1.3017918   & 2.3168150    &  0.5618885   & 5.741920e-01 & 0.6723024312\\\\\n",
       "\tWASH9P & 18.400479    & -0.7420878   & 0.5339628    & -1.3897743   & 1.645974e-01 & 0.2481923114\\\\\n",
       "\\end{tabular}\n"
      ],
      "text/markdown": [
       "\n",
       "| <!--/--> | baseMean | log2FoldChange | lfcSE | stat | pvalue | padj |\n",
       "|---|---|---|---|---|---|---|\n",
       "| CICP27 |  0.876662    | -3.1280752   | 2.5053046    | -1.2485808   | 2.118184e-01 | 0.3055597514 |\n",
       "| AL627309.6 | 14.055795    | -1.3022508   | 0.6075642    | -2.1433963   | 3.208129e-02 | 0.0600812571 |\n",
       "| AL627309.7 | 18.669879    | -2.7736747   | 0.6907259    | -4.0155939   | 5.929628e-05 | 0.0001683316 |\n",
       "| AL627309.5 |  8.379001    | -3.0497453   | 0.9992758    | -3.0519554   | 2.273559e-03 | 0.0052593443 |\n",
       "| FO538757.1 |  0.970610    |  1.3017918   | 2.3168150    |  0.5618885   | 5.741920e-01 | 0.6723024312 |\n",
       "| WASH9P | 18.400479    | -0.7420878   | 0.5339628    | -1.3897743   | 1.645974e-01 | 0.2481923114 |\n",
       "\n"
      ],
      "text/plain": [
       "           baseMean  log2FoldChange lfcSE     stat       pvalue      \n",
       "CICP27      0.876662 -3.1280752     2.5053046 -1.2485808 2.118184e-01\n",
       "AL627309.6 14.055795 -1.3022508     0.6075642 -2.1433963 3.208129e-02\n",
       "AL627309.7 18.669879 -2.7736747     0.6907259 -4.0155939 5.929628e-05\n",
       "AL627309.5  8.379001 -3.0497453     0.9992758 -3.0519554 2.273559e-03\n",
       "FO538757.1  0.970610  1.3017918     2.3168150  0.5618885 5.741920e-01\n",
       "WASH9P     18.400479 -0.7420878     0.5339628 -1.3897743 1.645974e-01\n",
       "           padj        \n",
       "CICP27     0.3055597514\n",
       "AL627309.6 0.0600812571\n",
       "AL627309.7 0.0001683316\n",
       "AL627309.5 0.0052593443\n",
       "FO538757.1 0.6723024312\n",
       "WASH9P     0.2481923114"
      ]
     },
     "metadata": {},
     "output_type": "display_data"
    }
   ],
   "source": [
    "head(complete_naive_primed)"
   ]
  },
  {
   "cell_type": "code",
   "execution_count": 27,
   "metadata": {},
   "outputs": [],
   "source": [
    "#res_deseq.sign2 <- res_deseq2[(res_deseq2$log2FoldChange > 2.5 | res_deseq2$log2FoldChange < -2.5) & (res_deseq2$padj < 0.05) & (!is.na(res_deseq2$padj)),]\n",
    "#dim(res_deseq.sign2)"
   ]
  },
  {
   "cell_type": "code",
   "execution_count": 31,
   "metadata": {},
   "outputs": [],
   "source": [
    "#write.table(res_deseq.sign2,\"/lustre1/project/stg_00041/Irene/bulkRNAseq_primed_naive_PRC2i_2020/featureCount/DEGs_naive_primed.txt\",sep=\"\\t\",row.names=TRUE)"
   ]
  },
  {
   "cell_type": "code",
   "execution_count": 28,
   "metadata": {},
   "outputs": [],
   "source": [
    "#DEG_analysis_filtered <- DEG_analysis[(DEG_analysis$log2FoldChange > 1 | DEG_analysis$log2FoldChange < -1) & (DEG_analysis$padj < 0.05) & (!is.na(DEG_analysis$padj)),]\n",
    "#dim(DEG_analysis_filtered)"
   ]
  },
  {
   "cell_type": "code",
   "execution_count": 29,
   "metadata": {},
   "outputs": [
    {
     "name": "stderr",
     "output_type": "stream",
     "text": [
      "Loading required package: ggrepel\n",
      "Warning message:\n",
      "\"package 'ggrepel' was built under R version 3.6.2\""
     ]
    }
   ],
   "source": [
    "library(EnhancedVolcano)"
   ]
  },
  {
   "cell_type": "code",
   "execution_count": 33,
   "metadata": {},
   "outputs": [],
   "source": [
    " naive <- c('DPPA5', 'KLF17', 'DPPA2', 'TFAP2C', 'UTF1', 'KLF5', 'KLF4', 'LIN28B', 'PRDM14', 'LIN28A', 'DPPA4', 'SOX2', 'SALL4', 'POU5F1', 'IL6ST', 'DPPA3', 'TBX3')"
   ]
  },
  {
   "cell_type": "code",
   "execution_count": 34,
   "metadata": {},
   "outputs": [],
   "source": [
    "primed <- c('ZIC2', 'L1TD1', 'ZIC5', 'SFRP2', 'CD24')"
   ]
  },
  {
   "cell_type": "code",
   "execution_count": 47,
   "metadata": {},
   "outputs": [],
   "source": [
    " # create custom key-value pairs for 'high', 'low', 'mid' expression by fold-change\n",
    "  # this can be achieved with nested ifelse statements\n",
    "  keyvals2 <- ifelse(\n",
    "      rownames(DEG_analysis) %in% naive, '#7EC247',\n",
    "        ifelse(rownames(DEG_analysis) %in% primed, '#54A3DA', 'grey87'))\n",
    " keyvals2[is.na(keyvals2)] <- 'grey87'\n",
    "  names(keyvals2)[keyvals2 == 'grey87'] <- 'no change'\n",
    "  names(keyvals2)[keyvals2 == '#7EC247'] <- 'pluri'\n",
    "  names(keyvals2)[keyvals2 == '#54A3DA'] <- 'pluri2'"
   ]
  },
  {
   "cell_type": "code",
   "execution_count": 48,
   "metadata": {},
   "outputs": [
    {
     "name": "stderr",
     "output_type": "stream",
     "text": [
      "Warning message:\n",
      "\"One or more p-values is 0. Converting to 10^-1 * current lowest non-zero p-value...\""
     ]
    }
   ],
   "source": [
    "options(repr.plot.width=8, repr.plot.height=7)\n",
    "volcano_naive_primed<- EnhancedVolcano(DEG_analysis,\n",
    "    lab = rownames(DEG_analysis),\n",
    "    x = 'log2FoldChange',\n",
    "    y = 'pvalue',\n",
    "axisLabSize = 12,\n",
    "    title = 'NAIVE vs PRIMED',\n",
    "    subtitle = ' ',\n",
    "  titleLabSize = 12,\n",
    "    FCcutoff = 2.5,\n",
    "    pCutoff=10e-10,                               \n",
    "    pointSize = 2.5,\n",
    "    labSize = 4.0,\n",
    "    selectLab = c('DPPA5', 'KLF17', 'DPPA2', 'TFAP2C', 'UTF1', 'KLF5', 'KLF4', 'LIN28B', 'PRDM14', 'LIN28A', 'DPPA4', 'SOX2', 'SALL4', 'POU5F1', 'IL6ST', 'DPPA3', 'TBX3', 'ZIC2', 'L1TD1', 'ZIC5', 'SFRP2', 'CD24'),\n",
    "    colCustom = keyvals2,\n",
    "    colAlpha = 1,\n",
    "    legendPosition = \"right\",\n",
    "    legendLabSize = 0,\n",
    "    gridlines.major = F, gridlines.minor = F,\n",
    "    border = 'full', borderWidth = 2, borderColour = 'black')\n",
    "\n",
    "   # xlim = c(-5, 8))"
   ]
  },
  {
   "cell_type": "code",
   "execution_count": 49,
   "metadata": {},
   "outputs": [
    {
     "data": {
      "image/png": "[encoded data removed]",
      "text/plain": [
       "plot without title"
      ]
     },
     "metadata": {},
     "output_type": "display_data"
    }
   ],
   "source": [
    "volcano_naive_primed"
   ]
  },
  {
   "cell_type": "code",
   "execution_count": 120,
   "metadata": {},
   "outputs": [
    {
     "data": {
      "text/html": [
       "<strong>png:</strong> 2"
      ],
      "text/latex": [
       "\\textbf{png:} 2"
      ],
      "text/markdown": [
       "**png:** 2"
      ],
      "text/plain": [
       "png \n",
       "  2 "
      ]
     },
     "metadata": {},
     "output_type": "display_data"
    }
   ],
   "source": [
    "pdf(\"Volcano_N_P_S1.pdf\",width=8,height=7,useDingbats = FALSE)\n",
    "plot(volcano_naive_primed)\n",
    "dev.off()"
   ]
  },
  {
   "cell_type": "code",
   "execution_count": null,
   "metadata": {},
   "outputs": [],
   "source": []
  }
 ],
 "metadata": {
  "kernelspec": {
   "display_name": "R [conda env:R_ATACseq2]",
   "language": "R",
   "name": "conda-env-R_ATACseq2-r"
  },
  "language_info": {
   "codemirror_mode": "r",
   "file_extension": ".r",
   "mimetype": "text/x-r-source",
   "name": "R",
   "pygments_lexer": "r",
   "version": "3.6.1"
  }
 },
 "nbformat": 4,
 "nbformat_minor": 4
}
