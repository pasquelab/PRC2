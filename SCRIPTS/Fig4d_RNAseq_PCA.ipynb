{
 "cells": [
  {
   "cell_type": "code",
   "execution_count": 1,
   "metadata": {
    "collapsed": true,
    "jupyter": {
     "outputs_hidden": true
    }
   },
   "outputs": [
    {
     "name": "stderr",
     "output_type": "stream",
     "text": [
      "Registered S3 methods overwritten by 'ggplot2':\n",
      "  method         from \n",
      "  [.quosures     rlang\n",
      "  c.quosures     rlang\n",
      "  print.quosures rlang\n",
      "\n",
      "Attaching package: 'dplyr'\n",
      "\n",
      "The following objects are masked from 'package:stats':\n",
      "\n",
      "    filter, lag\n",
      "\n",
      "The following objects are masked from 'package:base':\n",
      "\n",
      "    intersect, setdiff, setequal, union\n",
      "\n",
      "Loading required package: S4Vectors\n",
      "Loading required package: stats4\n",
      "Loading required package: BiocGenerics\n",
      "Loading required package: parallel\n",
      "\n",
      "Attaching package: 'BiocGenerics'\n",
      "\n",
      "The following objects are masked from 'package:parallel':\n",
      "\n",
      "    clusterApply, clusterApplyLB, clusterCall, clusterEvalQ,\n",
      "    clusterExport, clusterMap, parApply, parCapply, parLapply,\n",
      "    parLapplyLB, parRapply, parSapply, parSapplyLB\n",
      "\n",
      "The following objects are masked from 'package:dplyr':\n",
      "\n",
      "    combine, intersect, setdiff, union\n",
      "\n",
      "The following objects are masked from 'package:stats':\n",
      "\n",
      "    IQR, mad, sd, var, xtabs\n",
      "\n",
      "The following objects are masked from 'package:base':\n",
      "\n",
      "    Filter, Find, Map, Position, Reduce, anyDuplicated, append,\n",
      "    as.data.frame, basename, cbind, colnames, dirname, do.call,\n",
      "    duplicated, eval, evalq, get, grep, grepl, intersect, is.unsorted,\n",
      "    lapply, mapply, match, mget, order, paste, pmax, pmax.int, pmin,\n",
      "    pmin.int, rank, rbind, rownames, sapply, setdiff, sort, table,\n",
      "    tapply, union, unique, unsplit, which, which.max, which.min\n",
      "\n",
      "\n",
      "Attaching package: 'S4Vectors'\n",
      "\n",
      "The following objects are masked from 'package:dplyr':\n",
      "\n",
      "    first, rename\n",
      "\n",
      "The following object is masked from 'package:base':\n",
      "\n",
      "    expand.grid\n",
      "\n",
      "Loading required package: IRanges\n",
      "\n",
      "Attaching package: 'IRanges'\n",
      "\n",
      "The following objects are masked from 'package:dplyr':\n",
      "\n",
      "    collapse, desc, slice\n",
      "\n",
      "Loading required package: GenomicRanges\n",
      "Loading required package: GenomeInfoDb\n",
      "Loading required package: SummarizedExperiment\n",
      "Loading required package: Biobase\n",
      "Welcome to Bioconductor\n",
      "\n",
      "    Vignettes contain introductory material; view with\n",
      "    'browseVignettes()'. To cite Bioconductor, see\n",
      "    'citation(\"Biobase\")', and for packages 'citation(\"pkgname\")'.\n",
      "\n",
      "Loading required package: DelayedArray\n",
      "Loading required package: matrixStats\n",
      "\n",
      "Attaching package: 'matrixStats'\n",
      "\n",
      "The following objects are masked from 'package:Biobase':\n",
      "\n",
      "    anyMissing, rowMedians\n",
      "\n",
      "The following object is masked from 'package:dplyr':\n",
      "\n",
      "    count\n",
      "\n",
      "Loading required package: BiocParallel\n",
      "\n",
      "Attaching package: 'DelayedArray'\n",
      "\n",
      "The following objects are masked from 'package:matrixStats':\n",
      "\n",
      "    colMaxs, colMins, colRanges, rowMaxs, rowMins, rowRanges\n",
      "\n",
      "The following objects are masked from 'package:base':\n",
      "\n",
      "    aperm, apply, rowsum\n",
      "\n",
      "Registered S3 method overwritten by 'openssl':\n",
      "  method      from\n",
      "  print.bytes Rcpp\n",
      "\n",
      "\n",
      "Attaching package: 'tidyr'\n",
      "\n",
      "The following object is masked from 'package:S4Vectors':\n",
      "\n",
      "    expand\n",
      "\n",
      "Loading required package: viridisLite\n",
      "\n",
      "Attaching package: 'gplots'\n",
      "\n",
      "The following object is masked from 'package:IRanges':\n",
      "\n",
      "    space\n",
      "\n",
      "The following object is masked from 'package:S4Vectors':\n",
      "\n",
      "    space\n",
      "\n",
      "The following object is masked from 'package:stats':\n",
      "\n",
      "    lowess\n",
      "\n"
     ]
    }
   ],
   "source": [
    "library(ggplot2)\n",
    "library(dplyr)\n",
    "library(readr)\n",
    "library(DESeq2)\n",
    "library(DiffBind)\n",
    "library(tidyr)\n",
    "library(wesanderson)\n",
    "library(viridis)\n",
    "library(gplots)\n",
    "library(pheatmap)"
   ]
  },
  {
   "cell_type": "code",
   "execution_count": 3,
   "metadata": {},
   "outputs": [],
   "source": [
    "setwd('/lustre1/project/stg_00041/Irene/bulkRNAseq_primed_naive_PRC2i_2020/featureCount/')"
   ]
  },
  {
   "cell_type": "code",
   "execution_count": 4,
   "metadata": {},
   "outputs": [],
   "source": [
    "gene_raw_counts_ordered <- read.delim(\"gene_raw_counts_ordered.txt\")"
   ]
  },
  {
   "cell_type": "code",
   "execution_count": 8,
   "metadata": {},
   "outputs": [
    {
     "data": {
      "text/html": [
       "<table>\n",
       "<thead><tr><th scope=col>GeneID</th><th scope=col>primed_rep1</th><th scope=col>primed_rep2</th><th scope=col>primed_rep3</th><th scope=col>primed_PRC2i_rep1</th><th scope=col>primed_PRC2i_rep2</th><th scope=col>primed_PRC2i_rep3</th><th scope=col>naive_rep1</th><th scope=col>naive_rep2</th><th scope=col>naive_rep3</th><th scope=col>naive_PRC2i_rep1</th><th scope=col>naive_PRC2i_rep2</th><th scope=col>naive_PRC2i_rep3</th></tr></thead>\n",
       "<tbody>\n",
       "\t<tr><td>DDX11L1    </td><td>1          </td><td>0          </td><td>0          </td><td>0          </td><td>0          </td><td>0          </td><td>0          </td><td>0          </td><td>0          </td><td>0          </td><td>0          </td><td>0          </td></tr>\n",
       "\t<tr><td>WASH7P     </td><td>0          </td><td>0          </td><td>1          </td><td>2          </td><td>1          </td><td>0          </td><td>0          </td><td>1          </td><td>1          </td><td>0          </td><td>1          </td><td>0          </td></tr>\n",
       "\t<tr><td>MIR6859-1  </td><td>0          </td><td>0          </td><td>0          </td><td>0          </td><td>0          </td><td>0          </td><td>0          </td><td>0          </td><td>0          </td><td>0          </td><td>0          </td><td>0          </td></tr>\n",
       "\t<tr><td>MIR1302-2HG</td><td>0          </td><td>0          </td><td>0          </td><td>0          </td><td>0          </td><td>0          </td><td>0          </td><td>0          </td><td>0          </td><td>0          </td><td>0          </td><td>0          </td></tr>\n",
       "\t<tr><td>MIR1302-2  </td><td>0          </td><td>0          </td><td>0          </td><td>0          </td><td>0          </td><td>0          </td><td>0          </td><td>0          </td><td>0          </td><td>0          </td><td>0          </td><td>0          </td></tr>\n",
       "\t<tr><td>FAM138A    </td><td>0          </td><td>0          </td><td>0          </td><td>0          </td><td>0          </td><td>0          </td><td>0          </td><td>0          </td><td>0          </td><td>0          </td><td>0          </td><td>0          </td></tr>\n",
       "</tbody>\n",
       "</table>\n"
      ],
      "text/latex": [
       "\\begin{tabular}{r|lllllllllllll}\n",
       " GeneID & primed\\_rep1 & primed\\_rep2 & primed\\_rep3 & primed\\_PRC2i\\_rep1 & primed\\_PRC2i\\_rep2 & primed\\_PRC2i\\_rep3 & naive\\_rep1 & naive\\_rep2 & naive\\_rep3 & naive\\_PRC2i\\_rep1 & naive\\_PRC2i\\_rep2 & naive\\_PRC2i\\_rep3\\\\\n",
       "\\hline\n",
       "\t DDX11L1     & 1           & 0           & 0           & 0           & 0           & 0           & 0           & 0           & 0           & 0           & 0           & 0          \\\\\n",
       "\t WASH7P      & 0           & 0           & 1           & 2           & 1           & 0           & 0           & 1           & 1           & 0           & 1           & 0          \\\\\n",
       "\t MIR6859-1   & 0           & 0           & 0           & 0           & 0           & 0           & 0           & 0           & 0           & 0           & 0           & 0          \\\\\n",
       "\t MIR1302-2HG & 0           & 0           & 0           & 0           & 0           & 0           & 0           & 0           & 0           & 0           & 0           & 0          \\\\\n",
       "\t MIR1302-2   & 0           & 0           & 0           & 0           & 0           & 0           & 0           & 0           & 0           & 0           & 0           & 0          \\\\\n",
       "\t FAM138A     & 0           & 0           & 0           & 0           & 0           & 0           & 0           & 0           & 0           & 0           & 0           & 0          \\\\\n",
       "\\end{tabular}\n"
      ],
      "text/markdown": [
       "\n",
       "| GeneID | primed_rep1 | primed_rep2 | primed_rep3 | primed_PRC2i_rep1 | primed_PRC2i_rep2 | primed_PRC2i_rep3 | naive_rep1 | naive_rep2 | naive_rep3 | naive_PRC2i_rep1 | naive_PRC2i_rep2 | naive_PRC2i_rep3 |\n",
       "|---|---|---|---|---|---|---|---|---|---|---|---|---|\n",
       "| DDX11L1     | 1           | 0           | 0           | 0           | 0           | 0           | 0           | 0           | 0           | 0           | 0           | 0           |\n",
       "| WASH7P      | 0           | 0           | 1           | 2           | 1           | 0           | 0           | 1           | 1           | 0           | 1           | 0           |\n",
       "| MIR6859-1   | 0           | 0           | 0           | 0           | 0           | 0           | 0           | 0           | 0           | 0           | 0           | 0           |\n",
       "| MIR1302-2HG | 0           | 0           | 0           | 0           | 0           | 0           | 0           | 0           | 0           | 0           | 0           | 0           |\n",
       "| MIR1302-2   | 0           | 0           | 0           | 0           | 0           | 0           | 0           | 0           | 0           | 0           | 0           | 0           |\n",
       "| FAM138A     | 0           | 0           | 0           | 0           | 0           | 0           | 0           | 0           | 0           | 0           | 0           | 0           |\n",
       "\n"
      ],
      "text/plain": [
       "  GeneID      primed_rep1 primed_rep2 primed_rep3 primed_PRC2i_rep1\n",
       "1 DDX11L1     1           0           0           0                \n",
       "2 WASH7P      0           0           1           2                \n",
       "3 MIR6859-1   0           0           0           0                \n",
       "4 MIR1302-2HG 0           0           0           0                \n",
       "5 MIR1302-2   0           0           0           0                \n",
       "6 FAM138A     0           0           0           0                \n",
       "  primed_PRC2i_rep2 primed_PRC2i_rep3 naive_rep1 naive_rep2 naive_rep3\n",
       "1 0                 0                 0          0          0         \n",
       "2 1                 0                 0          1          1         \n",
       "3 0                 0                 0          0          0         \n",
       "4 0                 0                 0          0          0         \n",
       "5 0                 0                 0          0          0         \n",
       "6 0                 0                 0          0          0         \n",
       "  naive_PRC2i_rep1 naive_PRC2i_rep2 naive_PRC2i_rep3\n",
       "1 0                0                0               \n",
       "2 0                1                0               \n",
       "3 0                0                0               \n",
       "4 0                0                0               \n",
       "5 0                0                0               \n",
       "6 0                0                0               "
      ]
     },
     "metadata": {},
     "output_type": "display_data"
    }
   ],
   "source": [
    "head(gene_raw_counts_ordered)"
   ]
  },
  {
   "cell_type": "code",
   "execution_count": 10,
   "metadata": {},
   "outputs": [],
   "source": [
    "rownames(gene_raw_counts_ordered) <- gene_raw_counts_ordered[,1]"
   ]
  },
  {
   "cell_type": "code",
   "execution_count": 11,
   "metadata": {},
   "outputs": [],
   "source": [
    "gene_raw_counts_ordered$GeneID <- NULL"
   ]
  },
  {
   "cell_type": "code",
   "execution_count": 12,
   "metadata": {},
   "outputs": [
    {
     "data": {
      "text/html": [
       "<table>\n",
       "<thead><tr><th></th><th scope=col>primed_rep1</th><th scope=col>primed_rep2</th><th scope=col>primed_rep3</th><th scope=col>primed_PRC2i_rep1</th><th scope=col>primed_PRC2i_rep2</th><th scope=col>primed_PRC2i_rep3</th><th scope=col>naive_rep1</th><th scope=col>naive_rep2</th><th scope=col>naive_rep3</th><th scope=col>naive_PRC2i_rep1</th><th scope=col>naive_PRC2i_rep2</th><th scope=col>naive_PRC2i_rep3</th></tr></thead>\n",
       "<tbody>\n",
       "\t<tr><th scope=row>DDX11L1</th><td>1</td><td>0</td><td>0</td><td>0</td><td>0</td><td>0</td><td>0</td><td>0</td><td>0</td><td>0</td><td>0</td><td>0</td></tr>\n",
       "\t<tr><th scope=row>WASH7P</th><td>0</td><td>0</td><td>1</td><td>2</td><td>1</td><td>0</td><td>0</td><td>1</td><td>1</td><td>0</td><td>1</td><td>0</td></tr>\n",
       "\t<tr><th scope=row>MIR6859-1</th><td>0</td><td>0</td><td>0</td><td>0</td><td>0</td><td>0</td><td>0</td><td>0</td><td>0</td><td>0</td><td>0</td><td>0</td></tr>\n",
       "\t<tr><th scope=row>MIR1302-2HG</th><td>0</td><td>0</td><td>0</td><td>0</td><td>0</td><td>0</td><td>0</td><td>0</td><td>0</td><td>0</td><td>0</td><td>0</td></tr>\n",
       "\t<tr><th scope=row>MIR1302-2</th><td>0</td><td>0</td><td>0</td><td>0</td><td>0</td><td>0</td><td>0</td><td>0</td><td>0</td><td>0</td><td>0</td><td>0</td></tr>\n",
       "\t<tr><th scope=row>FAM138A</th><td>0</td><td>0</td><td>0</td><td>0</td><td>0</td><td>0</td><td>0</td><td>0</td><td>0</td><td>0</td><td>0</td><td>0</td></tr>\n",
       "</tbody>\n",
       "</table>\n"
      ],
      "text/latex": [
       "\\begin{tabular}{r|llllllllllll}\n",
       "  & primed\\_rep1 & primed\\_rep2 & primed\\_rep3 & primed\\_PRC2i\\_rep1 & primed\\_PRC2i\\_rep2 & primed\\_PRC2i\\_rep3 & naive\\_rep1 & naive\\_rep2 & naive\\_rep3 & naive\\_PRC2i\\_rep1 & naive\\_PRC2i\\_rep2 & naive\\_PRC2i\\_rep3\\\\\n",
       "\\hline\n",
       "\tDDX11L1 & 1 & 0 & 0 & 0 & 0 & 0 & 0 & 0 & 0 & 0 & 0 & 0\\\\\n",
       "\tWASH7P & 0 & 0 & 1 & 2 & 1 & 0 & 0 & 1 & 1 & 0 & 1 & 0\\\\\n",
       "\tMIR6859-1 & 0 & 0 & 0 & 0 & 0 & 0 & 0 & 0 & 0 & 0 & 0 & 0\\\\\n",
       "\tMIR1302-2HG & 0 & 0 & 0 & 0 & 0 & 0 & 0 & 0 & 0 & 0 & 0 & 0\\\\\n",
       "\tMIR1302-2 & 0 & 0 & 0 & 0 & 0 & 0 & 0 & 0 & 0 & 0 & 0 & 0\\\\\n",
       "\tFAM138A & 0 & 0 & 0 & 0 & 0 & 0 & 0 & 0 & 0 & 0 & 0 & 0\\\\\n",
       "\\end{tabular}\n"
      ],
      "text/markdown": [
       "\n",
       "| <!--/--> | primed_rep1 | primed_rep2 | primed_rep3 | primed_PRC2i_rep1 | primed_PRC2i_rep2 | primed_PRC2i_rep3 | naive_rep1 | naive_rep2 | naive_rep3 | naive_PRC2i_rep1 | naive_PRC2i_rep2 | naive_PRC2i_rep3 |\n",
       "|---|---|---|---|---|---|---|---|---|---|---|---|---|\n",
       "| DDX11L1 | 1 | 0 | 0 | 0 | 0 | 0 | 0 | 0 | 0 | 0 | 0 | 0 |\n",
       "| WASH7P | 0 | 0 | 1 | 2 | 1 | 0 | 0 | 1 | 1 | 0 | 1 | 0 |\n",
       "| MIR6859-1 | 0 | 0 | 0 | 0 | 0 | 0 | 0 | 0 | 0 | 0 | 0 | 0 |\n",
       "| MIR1302-2HG | 0 | 0 | 0 | 0 | 0 | 0 | 0 | 0 | 0 | 0 | 0 | 0 |\n",
       "| MIR1302-2 | 0 | 0 | 0 | 0 | 0 | 0 | 0 | 0 | 0 | 0 | 0 | 0 |\n",
       "| FAM138A | 0 | 0 | 0 | 0 | 0 | 0 | 0 | 0 | 0 | 0 | 0 | 0 |\n",
       "\n"
      ],
      "text/plain": [
       "            primed_rep1 primed_rep2 primed_rep3 primed_PRC2i_rep1\n",
       "DDX11L1     1           0           0           0                \n",
       "WASH7P      0           0           1           2                \n",
       "MIR6859-1   0           0           0           0                \n",
       "MIR1302-2HG 0           0           0           0                \n",
       "MIR1302-2   0           0           0           0                \n",
       "FAM138A     0           0           0           0                \n",
       "            primed_PRC2i_rep2 primed_PRC2i_rep3 naive_rep1 naive_rep2\n",
       "DDX11L1     0                 0                 0          0         \n",
       "WASH7P      1                 0                 0          1         \n",
       "MIR6859-1   0                 0                 0          0         \n",
       "MIR1302-2HG 0                 0                 0          0         \n",
       "MIR1302-2   0                 0                 0          0         \n",
       "FAM138A     0                 0                 0          0         \n",
       "            naive_rep3 naive_PRC2i_rep1 naive_PRC2i_rep2 naive_PRC2i_rep3\n",
       "DDX11L1     0          0                0                0               \n",
       "WASH7P      1          0                1                0               \n",
       "MIR6859-1   0          0                0                0               \n",
       "MIR1302-2HG 0          0                0                0               \n",
       "MIR1302-2   0          0                0                0               \n",
       "FAM138A     0          0                0                0               "
      ]
     },
     "metadata": {},
     "output_type": "display_data"
    }
   ],
   "source": [
    "head(gene_raw_counts_ordered)"
   ]
  },
  {
   "cell_type": "code",
   "execution_count": 15,
   "metadata": {},
   "outputs": [],
   "source": [
    "condition <- c(\"primed\",\"primed\",\"primed\",\"primed_PRC2i\",\"primed_PRC2i\",\"primed_PRC2i\",\"naive\",\"naive\",\"naive\",\"naive_PRC2i\",\"naive_PRC2i\",\"naive_PRC2i\")"
   ]
  },
  {
   "cell_type": "code",
   "execution_count": 16,
   "metadata": {},
   "outputs": [],
   "source": [
    "colData2 <- data.frame(condition,row.names=colnames(gene_raw_counts_ordered))\n",
    "# colData$condition <- factor(c(\"primed_rep1\",\"primed_rep2\",\"primed_rep3\",\"primed_PRC2i_rep1\",\"primed_PRC2i_rep2\", \"primed_PRC2i_rep3\",\"naive_rep1\",\"naive_rep2\",\"naive_rep3\",\"naive_PRC2i_rep1\",\"naive_PRC2i_rep2\", \"naive_PRC2i_rep3\"), levels = c(\"primed\",\"primed_PRC2i\",\"naive\",\"naive_PRC2i\"))"
   ]
  },
  {
   "cell_type": "code",
   "execution_count": 17,
   "metadata": {},
   "outputs": [
    {
     "data": {
      "text/html": [
       "<table>\n",
       "<thead><tr><th></th><th scope=col>condition</th></tr></thead>\n",
       "<tbody>\n",
       "\t<tr><th scope=row>primed_rep1</th><td>primed      </td></tr>\n",
       "\t<tr><th scope=row>primed_rep2</th><td>primed      </td></tr>\n",
       "\t<tr><th scope=row>primed_rep3</th><td>primed      </td></tr>\n",
       "\t<tr><th scope=row>primed_PRC2i_rep1</th><td>primed_PRC2i</td></tr>\n",
       "\t<tr><th scope=row>primed_PRC2i_rep2</th><td>primed_PRC2i</td></tr>\n",
       "\t<tr><th scope=row>primed_PRC2i_rep3</th><td>primed_PRC2i</td></tr>\n",
       "\t<tr><th scope=row>naive_rep1</th><td>naive       </td></tr>\n",
       "\t<tr><th scope=row>naive_rep2</th><td>naive       </td></tr>\n",
       "\t<tr><th scope=row>naive_rep3</th><td>naive       </td></tr>\n",
       "\t<tr><th scope=row>naive_PRC2i_rep1</th><td>naive_PRC2i </td></tr>\n",
       "\t<tr><th scope=row>naive_PRC2i_rep2</th><td>naive_PRC2i </td></tr>\n",
       "\t<tr><th scope=row>naive_PRC2i_rep3</th><td>naive_PRC2i </td></tr>\n",
       "</tbody>\n",
       "</table>\n"
      ],
      "text/latex": [
       "\\begin{tabular}{r|l}\n",
       "  & condition\\\\\n",
       "\\hline\n",
       "\tprimed\\_rep1 & primed      \\\\\n",
       "\tprimed\\_rep2 & primed      \\\\\n",
       "\tprimed\\_rep3 & primed      \\\\\n",
       "\tprimed\\_PRC2i\\_rep1 & primed\\_PRC2i\\\\\n",
       "\tprimed\\_PRC2i\\_rep2 & primed\\_PRC2i\\\\\n",
       "\tprimed\\_PRC2i\\_rep3 & primed\\_PRC2i\\\\\n",
       "\tnaive\\_rep1 & naive       \\\\\n",
       "\tnaive\\_rep2 & naive       \\\\\n",
       "\tnaive\\_rep3 & naive       \\\\\n",
       "\tnaive\\_PRC2i\\_rep1 & naive\\_PRC2i \\\\\n",
       "\tnaive\\_PRC2i\\_rep2 & naive\\_PRC2i \\\\\n",
       "\tnaive\\_PRC2i\\_rep3 & naive\\_PRC2i \\\\\n",
       "\\end{tabular}\n"
      ],
      "text/markdown": [
       "\n",
       "| <!--/--> | condition |\n",
       "|---|---|\n",
       "| primed_rep1 | primed       |\n",
       "| primed_rep2 | primed       |\n",
       "| primed_rep3 | primed       |\n",
       "| primed_PRC2i_rep1 | primed_PRC2i |\n",
       "| primed_PRC2i_rep2 | primed_PRC2i |\n",
       "| primed_PRC2i_rep3 | primed_PRC2i |\n",
       "| naive_rep1 | naive        |\n",
       "| naive_rep2 | naive        |\n",
       "| naive_rep3 | naive        |\n",
       "| naive_PRC2i_rep1 | naive_PRC2i  |\n",
       "| naive_PRC2i_rep2 | naive_PRC2i  |\n",
       "| naive_PRC2i_rep3 | naive_PRC2i  |\n",
       "\n"
      ],
      "text/plain": [
       "                  condition   \n",
       "primed_rep1       primed      \n",
       "primed_rep2       primed      \n",
       "primed_rep3       primed      \n",
       "primed_PRC2i_rep1 primed_PRC2i\n",
       "primed_PRC2i_rep2 primed_PRC2i\n",
       "primed_PRC2i_rep3 primed_PRC2i\n",
       "naive_rep1        naive       \n",
       "naive_rep2        naive       \n",
       "naive_rep3        naive       \n",
       "naive_PRC2i_rep1  naive_PRC2i \n",
       "naive_PRC2i_rep2  naive_PRC2i \n",
       "naive_PRC2i_rep3  naive_PRC2i "
      ]
     },
     "metadata": {},
     "output_type": "display_data"
    }
   ],
   "source": [
    "colData2"
   ]
  },
  {
   "cell_type": "code",
   "execution_count": 18,
   "metadata": {},
   "outputs": [],
   "source": [
    "dds_unbiased <- DESeqDataSetFromMatrix(countData = gene_raw_counts_ordered, colData = colData2, design = ~ 1)"
   ]
  },
  {
   "cell_type": "markdown",
   "metadata": {},
   "source": [
    "only keep rows that at least 2 conditions have >1 counts"
   ]
  },
  {
   "cell_type": "code",
   "execution_count": 19,
   "metadata": {},
   "outputs": [],
   "source": [
    "dds_unbiased <- dds_unbiased[ rowSums(counts(dds_unbiased)>1) >=2, ] "
   ]
  },
  {
   "cell_type": "code",
   "execution_count": 20,
   "metadata": {},
   "outputs": [
    {
     "data": {
      "text/plain": [
       "class: DESeqDataSet \n",
       "dim: 30348 12 \n",
       "metadata(1): version\n",
       "assays(1): counts\n",
       "rownames(30348): CICP27 AL627309.6 ... MT-TT MT-TP\n",
       "rowData names(0):\n",
       "colnames(12): primed_rep1 primed_rep2 ... naive_PRC2i_rep2\n",
       "  naive_PRC2i_rep3\n",
       "colData names(1): condition"
      ]
     },
     "metadata": {},
     "output_type": "display_data"
    }
   ],
   "source": [
    "dds_unbiased"
   ]
  },
  {
   "cell_type": "markdown",
   "metadata": {},
   "source": [
    "Normalize with rlog for PCA. rlog transforms the count data to the log2 scale in a way which minimizes differences between samples for rows with small counts, and which normalizes with respect to library size."
   ]
  },
  {
   "cell_type": "code",
   "execution_count": 21,
   "metadata": {},
   "outputs": [],
   "source": [
    "rld <- rlog(dds_unbiased, blind = TRUE)"
   ]
  },
  {
   "cell_type": "code",
   "execution_count": 22,
   "metadata": {},
   "outputs": [
    {
     "data": {
      "text/html": [
       "30348"
      ],
      "text/latex": [
       "30348"
      ],
      "text/markdown": [
       "30348"
      ],
      "text/plain": [
       "[1] 30348"
      ]
     },
     "metadata": {},
     "output_type": "display_data"
    }
   ],
   "source": [
    "nrow(rld)"
   ]
  },
  {
   "cell_type": "code",
   "execution_count": 37,
   "metadata": {},
   "outputs": [],
   "source": [
    "options(repr.plot.width=5, repr.plot.height=4)\n",
    "\n",
    "PCA_all_counts <- plotPCA(rld, intgroup = c(\"condition\"), ntop=30348)+\n",
    "  #scale_color_manual(values = c(\"naive\" = \"#7EC247\", \"naive_PRC2i\" = \"#7EC247\", \"primed\" = \"#54A3DA\", \"primed_PRC2i\" = \"#54A3DA\")) +\n",
    "  scale_shape_manual(values = c(\"naive\" = 16, \"naive_PRC2i\" = 1, \"primed\" = 16, \"primed_PRC2i\" = 1)) +\n",
    "ylim(-100,100)+\n",
    "ggtitle(\"Transcriptomics\") +\n",
    "  theme(legend.title = element_blank(),\n",
    "        plot.title = element_text(hjust = 0.5)) +\n",
    "    theme_bw(base_size = 16) +\n",
    "    theme(legend.title=element_blank())+\n",
    "    xlab(\"PC1 (79%)\") +\n",
    "    ylab(\"PC2 (3%)\")+\n",
    "   # theme(axis.text.x  = element_text(angle=0, vjust=0.5, hjust=0.5, size=8, colour = \"black\"))+\n",
    "    #theme(axis.text.y  = element_text(angle=0, vjust=0.5, hjust=0.5, size=8, colour = \"black\"))+\n",
    "    theme(axis.line = element_line(colour = \"black\"))"
   ]
  },
  {
   "cell_type": "code",
   "execution_count": 38,
   "metadata": {},
   "outputs": [
    {
     "data": {
      "image/png": "[encoded data removed]",
      "text/plain": [
       "plot without title"
      ]
     },
     "metadata": {},
     "output_type": "display_data"
    }
   ],
   "source": [
    "PCA_all_counts"
   ]
  }
 ],
 "metadata": {
  "kernelspec": {
   "display_name": "R [conda env:R_ATACseq2]",
   "language": "R",
   "name": "conda-env-R_ATACseq2-r"
  },
  "language_info": {
   "codemirror_mode": "r",
   "file_extension": ".r",
   "mimetype": "text/x-r-source",
   "name": "R",
   "pygments_lexer": "r",
   "version": "3.6.1"
  }
 },
 "nbformat": 4,
 "nbformat_minor": 4
}
