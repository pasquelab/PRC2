{
 "cells": [
  {
   "cell_type": "markdown",
   "metadata": {},
   "source": [
    "# Differential gene expression analysis"
   ]
  },
  {
   "cell_type": "code",
   "execution_count": 1,
   "metadata": {
    "collapsed": true,
    "jupyter": {
     "outputs_hidden": true
    }
   },
   "outputs": [
    {
     "name": "stderr",
     "output_type": "stream",
     "text": [
      "Registered S3 methods overwritten by 'ggplot2':\n",
      "  method         from \n",
      "  [.quosures     rlang\n",
      "  c.quosures     rlang\n",
      "  print.quosures rlang\n",
      "\n",
      "Attaching package: 'dplyr'\n",
      "\n",
      "The following objects are masked from 'package:stats':\n",
      "\n",
      "    filter, lag\n",
      "\n",
      "The following objects are masked from 'package:base':\n",
      "\n",
      "    intersect, setdiff, setequal, union\n",
      "\n",
      "Loading required package: S4Vectors\n",
      "Loading required package: stats4\n",
      "Loading required package: BiocGenerics\n",
      "Loading required package: parallel\n",
      "\n",
      "Attaching package: 'BiocGenerics'\n",
      "\n",
      "The following objects are masked from 'package:parallel':\n",
      "\n",
      "    clusterApply, clusterApplyLB, clusterCall, clusterEvalQ,\n",
      "    clusterExport, clusterMap, parApply, parCapply, parLapply,\n",
      "    parLapplyLB, parRapply, parSapply, parSapplyLB\n",
      "\n",
      "The following objects are masked from 'package:dplyr':\n",
      "\n",
      "    combine, intersect, setdiff, union\n",
      "\n",
      "The following objects are masked from 'package:stats':\n",
      "\n",
      "    IQR, mad, sd, var, xtabs\n",
      "\n",
      "The following objects are masked from 'package:base':\n",
      "\n",
      "    Filter, Find, Map, Position, Reduce, anyDuplicated, append,\n",
      "    as.data.frame, basename, cbind, colnames, dirname, do.call,\n",
      "    duplicated, eval, evalq, get, grep, grepl, intersect, is.unsorted,\n",
      "    lapply, mapply, match, mget, order, paste, pmax, pmax.int, pmin,\n",
      "    pmin.int, rank, rbind, rownames, sapply, setdiff, sort, table,\n",
      "    tapply, union, unique, unsplit, which, which.max, which.min\n",
      "\n",
      "\n",
      "Attaching package: 'S4Vectors'\n",
      "\n",
      "The following objects are masked from 'package:dplyr':\n",
      "\n",
      "    first, rename\n",
      "\n",
      "The following object is masked from 'package:base':\n",
      "\n",
      "    expand.grid\n",
      "\n",
      "Loading required package: IRanges\n",
      "\n",
      "Attaching package: 'IRanges'\n",
      "\n",
      "The following objects are masked from 'package:dplyr':\n",
      "\n",
      "    collapse, desc, slice\n",
      "\n",
      "Loading required package: GenomicRanges\n",
      "Loading required package: GenomeInfoDb\n",
      "Loading required package: SummarizedExperiment\n",
      "Loading required package: Biobase\n",
      "Welcome to Bioconductor\n",
      "\n",
      "    Vignettes contain introductory material; view with\n",
      "    'browseVignettes()'. To cite Bioconductor, see\n",
      "    'citation(\"Biobase\")', and for packages 'citation(\"pkgname\")'.\n",
      "\n",
      "Loading required package: DelayedArray\n",
      "Loading required package: matrixStats\n",
      "\n",
      "Attaching package: 'matrixStats'\n",
      "\n",
      "The following objects are masked from 'package:Biobase':\n",
      "\n",
      "    anyMissing, rowMedians\n",
      "\n",
      "The following object is masked from 'package:dplyr':\n",
      "\n",
      "    count\n",
      "\n",
      "Loading required package: BiocParallel\n",
      "\n",
      "Attaching package: 'DelayedArray'\n",
      "\n",
      "The following objects are masked from 'package:matrixStats':\n",
      "\n",
      "    colMaxs, colMins, colRanges, rowMaxs, rowMins, rowRanges\n",
      "\n",
      "The following objects are masked from 'package:base':\n",
      "\n",
      "    aperm, apply, rowsum\n",
      "\n",
      "\n",
      "Attaching package: 'tidyr'\n",
      "\n",
      "The following object is masked from 'package:S4Vectors':\n",
      "\n",
      "    expand\n",
      "\n",
      "Loading required package: viridisLite\n",
      "\n",
      "Attaching package: 'gplots'\n",
      "\n",
      "The following object is masked from 'package:IRanges':\n",
      "\n",
      "    space\n",
      "\n",
      "The following object is masked from 'package:S4Vectors':\n",
      "\n",
      "    space\n",
      "\n",
      "The following object is masked from 'package:stats':\n",
      "\n",
      "    lowess\n",
      "\n",
      "\n",
      "Attaching package: 'data.table'\n",
      "\n",
      "The following object is masked from 'package:SummarizedExperiment':\n",
      "\n",
      "    shift\n",
      "\n",
      "The following object is masked from 'package:GenomicRanges':\n",
      "\n",
      "    shift\n",
      "\n",
      "The following object is masked from 'package:IRanges':\n",
      "\n",
      "    shift\n",
      "\n",
      "The following objects are masked from 'package:S4Vectors':\n",
      "\n",
      "    first, second\n",
      "\n",
      "The following objects are masked from 'package:dplyr':\n",
      "\n",
      "    between, first, last\n",
      "\n",
      "Loading required package: ggrepel\n",
      "Warning message:\n",
      "\"package 'ggrepel' was built under R version 3.6.2\""
     ]
    }
   ],
   "source": [
    "library(ggplot2)\n",
    "library(dplyr)\n",
    "library(readr)\n",
    "library(DESeq2)\n",
    "#library(DiffBind)\n",
    "library(tidyr)\n",
    "#library(wesanderson)\n",
    "library(viridis)\n",
    "library(gplots)\n",
    "library(pheatmap)\n",
    "library(data.table)\n",
    "library(EnhancedVolcano)"
   ]
  },
  {
   "cell_type": "code",
   "execution_count": 31,
   "metadata": {},
   "outputs": [],
   "source": [
    "setwd('/lustre1/project/stg_00041/Irene/bulkRNAseq_primed_naive_PRC2i_2020/featureCount/')"
   ]
  },
  {
   "cell_type": "code",
   "execution_count": 32,
   "metadata": {},
   "outputs": [],
   "source": [
    "gene_counts <- read.delim(\"gene_raw_counts_ordered.txt\")"
   ]
  },
  {
   "cell_type": "code",
   "execution_count": 33,
   "metadata": {},
   "outputs": [
    {
     "data": {
      "text/html": [
       "<table>\n",
       "<thead><tr><th scope=col>GeneID</th><th scope=col>primed_rep1</th><th scope=col>primed_rep2</th><th scope=col>primed_rep3</th><th scope=col>primed_PRC2i_rep1</th><th scope=col>primed_PRC2i_rep2</th><th scope=col>primed_PRC2i_rep3</th><th scope=col>naive_rep1</th><th scope=col>naive_rep2</th><th scope=col>naive_rep3</th><th scope=col>naive_PRC2i_rep1</th><th scope=col>naive_PRC2i_rep2</th><th scope=col>naive_PRC2i_rep3</th></tr></thead>\n",
       "<tbody>\n",
       "\t<tr><td>DDX11L1    </td><td>1          </td><td>0          </td><td>0          </td><td>0          </td><td>0          </td><td>0          </td><td>0          </td><td>0          </td><td>0          </td><td>0          </td><td>0          </td><td>0          </td></tr>\n",
       "\t<tr><td>WASH7P     </td><td>0          </td><td>0          </td><td>1          </td><td>2          </td><td>1          </td><td>0          </td><td>0          </td><td>1          </td><td>1          </td><td>0          </td><td>1          </td><td>0          </td></tr>\n",
       "\t<tr><td>MIR6859-1  </td><td>0          </td><td>0          </td><td>0          </td><td>0          </td><td>0          </td><td>0          </td><td>0          </td><td>0          </td><td>0          </td><td>0          </td><td>0          </td><td>0          </td></tr>\n",
       "\t<tr><td>MIR1302-2HG</td><td>0          </td><td>0          </td><td>0          </td><td>0          </td><td>0          </td><td>0          </td><td>0          </td><td>0          </td><td>0          </td><td>0          </td><td>0          </td><td>0          </td></tr>\n",
       "\t<tr><td>MIR1302-2  </td><td>0          </td><td>0          </td><td>0          </td><td>0          </td><td>0          </td><td>0          </td><td>0          </td><td>0          </td><td>0          </td><td>0          </td><td>0          </td><td>0          </td></tr>\n",
       "\t<tr><td>FAM138A    </td><td>0          </td><td>0          </td><td>0          </td><td>0          </td><td>0          </td><td>0          </td><td>0          </td><td>0          </td><td>0          </td><td>0          </td><td>0          </td><td>0          </td></tr>\n",
       "</tbody>\n",
       "</table>\n"
      ],
      "text/latex": [
       "\\begin{tabular}{r|lllllllllllll}\n",
       " GeneID & primed\\_rep1 & primed\\_rep2 & primed\\_rep3 & primed\\_PRC2i\\_rep1 & primed\\_PRC2i\\_rep2 & primed\\_PRC2i\\_rep3 & naive\\_rep1 & naive\\_rep2 & naive\\_rep3 & naive\\_PRC2i\\_rep1 & naive\\_PRC2i\\_rep2 & naive\\_PRC2i\\_rep3\\\\\n",
       "\\hline\n",
       "\t DDX11L1     & 1           & 0           & 0           & 0           & 0           & 0           & 0           & 0           & 0           & 0           & 0           & 0          \\\\\n",
       "\t WASH7P      & 0           & 0           & 1           & 2           & 1           & 0           & 0           & 1           & 1           & 0           & 1           & 0          \\\\\n",
       "\t MIR6859-1   & 0           & 0           & 0           & 0           & 0           & 0           & 0           & 0           & 0           & 0           & 0           & 0          \\\\\n",
       "\t MIR1302-2HG & 0           & 0           & 0           & 0           & 0           & 0           & 0           & 0           & 0           & 0           & 0           & 0          \\\\\n",
       "\t MIR1302-2   & 0           & 0           & 0           & 0           & 0           & 0           & 0           & 0           & 0           & 0           & 0           & 0          \\\\\n",
       "\t FAM138A     & 0           & 0           & 0           & 0           & 0           & 0           & 0           & 0           & 0           & 0           & 0           & 0          \\\\\n",
       "\\end{tabular}\n"
      ],
      "text/markdown": [
       "\n",
       "| GeneID | primed_rep1 | primed_rep2 | primed_rep3 | primed_PRC2i_rep1 | primed_PRC2i_rep2 | primed_PRC2i_rep3 | naive_rep1 | naive_rep2 | naive_rep3 | naive_PRC2i_rep1 | naive_PRC2i_rep2 | naive_PRC2i_rep3 |\n",
       "|---|---|---|---|---|---|---|---|---|---|---|---|---|\n",
       "| DDX11L1     | 1           | 0           | 0           | 0           | 0           | 0           | 0           | 0           | 0           | 0           | 0           | 0           |\n",
       "| WASH7P      | 0           | 0           | 1           | 2           | 1           | 0           | 0           | 1           | 1           | 0           | 1           | 0           |\n",
       "| MIR6859-1   | 0           | 0           | 0           | 0           | 0           | 0           | 0           | 0           | 0           | 0           | 0           | 0           |\n",
       "| MIR1302-2HG | 0           | 0           | 0           | 0           | 0           | 0           | 0           | 0           | 0           | 0           | 0           | 0           |\n",
       "| MIR1302-2   | 0           | 0           | 0           | 0           | 0           | 0           | 0           | 0           | 0           | 0           | 0           | 0           |\n",
       "| FAM138A     | 0           | 0           | 0           | 0           | 0           | 0           | 0           | 0           | 0           | 0           | 0           | 0           |\n",
       "\n"
      ],
      "text/plain": [
       "  GeneID      primed_rep1 primed_rep2 primed_rep3 primed_PRC2i_rep1\n",
       "1 DDX11L1     1           0           0           0                \n",
       "2 WASH7P      0           0           1           2                \n",
       "3 MIR6859-1   0           0           0           0                \n",
       "4 MIR1302-2HG 0           0           0           0                \n",
       "5 MIR1302-2   0           0           0           0                \n",
       "6 FAM138A     0           0           0           0                \n",
       "  primed_PRC2i_rep2 primed_PRC2i_rep3 naive_rep1 naive_rep2 naive_rep3\n",
       "1 0                 0                 0          0          0         \n",
       "2 1                 0                 0          1          1         \n",
       "3 0                 0                 0          0          0         \n",
       "4 0                 0                 0          0          0         \n",
       "5 0                 0                 0          0          0         \n",
       "6 0                 0                 0          0          0         \n",
       "  naive_PRC2i_rep1 naive_PRC2i_rep2 naive_PRC2i_rep3\n",
       "1 0                0                0               \n",
       "2 0                1                0               \n",
       "3 0                0                0               \n",
       "4 0                0                0               \n",
       "5 0                0                0               \n",
       "6 0                0                0               "
      ]
     },
     "metadata": {},
     "output_type": "display_data"
    }
   ],
   "source": [
    "head(gene_counts)"
   ]
  },
  {
   "cell_type": "code",
   "execution_count": 34,
   "metadata": {},
   "outputs": [],
   "source": [
    "myvars_primed <- c(\"GeneID\",\"primed_rep1\",\"primed_rep2\",\"primed_rep3\", \"primed_PRC2i_rep1\",\"primed_PRC2i_rep2\",\"primed_PRC2i_rep3\")"
   ]
  },
  {
   "cell_type": "code",
   "execution_count": 35,
   "metadata": {},
   "outputs": [],
   "source": [
    "gene_counts_primed <- gene_counts[myvars_primed]"
   ]
  },
  {
   "cell_type": "code",
   "execution_count": 36,
   "metadata": {},
   "outputs": [
    {
     "data": {
      "text/html": [
       "<table>\n",
       "<thead><tr><th scope=col>GeneID</th><th scope=col>primed_rep1</th><th scope=col>primed_rep2</th><th scope=col>primed_rep3</th><th scope=col>primed_PRC2i_rep1</th><th scope=col>primed_PRC2i_rep2</th><th scope=col>primed_PRC2i_rep3</th></tr></thead>\n",
       "<tbody>\n",
       "\t<tr><td>DDX11L1    </td><td>1          </td><td>0          </td><td>0          </td><td>0          </td><td>0          </td><td>0          </td></tr>\n",
       "\t<tr><td>WASH7P     </td><td>0          </td><td>0          </td><td>1          </td><td>2          </td><td>1          </td><td>0          </td></tr>\n",
       "\t<tr><td>MIR6859-1  </td><td>0          </td><td>0          </td><td>0          </td><td>0          </td><td>0          </td><td>0          </td></tr>\n",
       "\t<tr><td>MIR1302-2HG</td><td>0          </td><td>0          </td><td>0          </td><td>0          </td><td>0          </td><td>0          </td></tr>\n",
       "\t<tr><td>MIR1302-2  </td><td>0          </td><td>0          </td><td>0          </td><td>0          </td><td>0          </td><td>0          </td></tr>\n",
       "\t<tr><td>FAM138A    </td><td>0          </td><td>0          </td><td>0          </td><td>0          </td><td>0          </td><td>0          </td></tr>\n",
       "</tbody>\n",
       "</table>\n"
      ],
      "text/latex": [
       "\\begin{tabular}{r|lllllll}\n",
       " GeneID & primed\\_rep1 & primed\\_rep2 & primed\\_rep3 & primed\\_PRC2i\\_rep1 & primed\\_PRC2i\\_rep2 & primed\\_PRC2i\\_rep3\\\\\n",
       "\\hline\n",
       "\t DDX11L1     & 1           & 0           & 0           & 0           & 0           & 0          \\\\\n",
       "\t WASH7P      & 0           & 0           & 1           & 2           & 1           & 0          \\\\\n",
       "\t MIR6859-1   & 0           & 0           & 0           & 0           & 0           & 0          \\\\\n",
       "\t MIR1302-2HG & 0           & 0           & 0           & 0           & 0           & 0          \\\\\n",
       "\t MIR1302-2   & 0           & 0           & 0           & 0           & 0           & 0          \\\\\n",
       "\t FAM138A     & 0           & 0           & 0           & 0           & 0           & 0          \\\\\n",
       "\\end{tabular}\n"
      ],
      "text/markdown": [
       "\n",
       "| GeneID | primed_rep1 | primed_rep2 | primed_rep3 | primed_PRC2i_rep1 | primed_PRC2i_rep2 | primed_PRC2i_rep3 |\n",
       "|---|---|---|---|---|---|---|\n",
       "| DDX11L1     | 1           | 0           | 0           | 0           | 0           | 0           |\n",
       "| WASH7P      | 0           | 0           | 1           | 2           | 1           | 0           |\n",
       "| MIR6859-1   | 0           | 0           | 0           | 0           | 0           | 0           |\n",
       "| MIR1302-2HG | 0           | 0           | 0           | 0           | 0           | 0           |\n",
       "| MIR1302-2   | 0           | 0           | 0           | 0           | 0           | 0           |\n",
       "| FAM138A     | 0           | 0           | 0           | 0           | 0           | 0           |\n",
       "\n"
      ],
      "text/plain": [
       "  GeneID      primed_rep1 primed_rep2 primed_rep3 primed_PRC2i_rep1\n",
       "1 DDX11L1     1           0           0           0                \n",
       "2 WASH7P      0           0           1           2                \n",
       "3 MIR6859-1   0           0           0           0                \n",
       "4 MIR1302-2HG 0           0           0           0                \n",
       "5 MIR1302-2   0           0           0           0                \n",
       "6 FAM138A     0           0           0           0                \n",
       "  primed_PRC2i_rep2 primed_PRC2i_rep3\n",
       "1 0                 0                \n",
       "2 1                 0                \n",
       "3 0                 0                \n",
       "4 0                 0                \n",
       "5 0                 0                \n",
       "6 0                 0                "
      ]
     },
     "metadata": {},
     "output_type": "display_data"
    }
   ],
   "source": [
    "head(gene_counts_primed)"
   ]
  },
  {
   "cell_type": "code",
   "execution_count": 37,
   "metadata": {},
   "outputs": [],
   "source": [
    "rownames(gene_counts_primed) <- gene_counts_primed[,1]"
   ]
  },
  {
   "cell_type": "code",
   "execution_count": 38,
   "metadata": {},
   "outputs": [],
   "source": [
    "gene_counts_primed$GeneID <- NULL"
   ]
  },
  {
   "cell_type": "code",
   "execution_count": 39,
   "metadata": {},
   "outputs": [
    {
     "data": {
      "text/html": [
       "<table>\n",
       "<thead><tr><th></th><th scope=col>primed_rep1</th><th scope=col>primed_rep2</th><th scope=col>primed_rep3</th><th scope=col>primed_PRC2i_rep1</th><th scope=col>primed_PRC2i_rep2</th><th scope=col>primed_PRC2i_rep3</th></tr></thead>\n",
       "<tbody>\n",
       "\t<tr><th scope=row>DDX11L1</th><td>1</td><td>0</td><td>0</td><td>0</td><td>0</td><td>0</td></tr>\n",
       "\t<tr><th scope=row>WASH7P</th><td>0</td><td>0</td><td>1</td><td>2</td><td>1</td><td>0</td></tr>\n",
       "\t<tr><th scope=row>MIR6859-1</th><td>0</td><td>0</td><td>0</td><td>0</td><td>0</td><td>0</td></tr>\n",
       "\t<tr><th scope=row>MIR1302-2HG</th><td>0</td><td>0</td><td>0</td><td>0</td><td>0</td><td>0</td></tr>\n",
       "\t<tr><th scope=row>MIR1302-2</th><td>0</td><td>0</td><td>0</td><td>0</td><td>0</td><td>0</td></tr>\n",
       "\t<tr><th scope=row>FAM138A</th><td>0</td><td>0</td><td>0</td><td>0</td><td>0</td><td>0</td></tr>\n",
       "</tbody>\n",
       "</table>\n"
      ],
      "text/latex": [
       "\\begin{tabular}{r|llllll}\n",
       "  & primed\\_rep1 & primed\\_rep2 & primed\\_rep3 & primed\\_PRC2i\\_rep1 & primed\\_PRC2i\\_rep2 & primed\\_PRC2i\\_rep3\\\\\n",
       "\\hline\n",
       "\tDDX11L1 & 1 & 0 & 0 & 0 & 0 & 0\\\\\n",
       "\tWASH7P & 0 & 0 & 1 & 2 & 1 & 0\\\\\n",
       "\tMIR6859-1 & 0 & 0 & 0 & 0 & 0 & 0\\\\\n",
       "\tMIR1302-2HG & 0 & 0 & 0 & 0 & 0 & 0\\\\\n",
       "\tMIR1302-2 & 0 & 0 & 0 & 0 & 0 & 0\\\\\n",
       "\tFAM138A & 0 & 0 & 0 & 0 & 0 & 0\\\\\n",
       "\\end{tabular}\n"
      ],
      "text/markdown": [
       "\n",
       "| <!--/--> | primed_rep1 | primed_rep2 | primed_rep3 | primed_PRC2i_rep1 | primed_PRC2i_rep2 | primed_PRC2i_rep3 |\n",
       "|---|---|---|---|---|---|---|\n",
       "| DDX11L1 | 1 | 0 | 0 | 0 | 0 | 0 |\n",
       "| WASH7P | 0 | 0 | 1 | 2 | 1 | 0 |\n",
       "| MIR6859-1 | 0 | 0 | 0 | 0 | 0 | 0 |\n",
       "| MIR1302-2HG | 0 | 0 | 0 | 0 | 0 | 0 |\n",
       "| MIR1302-2 | 0 | 0 | 0 | 0 | 0 | 0 |\n",
       "| FAM138A | 0 | 0 | 0 | 0 | 0 | 0 |\n",
       "\n"
      ],
      "text/plain": [
       "            primed_rep1 primed_rep2 primed_rep3 primed_PRC2i_rep1\n",
       "DDX11L1     1           0           0           0                \n",
       "WASH7P      0           0           1           2                \n",
       "MIR6859-1   0           0           0           0                \n",
       "MIR1302-2HG 0           0           0           0                \n",
       "MIR1302-2   0           0           0           0                \n",
       "FAM138A     0           0           0           0                \n",
       "            primed_PRC2i_rep2 primed_PRC2i_rep3\n",
       "DDX11L1     0                 0                \n",
       "WASH7P      1                 0                \n",
       "MIR6859-1   0                 0                \n",
       "MIR1302-2HG 0                 0                \n",
       "MIR1302-2   0                 0                \n",
       "FAM138A     0                 0                "
      ]
     },
     "metadata": {},
     "output_type": "display_data"
    }
   ],
   "source": [
    "head(gene_counts_primed)"
   ]
  },
  {
   "cell_type": "code",
   "execution_count": 40,
   "metadata": {},
   "outputs": [
    {
     "name": "stdout",
     "output_type": "stream",
     "text": [
      "[1] primed       primed       primed       primed_PRC2i primed_PRC2i\n",
      "[6] primed_PRC2i\n",
      "Levels: primed_PRC2i primed\n"
     ]
    }
   ],
   "source": [
    "condition <- factor(c(\"primed\",\"primed\",\"primed\",\"primed_PRC2i\",\"primed_PRC2i\",\"primed_PRC2i\"),levels = c(\"primed_PRC2i\", \"primed\"))\n",
    "print(condition)"
   ]
  },
  {
   "cell_type": "code",
   "execution_count": 41,
   "metadata": {},
   "outputs": [],
   "source": [
    "colData <- data.frame(sampleName = colnames(gene_counts_primed),\n",
    "                      condition = condition)"
   ]
  },
  {
   "cell_type": "code",
   "execution_count": 42,
   "metadata": {},
   "outputs": [
    {
     "data": {
      "text/html": [
       "<table>\n",
       "<thead><tr><th scope=col>sampleName</th><th scope=col>condition</th></tr></thead>\n",
       "<tbody>\n",
       "\t<tr><td>primed_rep1      </td><td>primed           </td></tr>\n",
       "\t<tr><td>primed_rep2      </td><td>primed           </td></tr>\n",
       "\t<tr><td>primed_rep3      </td><td>primed           </td></tr>\n",
       "\t<tr><td>primed_PRC2i_rep1</td><td>primed_PRC2i     </td></tr>\n",
       "\t<tr><td>primed_PRC2i_rep2</td><td>primed_PRC2i     </td></tr>\n",
       "\t<tr><td>primed_PRC2i_rep3</td><td>primed_PRC2i     </td></tr>\n",
       "</tbody>\n",
       "</table>\n"
      ],
      "text/latex": [
       "\\begin{tabular}{r|ll}\n",
       " sampleName & condition\\\\\n",
       "\\hline\n",
       "\t primed\\_rep1       & primed             \\\\\n",
       "\t primed\\_rep2       & primed             \\\\\n",
       "\t primed\\_rep3       & primed             \\\\\n",
       "\t primed\\_PRC2i\\_rep1 & primed\\_PRC2i       \\\\\n",
       "\t primed\\_PRC2i\\_rep2 & primed\\_PRC2i       \\\\\n",
       "\t primed\\_PRC2i\\_rep3 & primed\\_PRC2i       \\\\\n",
       "\\end{tabular}\n"
      ],
      "text/markdown": [
       "\n",
       "| sampleName | condition |\n",
       "|---|---|\n",
       "| primed_rep1       | primed            |\n",
       "| primed_rep2       | primed            |\n",
       "| primed_rep3       | primed            |\n",
       "| primed_PRC2i_rep1 | primed_PRC2i      |\n",
       "| primed_PRC2i_rep2 | primed_PRC2i      |\n",
       "| primed_PRC2i_rep3 | primed_PRC2i      |\n",
       "\n"
      ],
      "text/plain": [
       "  sampleName        condition   \n",
       "1 primed_rep1       primed      \n",
       "2 primed_rep2       primed      \n",
       "3 primed_rep3       primed      \n",
       "4 primed_PRC2i_rep1 primed_PRC2i\n",
       "5 primed_PRC2i_rep2 primed_PRC2i\n",
       "6 primed_PRC2i_rep3 primed_PRC2i"
      ]
     },
     "metadata": {},
     "output_type": "display_data"
    }
   ],
   "source": [
    "colData"
   ]
  },
  {
   "cell_type": "code",
   "execution_count": 51,
   "metadata": {},
   "outputs": [],
   "source": [
    "dds_unbiased <- DESeqDataSetFromMatrix(countData = gene_counts_primed, \n",
    "                                       colData = colData, \n",
    "                                       design = ~ condition)\n",
    "\n",
    "colnames(dds_unbiased) <- colnames(gene_counts_primed)"
   ]
  },
  {
   "cell_type": "code",
   "execution_count": 52,
   "metadata": {},
   "outputs": [
    {
     "data": {
      "text/plain": [
       "class: DESeqDataSet \n",
       "dim: 59050 6 \n",
       "metadata(1): version\n",
       "assays(1): counts\n",
       "rownames(59050): DDX11L1 WASH7P ... MT-TT MT-TP\n",
       "rowData names(0):\n",
       "colnames(6): primed_rep1 primed_rep2 ... primed_PRC2i_rep2\n",
       "  primed_PRC2i_rep3\n",
       "colData names(2): sampleName condition"
      ]
     },
     "metadata": {},
     "output_type": "display_data"
    }
   ],
   "source": [
    "dds_unbiased"
   ]
  },
  {
   "cell_type": "markdown",
   "metadata": {},
   "source": [
    "only keep rows that at least 2 conditions have >1 counts"
   ]
  },
  {
   "cell_type": "code",
   "execution_count": 53,
   "metadata": {},
   "outputs": [],
   "source": [
    "dds_unbiased <- dds_unbiased[ rowSums(counts(dds_unbiased)>1) >=2, ]"
   ]
  },
  {
   "cell_type": "code",
   "execution_count": 54,
   "metadata": {},
   "outputs": [
    {
     "data": {
      "text/plain": [
       "class: DESeqDataSet \n",
       "dim: 26675 6 \n",
       "metadata(1): version\n",
       "assays(1): counts\n",
       "rownames(26675): CICP27 AL627309.6 ... MT-TT MT-TP\n",
       "rowData names(0):\n",
       "colnames(6): primed_rep1 primed_rep2 ... primed_PRC2i_rep2\n",
       "  primed_PRC2i_rep3\n",
       "colData names(2): sampleName condition"
      ]
     },
     "metadata": {},
     "output_type": "display_data"
    }
   ],
   "source": [
    "dds_unbiased"
   ]
  },
  {
   "cell_type": "code",
   "execution_count": 55,
   "metadata": {},
   "outputs": [
    {
     "data": {
      "text/html": [
       "<ol class=list-inline>\n",
       "\t<li>primed</li>\n",
       "\t<li>primed</li>\n",
       "\t<li>primed</li>\n",
       "\t<li>primed_PRC2i</li>\n",
       "\t<li>primed_PRC2i</li>\n",
       "\t<li>primed_PRC2i</li>\n",
       "</ol>\n",
       "\n",
       "<details>\n",
       "\t<summary style=display:list-item;cursor:pointer>\n",
       "\t\t<strong>Levels</strong>:\n",
       "\t</summary>\n",
       "\t<ol class=list-inline>\n",
       "\t\t<li>'primed_PRC2i'</li>\n",
       "\t\t<li>'primed'</li>\n",
       "\t</ol>\n",
       "</details>"
      ],
      "text/latex": [
       "\\begin{enumerate*}\n",
       "\\item primed\n",
       "\\item primed\n",
       "\\item primed\n",
       "\\item primed\\_PRC2i\n",
       "\\item primed\\_PRC2i\n",
       "\\item primed\\_PRC2i\n",
       "\\end{enumerate*}\n",
       "\n",
       "\\emph{Levels}: \\begin{enumerate*}\n",
       "\\item 'primed\\_PRC2i'\n",
       "\\item 'primed'\n",
       "\\end{enumerate*}\n"
      ],
      "text/markdown": [
       "1. primed\n",
       "2. primed\n",
       "3. primed\n",
       "4. primed_PRC2i\n",
       "5. primed_PRC2i\n",
       "6. primed_PRC2i\n",
       "\n",
       "\n",
       "\n",
       "**Levels**: 1. 'primed_PRC2i'\n",
       "2. 'primed'\n",
       "\n",
       "\n"
      ],
      "text/plain": [
       "[1] primed       primed       primed       primed_PRC2i primed_PRC2i\n",
       "[6] primed_PRC2i\n",
       "Levels: primed_PRC2i primed"
      ]
     },
     "metadata": {},
     "output_type": "display_data"
    }
   ],
   "source": [
    "dds_unbiased$condition"
   ]
  },
  {
   "cell_type": "code",
   "execution_count": 56,
   "metadata": {},
   "outputs": [
    {
     "name": "stderr",
     "output_type": "stream",
     "text": [
      "estimating size factors\n",
      "estimating dispersions\n",
      "gene-wise dispersion estimates\n",
      "mean-dispersion relationship\n",
      "final dispersion estimates\n",
      "fitting model and testing\n"
     ]
    }
   ],
   "source": [
    "dds <- DESeq(dds_unbiased, betaPrior=FALSE)"
   ]
  },
  {
   "cell_type": "code",
   "execution_count": 57,
   "metadata": {},
   "outputs": [],
   "source": [
    "res_deseq <- results(dds)"
   ]
  },
  {
   "cell_type": "code",
   "execution_count": 58,
   "metadata": {},
   "outputs": [],
   "source": [
    "res_deseq <- res_deseq[order(res_deseq$log2FoldChange),]"
   ]
  },
  {
   "cell_type": "code",
   "execution_count": 59,
   "metadata": {},
   "outputs": [],
   "source": [
    "res_deseq$padj <- p.adjust(res_deseq$pvalue, method=\"BH\")"
   ]
  },
  {
   "cell_type": "code",
   "execution_count": 60,
   "metadata": {},
   "outputs": [
    {
     "data": {
      "text/plain": [
       "log2 fold change (MLE): condition primed vs primed PRC2i \n",
       "Wald test p-value: condition primed vs primed PRC2i \n",
       "DataFrame with 6 rows and 6 columns\n",
       "                   baseMean    log2FoldChange             lfcSE\n",
       "                  <numeric>         <numeric>         <numeric>\n",
       "CFHR1      36.7921458817158 -5.38683129418141 0.787723179953888\n",
       "AC093702.1 3.30503377890931 -5.10968613643361  1.59545135003724\n",
       "AC098798.1 3.24538090607556 -5.08766787879032  1.61249001242144\n",
       "AC005165.1 2.98475376352222 -4.95150317685121  1.67771952425919\n",
       "GABRA4     2.74049536765319 -4.84615154643137  1.70676411078907\n",
       "CFH        9.85069349780252 -4.77460789511731  1.26383420732159\n",
       "                        stat               pvalue                 padj\n",
       "                   <numeric>            <numeric>            <numeric>\n",
       "CFHR1      -6.83848264373374  8.0036358301183e-12 1.18609436538003e-08\n",
       "AC093702.1 -3.20265869361315  0.00136165254523837   0.0827382269800308\n",
       "AC098798.1 -3.15516241316143  0.00160408782853686   0.0922177647116828\n",
       "AC005165.1  -2.9513295311012  0.00316409147831548    0.146024463986272\n",
       "GABRA4     -2.83937980403801  0.00452013205283039    0.185785088612096\n",
       "CFH        -3.77787518921172 0.000158172109166736   0.0177375718213515"
      ]
     },
     "metadata": {},
     "output_type": "display_data"
    }
   ],
   "source": [
    "head(res_deseq)"
   ]
  },
  {
   "cell_type": "code",
   "execution_count": 61,
   "metadata": {},
   "outputs": [],
   "source": [
    "#write.table(res_deseq, \"res_deseq_P_PI.txt\", sep=\"\\t\")"
   ]
  },
  {
   "cell_type": "code",
   "execution_count": 62,
   "metadata": {},
   "outputs": [],
   "source": [
    "  # create custom key-value pairs for 'high', 'low', 'mid' expression by fold-change\n",
    "  # this can be achieved with nested ifelse statements\n",
    "  keyvals <- ifelse(\n",
    "    res_deseq$log2FoldChange < -1 & res_deseq$pvalue<0.01, 'royalblue3',\n",
    "      ifelse(res_deseq$log2FoldChange > 1 & res_deseq$pvalue<0.01, 'red3',\n",
    "        'grey87'))\n",
    "  keyvals[is.na(keyvals)] <- 'grey87'\n",
    "  names(keyvals)[keyvals == 'red3'] <- 'increased gene expression'\n",
    "  names(keyvals)[keyvals == 'grey87'] <- 'no change'\n",
    "  names(keyvals)[keyvals == 'royalblue3'] <- 'decreased gene expression'"
   ]
  },
  {
   "cell_type": "code",
   "execution_count": 70,
   "metadata": {},
   "outputs": [],
   "source": [
    "options(repr.plot.width=5, repr.plot.height=5)\n",
    "volcano_primed_prc2i<- EnhancedVolcano(res_deseq,\n",
    "                                       lab = rownames(res_deseq),\n",
    "                                       legendPosition = 'none',\n",
    "                                       x = 'log2FoldChange',\n",
    "                                       y = 'pvalue',\n",
    "                                       subtitle = NULL,\n",
    "                                       title = NULL,\n",
    "                                       ylim = c(0, 22),\n",
    "                                       #xlim = c(-5, 5),\n",
    "                                       axisLabSize = 14,\n",
    "                                       FCcutoff = 1, \n",
    "                                       pCutoff = 0.01,\n",
    "                                       pointSize = c(ifelse(abs(res_deseq$log2FoldChange)>1 & res_deseq$pvalue<0.01, 1.5, 1)),\n",
    "                                       #shape = 8,\n",
    "                                       labSize = 4,\n",
    "                                       colCustom = keyvals,\n",
    "                                       colAlpha = 1,\n",
    "                                       gridlines.major = F, \n",
    "                                       gridlines.minor = F,\n",
    "                                       border = 'full', \n",
    "                                       borderWidth = 0.5, \n",
    "                                       borderColour = 'black')"
   ]
  },
  {
   "cell_type": "code",
   "execution_count": 71,
   "metadata": {},
   "outputs": [
    {
     "data": {
      "image/png": "[encoded data removed]",
      "text/plain": [
       "plot without title"
      ]
     },
     "metadata": {},
     "output_type": "display_data"
    }
   ],
   "source": [
    "volcano_primed_prc2i"
   ]
  },
  {
   "cell_type": "code",
   "execution_count": 121,
   "metadata": {},
   "outputs": [],
   "source": [
    "setwd('/lustre1/project/stg_00041/Irene/Human_sequencing/Figures/')"
   ]
  },
  {
   "cell_type": "code",
   "execution_count": 122,
   "metadata": {},
   "outputs": [
    {
     "data": {
      "text/html": [
       "<strong>png:</strong> 2"
      ],
      "text/latex": [
       "\\textbf{png:} 2"
      ],
      "text/markdown": [
       "**png:** 2"
      ],
      "text/plain": [
       "png \n",
       "  2 "
      ]
     },
     "metadata": {},
     "output_type": "display_data"
    }
   ],
   "source": [
    "pdf(\"volcano_P_PI_V2.pdf\",width=5,height=5,useDingbats = FALSE)\n",
    "plot(volcano_primed_prc2i)\n",
    "dev.off()"
   ]
  },
  {
   "cell_type": "code",
   "execution_count": null,
   "metadata": {},
   "outputs": [],
   "source": []
  }
 ],
 "metadata": {
  "kernelspec": {
   "display_name": "R [conda env:R_ATACseq2]",
   "language": "R",
   "name": "conda-env-R_ATACseq2-r"
  },
  "language_info": {
   "codemirror_mode": "r",
   "file_extension": ".r",
   "mimetype": "text/x-r-source",
   "name": "R",
   "pygments_lexer": "r",
   "version": "3.6.1"
  }
 },
 "nbformat": 4,
 "nbformat_minor": 4
}
