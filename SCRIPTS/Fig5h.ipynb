{
 "cells": [
  {
   "cell_type": "code",
   "execution_count": 40,
   "id": "8c238b31-15ef-4120-9ea1-c0778c249f54",
   "metadata": {},
   "outputs": [],
   "source": [
    "suppressPackageStartupMessages({\n",
    "library(dplyr)\n",
    "library(Seurat)\n",
    "library(readr)\n",
    "library(ggplot2)\n",
    "library(tidyr)\n",
    "library(ggrepel)\n",
    "library(viridis)\n",
    "library(tibble)\n",
    "library(data.table)\n",
    "library(pheatmap)\n",
    "library(patchwork)\n",
    "library(stringr)\n",
    "})"
   ]
  },
  {
   "cell_type": "code",
   "execution_count": 41,
   "id": "42755f4f-41f8-47ab-aa9d-5be44b17095b",
   "metadata": {},
   "outputs": [],
   "source": [
    "set.seed(1234)"
   ]
  },
  {
   "cell_type": "code",
   "execution_count": 3,
   "id": "8d58cb92-9043-49f6-8a91-df1cbc882be4",
   "metadata": {},
   "outputs": [],
   "source": [
    "setwd(\"/staging/leuven/stg_00041/Ryan/Irene_NCB\")"
   ]
  },
  {
   "cell_type": "code",
   "execution_count": 4,
   "id": "197fff8e-cc83-4bf9-a4d2-19e3809f2ae0",
   "metadata": {},
   "outputs": [],
   "source": [
    "data <- readRDS(\"/lustre1/project/stg_00041/Irene/10X_NAIVE_TSC_2021/Integration_plots/Pet_Zhou_IT_allgenes_norm.rds\")"
   ]
  },
  {
   "cell_type": "code",
   "execution_count": 5,
   "id": "75d17a24-6ba6-4007-91ba-8ab4d47e07bc",
   "metadata": {},
   "outputs": [],
   "source": [
    "data_IT <- readRDS(\"/staging/leuven/stg_00041/Irene/10X_NAIVE_TSC_2021/nonaggr_noMEFs_mouse_human_analysis/seurat_object_norm.rds\")"
   ]
  },
  {
   "cell_type": "code",
   "execution_count": 6,
   "id": "2b2ca45d-6866-4bb6-a6a3-b880128ea598",
   "metadata": {},
   "outputs": [
    {
     "data": {
      "text/html": [
       "<table class=\"dataframe\">\n",
       "<caption>A data.frame: 6 × 8</caption>\n",
       "<thead>\n",
       "\t<tr><th></th><th scope=col>orig.ident</th><th scope=col>nCount_RNA</th><th scope=col>nFeature_RNA</th><th scope=col>percent.MT</th><th scope=col>sample</th><th scope=col>RNA_snn_res.0.2</th><th scope=col>seurat_clusters</th><th scope=col>cluster_PRC2i</th></tr>\n",
       "\t<tr><th></th><th scope=col>&lt;chr&gt;</th><th scope=col>&lt;dbl&gt;</th><th scope=col>&lt;int&gt;</th><th scope=col>&lt;dbl&gt;</th><th scope=col>&lt;chr&gt;</th><th scope=col>&lt;fct&gt;</th><th scope=col>&lt;fct&gt;</th><th scope=col>&lt;chr&gt;</th></tr>\n",
       "</thead>\n",
       "<tbody>\n",
       "\t<tr><th scope=row>TSC_AAACCCACACTCCGGA.1</th><td>naive_TSC_PRC2i_Irene_VP</td><td> 79984</td><td> 8416</td><td>12.40998</td><td>TSC</td><td>1</td><td>1</td><td>Intermediate</td></tr>\n",
       "\t<tr><th scope=row>TSC_AAACGAAGTAAGGCCA.1</th><td>naive_TSC_PRC2i_Irene_VP</td><td>187905</td><td>10316</td><td>13.33493</td><td>TSC</td><td>1</td><td>1</td><td>Intermediate</td></tr>\n",
       "\t<tr><th scope=row>TSC_AAACGCTTCTACTGAG.1</th><td>naive_TSC_PRC2i_Irene_VP</td><td>103178</td><td> 8633</td><td>12.52302</td><td>TSC</td><td>2</td><td>2</td><td>TSCs        </td></tr>\n",
       "\t<tr><th scope=row>TSC_AAAGGGCCATGGAATA.1</th><td>naive_TSC_PRC2i_Irene_VP</td><td> 70210</td><td> 8112</td><td>18.62555</td><td>TSC</td><td>1</td><td>1</td><td>Intermediate</td></tr>\n",
       "\t<tr><th scope=row>TSC_AAAGGTAAGATGCTGG.1</th><td>naive_TSC_PRC2i_Irene_VP</td><td> 67006</td><td> 7910</td><td>15.51354</td><td>TSC</td><td>1</td><td>1</td><td>Intermediate</td></tr>\n",
       "\t<tr><th scope=row>TSC_AAAGTCCAGAAACACT.1</th><td>naive_TSC_PRC2i_Irene_VP</td><td> 56056</td><td> 7707</td><td>16.82068</td><td>TSC</td><td>1</td><td>1</td><td>Intermediate</td></tr>\n",
       "</tbody>\n",
       "</table>\n"
      ],
      "text/latex": [
       "A data.frame: 6 × 8\n",
       "\\begin{tabular}{r|llllllll}\n",
       "  & orig.ident & nCount\\_RNA & nFeature\\_RNA & percent.MT & sample & RNA\\_snn\\_res.0.2 & seurat\\_clusters & cluster\\_PRC2i\\\\\n",
       "  & <chr> & <dbl> & <int> & <dbl> & <chr> & <fct> & <fct> & <chr>\\\\\n",
       "\\hline\n",
       "\tTSC\\_AAACCCACACTCCGGA.1 & naive\\_TSC\\_PRC2i\\_Irene\\_VP &  79984 &  8416 & 12.40998 & TSC & 1 & 1 & Intermediate\\\\\n",
       "\tTSC\\_AAACGAAGTAAGGCCA.1 & naive\\_TSC\\_PRC2i\\_Irene\\_VP & 187905 & 10316 & 13.33493 & TSC & 1 & 1 & Intermediate\\\\\n",
       "\tTSC\\_AAACGCTTCTACTGAG.1 & naive\\_TSC\\_PRC2i\\_Irene\\_VP & 103178 &  8633 & 12.52302 & TSC & 2 & 2 & TSCs        \\\\\n",
       "\tTSC\\_AAAGGGCCATGGAATA.1 & naive\\_TSC\\_PRC2i\\_Irene\\_VP &  70210 &  8112 & 18.62555 & TSC & 1 & 1 & Intermediate\\\\\n",
       "\tTSC\\_AAAGGTAAGATGCTGG.1 & naive\\_TSC\\_PRC2i\\_Irene\\_VP &  67006 &  7910 & 15.51354 & TSC & 1 & 1 & Intermediate\\\\\n",
       "\tTSC\\_AAAGTCCAGAAACACT.1 & naive\\_TSC\\_PRC2i\\_Irene\\_VP &  56056 &  7707 & 16.82068 & TSC & 1 & 1 & Intermediate\\\\\n",
       "\\end{tabular}\n"
      ],
      "text/markdown": [
       "\n",
       "A data.frame: 6 × 8\n",
       "\n",
       "| <!--/--> | orig.ident &lt;chr&gt; | nCount_RNA &lt;dbl&gt; | nFeature_RNA &lt;int&gt; | percent.MT &lt;dbl&gt; | sample &lt;chr&gt; | RNA_snn_res.0.2 &lt;fct&gt; | seurat_clusters &lt;fct&gt; | cluster_PRC2i &lt;chr&gt; |\n",
       "|---|---|---|---|---|---|---|---|---|\n",
       "| TSC_AAACCCACACTCCGGA.1 | naive_TSC_PRC2i_Irene_VP |  79984 |  8416 | 12.40998 | TSC | 1 | 1 | Intermediate |\n",
       "| TSC_AAACGAAGTAAGGCCA.1 | naive_TSC_PRC2i_Irene_VP | 187905 | 10316 | 13.33493 | TSC | 1 | 1 | Intermediate |\n",
       "| TSC_AAACGCTTCTACTGAG.1 | naive_TSC_PRC2i_Irene_VP | 103178 |  8633 | 12.52302 | TSC | 2 | 2 | TSCs         |\n",
       "| TSC_AAAGGGCCATGGAATA.1 | naive_TSC_PRC2i_Irene_VP |  70210 |  8112 | 18.62555 | TSC | 1 | 1 | Intermediate |\n",
       "| TSC_AAAGGTAAGATGCTGG.1 | naive_TSC_PRC2i_Irene_VP |  67006 |  7910 | 15.51354 | TSC | 1 | 1 | Intermediate |\n",
       "| TSC_AAAGTCCAGAAACACT.1 | naive_TSC_PRC2i_Irene_VP |  56056 |  7707 | 16.82068 | TSC | 1 | 1 | Intermediate |\n",
       "\n"
      ],
      "text/plain": [
       "                       orig.ident               nCount_RNA nFeature_RNA\n",
       "TSC_AAACCCACACTCCGGA.1 naive_TSC_PRC2i_Irene_VP  79984      8416       \n",
       "TSC_AAACGAAGTAAGGCCA.1 naive_TSC_PRC2i_Irene_VP 187905     10316       \n",
       "TSC_AAACGCTTCTACTGAG.1 naive_TSC_PRC2i_Irene_VP 103178      8633       \n",
       "TSC_AAAGGGCCATGGAATA.1 naive_TSC_PRC2i_Irene_VP  70210      8112       \n",
       "TSC_AAAGGTAAGATGCTGG.1 naive_TSC_PRC2i_Irene_VP  67006      7910       \n",
       "TSC_AAAGTCCAGAAACACT.1 naive_TSC_PRC2i_Irene_VP  56056      7707       \n",
       "                       percent.MT sample RNA_snn_res.0.2 seurat_clusters\n",
       "TSC_AAACCCACACTCCGGA.1 12.40998   TSC    1               1              \n",
       "TSC_AAACGAAGTAAGGCCA.1 13.33493   TSC    1               1              \n",
       "TSC_AAACGCTTCTACTGAG.1 12.52302   TSC    2               2              \n",
       "TSC_AAAGGGCCATGGAATA.1 18.62555   TSC    1               1              \n",
       "TSC_AAAGGTAAGATGCTGG.1 15.51354   TSC    1               1              \n",
       "TSC_AAAGTCCAGAAACACT.1 16.82068   TSC    1               1              \n",
       "                       cluster_PRC2i\n",
       "TSC_AAACCCACACTCCGGA.1 Intermediate \n",
       "TSC_AAACGAAGTAAGGCCA.1 Intermediate \n",
       "TSC_AAACGCTTCTACTGAG.1 TSCs         \n",
       "TSC_AAAGGGCCATGGAATA.1 Intermediate \n",
       "TSC_AAAGGTAAGATGCTGG.1 Intermediate \n",
       "TSC_AAAGTCCAGAAACACT.1 Intermediate "
      ]
     },
     "metadata": {},
     "output_type": "display_data"
    }
   ],
   "source": [
    "data_IT@meta.data$cluster_PRC2i <- NA\n",
    "data_IT@meta.data[data_IT@meta.data$seurat_clusters==0,]$cluster_PRC2i <- \"Naive\"\n",
    "data_IT@meta.data[data_IT@meta.data$seurat_clusters==1,]$cluster_PRC2i <- \"Intermediate\"\n",
    "data_IT@meta.data[data_IT@meta.data$seurat_clusters==2,]$cluster_PRC2i <- \"TSCs\"\n",
    "head(data_IT@meta.data)"
   ]
  },
  {
   "cell_type": "code",
   "execution_count": 7,
   "id": "057c7366-67cc-478b-94b2-ff49456321a8",
   "metadata": {},
   "outputs": [
    {
     "data": {
      "text/html": [
       "<table class=\"dataframe\">\n",
       "<caption>A data.frame: 6 × 8</caption>\n",
       "<thead>\n",
       "\t<tr><th></th><th scope=col>orig.ident</th><th scope=col>nCount_RNA</th><th scope=col>nFeature_RNA</th><th scope=col>percent.MT</th><th scope=col>sample</th><th scope=col>RNA_snn_res.0.2</th><th scope=col>seurat_clusters</th><th scope=col>cluster_PRC2i</th></tr>\n",
       "\t<tr><th></th><th scope=col>&lt;chr&gt;</th><th scope=col>&lt;dbl&gt;</th><th scope=col>&lt;int&gt;</th><th scope=col>&lt;dbl&gt;</th><th scope=col>&lt;chr&gt;</th><th scope=col>&lt;fct&gt;</th><th scope=col>&lt;fct&gt;</th><th scope=col>&lt;chr&gt;</th></tr>\n",
       "</thead>\n",
       "<tbody>\n",
       "\t<tr><th scope=row>NAIVEPRC2i_TTTGGAGGTACATACC.1</th><td>naive_TSC_PRC2i_Irene_VP</td><td>18009</td><td>4697</td><td> 7.357432</td><td>NAIVEPRC2i</td><td>0</td><td>0</td><td>Naive</td></tr>\n",
       "\t<tr><th scope=row>NAIVEPRC2i_TTTGGAGGTCACTCTC.1</th><td>naive_TSC_PRC2i_Irene_VP</td><td> 8016</td><td>2946</td><td>10.491517</td><td>NAIVEPRC2i</td><td>0</td><td>0</td><td>Naive</td></tr>\n",
       "\t<tr><th scope=row>NAIVEPRC2i_TTTGGTTGTATGAGCG.1</th><td>naive_TSC_PRC2i_Irene_VP</td><td>11078</td><td>3187</td><td> 9.351869</td><td>NAIVEPRC2i</td><td>0</td><td>0</td><td>Naive</td></tr>\n",
       "\t<tr><th scope=row>NAIVEPRC2i_TTTGGTTTCCCAGCGA.1</th><td>naive_TSC_PRC2i_Irene_VP</td><td> 9382</td><td>3280</td><td> 8.878704</td><td>NAIVEPRC2i</td><td>0</td><td>0</td><td>Naive</td></tr>\n",
       "\t<tr><th scope=row>NAIVEPRC2i_TTTGTTGCAGACGCTC.1</th><td>naive_TSC_PRC2i_Irene_VP</td><td>14288</td><td>4317</td><td> 7.691769</td><td>NAIVEPRC2i</td><td>0</td><td>0</td><td>Naive</td></tr>\n",
       "\t<tr><th scope=row>NAIVEPRC2i_TTTGTTGCATCGGAAG.1</th><td>naive_TSC_PRC2i_Irene_VP</td><td>16422</td><td>4497</td><td>15.077335</td><td>NAIVEPRC2i</td><td>0</td><td>0</td><td>Naive</td></tr>\n",
       "</tbody>\n",
       "</table>\n"
      ],
      "text/latex": [
       "A data.frame: 6 × 8\n",
       "\\begin{tabular}{r|llllllll}\n",
       "  & orig.ident & nCount\\_RNA & nFeature\\_RNA & percent.MT & sample & RNA\\_snn\\_res.0.2 & seurat\\_clusters & cluster\\_PRC2i\\\\\n",
       "  & <chr> & <dbl> & <int> & <dbl> & <chr> & <fct> & <fct> & <chr>\\\\\n",
       "\\hline\n",
       "\tNAIVEPRC2i\\_TTTGGAGGTACATACC.1 & naive\\_TSC\\_PRC2i\\_Irene\\_VP & 18009 & 4697 &  7.357432 & NAIVEPRC2i & 0 & 0 & Naive\\\\\n",
       "\tNAIVEPRC2i\\_TTTGGAGGTCACTCTC.1 & naive\\_TSC\\_PRC2i\\_Irene\\_VP &  8016 & 2946 & 10.491517 & NAIVEPRC2i & 0 & 0 & Naive\\\\\n",
       "\tNAIVEPRC2i\\_TTTGGTTGTATGAGCG.1 & naive\\_TSC\\_PRC2i\\_Irene\\_VP & 11078 & 3187 &  9.351869 & NAIVEPRC2i & 0 & 0 & Naive\\\\\n",
       "\tNAIVEPRC2i\\_TTTGGTTTCCCAGCGA.1 & naive\\_TSC\\_PRC2i\\_Irene\\_VP &  9382 & 3280 &  8.878704 & NAIVEPRC2i & 0 & 0 & Naive\\\\\n",
       "\tNAIVEPRC2i\\_TTTGTTGCAGACGCTC.1 & naive\\_TSC\\_PRC2i\\_Irene\\_VP & 14288 & 4317 &  7.691769 & NAIVEPRC2i & 0 & 0 & Naive\\\\\n",
       "\tNAIVEPRC2i\\_TTTGTTGCATCGGAAG.1 & naive\\_TSC\\_PRC2i\\_Irene\\_VP & 16422 & 4497 & 15.077335 & NAIVEPRC2i & 0 & 0 & Naive\\\\\n",
       "\\end{tabular}\n"
      ],
      "text/markdown": [
       "\n",
       "A data.frame: 6 × 8\n",
       "\n",
       "| <!--/--> | orig.ident &lt;chr&gt; | nCount_RNA &lt;dbl&gt; | nFeature_RNA &lt;int&gt; | percent.MT &lt;dbl&gt; | sample &lt;chr&gt; | RNA_snn_res.0.2 &lt;fct&gt; | seurat_clusters &lt;fct&gt; | cluster_PRC2i &lt;chr&gt; |\n",
       "|---|---|---|---|---|---|---|---|---|\n",
       "| NAIVEPRC2i_TTTGGAGGTACATACC.1 | naive_TSC_PRC2i_Irene_VP | 18009 | 4697 |  7.357432 | NAIVEPRC2i | 0 | 0 | Naive |\n",
       "| NAIVEPRC2i_TTTGGAGGTCACTCTC.1 | naive_TSC_PRC2i_Irene_VP |  8016 | 2946 | 10.491517 | NAIVEPRC2i | 0 | 0 | Naive |\n",
       "| NAIVEPRC2i_TTTGGTTGTATGAGCG.1 | naive_TSC_PRC2i_Irene_VP | 11078 | 3187 |  9.351869 | NAIVEPRC2i | 0 | 0 | Naive |\n",
       "| NAIVEPRC2i_TTTGGTTTCCCAGCGA.1 | naive_TSC_PRC2i_Irene_VP |  9382 | 3280 |  8.878704 | NAIVEPRC2i | 0 | 0 | Naive |\n",
       "| NAIVEPRC2i_TTTGTTGCAGACGCTC.1 | naive_TSC_PRC2i_Irene_VP | 14288 | 4317 |  7.691769 | NAIVEPRC2i | 0 | 0 | Naive |\n",
       "| NAIVEPRC2i_TTTGTTGCATCGGAAG.1 | naive_TSC_PRC2i_Irene_VP | 16422 | 4497 | 15.077335 | NAIVEPRC2i | 0 | 0 | Naive |\n",
       "\n"
      ],
      "text/plain": [
       "                              orig.ident               nCount_RNA nFeature_RNA\n",
       "NAIVEPRC2i_TTTGGAGGTACATACC.1 naive_TSC_PRC2i_Irene_VP 18009      4697        \n",
       "NAIVEPRC2i_TTTGGAGGTCACTCTC.1 naive_TSC_PRC2i_Irene_VP  8016      2946        \n",
       "NAIVEPRC2i_TTTGGTTGTATGAGCG.1 naive_TSC_PRC2i_Irene_VP 11078      3187        \n",
       "NAIVEPRC2i_TTTGGTTTCCCAGCGA.1 naive_TSC_PRC2i_Irene_VP  9382      3280        \n",
       "NAIVEPRC2i_TTTGTTGCAGACGCTC.1 naive_TSC_PRC2i_Irene_VP 14288      4317        \n",
       "NAIVEPRC2i_TTTGTTGCATCGGAAG.1 naive_TSC_PRC2i_Irene_VP 16422      4497        \n",
       "                              percent.MT sample     RNA_snn_res.0.2\n",
       "NAIVEPRC2i_TTTGGAGGTACATACC.1  7.357432  NAIVEPRC2i 0              \n",
       "NAIVEPRC2i_TTTGGAGGTCACTCTC.1 10.491517  NAIVEPRC2i 0              \n",
       "NAIVEPRC2i_TTTGGTTGTATGAGCG.1  9.351869  NAIVEPRC2i 0              \n",
       "NAIVEPRC2i_TTTGGTTTCCCAGCGA.1  8.878704  NAIVEPRC2i 0              \n",
       "NAIVEPRC2i_TTTGTTGCAGACGCTC.1  7.691769  NAIVEPRC2i 0              \n",
       "NAIVEPRC2i_TTTGTTGCATCGGAAG.1 15.077335  NAIVEPRC2i 0              \n",
       "                              seurat_clusters cluster_PRC2i\n",
       "NAIVEPRC2i_TTTGGAGGTACATACC.1 0               Naive        \n",
       "NAIVEPRC2i_TTTGGAGGTCACTCTC.1 0               Naive        \n",
       "NAIVEPRC2i_TTTGGTTGTATGAGCG.1 0               Naive        \n",
       "NAIVEPRC2i_TTTGGTTTCCCAGCGA.1 0               Naive        \n",
       "NAIVEPRC2i_TTTGTTGCAGACGCTC.1 0               Naive        \n",
       "NAIVEPRC2i_TTTGTTGCATCGGAAG.1 0               Naive        "
      ]
     },
     "metadata": {},
     "output_type": "display_data"
    }
   ],
   "source": [
    "tail(data_IT@meta.data)"
   ]
  },
  {
   "cell_type": "code",
   "execution_count": 8,
   "id": "59cbe775-5399-4f11-9292-c7ead76b3ea5",
   "metadata": {},
   "outputs": [],
   "source": [
    "for(i in rownames(data_IT@meta.data)){\n",
    "    if(grepl(\"PRC2i\", i)==TRUE){\n",
    "        data_IT@meta.data[i,\"cluster_PRC2i\"] <- paste(data_IT@meta.data[i,\"cluster_PRC2i\"], \"_PRC2i\")\n",
    "        }\n",
    "    }"
   ]
  },
  {
   "cell_type": "code",
   "execution_count": 9,
   "id": "7424c2c8-0813-4c7f-9bd6-3497006b1795",
   "metadata": {},
   "outputs": [],
   "source": [
    "signature_markers_PRG<- list()\n",
    "signature_markers_PRG[[\"Trophoblast\"]] <- c(\"KRT18\", \"TFAP2C\", \"GATA2\", \"GATA3\", \"KRT7\", \"CLDN4\", \"HAND1\", \"ITGA2\", \"VGLL1\", \"TP63\", \"HLA-G\")\n",
    "signature_markers_PRG[[\"Core\"]] <- c( \"NANOG\", \"POU5F1\", \"SOX2\", \"SUSD2\")\n",
    "#15\n",
    "signature_markers_PRG[[\"Naive\"]] <- c( \"VENTX\", \"DNMT3L\", \"KLF4\", \"SPIC\", \"FGF4\", \"KLF17\", \"TFCP2L1\")\n",
    "signature_markers_PRG[[\"Primed\"]] <- c(\"ZIC2\", \"OTX2\", \"DUSP6\")\n",
    "#25\n",
    "signature_markers_PRG[[\"PrE\"]] <- c(\"SOX17\", \"GATA4\", \"GATA6\", \"FOXA2\", \"PDGFRA\")\n",
    "#30\n",
    "signature_markers_PRG[[\"Mesoderm\"]] <- c(\"EPHA4\", \"GSC\", \"HOPX\", \"CDX1\", \"CDX2\", \"CDX4\", \"HAND2\", \"FOXF1\", \"HEY1\", \"MIXL1\", \"MESP1\", \"ZIC3\")\n",
    "#42\n",
    "signature_markers_PRG[[\"Endoderm\"]] <- c(\"CER1\", \"CXCR4\", \"FOXA1\", \"HNF1B\", \"HHEX\", \"KIT\", \"EOMES\")\n",
    "signature_markers_PRG[[\"Ectoderm\"]] <- c(\"COL2A1\", \"DRD4\", \"EN1\", \"LMX1A\", \"NR2F1\", \"PAPLN\", \"POU4F1\", \"PAX3\", \"PAX6\", \"SOX1\", \"WNT1\", \"ZBTB16\")"
   ]
  },
  {
   "cell_type": "code",
   "execution_count": 10,
   "id": "6242a5c7-7cd4-4020-b55e-c7956e1ec0f0",
   "metadata": {},
   "outputs": [],
   "source": [
    "data_meta.data_bk <- data@meta.data"
   ]
  },
  {
   "cell_type": "code",
   "execution_count": 11,
   "id": "c2743ea2-b97d-40ac-8497-c61635f793ee",
   "metadata": {},
   "outputs": [],
   "source": [
    "data@meta.data[rownames(data_IT@meta.data[which(grepl(\"TSC\", rownames(data_IT@meta.data))),]), \"finalClusters\"] <- data_IT@meta.data[which(grepl(\"TSC\", rownames(data_IT@meta.data))), \"cluster_PRC2i\"]"
   ]
  },
  {
   "cell_type": "code",
   "execution_count": 14,
   "id": "e58034f9-9383-4506-b0c2-4496cf46ce05",
   "metadata": {},
   "outputs": [
    {
     "data": {
      "text/html": [
       "<style>\n",
       ".list-inline {list-style: none; margin:0; padding: 0}\n",
       ".list-inline>li {display: inline-block}\n",
       ".list-inline>li:not(:last-child)::after {content: \"\\00b7\"; padding: 0 .5ex}\n",
       "</style>\n",
       "<ol class=list-inline><li>'TB.medium2'</li><li>NA</li><li>'TB.late'</li><li>'Pre.ST'</li><li>'TB.medium3'</li><li>'PrE'</li><li>'Pre.EVT'</li><li>'EPI'</li><li>'ST'</li><li>'EVT'</li><li>'ysTE'</li><li>'early_TE'</li><li>'medium_TE'</li><li>'TB.medium1'</li><li>'TB.early'</li><li>'B1_B2'</li><li>'TB.apoptosis'</li><li>'late_TE'</li><li>'pre_implantation'</li><li>'Intermediate'</li><li>'TSCs'</li><li>'Naive'</li><li>'TSCs _PRC2i'</li><li>'Intermediate _PRC2i'</li></ol>\n"
      ],
      "text/latex": [
       "\\begin{enumerate*}\n",
       "\\item 'TB.medium2'\n",
       "\\item NA\n",
       "\\item 'TB.late'\n",
       "\\item 'Pre.ST'\n",
       "\\item 'TB.medium3'\n",
       "\\item 'PrE'\n",
       "\\item 'Pre.EVT'\n",
       "\\item 'EPI'\n",
       "\\item 'ST'\n",
       "\\item 'EVT'\n",
       "\\item 'ysTE'\n",
       "\\item 'early\\_TE'\n",
       "\\item 'medium\\_TE'\n",
       "\\item 'TB.medium1'\n",
       "\\item 'TB.early'\n",
       "\\item 'B1\\_B2'\n",
       "\\item 'TB.apoptosis'\n",
       "\\item 'late\\_TE'\n",
       "\\item 'pre\\_implantation'\n",
       "\\item 'Intermediate'\n",
       "\\item 'TSCs'\n",
       "\\item 'Naive'\n",
       "\\item 'TSCs \\_PRC2i'\n",
       "\\item 'Intermediate \\_PRC2i'\n",
       "\\end{enumerate*}\n"
      ],
      "text/markdown": [
       "1. 'TB.medium2'\n",
       "2. NA\n",
       "3. 'TB.late'\n",
       "4. 'Pre.ST'\n",
       "5. 'TB.medium3'\n",
       "6. 'PrE'\n",
       "7. 'Pre.EVT'\n",
       "8. 'EPI'\n",
       "9. 'ST'\n",
       "10. 'EVT'\n",
       "11. 'ysTE'\n",
       "12. 'early_TE'\n",
       "13. 'medium_TE'\n",
       "14. 'TB.medium1'\n",
       "15. 'TB.early'\n",
       "16. 'B1_B2'\n",
       "17. 'TB.apoptosis'\n",
       "18. 'late_TE'\n",
       "19. 'pre_implantation'\n",
       "20. 'Intermediate'\n",
       "21. 'TSCs'\n",
       "22. 'Naive'\n",
       "23. 'TSCs _PRC2i'\n",
       "24. 'Intermediate _PRC2i'\n",
       "\n",
       "\n"
      ],
      "text/plain": [
       " [1] \"TB.medium2\"          NA                    \"TB.late\"            \n",
       " [4] \"Pre.ST\"              \"TB.medium3\"          \"PrE\"                \n",
       " [7] \"Pre.EVT\"             \"EPI\"                 \"ST\"                 \n",
       "[10] \"EVT\"                 \"ysTE\"                \"early_TE\"           \n",
       "[13] \"medium_TE\"           \"TB.medium1\"          \"TB.early\"           \n",
       "[16] \"B1_B2\"               \"TB.apoptosis\"        \"late_TE\"            \n",
       "[19] \"pre_implantation\"    \"Intermediate\"        \"TSCs\"               \n",
       "[22] \"Naive\"               \"TSCs _PRC2i\"         \"Intermediate _PRC2i\""
      ]
     },
     "metadata": {},
     "output_type": "display_data"
    }
   ],
   "source": [
    "data@meta.data$finalClusters %>% unique()"
   ]
  },
  {
   "cell_type": "code",
   "execution_count": 12,
   "id": "c3c902e0-12b0-40f9-8bea-0fa69a17b890",
   "metadata": {},
   "outputs": [],
   "source": [
    "data@meta.data$finalClusters <- factor(data@meta.data$finalClusters, levels=rev(c('TSCs', 'TSCs _PRC2i', 'Intermediate', 'Intermediate _PRC2i', 'Naive', 'EPI', 'TB.early', 'TB.medium1', 'TB.medium2', 'TB.medium3', 'TB.late', 'TB.apoptosis', 'PrE', 'Pre.ST', 'ST', 'Pre.EVT', 'EVT', 'early_TE', 'medium_TE', 'late_TE', 'ysTE', 'Unknown', 'pre_implantation')))"
   ]
  },
  {
   "cell_type": "code",
   "execution_count": 16,
   "id": "8d671d06-4c25-4933-8854-5f2b8dce7666",
   "metadata": {},
   "outputs": [],
   "source": [
    "data_filt_dotplot_full <- data %>% subset(cells = rownames(data@meta.data[which(data@meta.data$finalClusters %in% c(\"TSCs\", \"TSCs _PRC2i\", \"Intermediate\", \"Intermediate _PRC2i\", \"EPI\", \"TB.early\", \"PrE\")),]))"
   ]
  },
  {
   "cell_type": "code",
   "execution_count": 25,
   "id": "0d540817-e482-4c5a-9b59-a0c08bd0116e",
   "metadata": {},
   "outputs": [
    {
     "name": "stderr",
     "output_type": "stream",
     "text": [
      "Scale for 'colour' is already present. Adding another scale for 'colour',\n",
      "which will replace the existing scale.\n",
      "\n"
     ]
    },
    {
     "data": {
      "text/html": [
       "<strong>png:</strong> 2"
      ],
      "text/latex": [
       "\\textbf{png:} 2"
      ],
      "text/markdown": [
       "**png:** 2"
      ],
      "text/plain": [
       "png \n",
       "  2 "
      ]
     },
     "metadata": {},
     "output_type": "display_data"
    }
   ],
   "source": [
    "options(repr.plot.width = 11.5, repr.plot.height = 2.5, repr.plot.res = 150)\n",
    "pdf(\"dotplot_IPZ_d4only_nonaivecluster_select_annotations_noNR2F2_size_corrected.pdf\", width = 11.5, height = 2.5)\n",
    "DotPlot(data_filt_dotplot_full, features = signature_markers_PRG, assay=\"RNA\", \n",
    "               dot.scale = 3, group.by=\"finalClusters\")+\n",
    "    RotatedAxis()+\n",
    "scale_colour_gradient2(low = \"grey90\", mid = \"tomato\", high = \"tomato4\") & theme(text = element_text(size=7), axis.text = element_text(size=7), axis.text.x = element_text(angle=90, hjust=1, vjust=0.5), legend.box = \"horizontal\")\n",
    "dev.off()"
   ]
  },
  {
   "cell_type": "code",
   "execution_count": null,
   "id": "7a02d5da-42ba-420e-b62b-f2f51985c81a",
   "metadata": {},
   "outputs": [],
   "source": []
  },
  {
   "cell_type": "code",
   "execution_count": 26,
   "id": "5ae75452-debf-410a-bff2-88ee5a35ae73",
   "metadata": {},
   "outputs": [],
   "source": [
    "data_simple <- readRDS(\"/lustre1/project/stg_00041/Irene/10X_NAIVE_TSC_2021/nonaggr_noMEFs_mouse_human_analysis/Pet_Zhou_IT_allgenes_norm_new_anno.rds\")"
   ]
  },
  {
   "cell_type": "code",
   "execution_count": 27,
   "id": "46d5859c-c48e-4a5a-a88b-e4b35ea67b7f",
   "metadata": {},
   "outputs": [
    {
     "data": {
      "text/html": [
       "<style>\n",
       ".list-inline {list-style: none; margin:0; padding: 0}\n",
       ".list-inline>li {display: inline-block}\n",
       ".list-inline>li:not(:last-child)::after {content: \"\\00b7\"; padding: 0 .5ex}\n",
       "</style>\n",
       "<ol class=list-inline><li>'Embryo Trophoblast'</li><li>'unknown'</li><li>'Embryo ST'</li><li>'PrE'</li><li>'Embryo EVT'</li><li>'Epiblast'</li><li>'ysTE'</li><li>'Embryo TE'</li><li>'(Pre) Blastocyst'</li><li>'EightCells'</li><li>'Intermediate'</li><li>'TSCs'</li><li>'Naive'</li><li>'TSCs_PRC2i'</li><li>'Intermediate_PRC2i'</li></ol>\n"
      ],
      "text/latex": [
       "\\begin{enumerate*}\n",
       "\\item 'Embryo Trophoblast'\n",
       "\\item 'unknown'\n",
       "\\item 'Embryo ST'\n",
       "\\item 'PrE'\n",
       "\\item 'Embryo EVT'\n",
       "\\item 'Epiblast'\n",
       "\\item 'ysTE'\n",
       "\\item 'Embryo TE'\n",
       "\\item '(Pre) Blastocyst'\n",
       "\\item 'EightCells'\n",
       "\\item 'Intermediate'\n",
       "\\item 'TSCs'\n",
       "\\item 'Naive'\n",
       "\\item 'TSCs\\_PRC2i'\n",
       "\\item 'Intermediate\\_PRC2i'\n",
       "\\end{enumerate*}\n"
      ],
      "text/markdown": [
       "1. 'Embryo Trophoblast'\n",
       "2. 'unknown'\n",
       "3. 'Embryo ST'\n",
       "4. 'PrE'\n",
       "5. 'Embryo EVT'\n",
       "6. 'Epiblast'\n",
       "7. 'ysTE'\n",
       "8. 'Embryo TE'\n",
       "9. '(Pre) Blastocyst'\n",
       "10. 'EightCells'\n",
       "11. 'Intermediate'\n",
       "12. 'TSCs'\n",
       "13. 'Naive'\n",
       "14. 'TSCs_PRC2i'\n",
       "15. 'Intermediate_PRC2i'\n",
       "\n",
       "\n"
      ],
      "text/plain": [
       " [1] \"Embryo Trophoblast\" \"unknown\"            \"Embryo ST\"         \n",
       " [4] \"PrE\"                \"Embryo EVT\"         \"Epiblast\"          \n",
       " [7] \"ysTE\"               \"Embryo TE\"          \"(Pre) Blastocyst\"  \n",
       "[10] \"EightCells\"         \"Intermediate\"       \"TSCs\"              \n",
       "[13] \"Naive\"              \"TSCs_PRC2i\"         \"Intermediate_PRC2i\""
      ]
     },
     "metadata": {},
     "output_type": "display_data"
    }
   ],
   "source": [
    "data_simple@meta.data$finalClustersMerged %>% unique()"
   ]
  },
  {
   "cell_type": "code",
   "execution_count": 33,
   "id": "2086a999-9f56-4d8d-9365-f0f7e5790585",
   "metadata": {},
   "outputs": [],
   "source": [
    "data_filt_dotplot_simple <- data_simple %>% subset(cells = rownames(data_simple@meta.data[which(data_simple@meta.data$finalClustersMerged %in% c(\"TSCs\", \"TSCs_PRC2i\", \"Intermediate\", \"Intermediate_PRC2i\", \"Epiblast\", \"Embryo Trophoblast\", \"PrE\")),]))"
   ]
  },
  {
   "cell_type": "code",
   "execution_count": 34,
   "id": "4c94625c-cf2b-4740-8baf-30167ba5d21d",
   "metadata": {},
   "outputs": [],
   "source": [
    "data_filt_dotplot_simple@meta.data$finalClustersMerged <- factor(data_filt_dotplot_simple@meta.data$finalClustersMerged, levels=rev(c(\"TSCs\", \"TSCs_PRC2i\", \"Intermediate\", \"Intermediate_PRC2i\", \"Epiblast\", \"Embryo Trophoblast\", \"PrE\")))"
   ]
  },
  {
   "cell_type": "code",
   "execution_count": 35,
   "id": "1b14e426-ac8b-4cfb-b9e6-8cce3773fcd7",
   "metadata": {},
   "outputs": [
    {
     "data": {
      "text/html": [
       "<style>\n",
       ".list-inline {list-style: none; margin:0; padding: 0}\n",
       ".list-inline>li {display: inline-block}\n",
       ".list-inline>li:not(:last-child)::after {content: \"\\00b7\"; padding: 0 .5ex}\n",
       "</style>\n",
       "<ol class=list-inline><li>Embryo Trophoblast</li><li>PrE</li><li>Epiblast</li><li>Intermediate</li><li>TSCs</li><li>TSCs_PRC2i</li><li>Intermediate_PRC2i</li></ol>\n",
       "\n",
       "<details>\n",
       "\t<summary style=display:list-item;cursor:pointer>\n",
       "\t\t<strong>Levels</strong>:\n",
       "\t</summary>\n",
       "\t<style>\n",
       "\t.list-inline {list-style: none; margin:0; padding: 0}\n",
       "\t.list-inline>li {display: inline-block}\n",
       "\t.list-inline>li:not(:last-child)::after {content: \"\\00b7\"; padding: 0 .5ex}\n",
       "\t</style>\n",
       "\t<ol class=list-inline><li>'PrE'</li><li>'Embryo Trophoblast'</li><li>'Epiblast'</li><li>'Intermediate_PRC2i'</li><li>'Intermediate'</li><li>'TSCs_PRC2i'</li><li>'TSCs'</li></ol>\n",
       "</details>"
      ],
      "text/latex": [
       "\\begin{enumerate*}\n",
       "\\item Embryo Trophoblast\n",
       "\\item PrE\n",
       "\\item Epiblast\n",
       "\\item Intermediate\n",
       "\\item TSCs\n",
       "\\item TSCs\\_PRC2i\n",
       "\\item Intermediate\\_PRC2i\n",
       "\\end{enumerate*}\n",
       "\n",
       "\\emph{Levels}: \\begin{enumerate*}\n",
       "\\item 'PrE'\n",
       "\\item 'Embryo Trophoblast'\n",
       "\\item 'Epiblast'\n",
       "\\item 'Intermediate\\_PRC2i'\n",
       "\\item 'Intermediate'\n",
       "\\item 'TSCs\\_PRC2i'\n",
       "\\item 'TSCs'\n",
       "\\end{enumerate*}\n"
      ],
      "text/markdown": [
       "1. Embryo Trophoblast\n",
       "2. PrE\n",
       "3. Epiblast\n",
       "4. Intermediate\n",
       "5. TSCs\n",
       "6. TSCs_PRC2i\n",
       "7. Intermediate_PRC2i\n",
       "\n",
       "\n",
       "\n",
       "**Levels**: 1. 'PrE'\n",
       "2. 'Embryo Trophoblast'\n",
       "3. 'Epiblast'\n",
       "4. 'Intermediate_PRC2i'\n",
       "5. 'Intermediate'\n",
       "6. 'TSCs_PRC2i'\n",
       "7. 'TSCs'\n",
       "\n",
       "\n"
      ],
      "text/plain": [
       "[1] Embryo Trophoblast PrE                Epiblast           Intermediate      \n",
       "[5] TSCs               TSCs_PRC2i         Intermediate_PRC2i\n",
       "7 Levels: PrE Embryo Trophoblast Epiblast Intermediate_PRC2i ... TSCs"
      ]
     },
     "metadata": {},
     "output_type": "display_data"
    }
   ],
   "source": [
    "data_filt_dotplot_simple@meta.data$finalClustersMerged %>% unique()"
   ]
  },
  {
   "cell_type": "code",
   "execution_count": 39,
   "id": "5c8c59ae-6385-4d89-aac2-147e49046196",
   "metadata": {},
   "outputs": [
    {
     "name": "stderr",
     "output_type": "stream",
     "text": [
      "Scale for 'colour' is already present. Adding another scale for 'colour',\n",
      "which will replace the existing scale.\n",
      "\n"
     ]
    },
    {
     "data": {
      "text/html": [
       "<strong>png:</strong> 2"
      ],
      "text/latex": [
       "\\textbf{png:} 2"
      ],
      "text/markdown": [
       "**png:** 2"
      ],
      "text/plain": [
       "png \n",
       "  2 "
      ]
     },
     "metadata": {},
     "output_type": "display_data"
    }
   ],
   "source": [
    "options(repr.plot.width = 11.5, repr.plot.height = 2.5, repr.plot.res = 150)\n",
    "pdf(\"dotplot_IPZ_d4only_nonaivecluster_select_annotations_noNR2F2_size_corrected_all_trophoblast.pdf\", width = 11.5, height = 2.5)\n",
    "DotPlot(data_filt_dotplot_simple, features = signature_markers_PRG, assay=\"RNA\", \n",
    "               dot.scale = 3, group.by=\"finalClustersMerged\")+\n",
    "    RotatedAxis()+\n",
    "scale_colour_gradient2(low = \"grey90\", mid = \"tomato\", high = \"tomato4\") & \n",
    "theme(text = element_text(size=7), axis.text = element_text(size=7), axis.text.x = element_text(angle=90, hjust=1, vjust=0.5), legend.box = \"horizontal\") &\n",
    "scale_y_discrete(name=\"\", labels=rev(c(\"Trophoblast -PRC2i\", \"Trophoblast +PRC2i\", \"Intermediate -PRC2i\", \"Intermediate +PRC2i\", \"Epiblast\", \"Trophoblast\", \"Primitive endoderm\")))\n",
    "dev.off()"
   ]
  },
  {
   "cell_type": "code",
   "execution_count": null,
   "id": "3c15af6b-72b9-4aa3-8e91-6242b285bc17",
   "metadata": {},
   "outputs": [],
   "source": []
  }
 ],
 "metadata": {
  "kernelspec": {
   "display_name": "R [conda env:R_scAnalysis]",
   "language": "R",
   "name": "conda-env-R_scAnalysis-r"
  },
  "language_info": {
   "codemirror_mode": "r",
   "file_extension": ".r",
   "mimetype": "text/x-r-source",
   "name": "R",
   "pygments_lexer": "r",
   "version": "4.0.3"
  }
 },
 "nbformat": 4,
 "nbformat_minor": 5
}
