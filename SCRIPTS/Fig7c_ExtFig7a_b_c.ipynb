{
 "cells": [
  {
   "cell_type": "code",
   "execution_count": 1,
   "metadata": {
    "collapsed": true,
    "jupyter": {
     "outputs_hidden": true
    }
   },
   "outputs": [
    {
     "name": "stderr",
     "output_type": "stream",
     "text": [
      "Registered S3 methods overwritten by 'ggplot2':\n",
      "  method         from \n",
      "  [.quosures     rlang\n",
      "  c.quosures     rlang\n",
      "  print.quosures rlang\n",
      "\n",
      "Attaching package: 'dplyr'\n",
      "\n",
      "The following objects are masked from 'package:stats':\n",
      "\n",
      "    filter, lag\n",
      "\n",
      "The following objects are masked from 'package:base':\n",
      "\n",
      "    intersect, setdiff, setequal, union\n",
      "\n",
      "Loading required package: S4Vectors\n",
      "Loading required package: stats4\n",
      "Loading required package: BiocGenerics\n",
      "Loading required package: parallel\n",
      "\n",
      "Attaching package: 'BiocGenerics'\n",
      "\n",
      "The following objects are masked from 'package:parallel':\n",
      "\n",
      "    clusterApply, clusterApplyLB, clusterCall, clusterEvalQ,\n",
      "    clusterExport, clusterMap, parApply, parCapply, parLapply,\n",
      "    parLapplyLB, parRapply, parSapply, parSapplyLB\n",
      "\n",
      "The following objects are masked from 'package:dplyr':\n",
      "\n",
      "    combine, intersect, setdiff, union\n",
      "\n",
      "The following objects are masked from 'package:stats':\n",
      "\n",
      "    IQR, mad, sd, var, xtabs\n",
      "\n",
      "The following objects are masked from 'package:base':\n",
      "\n",
      "    Filter, Find, Map, Position, Reduce, anyDuplicated, append,\n",
      "    as.data.frame, basename, cbind, colnames, dirname, do.call,\n",
      "    duplicated, eval, evalq, get, grep, grepl, intersect, is.unsorted,\n",
      "    lapply, mapply, match, mget, order, paste, pmax, pmax.int, pmin,\n",
      "    pmin.int, rank, rbind, rownames, sapply, setdiff, sort, table,\n",
      "    tapply, union, unique, unsplit, which, which.max, which.min\n",
      "\n",
      "\n",
      "Attaching package: 'S4Vectors'\n",
      "\n",
      "The following objects are masked from 'package:dplyr':\n",
      "\n",
      "    first, rename\n",
      "\n",
      "The following object is masked from 'package:base':\n",
      "\n",
      "    expand.grid\n",
      "\n",
      "Loading required package: IRanges\n",
      "\n",
      "Attaching package: 'IRanges'\n",
      "\n",
      "The following objects are masked from 'package:dplyr':\n",
      "\n",
      "    collapse, desc, slice\n",
      "\n",
      "Loading required package: GenomicRanges\n",
      "Loading required package: GenomeInfoDb\n",
      "Loading required package: SummarizedExperiment\n",
      "Loading required package: Biobase\n",
      "Welcome to Bioconductor\n",
      "\n",
      "    Vignettes contain introductory material; view with\n",
      "    'browseVignettes()'. To cite Bioconductor, see\n",
      "    'citation(\"Biobase\")', and for packages 'citation(\"pkgname\")'.\n",
      "\n",
      "Loading required package: DelayedArray\n",
      "Loading required package: matrixStats\n",
      "\n",
      "Attaching package: 'matrixStats'\n",
      "\n",
      "The following objects are masked from 'package:Biobase':\n",
      "\n",
      "    anyMissing, rowMedians\n",
      "\n",
      "The following object is masked from 'package:dplyr':\n",
      "\n",
      "    count\n",
      "\n",
      "Loading required package: BiocParallel\n",
      "\n",
      "Attaching package: 'DelayedArray'\n",
      "\n",
      "The following objects are masked from 'package:matrixStats':\n",
      "\n",
      "    colMaxs, colMins, colRanges, rowMaxs, rowMins, rowRanges\n",
      "\n",
      "The following objects are masked from 'package:base':\n",
      "\n",
      "    aperm, apply, rowsum\n",
      "\n",
      "Registered S3 method overwritten by 'openssl':\n",
      "  method      from\n",
      "  print.bytes Rcpp\n",
      "\n",
      "\n",
      "Attaching package: 'tidyr'\n",
      "\n",
      "The following object is masked from 'package:S4Vectors':\n",
      "\n",
      "    expand\n",
      "\n",
      "Loading required package: viridisLite\n",
      "\n",
      "Attaching package: 'gplots'\n",
      "\n",
      "The following object is masked from 'package:IRanges':\n",
      "\n",
      "    space\n",
      "\n",
      "The following object is masked from 'package:S4Vectors':\n",
      "\n",
      "    space\n",
      "\n",
      "The following object is masked from 'package:stats':\n",
      "\n",
      "    lowess\n",
      "\n"
     ]
    },
    {
     "ename": "ERROR",
     "evalue": "Error in library(ggplot): there is no package called 'ggplot'\n",
     "output_type": "error",
     "traceback": [
      "Error in library(ggplot): there is no package called 'ggplot'\nTraceback:\n",
      "1. library(ggplot)"
     ]
    }
   ],
   "source": [
    "library(ggplot2)\n",
    "library(dplyr)\n",
    "library(readr)\n",
    "library(DESeq2)\n",
    "library(DiffBind)\n",
    "library(tidyr)\n",
    "library(wesanderson)\n",
    "library(viridis)\n",
    "library(gplots)\n",
    "library(pheatmap)\n",
    "library(ggplot)\n",
    "library(RColorBrewer)"
   ]
  },
  {
   "cell_type": "markdown",
   "metadata": {},
   "source": [
    "## 36h blastoids +/- PRC2i"
   ]
  },
  {
   "cell_type": "code",
   "execution_count": 3,
   "metadata": {},
   "outputs": [],
   "source": [
    "setwd('/lustre1/project/stg_00041/Irene/EZH2i_qPCR_IF_analysis/Blastoid_quantification/')"
   ]
  },
  {
   "cell_type": "code",
   "execution_count": 7,
   "metadata": {},
   "outputs": [],
   "source": [
    "IF <- read.delim(\"36h_PRC2i_NANOG_GATA3_FOXA2_blastoids.txt\")"
   ]
  },
  {
   "cell_type": "code",
   "execution_count": 8,
   "metadata": {},
   "outputs": [
    {
     "data": {
      "text/html": [
       "<table>\n",
       "<thead><tr><th scope=col>condition</th><th scope=col>percentage_cells</th></tr></thead>\n",
       "<tbody>\n",
       "\t<tr><td>36h_NANOG</td><td>64.58333 </td></tr>\n",
       "\t<tr><td>36h_NANOG</td><td>64.60177 </td></tr>\n",
       "\t<tr><td>36h_NANOG</td><td>49.05660 </td></tr>\n",
       "\t<tr><td>36h_NANOG</td><td>45.90164 </td></tr>\n",
       "\t<tr><td>36h_NANOG</td><td>51.92308 </td></tr>\n",
       "\t<tr><td>36h_NANOG</td><td>61.01695 </td></tr>\n",
       "</tbody>\n",
       "</table>\n"
      ],
      "text/latex": [
       "\\begin{tabular}{r|ll}\n",
       " condition & percentage\\_cells\\\\\n",
       "\\hline\n",
       "\t 36h\\_NANOG & 64.58333   \\\\\n",
       "\t 36h\\_NANOG & 64.60177   \\\\\n",
       "\t 36h\\_NANOG & 49.05660   \\\\\n",
       "\t 36h\\_NANOG & 45.90164   \\\\\n",
       "\t 36h\\_NANOG & 51.92308   \\\\\n",
       "\t 36h\\_NANOG & 61.01695   \\\\\n",
       "\\end{tabular}\n"
      ],
      "text/markdown": [
       "\n",
       "| condition | percentage_cells |\n",
       "|---|---|\n",
       "| 36h_NANOG | 64.58333  |\n",
       "| 36h_NANOG | 64.60177  |\n",
       "| 36h_NANOG | 49.05660  |\n",
       "| 36h_NANOG | 45.90164  |\n",
       "| 36h_NANOG | 51.92308  |\n",
       "| 36h_NANOG | 61.01695  |\n",
       "\n"
      ],
      "text/plain": [
       "  condition percentage_cells\n",
       "1 36h_NANOG 64.58333        \n",
       "2 36h_NANOG 64.60177        \n",
       "3 36h_NANOG 49.05660        \n",
       "4 36h_NANOG 45.90164        \n",
       "5 36h_NANOG 51.92308        \n",
       "6 36h_NANOG 61.01695        "
      ]
     },
     "metadata": {},
     "output_type": "display_data"
    }
   ],
   "source": [
    "head(IF)"
   ]
  },
  {
   "cell_type": "code",
   "execution_count": 10,
   "metadata": {},
   "outputs": [],
   "source": [
    "IF$condition <- factor(IF$condition, levels = c(\"36h_NANOG\", \"36h_PRC2i_NANOG\", \"36h_GATA3\", \"36h_PRC2i_GATA3\",\"36h_FOXA2\", \"36h_PRC2i_FOXA2\"))"
   ]
  },
  {
   "cell_type": "code",
   "execution_count": 134,
   "metadata": {},
   "outputs": [],
   "source": [
    "options(repr.plot.width=4.7, repr.plot.height=5)\n",
    "plot <- ggplot(IF, aes(x= condition, y= percentage_cells, fill = condition)) + \n",
    "#geom_jitter(width = .1, alpha = 1, show.legend=FALSE, aes(color = \"black\")) +\n",
    "geom_point(size = 1, alpha = 1)+\n",
    "#scale_fill_manual(values=c(\"green\", \"green\", \"magenta\", \"magenta\", \"yellow\", \"yellow\")) +\n",
    "geom_boxplot(alpha=0.5, width = 0.5)+ #aes(color = condition)\n",
    "scale_fill_manual(values=c(\"green3\", \"green3\", \"magenta3\", \"magenta3\", \"yellow3\", \"yellow3\")) +\n",
    "#scale_color_manual(values=c(\"green\", \"green\", \"magenta\", \"magenta\", \"yellow\", \"yellow\")) +\n",
    "scale_alpha_manual(values=c(0.5,0.5,0.5,0.5,0.5,0.5)) +\n",
    "ylim(0, 100)+\n",
    "#geom_bar(stat=\"identity\",position=position_dodge2(reverse=TRUE), width = 0.7)+\n",
    "guides(fill = guide_legend(reverse = TRUE))+\n",
    "\n",
    "\n",
    " #scale_fill_manual(color = \"grey63\")+\n",
    " #scale_color_manual(color = \"grey63\")+\n",
    "\n",
    "\n",
    "  theme(plot.title = element_text(size=14, hjust = 0.5))+\n",
    "    xlab(\"\") + \n",
    "    ylab(\"Ratio of individual lineages (%)\")+\n",
    "    #ggtitle(\"\")+\n",
    "    theme(legend.title=element_blank())+\n",
    "    theme(axis.text.x  = element_text(angle=90, vjust=0, hjust=1, size=10, colour = \"black\"))+\n",
    "    theme(axis.text.y  = element_text(angle=0, vjust=0.5, hjust=0.5, size=10, colour = \"black\"))+\n",
    "    theme(axis.line = element_line(colour = \"black\"),\n",
    "    panel.grid.major = element_blank(),\n",
    "    panel.grid.minor = element_blank(),\n",
    "    panel.border = element_rect(colour=\"black\", fill = NA, size = 1),\n",
    "    panel.background = element_blank())"
   ]
  },
  {
   "cell_type": "code",
   "execution_count": 135,
   "metadata": {},
   "outputs": [
    {
     "data": {
      "image/png": "[encoded data removed]",
      "text/plain": [
       "plot without title"
      ]
     },
     "metadata": {},
     "output_type": "display_data"
    }
   ],
   "source": [
    "plot"
   ]
  },
  {
   "cell_type": "code",
   "execution_count": 136,
   "metadata": {},
   "outputs": [
    {
     "data": {
      "text/html": [
       "<strong>png:</strong> 2"
      ],
      "text/latex": [
       "\\textbf{png:} 2"
      ],
      "text/markdown": [
       "**png:** 2"
      ],
      "text/plain": [
       "png \n",
       "  2 "
      ]
     },
     "metadata": {},
     "output_type": "display_data"
    }
   ],
   "source": [
    "setwd('/lustre1/project/stg_00041/Irene/EZH2i_qPCR_IF_analysis/Blastoid_quantification/')\n",
    "pdf(paste0(\"ratio_ind_lineages_36h.pdf\"), useDingbats = FALSE, height=5, width=4.7)\n",
    "plot\n",
    "dev.off()"
   ]
  },
  {
   "cell_type": "code",
   "execution_count": 137,
   "metadata": {},
   "outputs": [],
   "source": [
    "IF$percentage_cells <- as.numeric(IF$percentage_cells)"
   ]
  },
  {
   "cell_type": "code",
   "execution_count": 142,
   "metadata": {},
   "outputs": [
    {
     "name": "stderr",
     "output_type": "stream",
     "text": [
      "Warning message in wilcox.test.default(xi, xj, paired = paired, ...):\n",
      "\"cannot compute exact p-value with ties\"Warning message in wilcox.test.default(xi, xj, paired = paired, ...):\n",
      "\"cannot compute exact p-value with ties\"Warning message in wilcox.test.default(xi, xj, paired = paired, ...):\n",
      "\"cannot compute exact p-value with ties\"Warning message in wilcox.test.default(xi, xj, paired = paired, ...):\n",
      "\"cannot compute exact p-value with ties\"Warning message in wilcox.test.default(xi, xj, paired = paired, ...):\n",
      "\"cannot compute exact p-value with ties\"Warning message in wilcox.test.default(xi, xj, paired = paired, ...):\n",
      "\"cannot compute exact p-value with ties\"Warning message in wilcox.test.default(xi, xj, paired = paired, ...):\n",
      "\"cannot compute exact p-value with ties\"Warning message in wilcox.test.default(xi, xj, paired = paired, ...):\n",
      "\"cannot compute exact p-value with ties\"Warning message in wilcox.test.default(xi, xj, paired = paired, ...):\n",
      "\"cannot compute exact p-value with ties\"Warning message in wilcox.test.default(xi, xj, paired = paired, ...):\n",
      "\"cannot compute exact p-value with ties\"Warning message in wilcox.test.default(xi, xj, paired = paired, ...):\n",
      "\"cannot compute exact p-value with ties\"Warning message in wilcox.test.default(xi, xj, paired = paired, ...):\n",
      "\"cannot compute exact p-value with ties\""
     ]
    }
   ],
   "source": [
    "wilcox_1 <- pairwise.wilcox.test(IF$percentage_cells, IF$condition, p.adjust.method = \"bonferroni\")"
   ]
  },
  {
   "cell_type": "code",
   "execution_count": 143,
   "metadata": {},
   "outputs": [
    {
     "data": {
      "text/html": [
       "<table>\n",
       "<thead><tr><th></th><th scope=col>36h_NANOG</th><th scope=col>36h_PRC2i_NANOG</th><th scope=col>36h_GATA3</th><th scope=col>36h_PRC2i_GATA3</th><th scope=col>36h_FOXA2</th></tr></thead>\n",
       "<tbody>\n",
       "\t<tr><th scope=row>36h_PRC2i_NANOG</th><td>3.698835e-03</td><td>          NA</td><td>          NA</td><td>          NA</td><td>NA          </td></tr>\n",
       "\t<tr><th scope=row>36h_GATA3</th><td>1.114707e-10</td><td>8.540251e-07</td><td>          NA</td><td>          NA</td><td>NA          </td></tr>\n",
       "\t<tr><th scope=row>36h_PRC2i_GATA3</th><td>3.150522e-04</td><td>1.000000e+00</td><td>1.092608e-07</td><td>          NA</td><td>NA          </td></tr>\n",
       "\t<tr><th scope=row>36h_FOXA2</th><td>1.223209e-07</td><td>6.654281e-08</td><td>1.223209e-07</td><td>6.672107e-08</td><td>NA          </td></tr>\n",
       "\t<tr><th scope=row>36h_PRC2i_FOXA2</th><td>5.292370e-08</td><td>2.688908e-08</td><td>6.138583e-08</td><td>2.695541e-08</td><td> 1          </td></tr>\n",
       "</tbody>\n",
       "</table>\n"
      ],
      "text/latex": [
       "\\begin{tabular}{r|lllll}\n",
       "  & 36h\\_NANOG & 36h\\_PRC2i\\_NANOG & 36h\\_GATA3 & 36h\\_PRC2i\\_GATA3 & 36h\\_FOXA2\\\\\n",
       "\\hline\n",
       "\t36h\\_PRC2i\\_NANOG & 3.698835e-03 &           NA &           NA &           NA & NA          \\\\\n",
       "\t36h\\_GATA3 & 1.114707e-10 & 8.540251e-07 &           NA &           NA & NA          \\\\\n",
       "\t36h\\_PRC2i\\_GATA3 & 3.150522e-04 & 1.000000e+00 & 1.092608e-07 &           NA & NA          \\\\\n",
       "\t36h\\_FOXA2 & 1.223209e-07 & 6.654281e-08 & 1.223209e-07 & 6.672107e-08 & NA          \\\\\n",
       "\t36h\\_PRC2i\\_FOXA2 & 5.292370e-08 & 2.688908e-08 & 6.138583e-08 & 2.695541e-08 &  1          \\\\\n",
       "\\end{tabular}\n"
      ],
      "text/markdown": [
       "\n",
       "| <!--/--> | 36h_NANOG | 36h_PRC2i_NANOG | 36h_GATA3 | 36h_PRC2i_GATA3 | 36h_FOXA2 |\n",
       "|---|---|---|---|---|---|\n",
       "| 36h_PRC2i_NANOG | 3.698835e-03 |           NA |           NA |           NA | NA           |\n",
       "| 36h_GATA3 | 1.114707e-10 | 8.540251e-07 |           NA |           NA | NA           |\n",
       "| 36h_PRC2i_GATA3 | 3.150522e-04 | 1.000000e+00 | 1.092608e-07 |           NA | NA           |\n",
       "| 36h_FOXA2 | 1.223209e-07 | 6.654281e-08 | 1.223209e-07 | 6.672107e-08 | NA           |\n",
       "| 36h_PRC2i_FOXA2 | 5.292370e-08 | 2.688908e-08 | 6.138583e-08 | 2.695541e-08 |  1           |\n",
       "\n"
      ],
      "text/plain": [
       "                36h_NANOG    36h_PRC2i_NANOG 36h_GATA3    36h_PRC2i_GATA3\n",
       "36h_PRC2i_NANOG 3.698835e-03           NA              NA           NA   \n",
       "36h_GATA3       1.114707e-10 8.540251e-07              NA           NA   \n",
       "36h_PRC2i_GATA3 3.150522e-04 1.000000e+00    1.092608e-07           NA   \n",
       "36h_FOXA2       1.223209e-07 6.654281e-08    1.223209e-07 6.672107e-08   \n",
       "36h_PRC2i_FOXA2 5.292370e-08 2.688908e-08    6.138583e-08 2.695541e-08   \n",
       "                36h_FOXA2\n",
       "36h_PRC2i_NANOG NA       \n",
       "36h_GATA3       NA       \n",
       "36h_PRC2i_GATA3 NA       \n",
       "36h_FOXA2       NA       \n",
       "36h_PRC2i_FOXA2  1       "
      ]
     },
     "metadata": {},
     "output_type": "display_data"
    }
   ],
   "source": [
    "wilcox_1$p.value"
   ]
  },
  {
   "cell_type": "code",
   "execution_count": 161,
   "metadata": {},
   "outputs": [],
   "source": [
    "ttest1 <- pairwise.t.test(IF$percentage_cells, IF$condition, p.adjust.method = \"bonferroni\")"
   ]
  },
  {
   "cell_type": "code",
   "execution_count": 162,
   "metadata": {},
   "outputs": [
    {
     "data": {
      "text/html": [
       "<table>\n",
       "<thead><tr><th></th><th scope=col>36h_NANOG</th><th scope=col>36h_PRC2i_NANOG</th><th scope=col>36h_GATA3</th><th scope=col>36h_PRC2i_GATA3</th><th scope=col>36h_FOXA2</th></tr></thead>\n",
       "<tbody>\n",
       "\t<tr><th scope=row>36h_PRC2i_NANOG</th><td>1.794862e-06</td><td>          NA</td><td>          NA</td><td>          NA</td><td>NA          </td></tr>\n",
       "\t<tr><th scope=row>36h_GATA3</th><td>2.527231e-28</td><td>1.668284e-15</td><td>          NA</td><td>          NA</td><td>NA          </td></tr>\n",
       "\t<tr><th scope=row>36h_PRC2i_GATA3</th><td>1.215918e-07</td><td>1.000000e+00</td><td>3.944754e-14</td><td>          NA</td><td>NA          </td></tr>\n",
       "\t<tr><th scope=row>36h_FOXA2</th><td>1.612224e-41</td><td>2.622769e-30</td><td>2.990755e-07</td><td>5.492235e-29</td><td>NA          </td></tr>\n",
       "\t<tr><th scope=row>36h_PRC2i_FOXA2</th><td>1.945097e-42</td><td>4.006185e-31</td><td>1.686254e-07</td><td>8.811283e-30</td><td> 1          </td></tr>\n",
       "</tbody>\n",
       "</table>\n"
      ],
      "text/latex": [
       "\\begin{tabular}{r|lllll}\n",
       "  & 36h\\_NANOG & 36h\\_PRC2i\\_NANOG & 36h\\_GATA3 & 36h\\_PRC2i\\_GATA3 & 36h\\_FOXA2\\\\\n",
       "\\hline\n",
       "\t36h\\_PRC2i\\_NANOG & 1.794862e-06 &           NA &           NA &           NA & NA          \\\\\n",
       "\t36h\\_GATA3 & 2.527231e-28 & 1.668284e-15 &           NA &           NA & NA          \\\\\n",
       "\t36h\\_PRC2i\\_GATA3 & 1.215918e-07 & 1.000000e+00 & 3.944754e-14 &           NA & NA          \\\\\n",
       "\t36h\\_FOXA2 & 1.612224e-41 & 2.622769e-30 & 2.990755e-07 & 5.492235e-29 & NA          \\\\\n",
       "\t36h\\_PRC2i\\_FOXA2 & 1.945097e-42 & 4.006185e-31 & 1.686254e-07 & 8.811283e-30 &  1          \\\\\n",
       "\\end{tabular}\n"
      ],
      "text/markdown": [
       "\n",
       "| <!--/--> | 36h_NANOG | 36h_PRC2i_NANOG | 36h_GATA3 | 36h_PRC2i_GATA3 | 36h_FOXA2 |\n",
       "|---|---|---|---|---|---|\n",
       "| 36h_PRC2i_NANOG | 1.794862e-06 |           NA |           NA |           NA | NA           |\n",
       "| 36h_GATA3 | 2.527231e-28 | 1.668284e-15 |           NA |           NA | NA           |\n",
       "| 36h_PRC2i_GATA3 | 1.215918e-07 | 1.000000e+00 | 3.944754e-14 |           NA | NA           |\n",
       "| 36h_FOXA2 | 1.612224e-41 | 2.622769e-30 | 2.990755e-07 | 5.492235e-29 | NA           |\n",
       "| 36h_PRC2i_FOXA2 | 1.945097e-42 | 4.006185e-31 | 1.686254e-07 | 8.811283e-30 |  1           |\n",
       "\n"
      ],
      "text/plain": [
       "                36h_NANOG    36h_PRC2i_NANOG 36h_GATA3    36h_PRC2i_GATA3\n",
       "36h_PRC2i_NANOG 1.794862e-06           NA              NA           NA   \n",
       "36h_GATA3       2.527231e-28 1.668284e-15              NA           NA   \n",
       "36h_PRC2i_GATA3 1.215918e-07 1.000000e+00    3.944754e-14           NA   \n",
       "36h_FOXA2       1.612224e-41 2.622769e-30    2.990755e-07 5.492235e-29   \n",
       "36h_PRC2i_FOXA2 1.945097e-42 4.006185e-31    1.686254e-07 8.811283e-30   \n",
       "                36h_FOXA2\n",
       "36h_PRC2i_NANOG NA       \n",
       "36h_GATA3       NA       \n",
       "36h_PRC2i_GATA3 NA       \n",
       "36h_FOXA2       NA       \n",
       "36h_PRC2i_FOXA2  1       "
      ]
     },
     "metadata": {},
     "output_type": "display_data"
    }
   ],
   "source": [
    "ttest1$p.value"
   ]
  },
  {
   "cell_type": "code",
   "execution_count": null,
   "metadata": {},
   "outputs": [],
   "source": []
  },
  {
   "cell_type": "code",
   "execution_count": null,
   "metadata": {},
   "outputs": [],
   "source": []
  },
  {
   "cell_type": "code",
   "execution_count": 84,
   "metadata": {},
   "outputs": [],
   "source": [
    "total_cell_nr <- read.delim(\"36h_PRC2i_NANOG_GATA3_FOXA2_cell_nr_per_blastoid.txt\")"
   ]
  },
  {
   "cell_type": "code",
   "execution_count": 91,
   "metadata": {},
   "outputs": [],
   "source": [
    "total_cell_nr$condition <- factor(total_cell_nr$condition, levels = c(\"36h_NANOG\", \"36h_PRC2i_NANOG\", \"36h_GATA3\", \"36h_PRC2i_GATA3\",\"36h_FOXA2\", \"36h_PRC2i_FOXA2\"))"
   ]
  },
  {
   "cell_type": "code",
   "execution_count": 128,
   "metadata": {},
   "outputs": [],
   "source": [
    "options(repr.plot.width=4.7, repr.plot.height=5)\n",
    "plot2 <- ggplot(total_cell_nr, aes(x= condition, y= cell_nr_per_blastoid, fill = condition)) + \n",
    "#geom_jitter(width = .1, alpha = 1, show.legend=FALSE, aes(color = \"black\")) +\n",
    "geom_point(size = 1, alpha = 1)+\n",
    "#scale_fill_manual(values=c(\"green\", \"green\", \"magenta\", \"magenta\", \"yellow\", \"yellow\")) +\n",
    "geom_boxplot(alpha=0.5, width = 0.5)+ #aes(color = condition)\n",
    "scale_fill_manual(values=c(\"green3\", \"green3\", \"magenta3\", \"magenta3\", \"yellow3\", \"yellow3\")) +\n",
    "#scale_color_manual(values=c(\"green\", \"green\", \"magenta\", \"magenta\", \"yellow\", \"yellow\")) +\n",
    "scale_alpha_manual(values=c(0.5,0.5,0.5,0.5,0.5,0.5)) +\n",
    "#ylim(0, 100)+\n",
    "#geom_bar(stat=\"identity\",position=position_dodge2(reverse=TRUE), width = 0.7)+\n",
    "guides(fill = guide_legend(reverse = TRUE))+\n",
    "\n",
    "\n",
    " #scale_fill_manual(color = \"grey63\")+\n",
    " #scale_color_manual(color = \"grey63\")+\n",
    "\n",
    "\n",
    "  theme(plot.title = element_text(size=14, hjust = 0.5))+\n",
    "    xlab(\"\") + \n",
    "    ylab(\"Cell number per blastoid\")+\n",
    "    #ggtitle(\"\")+\n",
    "    theme(legend.title=element_blank())+\n",
    "    theme(axis.text.x  = element_text(angle=90, vjust=0, hjust=1, size=10, colour = \"black\"))+\n",
    "    theme(axis.text.y  = element_text(angle=0, vjust=0.5, hjust=0.5, size=10, colour = \"black\"))+\n",
    "    theme(axis.line = element_line(colour = \"black\"),\n",
    "    panel.grid.major = element_blank(),\n",
    "    panel.grid.minor = element_blank(),\n",
    "    panel.border = element_rect(colour=\"black\", fill = NA, size = 1),\n",
    "    panel.background = element_blank())"
   ]
  },
  {
   "cell_type": "code",
   "execution_count": 129,
   "metadata": {},
   "outputs": [
    {
     "data": {
      "image/png": "[encoded data removed]",
      "text/plain": [
       "plot without title"
      ]
     },
     "metadata": {},
     "output_type": "display_data"
    }
   ],
   "source": [
    "plot2"
   ]
  },
  {
   "cell_type": "code",
   "execution_count": 130,
   "metadata": {},
   "outputs": [
    {
     "data": {
      "text/html": [
       "<strong>png:</strong> 2"
      ],
      "text/latex": [
       "\\textbf{png:} 2"
      ],
      "text/markdown": [
       "**png:** 2"
      ],
      "text/plain": [
       "png \n",
       "  2 "
      ]
     },
     "metadata": {},
     "output_type": "display_data"
    }
   ],
   "source": [
    "setwd('/lustre1/project/stg_00041/Irene/EZH2i_qPCR_IF_analysis/Blastoid_quantification/')\n",
    "pdf(paste0(\"cell_nr_per_blastoid_36h.pdf\"), useDingbats = FALSE, height=5, width=4.7)\n",
    "plot2\n",
    "dev.off()"
   ]
  },
  {
   "cell_type": "code",
   "execution_count": 144,
   "metadata": {},
   "outputs": [],
   "source": [
    "total_cell_nr$cell_nr_per_blastoid <- as.numeric(total_cell_nr$cell_nr_per_blastoid)"
   ]
  },
  {
   "cell_type": "code",
   "execution_count": 145,
   "metadata": {},
   "outputs": [
    {
     "name": "stderr",
     "output_type": "stream",
     "text": [
      "Warning message in wilcox.test.default(xi, xj, paired = paired, ...):\n",
      "\"cannot compute exact p-value with ties\"Warning message in wilcox.test.default(xi, xj, paired = paired, ...):\n",
      "\"cannot compute exact p-value with ties\"Warning message in wilcox.test.default(xi, xj, paired = paired, ...):\n",
      "\"cannot compute exact p-value with ties\"Warning message in wilcox.test.default(xi, xj, paired = paired, ...):\n",
      "\"cannot compute exact p-value with ties\"Warning message in wilcox.test.default(xi, xj, paired = paired, ...):\n",
      "\"cannot compute exact p-value with ties\"Warning message in wilcox.test.default(xi, xj, paired = paired, ...):\n",
      "\"cannot compute exact p-value with ties\"Warning message in wilcox.test.default(xi, xj, paired = paired, ...):\n",
      "\"cannot compute exact p-value with ties\"Warning message in wilcox.test.default(xi, xj, paired = paired, ...):\n",
      "\"cannot compute exact p-value with ties\"Warning message in wilcox.test.default(xi, xj, paired = paired, ...):\n",
      "\"cannot compute exact p-value with ties\"Warning message in wilcox.test.default(xi, xj, paired = paired, ...):\n",
      "\"cannot compute exact p-value with ties\"Warning message in wilcox.test.default(xi, xj, paired = paired, ...):\n",
      "\"cannot compute exact p-value with ties\"Warning message in wilcox.test.default(xi, xj, paired = paired, ...):\n",
      "\"cannot compute exact p-value with ties\"Warning message in wilcox.test.default(xi, xj, paired = paired, ...):\n",
      "\"cannot compute exact p-value with ties\"Warning message in wilcox.test.default(xi, xj, paired = paired, ...):\n",
      "\"cannot compute exact p-value with ties\"Warning message in wilcox.test.default(xi, xj, paired = paired, ...):\n",
      "\"cannot compute exact p-value with ties\""
     ]
    }
   ],
   "source": [
    "wilcox_2 <- pairwise.wilcox.test(total_cell_nr$cell_nr_per_blastoid, total_cell_nr$condition, p.adjust.method = \"bonferroni\")"
   ]
  },
  {
   "cell_type": "code",
   "execution_count": 146,
   "metadata": {},
   "outputs": [
    {
     "data": {
      "text/html": [
       "<table>\n",
       "<thead><tr><th></th><th scope=col>36h_NANOG</th><th scope=col>36h_PRC2i_NANOG</th><th scope=col>36h_GATA3</th><th scope=col>36h_PRC2i_GATA3</th><th scope=col>36h_FOXA2</th></tr></thead>\n",
       "<tbody>\n",
       "\t<tr><th scope=row>36h_PRC2i_NANOG</th><td>1.000000e+00</td><td>          NA</td><td>          NA</td><td>          NA</td><td>NA          </td></tr>\n",
       "\t<tr><th scope=row>36h_GATA3</th><td>1.521750e-06</td><td>6.424296e-06</td><td>          NA</td><td>          NA</td><td>NA          </td></tr>\n",
       "\t<tr><th scope=row>36h_PRC2i_GATA3</th><td>1.000000e+00</td><td>1.000000e+00</td><td>9.990516e-05</td><td>          NA</td><td>NA          </td></tr>\n",
       "\t<tr><th scope=row>36h_FOXA2</th><td>1.210399e-07</td><td>6.601055e-08</td><td>1.639934e-07</td><td>6.609899e-08</td><td>NA          </td></tr>\n",
       "\t<tr><th scope=row>36h_PRC2i_FOXA2</th><td>5.234551e-08</td><td>2.665809e-08</td><td>8.112515e-08</td><td>2.669098e-08</td><td> 1          </td></tr>\n",
       "</tbody>\n",
       "</table>\n"
      ],
      "text/latex": [
       "\\begin{tabular}{r|lllll}\n",
       "  & 36h\\_NANOG & 36h\\_PRC2i\\_NANOG & 36h\\_GATA3 & 36h\\_PRC2i\\_GATA3 & 36h\\_FOXA2\\\\\n",
       "\\hline\n",
       "\t36h\\_PRC2i\\_NANOG & 1.000000e+00 &           NA &           NA &           NA & NA          \\\\\n",
       "\t36h\\_GATA3 & 1.521750e-06 & 6.424296e-06 &           NA &           NA & NA          \\\\\n",
       "\t36h\\_PRC2i\\_GATA3 & 1.000000e+00 & 1.000000e+00 & 9.990516e-05 &           NA & NA          \\\\\n",
       "\t36h\\_FOXA2 & 1.210399e-07 & 6.601055e-08 & 1.639934e-07 & 6.609899e-08 & NA          \\\\\n",
       "\t36h\\_PRC2i\\_FOXA2 & 5.234551e-08 & 2.665809e-08 & 8.112515e-08 & 2.669098e-08 &  1          \\\\\n",
       "\\end{tabular}\n"
      ],
      "text/markdown": [
       "\n",
       "| <!--/--> | 36h_NANOG | 36h_PRC2i_NANOG | 36h_GATA3 | 36h_PRC2i_GATA3 | 36h_FOXA2 |\n",
       "|---|---|---|---|---|---|\n",
       "| 36h_PRC2i_NANOG | 1.000000e+00 |           NA |           NA |           NA | NA           |\n",
       "| 36h_GATA3 | 1.521750e-06 | 6.424296e-06 |           NA |           NA | NA           |\n",
       "| 36h_PRC2i_GATA3 | 1.000000e+00 | 1.000000e+00 | 9.990516e-05 |           NA | NA           |\n",
       "| 36h_FOXA2 | 1.210399e-07 | 6.601055e-08 | 1.639934e-07 | 6.609899e-08 | NA           |\n",
       "| 36h_PRC2i_FOXA2 | 5.234551e-08 | 2.665809e-08 | 8.112515e-08 | 2.669098e-08 |  1           |\n",
       "\n"
      ],
      "text/plain": [
       "                36h_NANOG    36h_PRC2i_NANOG 36h_GATA3    36h_PRC2i_GATA3\n",
       "36h_PRC2i_NANOG 1.000000e+00           NA              NA           NA   \n",
       "36h_GATA3       1.521750e-06 6.424296e-06              NA           NA   \n",
       "36h_PRC2i_GATA3 1.000000e+00 1.000000e+00    9.990516e-05           NA   \n",
       "36h_FOXA2       1.210399e-07 6.601055e-08    1.639934e-07 6.609899e-08   \n",
       "36h_PRC2i_FOXA2 5.234551e-08 2.665809e-08    8.112515e-08 2.669098e-08   \n",
       "                36h_FOXA2\n",
       "36h_PRC2i_NANOG NA       \n",
       "36h_GATA3       NA       \n",
       "36h_PRC2i_GATA3 NA       \n",
       "36h_FOXA2       NA       \n",
       "36h_PRC2i_FOXA2  1       "
      ]
     },
     "metadata": {},
     "output_type": "display_data"
    }
   ],
   "source": [
    "wilcox_2$p.value"
   ]
  },
  {
   "cell_type": "code",
   "execution_count": 159,
   "metadata": {},
   "outputs": [],
   "source": [
    "ttest2 <- pairwise.t.test(total_cell_nr$cell_nr_per_blastoid, total_cell_nr$condition, p.adjust.method = \"bonferroni\")"
   ]
  },
  {
   "cell_type": "code",
   "execution_count": 160,
   "metadata": {},
   "outputs": [
    {
     "data": {
      "text/html": [
       "<table>\n",
       "<thead><tr><th></th><th scope=col>36h_NANOG</th><th scope=col>36h_PRC2i_NANOG</th><th scope=col>36h_GATA3</th><th scope=col>36h_PRC2i_GATA3</th><th scope=col>36h_FOXA2</th></tr></thead>\n",
       "<tbody>\n",
       "\t<tr><th scope=row>36h_PRC2i_NANOG</th><td>1.000000e+00</td><td>          NA</td><td>          NA</td><td>          NA</td><td>NA          </td></tr>\n",
       "\t<tr><th scope=row>36h_GATA3</th><td>3.061039e-09</td><td>6.645255e-06</td><td>          NA</td><td>          NA</td><td>NA          </td></tr>\n",
       "\t<tr><th scope=row>36h_PRC2i_GATA3</th><td>1.000000e+00</td><td>1.000000e+00</td><td>3.866855e-07</td><td>          NA</td><td>NA          </td></tr>\n",
       "\t<tr><th scope=row>36h_FOXA2</th><td>6.379792e-16</td><td>3.013330e-12</td><td>7.927246e-02</td><td>1.041832e-13</td><td>NA          </td></tr>\n",
       "\t<tr><th scope=row>36h_PRC2i_FOXA2</th><td>2.062536e-16</td><td>1.163429e-12</td><td>6.931149e-02</td><td>3.653880e-14</td><td> 1          </td></tr>\n",
       "</tbody>\n",
       "</table>\n"
      ],
      "text/latex": [
       "\\begin{tabular}{r|lllll}\n",
       "  & 36h\\_NANOG & 36h\\_PRC2i\\_NANOG & 36h\\_GATA3 & 36h\\_PRC2i\\_GATA3 & 36h\\_FOXA2\\\\\n",
       "\\hline\n",
       "\t36h\\_PRC2i\\_NANOG & 1.000000e+00 &           NA &           NA &           NA & NA          \\\\\n",
       "\t36h\\_GATA3 & 3.061039e-09 & 6.645255e-06 &           NA &           NA & NA          \\\\\n",
       "\t36h\\_PRC2i\\_GATA3 & 1.000000e+00 & 1.000000e+00 & 3.866855e-07 &           NA & NA          \\\\\n",
       "\t36h\\_FOXA2 & 6.379792e-16 & 3.013330e-12 & 7.927246e-02 & 1.041832e-13 & NA          \\\\\n",
       "\t36h\\_PRC2i\\_FOXA2 & 2.062536e-16 & 1.163429e-12 & 6.931149e-02 & 3.653880e-14 &  1          \\\\\n",
       "\\end{tabular}\n"
      ],
      "text/markdown": [
       "\n",
       "| <!--/--> | 36h_NANOG | 36h_PRC2i_NANOG | 36h_GATA3 | 36h_PRC2i_GATA3 | 36h_FOXA2 |\n",
       "|---|---|---|---|---|---|\n",
       "| 36h_PRC2i_NANOG | 1.000000e+00 |           NA |           NA |           NA | NA           |\n",
       "| 36h_GATA3 | 3.061039e-09 | 6.645255e-06 |           NA |           NA | NA           |\n",
       "| 36h_PRC2i_GATA3 | 1.000000e+00 | 1.000000e+00 | 3.866855e-07 |           NA | NA           |\n",
       "| 36h_FOXA2 | 6.379792e-16 | 3.013330e-12 | 7.927246e-02 | 1.041832e-13 | NA           |\n",
       "| 36h_PRC2i_FOXA2 | 2.062536e-16 | 1.163429e-12 | 6.931149e-02 | 3.653880e-14 |  1           |\n",
       "\n"
      ],
      "text/plain": [
       "                36h_NANOG    36h_PRC2i_NANOG 36h_GATA3    36h_PRC2i_GATA3\n",
       "36h_PRC2i_NANOG 1.000000e+00           NA              NA           NA   \n",
       "36h_GATA3       3.061039e-09 6.645255e-06              NA           NA   \n",
       "36h_PRC2i_GATA3 1.000000e+00 1.000000e+00    3.866855e-07           NA   \n",
       "36h_FOXA2       6.379792e-16 3.013330e-12    7.927246e-02 1.041832e-13   \n",
       "36h_PRC2i_FOXA2 2.062536e-16 1.163429e-12    6.931149e-02 3.653880e-14   \n",
       "                36h_FOXA2\n",
       "36h_PRC2i_NANOG NA       \n",
       "36h_GATA3       NA       \n",
       "36h_PRC2i_GATA3 NA       \n",
       "36h_FOXA2       NA       \n",
       "36h_PRC2i_FOXA2  1       "
      ]
     },
     "metadata": {},
     "output_type": "display_data"
    }
   ],
   "source": [
    "ttest2$p.value"
   ]
  },
  {
   "cell_type": "code",
   "execution_count": null,
   "metadata": {},
   "outputs": [],
   "source": []
  },
  {
   "cell_type": "code",
   "execution_count": null,
   "metadata": {},
   "outputs": [],
   "source": []
  },
  {
   "cell_type": "code",
   "execution_count": 4,
   "metadata": {},
   "outputs": [],
   "source": [
    "total_cell_nr_per_blastoid <- read.delim(\"36h_PRC2i_total_nr_cell_per_blastoid.txt\")"
   ]
  },
  {
   "cell_type": "code",
   "execution_count": 5,
   "metadata": {},
   "outputs": [],
   "source": [
    "total_cell_nr_per_blastoid$condition <- factor(total_cell_nr_per_blastoid$condition, levels = c(\"36h\", \"36h_PRC2i\"))"
   ]
  },
  {
   "cell_type": "code",
   "execution_count": 6,
   "metadata": {},
   "outputs": [
    {
     "data": {
      "text/html": [
       "<table>\n",
       "<thead><tr><th scope=col>condition</th><th scope=col>total_nr_nuclei_per_blastoid</th></tr></thead>\n",
       "<tbody>\n",
       "\t<tr><td>36h</td><td> 48</td></tr>\n",
       "\t<tr><td>36h</td><td>113</td></tr>\n",
       "\t<tr><td>36h</td><td> 53</td></tr>\n",
       "\t<tr><td>36h</td><td> 61</td></tr>\n",
       "\t<tr><td>36h</td><td> 52</td></tr>\n",
       "\t<tr><td>36h</td><td> 59</td></tr>\n",
       "</tbody>\n",
       "</table>\n"
      ],
      "text/latex": [
       "\\begin{tabular}{r|ll}\n",
       " condition & total\\_nr\\_nuclei\\_per\\_blastoid\\\\\n",
       "\\hline\n",
       "\t 36h &  48\\\\\n",
       "\t 36h & 113\\\\\n",
       "\t 36h &  53\\\\\n",
       "\t 36h &  61\\\\\n",
       "\t 36h &  52\\\\\n",
       "\t 36h &  59\\\\\n",
       "\\end{tabular}\n"
      ],
      "text/markdown": [
       "\n",
       "| condition | total_nr_nuclei_per_blastoid |\n",
       "|---|---|\n",
       "| 36h |  48 |\n",
       "| 36h | 113 |\n",
       "| 36h |  53 |\n",
       "| 36h |  61 |\n",
       "| 36h |  52 |\n",
       "| 36h |  59 |\n",
       "\n"
      ],
      "text/plain": [
       "  condition total_nr_nuclei_per_blastoid\n",
       "1 36h        48                         \n",
       "2 36h       113                         \n",
       "3 36h        53                         \n",
       "4 36h        61                         \n",
       "5 36h        52                         \n",
       "6 36h        59                         "
      ]
     },
     "metadata": {},
     "output_type": "display_data"
    }
   ],
   "source": [
    "head(total_cell_nr_per_blastoid)"
   ]
  },
  {
   "cell_type": "code",
   "execution_count": 9,
   "metadata": {},
   "outputs": [],
   "source": [
    "options(repr.plot.width=3, repr.plot.height=4)\n",
    "plot3 <- ggplot(total_cell_nr_per_blastoid, aes(x= condition, y= total_nr_nuclei_per_blastoid, fill = condition)) + \n",
    "#geom_jitter(width = .1, alpha = 1, show.legend=FALSE, aes(color = \"black\")) +\n",
    "geom_point(size = 1, alpha = 1)+\n",
    "#scale_fill_manual(values=c(\"green\", \"green\", \"magenta\", \"magenta\", \"yellow\", \"yellow\")) +\n",
    "geom_boxplot(alpha=0.5, width= 0.4, show.legend=FALSE)+ #aes(color = condition)\n",
    "scale_fill_manual(values=c(\"blue\", \"blue\")) +\n",
    "#scale_color_manual(values=c(\"green\", \"green\", \"magenta\", \"magenta\", \"yellow\", \"yellow\")) +\n",
    "scale_alpha_manual(values=c(0.5,0.5)) +\n",
    "ylim(0, 170)+\n",
    "#geom_bar(stat=\"identity\",position=position_dodge2(reverse=TRUE), width = 0.7)+\n",
    "guides(fill = guide_legend(reverse = TRUE))+\n",
    "\n",
    "\n",
    " #scale_fill_manual(color = \"grey63\")+\n",
    " #scale_color_manual(color = \"grey63\")+\n",
    "\n",
    "\n",
    "  theme(plot.title = element_text(size=14, hjust = 0.5))+\n",
    "    xlab(\"\") + \n",
    "    ylab(\"Total number of nuclei per blastoid\")+\n",
    "    #ggtitle(\"\")+\n",
    "    theme(legend.title=element_blank())+\n",
    "    theme(axis.text.x  = element_text(angle=90, vjust=0, hjust=1, size=10, colour = \"black\"))+\n",
    "    theme(axis.text.y  = element_text(angle=0, vjust=0.5, hjust=0.5, size=10, colour = \"black\"))+\n",
    "    theme(axis.line = element_line(colour = \"black\"),\n",
    "    panel.grid.major = element_blank(),\n",
    "    panel.grid.minor = element_blank(),\n",
    "    panel.border = element_rect(colour=\"black\", fill = NA, size = 1),\n",
    "    panel.background = element_blank())"
   ]
  },
  {
   "cell_type": "code",
   "execution_count": 10,
   "metadata": {},
   "outputs": [
    {
     "data": {
      "image/png": "[encoded data removed]",
      "text/plain": [
       "plot without title"
      ]
     },
     "metadata": {},
     "output_type": "display_data"
    }
   ],
   "source": [
    "plot3"
   ]
  },
  {
   "cell_type": "code",
   "execution_count": 11,
   "metadata": {},
   "outputs": [
    {
     "data": {
      "text/html": [
       "<strong>png:</strong> 2"
      ],
      "text/latex": [
       "\\textbf{png:} 2"
      ],
      "text/markdown": [
       "**png:** 2"
      ],
      "text/plain": [
       "png \n",
       "  2 "
      ]
     },
     "metadata": {},
     "output_type": "display_data"
    }
   ],
   "source": [
    "setwd('/lustre1/project/stg_00041/Irene/EZH2i_qPCR_IF_analysis/Blastoid_quantification/')\n",
    "pdf(paste0(\"total_cell_nr_per_blastoid_36h_yaxis0.pdf\"), useDingbats = FALSE, height=4, width=3)\n",
    "plot3\n",
    "dev.off()"
   ]
  },
  {
   "cell_type": "code",
   "execution_count": 147,
   "metadata": {},
   "outputs": [],
   "source": [
    "total_cell_nr_per_blastoid$total_nr_nuclei_per_blastoid <- as.numeric(total_cell_nr_per_blastoid$total_nr_nuclei_per_blastoid)"
   ]
  },
  {
   "cell_type": "code",
   "execution_count": 157,
   "metadata": {},
   "outputs": [
    {
     "name": "stderr",
     "output_type": "stream",
     "text": [
      "Warning message in wilcox.test.default(xi, xj, paired = paired, ...):\n",
      "\"cannot compute exact p-value with ties\""
     ]
    }
   ],
   "source": [
    "wilcox_3 <- pairwise.wilcox.test(total_cell_nr_per_blastoid$total_nr_nuclei_per_blastoid, total_cell_nr_per_blastoid$condition, p.adjust.method = \"bonferroni\")"
   ]
  },
  {
   "cell_type": "code",
   "execution_count": 158,
   "metadata": {},
   "outputs": [
    {
     "data": {
      "text/html": [
       "<table>\n",
       "<thead><tr><th></th><th scope=col>36h</th></tr></thead>\n",
       "<tbody>\n",
       "\t<tr><th scope=row>36h_PRC2i</th><td>0.341066</td></tr>\n",
       "</tbody>\n",
       "</table>\n"
      ],
      "text/latex": [
       "\\begin{tabular}{r|l}\n",
       "  & 36h\\\\\n",
       "\\hline\n",
       "\t36h\\_PRC2i & 0.341066\\\\\n",
       "\\end{tabular}\n"
      ],
      "text/markdown": [
       "\n",
       "| <!--/--> | 36h |\n",
       "|---|---|\n",
       "| 36h_PRC2i | 0.341066 |\n",
       "\n"
      ],
      "text/plain": [
       "          36h     \n",
       "36h_PRC2i 0.341066"
      ]
     },
     "metadata": {},
     "output_type": "display_data"
    }
   ],
   "source": [
    "wilcox_3$p.value"
   ]
  },
  {
   "cell_type": "code",
   "execution_count": 155,
   "metadata": {},
   "outputs": [],
   "source": [
    "ttest <- pairwise.t.test(total_cell_nr_per_blastoid$total_nr_nuclei_per_blastoid, total_cell_nr_per_blastoid$condition, p.adjust.method = \"bonferroni\")"
   ]
  },
  {
   "cell_type": "code",
   "execution_count": 156,
   "metadata": {},
   "outputs": [
    {
     "data": {
      "text/html": [
       "<table>\n",
       "<thead><tr><th></th><th scope=col>36h</th></tr></thead>\n",
       "<tbody>\n",
       "\t<tr><th scope=row>36h_PRC2i</th><td>0.2336576</td></tr>\n",
       "</tbody>\n",
       "</table>\n"
      ],
      "text/latex": [
       "\\begin{tabular}{r|l}\n",
       "  & 36h\\\\\n",
       "\\hline\n",
       "\t36h\\_PRC2i & 0.2336576\\\\\n",
       "\\end{tabular}\n"
      ],
      "text/markdown": [
       "\n",
       "| <!--/--> | 36h |\n",
       "|---|---|\n",
       "| 36h_PRC2i | 0.2336576 |\n",
       "\n"
      ],
      "text/plain": [
       "          36h      \n",
       "36h_PRC2i 0.2336576"
      ]
     },
     "metadata": {},
     "output_type": "display_data"
    }
   ],
   "source": [
    "ttest$p.value"
   ]
  },
  {
   "cell_type": "markdown",
   "metadata": {},
   "source": [
    "## 60h blastoids +/- PRC2i"
   ]
  },
  {
   "cell_type": "code",
   "execution_count": 4,
   "metadata": {},
   "outputs": [],
   "source": [
    "IF <- read.delim(\"60h_PRC2i_NANOG_GATA3_FOXA2_blastoids.txt\")"
   ]
  },
  {
   "cell_type": "code",
   "execution_count": 5,
   "metadata": {},
   "outputs": [
    {
     "data": {
      "text/html": [
       "<table>\n",
       "<thead><tr><th scope=col>condition</th><th scope=col>percentage_cells</th></tr></thead>\n",
       "<tbody>\n",
       "\t<tr><td>60h_NANOG</td><td> 9.859155</td></tr>\n",
       "\t<tr><td>60h_NANOG</td><td>25.423729</td></tr>\n",
       "\t<tr><td>60h_NANOG</td><td>32.653061</td></tr>\n",
       "\t<tr><td>60h_NANOG</td><td>25.000000</td></tr>\n",
       "\t<tr><td>60h_NANOG</td><td>15.217391</td></tr>\n",
       "\t<tr><td>60h_NANOG</td><td>39.784946</td></tr>\n",
       "</tbody>\n",
       "</table>\n"
      ],
      "text/latex": [
       "\\begin{tabular}{r|ll}\n",
       " condition & percentage\\_cells\\\\\n",
       "\\hline\n",
       "\t 60h\\_NANOG &  9.859155  \\\\\n",
       "\t 60h\\_NANOG & 25.423729  \\\\\n",
       "\t 60h\\_NANOG & 32.653061  \\\\\n",
       "\t 60h\\_NANOG & 25.000000  \\\\\n",
       "\t 60h\\_NANOG & 15.217391  \\\\\n",
       "\t 60h\\_NANOG & 39.784946  \\\\\n",
       "\\end{tabular}\n"
      ],
      "text/markdown": [
       "\n",
       "| condition | percentage_cells |\n",
       "|---|---|\n",
       "| 60h_NANOG |  9.859155 |\n",
       "| 60h_NANOG | 25.423729 |\n",
       "| 60h_NANOG | 32.653061 |\n",
       "| 60h_NANOG | 25.000000 |\n",
       "| 60h_NANOG | 15.217391 |\n",
       "| 60h_NANOG | 39.784946 |\n",
       "\n"
      ],
      "text/plain": [
       "  condition percentage_cells\n",
       "1 60h_NANOG  9.859155       \n",
       "2 60h_NANOG 25.423729       \n",
       "3 60h_NANOG 32.653061       \n",
       "4 60h_NANOG 25.000000       \n",
       "5 60h_NANOG 15.217391       \n",
       "6 60h_NANOG 39.784946       "
      ]
     },
     "metadata": {},
     "output_type": "display_data"
    }
   ],
   "source": [
    "head(IF)"
   ]
  },
  {
   "cell_type": "code",
   "execution_count": 6,
   "metadata": {},
   "outputs": [],
   "source": [
    "IF$condition <- factor(IF$condition, levels = c(\"60h_NANOG\", \"60h_PRC2i_NANOG\", \"60h_GATA3\", \"60h_PRC2i_GATA3\",\"60h_FOXA2\", \"60h_PRC2i_FOXA2\"))"
   ]
  },
  {
   "cell_type": "code",
   "execution_count": 7,
   "metadata": {},
   "outputs": [],
   "source": [
    "options(repr.plot.width=4.7, repr.plot.height=5)\n",
    "plot <- ggplot(IF, aes(x= condition, y= percentage_cells, fill = condition)) + \n",
    "#geom_jitter(width = .1, alpha = 1, show.legend=FALSE, aes(color = \"black\")) +\n",
    "geom_point(size = 1, alpha = 1)+\n",
    "#scale_fill_manual(values=c(\"green\", \"green\", \"magenta\", \"magenta\", \"yellow\", \"yellow\")) +\n",
    "geom_boxplot(alpha=0.5, width = 0.5)+ #aes(color = condition)\n",
    "scale_fill_manual(values=c(\"green3\", \"green3\", \"magenta3\", \"magenta3\", \"yellow3\", \"yellow3\")) +\n",
    "#scale_color_manual(values=c(\"green\", \"green\", \"magenta\", \"magenta\", \"yellow\", \"yellow\")) +\n",
    "scale_alpha_manual(values=c(0.5,0.5,0.5,0.5,0.5,0.5)) +\n",
    "ylim(0, 100)+\n",
    "#geom_bar(stat=\"identity\",position=position_dodge2(reverse=TRUE), width = 0.7)+\n",
    "guides(fill = guide_legend(reverse = TRUE))+\n",
    "\n",
    "\n",
    " #scale_fill_manual(color = \"grey63\")+\n",
    " #scale_color_manual(color = \"grey63\")+\n",
    "\n",
    "\n",
    "  theme(plot.title = element_text(size=14, hjust = 0.5))+\n",
    "    xlab(\"\") + \n",
    "    ylab(\"Ratio of individual lineages (%)\")+\n",
    "    #ggtitle(\"\")+\n",
    "    theme(legend.title=element_blank())+\n",
    "    theme(axis.text.x  = element_text(angle=90, vjust=0, hjust=1, size=10, colour = \"black\"))+\n",
    "    theme(axis.text.y  = element_text(angle=0, vjust=0.5, hjust=0.5, size=10, colour = \"black\"))+\n",
    "    theme(axis.line = element_line(colour = \"black\"),\n",
    "    panel.grid.major = element_blank(),\n",
    "    panel.grid.minor = element_blank(),\n",
    "    panel.border = element_rect(colour=\"black\", fill = NA, size = 1),\n",
    "    panel.background = element_blank())"
   ]
  },
  {
   "cell_type": "code",
   "execution_count": 8,
   "metadata": {},
   "outputs": [
    {
     "data": {
      "image/png": "[encoded data removed]",
      "text/plain": [
       "plot without title"
      ]
     },
     "metadata": {},
     "output_type": "display_data"
    }
   ],
   "source": [
    "plot"
   ]
  },
  {
   "cell_type": "code",
   "execution_count": 9,
   "metadata": {},
   "outputs": [
    {
     "data": {
      "text/html": [
       "<strong>png:</strong> 2"
      ],
      "text/latex": [
       "\\textbf{png:} 2"
      ],
      "text/markdown": [
       "**png:** 2"
      ],
      "text/plain": [
       "png \n",
       "  2 "
      ]
     },
     "metadata": {},
     "output_type": "display_data"
    }
   ],
   "source": [
    "setwd('/lustre1/project/stg_00041/Irene/EZH2i_qPCR_IF_analysis/Blastoid_quantification/')\n",
    "pdf(paste0(\"ratio_ind_lineages_60h.pdf\"), useDingbats = FALSE, height=5, width=4.7)\n",
    "plot\n",
    "dev.off()"
   ]
  },
  {
   "cell_type": "code",
   "execution_count": 10,
   "metadata": {},
   "outputs": [],
   "source": [
    "IF$percentage_cells <- as.numeric(IF$percentage_cells)"
   ]
  },
  {
   "cell_type": "code",
   "execution_count": 11,
   "metadata": {},
   "outputs": [
    {
     "name": "stderr",
     "output_type": "stream",
     "text": [
      "Warning message in wilcox.test.default(xi, xj, paired = paired, ...):\n",
      "\"cannot compute exact p-value with ties\"Warning message in wilcox.test.default(xi, xj, paired = paired, ...):\n",
      "\"cannot compute exact p-value with ties\"Warning message in wilcox.test.default(xi, xj, paired = paired, ...):\n",
      "\"cannot compute exact p-value with ties\"Warning message in wilcox.test.default(xi, xj, paired = paired, ...):\n",
      "\"cannot compute exact p-value with ties\"Warning message in wilcox.test.default(xi, xj, paired = paired, ...):\n",
      "\"cannot compute exact p-value with ties\"Warning message in wilcox.test.default(xi, xj, paired = paired, ...):\n",
      "\"cannot compute exact p-value with ties\"Warning message in wilcox.test.default(xi, xj, paired = paired, ...):\n",
      "\"cannot compute exact p-value with ties\"Warning message in wilcox.test.default(xi, xj, paired = paired, ...):\n",
      "\"cannot compute exact p-value with ties\"Warning message in wilcox.test.default(xi, xj, paired = paired, ...):\n",
      "\"cannot compute exact p-value with ties\""
     ]
    }
   ],
   "source": [
    "wilcox_1 <- pairwise.wilcox.test(IF$percentage_cells, IF$condition, p.adjust.method = \"bonferroni\")"
   ]
  },
  {
   "cell_type": "code",
   "execution_count": 12,
   "metadata": {},
   "outputs": [
    {
     "data": {
      "text/html": [
       "<table>\n",
       "<thead><tr><th></th><th scope=col>60h_NANOG</th><th scope=col>60h_PRC2i_NANOG</th><th scope=col>60h_GATA3</th><th scope=col>60h_PRC2i_GATA3</th><th scope=col>60h_FOXA2</th></tr></thead>\n",
       "<tbody>\n",
       "\t<tr><th scope=row>60h_PRC2i_NANOG</th><td>1.051553e-02</td><td>          NA</td><td>          NA</td><td>          NA</td><td>NA          </td></tr>\n",
       "\t<tr><th scope=row>60h_GATA3</th><td>6.995821e-04</td><td>8.741847e-11</td><td>          NA</td><td>          NA</td><td>NA          </td></tr>\n",
       "\t<tr><th scope=row>60h_PRC2i_GATA3</th><td>2.928519e-09</td><td>1.285564e-08</td><td>2.499294e-07</td><td>          NA</td><td>NA          </td></tr>\n",
       "\t<tr><th scope=row>60h_FOXA2</th><td>1.060892e-09</td><td>3.756798e-08</td><td>8.339217e-10</td><td>3.756798e-08</td><td>NA          </td></tr>\n",
       "\t<tr><th scope=row>60h_PRC2i_FOXA2</th><td>6.424944e-07</td><td>1.755534e-05</td><td>3.688396e-07</td><td>5.907283e-06</td><td> 1          </td></tr>\n",
       "</tbody>\n",
       "</table>\n"
      ],
      "text/latex": [
       "\\begin{tabular}{r|lllll}\n",
       "  & 60h\\_NANOG & 60h\\_PRC2i\\_NANOG & 60h\\_GATA3 & 60h\\_PRC2i\\_GATA3 & 60h\\_FOXA2\\\\\n",
       "\\hline\n",
       "\t60h\\_PRC2i\\_NANOG & 1.051553e-02 &           NA &           NA &           NA & NA          \\\\\n",
       "\t60h\\_GATA3 & 6.995821e-04 & 8.741847e-11 &           NA &           NA & NA          \\\\\n",
       "\t60h\\_PRC2i\\_GATA3 & 2.928519e-09 & 1.285564e-08 & 2.499294e-07 &           NA & NA          \\\\\n",
       "\t60h\\_FOXA2 & 1.060892e-09 & 3.756798e-08 & 8.339217e-10 & 3.756798e-08 & NA          \\\\\n",
       "\t60h\\_PRC2i\\_FOXA2 & 6.424944e-07 & 1.755534e-05 & 3.688396e-07 & 5.907283e-06 &  1          \\\\\n",
       "\\end{tabular}\n"
      ],
      "text/markdown": [
       "\n",
       "| <!--/--> | 60h_NANOG | 60h_PRC2i_NANOG | 60h_GATA3 | 60h_PRC2i_GATA3 | 60h_FOXA2 |\n",
       "|---|---|---|---|---|---|\n",
       "| 60h_PRC2i_NANOG | 1.051553e-02 |           NA |           NA |           NA | NA           |\n",
       "| 60h_GATA3 | 6.995821e-04 | 8.741847e-11 |           NA |           NA | NA           |\n",
       "| 60h_PRC2i_GATA3 | 2.928519e-09 | 1.285564e-08 | 2.499294e-07 |           NA | NA           |\n",
       "| 60h_FOXA2 | 1.060892e-09 | 3.756798e-08 | 8.339217e-10 | 3.756798e-08 | NA           |\n",
       "| 60h_PRC2i_FOXA2 | 6.424944e-07 | 1.755534e-05 | 3.688396e-07 | 5.907283e-06 |  1           |\n",
       "\n"
      ],
      "text/plain": [
       "                60h_NANOG    60h_PRC2i_NANOG 60h_GATA3    60h_PRC2i_GATA3\n",
       "60h_PRC2i_NANOG 1.051553e-02           NA              NA           NA   \n",
       "60h_GATA3       6.995821e-04 8.741847e-11              NA           NA   \n",
       "60h_PRC2i_GATA3 2.928519e-09 1.285564e-08    2.499294e-07           NA   \n",
       "60h_FOXA2       1.060892e-09 3.756798e-08    8.339217e-10 3.756798e-08   \n",
       "60h_PRC2i_FOXA2 6.424944e-07 1.755534e-05    3.688396e-07 5.907283e-06   \n",
       "                60h_FOXA2\n",
       "60h_PRC2i_NANOG NA       \n",
       "60h_GATA3       NA       \n",
       "60h_PRC2i_GATA3 NA       \n",
       "60h_FOXA2       NA       \n",
       "60h_PRC2i_FOXA2  1       "
      ]
     },
     "metadata": {},
     "output_type": "display_data"
    }
   ],
   "source": [
    "wilcox_1$p.value"
   ]
  },
  {
   "cell_type": "code",
   "execution_count": 13,
   "metadata": {},
   "outputs": [],
   "source": [
    "ttest1 <- pairwise.t.test(IF$percentage_cells, IF$condition, p.adjust.method = \"bonferroni\")"
   ]
  },
  {
   "cell_type": "code",
   "execution_count": 14,
   "metadata": {},
   "outputs": [
    {
     "data": {
      "text/html": [
       "<table>\n",
       "<thead><tr><th></th><th scope=col>60h_NANOG</th><th scope=col>60h_PRC2i_NANOG</th><th scope=col>60h_GATA3</th><th scope=col>60h_PRC2i_GATA3</th><th scope=col>60h_FOXA2</th></tr></thead>\n",
       "<tbody>\n",
       "\t<tr><th scope=row>60h_PRC2i_NANOG</th><td>3.011669e-03</td><td>          NA</td><td>          NA</td><td>          NA</td><td>NA          </td></tr>\n",
       "\t<tr><th scope=row>60h_GATA3</th><td>8.630910e-07</td><td>7.472899e-14</td><td>          NA</td><td>          NA</td><td>NA          </td></tr>\n",
       "\t<tr><th scope=row>60h_PRC2i_GATA3</th><td>2.400458e-27</td><td>4.086427e-32</td><td>5.303560e-15</td><td>          NA</td><td>NA          </td></tr>\n",
       "\t<tr><th scope=row>60h_FOXA2</th><td>3.981625e-13</td><td>4.324688e-03</td><td>3.744993e-27</td><td>7.874586e-44</td><td>NA          </td></tr>\n",
       "\t<tr><th scope=row>60h_PRC2i_FOXA2</th><td>3.662083e-10</td><td>2.971766e-02</td><td>2.092378e-22</td><td>4.912422e-39</td><td> 1          </td></tr>\n",
       "</tbody>\n",
       "</table>\n"
      ],
      "text/latex": [
       "\\begin{tabular}{r|lllll}\n",
       "  & 60h\\_NANOG & 60h\\_PRC2i\\_NANOG & 60h\\_GATA3 & 60h\\_PRC2i\\_GATA3 & 60h\\_FOXA2\\\\\n",
       "\\hline\n",
       "\t60h\\_PRC2i\\_NANOG & 3.011669e-03 &           NA &           NA &           NA & NA          \\\\\n",
       "\t60h\\_GATA3 & 8.630910e-07 & 7.472899e-14 &           NA &           NA & NA          \\\\\n",
       "\t60h\\_PRC2i\\_GATA3 & 2.400458e-27 & 4.086427e-32 & 5.303560e-15 &           NA & NA          \\\\\n",
       "\t60h\\_FOXA2 & 3.981625e-13 & 4.324688e-03 & 3.744993e-27 & 7.874586e-44 & NA          \\\\\n",
       "\t60h\\_PRC2i\\_FOXA2 & 3.662083e-10 & 2.971766e-02 & 2.092378e-22 & 4.912422e-39 &  1          \\\\\n",
       "\\end{tabular}\n"
      ],
      "text/markdown": [
       "\n",
       "| <!--/--> | 60h_NANOG | 60h_PRC2i_NANOG | 60h_GATA3 | 60h_PRC2i_GATA3 | 60h_FOXA2 |\n",
       "|---|---|---|---|---|---|\n",
       "| 60h_PRC2i_NANOG | 3.011669e-03 |           NA |           NA |           NA | NA           |\n",
       "| 60h_GATA3 | 8.630910e-07 | 7.472899e-14 |           NA |           NA | NA           |\n",
       "| 60h_PRC2i_GATA3 | 2.400458e-27 | 4.086427e-32 | 5.303560e-15 |           NA | NA           |\n",
       "| 60h_FOXA2 | 3.981625e-13 | 4.324688e-03 | 3.744993e-27 | 7.874586e-44 | NA           |\n",
       "| 60h_PRC2i_FOXA2 | 3.662083e-10 | 2.971766e-02 | 2.092378e-22 | 4.912422e-39 |  1           |\n",
       "\n"
      ],
      "text/plain": [
       "                60h_NANOG    60h_PRC2i_NANOG 60h_GATA3    60h_PRC2i_GATA3\n",
       "60h_PRC2i_NANOG 3.011669e-03           NA              NA           NA   \n",
       "60h_GATA3       8.630910e-07 7.472899e-14              NA           NA   \n",
       "60h_PRC2i_GATA3 2.400458e-27 4.086427e-32    5.303560e-15           NA   \n",
       "60h_FOXA2       3.981625e-13 4.324688e-03    3.744993e-27 7.874586e-44   \n",
       "60h_PRC2i_FOXA2 3.662083e-10 2.971766e-02    2.092378e-22 4.912422e-39   \n",
       "                60h_FOXA2\n",
       "60h_PRC2i_NANOG NA       \n",
       "60h_GATA3       NA       \n",
       "60h_PRC2i_GATA3 NA       \n",
       "60h_FOXA2       NA       \n",
       "60h_PRC2i_FOXA2  1       "
      ]
     },
     "metadata": {},
     "output_type": "display_data"
    }
   ],
   "source": [
    "ttest1$p.value"
   ]
  },
  {
   "cell_type": "code",
   "execution_count": null,
   "metadata": {},
   "outputs": [],
   "source": []
  },
  {
   "cell_type": "code",
   "execution_count": null,
   "metadata": {},
   "outputs": [],
   "source": []
  },
  {
   "cell_type": "code",
   "execution_count": 41,
   "metadata": {},
   "outputs": [],
   "source": [
    "total_cell_nr <- read.delim(\"60h_PRC2i_NANOG_GATA3_FOXA2_cell_nr_per_blastoid.txt\")"
   ]
  },
  {
   "cell_type": "code",
   "execution_count": 42,
   "metadata": {},
   "outputs": [],
   "source": [
    "total_cell_nr$condition <- factor(total_cell_nr$condition, levels = c(\"60h_NANOG\", \"60h_PRC2i_NANOG\", \"60h_GATA3\", \"60h_PRC2i_GATA3\",\"60h_FOXA2\", \"60h_PRC2i_FOXA2\"))"
   ]
  },
  {
   "cell_type": "code",
   "execution_count": 43,
   "metadata": {},
   "outputs": [
    {
     "data": {
      "text/html": [
       "<table>\n",
       "<thead><tr><th scope=col>condition</th><th scope=col>cell_nr_per_blastoid</th></tr></thead>\n",
       "<tbody>\n",
       "\t<tr><td>60h_NANOG</td><td> 7       </td></tr>\n",
       "\t<tr><td>60h_NANOG</td><td>15       </td></tr>\n",
       "\t<tr><td>60h_NANOG</td><td>32       </td></tr>\n",
       "\t<tr><td>60h_NANOG</td><td>12       </td></tr>\n",
       "\t<tr><td>60h_NANOG</td><td> 7       </td></tr>\n",
       "\t<tr><td>60h_NANOG</td><td>37       </td></tr>\n",
       "</tbody>\n",
       "</table>\n"
      ],
      "text/latex": [
       "\\begin{tabular}{r|ll}\n",
       " condition & cell\\_nr\\_per\\_blastoid\\\\\n",
       "\\hline\n",
       "\t 60h\\_NANOG &  7         \\\\\n",
       "\t 60h\\_NANOG & 15         \\\\\n",
       "\t 60h\\_NANOG & 32         \\\\\n",
       "\t 60h\\_NANOG & 12         \\\\\n",
       "\t 60h\\_NANOG &  7         \\\\\n",
       "\t 60h\\_NANOG & 37         \\\\\n",
       "\\end{tabular}\n"
      ],
      "text/markdown": [
       "\n",
       "| condition | cell_nr_per_blastoid |\n",
       "|---|---|\n",
       "| 60h_NANOG |  7        |\n",
       "| 60h_NANOG | 15        |\n",
       "| 60h_NANOG | 32        |\n",
       "| 60h_NANOG | 12        |\n",
       "| 60h_NANOG |  7        |\n",
       "| 60h_NANOG | 37        |\n",
       "\n"
      ],
      "text/plain": [
       "  condition cell_nr_per_blastoid\n",
       "1 60h_NANOG  7                  \n",
       "2 60h_NANOG 15                  \n",
       "3 60h_NANOG 32                  \n",
       "4 60h_NANOG 12                  \n",
       "5 60h_NANOG  7                  \n",
       "6 60h_NANOG 37                  "
      ]
     },
     "metadata": {},
     "output_type": "display_data"
    }
   ],
   "source": [
    "head(total_cell_nr)"
   ]
  },
  {
   "cell_type": "code",
   "execution_count": 44,
   "metadata": {},
   "outputs": [],
   "source": [
    "options(repr.plot.width=4.7, repr.plot.height=5)\n",
    "plot2 <- ggplot(total_cell_nr, aes(x= condition, y= cell_nr_per_blastoid, fill = condition)) + \n",
    "#geom_jitter(width = .1, alpha = 1, show.legend=FALSE, aes(color = \"black\")) +\n",
    "geom_point(size = 1, alpha = 1)+\n",
    "#scale_fill_manual(values=c(\"green\", \"green\", \"magenta\", \"magenta\", \"yellow\", \"yellow\")) +\n",
    "geom_boxplot(alpha=0.5, width = 0.5)+ #aes(color = condition)\n",
    "scale_fill_manual(values=c(\"green3\", \"green3\", \"magenta3\", \"magenta3\", \"yellow3\", \"yellow3\")) +\n",
    "#scale_color_manual(values=c(\"green\", \"green\", \"magenta\", \"magenta\", \"yellow\", \"yellow\")) +\n",
    "scale_alpha_manual(values=c(0.5,0.5,0.5,0.5,0.5,0.5)) +\n",
    "#ylim(0, 100)+\n",
    "#geom_bar(stat=\"identity\",position=position_dodge2(reverse=TRUE), width = 0.7)+\n",
    "guides(fill = guide_legend(reverse = TRUE))+\n",
    "\n",
    "\n",
    " #scale_fill_manual(color = \"grey63\")+\n",
    " #scale_color_manual(color = \"grey63\")+\n",
    "\n",
    "\n",
    "  theme(plot.title = element_text(size=14, hjust = 0.5))+\n",
    "    xlab(\"\") + \n",
    "    ylab(\"Cell number per blastoid\")+\n",
    "    #ggtitle(\"\")+\n",
    "    theme(legend.title=element_blank())+\n",
    "    theme(axis.text.x  = element_text(angle=90, vjust=0, hjust=1, size=10, colour = \"black\"))+\n",
    "    theme(axis.text.y  = element_text(angle=0, vjust=0.5, hjust=0.5, size=10, colour = \"black\"))+\n",
    "    theme(axis.line = element_line(colour = \"black\"),\n",
    "    panel.grid.major = element_blank(),\n",
    "    panel.grid.minor = element_blank(),\n",
    "    panel.border = element_rect(colour=\"black\", fill = NA, size = 1),\n",
    "    panel.background = element_blank())"
   ]
  },
  {
   "cell_type": "code",
   "execution_count": 45,
   "metadata": {},
   "outputs": [
    {
     "data": {
      "image/png": "[encoded data removed]",
      "text/plain": [
       "plot without title"
      ]
     },
     "metadata": {},
     "output_type": "display_data"
    }
   ],
   "source": [
    "plot2"
   ]
  },
  {
   "cell_type": "code",
   "execution_count": 46,
   "metadata": {},
   "outputs": [
    {
     "data": {
      "text/html": [
       "<strong>png:</strong> 2"
      ],
      "text/latex": [
       "\\textbf{png:} 2"
      ],
      "text/markdown": [
       "**png:** 2"
      ],
      "text/plain": [
       "png \n",
       "  2 "
      ]
     },
     "metadata": {},
     "output_type": "display_data"
    }
   ],
   "source": [
    "setwd('/lustre1/project/stg_00041/Irene/EZH2i_qPCR_IF_analysis/Blastoid_quantification/')\n",
    "pdf(paste0(\"cell_nr_per_blastoid_60h.pdf\"), useDingbats = FALSE, height=5, width=4.7)\n",
    "plot2\n",
    "dev.off()"
   ]
  },
  {
   "cell_type": "code",
   "execution_count": 47,
   "metadata": {},
   "outputs": [],
   "source": [
    "total_cell_nr$cell_nr_per_blastoid <- as.numeric(total_cell_nr$cell_nr_per_blastoid)"
   ]
  },
  {
   "cell_type": "code",
   "execution_count": 48,
   "metadata": {},
   "outputs": [
    {
     "name": "stderr",
     "output_type": "stream",
     "text": [
      "Warning message in wilcox.test.default(xi, xj, paired = paired, ...):\n",
      "\"cannot compute exact p-value with ties\"Warning message in wilcox.test.default(xi, xj, paired = paired, ...):\n",
      "\"cannot compute exact p-value with ties\"Warning message in wilcox.test.default(xi, xj, paired = paired, ...):\n",
      "\"cannot compute exact p-value with ties\"Warning message in wilcox.test.default(xi, xj, paired = paired, ...):\n",
      "\"cannot compute exact p-value with ties\"Warning message in wilcox.test.default(xi, xj, paired = paired, ...):\n",
      "\"cannot compute exact p-value with ties\"Warning message in wilcox.test.default(xi, xj, paired = paired, ...):\n",
      "\"cannot compute exact p-value with ties\"Warning message in wilcox.test.default(xi, xj, paired = paired, ...):\n",
      "\"cannot compute exact p-value with ties\"Warning message in wilcox.test.default(xi, xj, paired = paired, ...):\n",
      "\"cannot compute exact p-value with ties\"Warning message in wilcox.test.default(xi, xj, paired = paired, ...):\n",
      "\"cannot compute exact p-value with ties\"Warning message in wilcox.test.default(xi, xj, paired = paired, ...):\n",
      "\"cannot compute exact p-value with ties\"Warning message in wilcox.test.default(xi, xj, paired = paired, ...):\n",
      "\"cannot compute exact p-value with ties\"Warning message in wilcox.test.default(xi, xj, paired = paired, ...):\n",
      "\"cannot compute exact p-value with ties\"Warning message in wilcox.test.default(xi, xj, paired = paired, ...):\n",
      "\"cannot compute exact p-value with ties\"Warning message in wilcox.test.default(xi, xj, paired = paired, ...):\n",
      "\"cannot compute exact p-value with ties\"Warning message in wilcox.test.default(xi, xj, paired = paired, ...):\n",
      "\"cannot compute exact p-value with ties\""
     ]
    }
   ],
   "source": [
    "wilcox_2 <- pairwise.wilcox.test(total_cell_nr$cell_nr_per_blastoid, total_cell_nr$condition, p.adjust.method = \"bonferroni\")"
   ]
  },
  {
   "cell_type": "code",
   "execution_count": 49,
   "metadata": {},
   "outputs": [
    {
     "data": {
      "text/html": [
       "<table>\n",
       "<thead><tr><th></th><th scope=col>60h_NANOG</th><th scope=col>60h_PRC2i_NANOG</th><th scope=col>60h_GATA3</th><th scope=col>60h_PRC2i_GATA3</th><th scope=col>60h_FOXA2</th></tr></thead>\n",
       "<tbody>\n",
       "\t<tr><th scope=row>60h_PRC2i_NANOG</th><td>1.000000e+00</td><td>          NA</td><td>          NA</td><td>          NA</td><td>NA          </td></tr>\n",
       "\t<tr><th scope=row>60h_GATA3</th><td>1.863957e-02</td><td>3.026417e-02</td><td>          NA</td><td>          NA</td><td>NA          </td></tr>\n",
       "\t<tr><th scope=row>60h_PRC2i_GATA3</th><td>3.662385e-06</td><td>3.521561e-05</td><td>3.870992e-05</td><td>          NA</td><td>NA          </td></tr>\n",
       "\t<tr><th scope=row>60h_FOXA2</th><td>1.023424e-09</td><td>4.980105e-08</td><td>8.233914e-10</td><td>3.689738e-08</td><td>NA          </td></tr>\n",
       "\t<tr><th scope=row>60h_PRC2i_FOXA2</th><td>3.799941e-06</td><td>3.813117e-05</td><td>3.932726e-07</td><td>5.882169e-06</td><td> 1          </td></tr>\n",
       "</tbody>\n",
       "</table>\n"
      ],
      "text/latex": [
       "\\begin{tabular}{r|lllll}\n",
       "  & 60h\\_NANOG & 60h\\_PRC2i\\_NANOG & 60h\\_GATA3 & 60h\\_PRC2i\\_GATA3 & 60h\\_FOXA2\\\\\n",
       "\\hline\n",
       "\t60h\\_PRC2i\\_NANOG & 1.000000e+00 &           NA &           NA &           NA & NA          \\\\\n",
       "\t60h\\_GATA3 & 1.863957e-02 & 3.026417e-02 &           NA &           NA & NA          \\\\\n",
       "\t60h\\_PRC2i\\_GATA3 & 3.662385e-06 & 3.521561e-05 & 3.870992e-05 &           NA & NA          \\\\\n",
       "\t60h\\_FOXA2 & 1.023424e-09 & 4.980105e-08 & 8.233914e-10 & 3.689738e-08 & NA          \\\\\n",
       "\t60h\\_PRC2i\\_FOXA2 & 3.799941e-06 & 3.813117e-05 & 3.932726e-07 & 5.882169e-06 &  1          \\\\\n",
       "\\end{tabular}\n"
      ],
      "text/markdown": [
       "\n",
       "| <!--/--> | 60h_NANOG | 60h_PRC2i_NANOG | 60h_GATA3 | 60h_PRC2i_GATA3 | 60h_FOXA2 |\n",
       "|---|---|---|---|---|---|\n",
       "| 60h_PRC2i_NANOG | 1.000000e+00 |           NA |           NA |           NA | NA           |\n",
       "| 60h_GATA3 | 1.863957e-02 | 3.026417e-02 |           NA |           NA | NA           |\n",
       "| 60h_PRC2i_GATA3 | 3.662385e-06 | 3.521561e-05 | 3.870992e-05 |           NA | NA           |\n",
       "| 60h_FOXA2 | 1.023424e-09 | 4.980105e-08 | 8.233914e-10 | 3.689738e-08 | NA           |\n",
       "| 60h_PRC2i_FOXA2 | 3.799941e-06 | 3.813117e-05 | 3.932726e-07 | 5.882169e-06 |  1           |\n",
       "\n"
      ],
      "text/plain": [
       "                60h_NANOG    60h_PRC2i_NANOG 60h_GATA3    60h_PRC2i_GATA3\n",
       "60h_PRC2i_NANOG 1.000000e+00           NA              NA           NA   \n",
       "60h_GATA3       1.863957e-02 3.026417e-02              NA           NA   \n",
       "60h_PRC2i_GATA3 3.662385e-06 3.521561e-05    3.870992e-05           NA   \n",
       "60h_FOXA2       1.023424e-09 4.980105e-08    8.233914e-10 3.689738e-08   \n",
       "60h_PRC2i_FOXA2 3.799941e-06 3.813117e-05    3.932726e-07 5.882169e-06   \n",
       "                60h_FOXA2\n",
       "60h_PRC2i_NANOG NA       \n",
       "60h_GATA3       NA       \n",
       "60h_PRC2i_GATA3 NA       \n",
       "60h_FOXA2       NA       \n",
       "60h_PRC2i_FOXA2  1       "
      ]
     },
     "metadata": {},
     "output_type": "display_data"
    }
   ],
   "source": [
    "wilcox_2$p.value"
   ]
  },
  {
   "cell_type": "code",
   "execution_count": 50,
   "metadata": {},
   "outputs": [],
   "source": [
    "ttest2 <- pairwise.t.test(total_cell_nr$cell_nr_per_blastoid, total_cell_nr$condition, p.adjust.method = \"bonferroni\")"
   ]
  },
  {
   "cell_type": "code",
   "execution_count": 51,
   "metadata": {},
   "outputs": [
    {
     "data": {
      "text/html": [
       "<table>\n",
       "<thead><tr><th></th><th scope=col>60h_NANOG</th><th scope=col>60h_PRC2i_NANOG</th><th scope=col>60h_GATA3</th><th scope=col>60h_PRC2i_GATA3</th><th scope=col>60h_FOXA2</th></tr></thead>\n",
       "<tbody>\n",
       "\t<tr><th scope=row>60h_PRC2i_NANOG</th><td>1.000000e+00</td><td>          NA</td><td>          NA</td><td>          NA</td><td>NA          </td></tr>\n",
       "\t<tr><th scope=row>60h_GATA3</th><td>4.381250e-01</td><td>5.320710e-01</td><td>          NA</td><td>          NA</td><td>NA          </td></tr>\n",
       "\t<tr><th scope=row>60h_PRC2i_GATA3</th><td>1.092217e-21</td><td>3.281225e-19</td><td>6.246875e-17</td><td>          NA</td><td>NA          </td></tr>\n",
       "\t<tr><th scope=row>60h_FOXA2</th><td>2.029042e-02</td><td>1.201640e-01</td><td>3.278870e-06</td><td>1.290531e-28</td><td>NA          </td></tr>\n",
       "\t<tr><th scope=row>60h_PRC2i_FOXA2</th><td>1.248968e-01</td><td>3.914434e-01</td><td>1.402455e-04</td><td>1.046077e-24</td><td> 1          </td></tr>\n",
       "</tbody>\n",
       "</table>\n"
      ],
      "text/latex": [
       "\\begin{tabular}{r|lllll}\n",
       "  & 60h\\_NANOG & 60h\\_PRC2i\\_NANOG & 60h\\_GATA3 & 60h\\_PRC2i\\_GATA3 & 60h\\_FOXA2\\\\\n",
       "\\hline\n",
       "\t60h\\_PRC2i\\_NANOG & 1.000000e+00 &           NA &           NA &           NA & NA          \\\\\n",
       "\t60h\\_GATA3 & 4.381250e-01 & 5.320710e-01 &           NA &           NA & NA          \\\\\n",
       "\t60h\\_PRC2i\\_GATA3 & 1.092217e-21 & 3.281225e-19 & 6.246875e-17 &           NA & NA          \\\\\n",
       "\t60h\\_FOXA2 & 2.029042e-02 & 1.201640e-01 & 3.278870e-06 & 1.290531e-28 & NA          \\\\\n",
       "\t60h\\_PRC2i\\_FOXA2 & 1.248968e-01 & 3.914434e-01 & 1.402455e-04 & 1.046077e-24 &  1          \\\\\n",
       "\\end{tabular}\n"
      ],
      "text/markdown": [
       "\n",
       "| <!--/--> | 60h_NANOG | 60h_PRC2i_NANOG | 60h_GATA3 | 60h_PRC2i_GATA3 | 60h_FOXA2 |\n",
       "|---|---|---|---|---|---|\n",
       "| 60h_PRC2i_NANOG | 1.000000e+00 |           NA |           NA |           NA | NA           |\n",
       "| 60h_GATA3 | 4.381250e-01 | 5.320710e-01 |           NA |           NA | NA           |\n",
       "| 60h_PRC2i_GATA3 | 1.092217e-21 | 3.281225e-19 | 6.246875e-17 |           NA | NA           |\n",
       "| 60h_FOXA2 | 2.029042e-02 | 1.201640e-01 | 3.278870e-06 | 1.290531e-28 | NA           |\n",
       "| 60h_PRC2i_FOXA2 | 1.248968e-01 | 3.914434e-01 | 1.402455e-04 | 1.046077e-24 |  1           |\n",
       "\n"
      ],
      "text/plain": [
       "                60h_NANOG    60h_PRC2i_NANOG 60h_GATA3    60h_PRC2i_GATA3\n",
       "60h_PRC2i_NANOG 1.000000e+00           NA              NA           NA   \n",
       "60h_GATA3       4.381250e-01 5.320710e-01              NA           NA   \n",
       "60h_PRC2i_GATA3 1.092217e-21 3.281225e-19    6.246875e-17           NA   \n",
       "60h_FOXA2       2.029042e-02 1.201640e-01    3.278870e-06 1.290531e-28   \n",
       "60h_PRC2i_FOXA2 1.248968e-01 3.914434e-01    1.402455e-04 1.046077e-24   \n",
       "                60h_FOXA2\n",
       "60h_PRC2i_NANOG NA       \n",
       "60h_GATA3       NA       \n",
       "60h_PRC2i_GATA3 NA       \n",
       "60h_FOXA2       NA       \n",
       "60h_PRC2i_FOXA2  1       "
      ]
     },
     "metadata": {},
     "output_type": "display_data"
    }
   ],
   "source": [
    "ttest2$p.value"
   ]
  },
  {
   "cell_type": "code",
   "execution_count": null,
   "metadata": {},
   "outputs": [],
   "source": []
  },
  {
   "cell_type": "code",
   "execution_count": null,
   "metadata": {},
   "outputs": [],
   "source": []
  },
  {
   "cell_type": "code",
   "execution_count": 30,
   "metadata": {},
   "outputs": [],
   "source": [
    "total_cell_nr_per_blastoid <- read.delim(\"60h_PRC2i_total_nr_cell_per_blastoid.txt\")"
   ]
  },
  {
   "cell_type": "code",
   "execution_count": 31,
   "metadata": {},
   "outputs": [],
   "source": [
    "total_cell_nr_per_blastoid$condition <- factor(total_cell_nr_per_blastoid$condition, levels = c(\"60h\", \"60h_PRC2i\"))"
   ]
  },
  {
   "cell_type": "code",
   "execution_count": 32,
   "metadata": {},
   "outputs": [
    {
     "data": {
      "text/html": [
       "<table>\n",
       "<thead><tr><th scope=col>condition</th><th scope=col>total_nr_nuclei_per_blastoid</th></tr></thead>\n",
       "<tbody>\n",
       "\t<tr><td>60h</td><td>71 </td></tr>\n",
       "\t<tr><td>60h</td><td>59 </td></tr>\n",
       "\t<tr><td>60h</td><td>98 </td></tr>\n",
       "\t<tr><td>60h</td><td>48 </td></tr>\n",
       "\t<tr><td>60h</td><td>46 </td></tr>\n",
       "\t<tr><td>60h</td><td>93 </td></tr>\n",
       "</tbody>\n",
       "</table>\n"
      ],
      "text/latex": [
       "\\begin{tabular}{r|ll}\n",
       " condition & total\\_nr\\_nuclei\\_per\\_blastoid\\\\\n",
       "\\hline\n",
       "\t 60h & 71 \\\\\n",
       "\t 60h & 59 \\\\\n",
       "\t 60h & 98 \\\\\n",
       "\t 60h & 48 \\\\\n",
       "\t 60h & 46 \\\\\n",
       "\t 60h & 93 \\\\\n",
       "\\end{tabular}\n"
      ],
      "text/markdown": [
       "\n",
       "| condition | total_nr_nuclei_per_blastoid |\n",
       "|---|---|\n",
       "| 60h | 71  |\n",
       "| 60h | 59  |\n",
       "| 60h | 98  |\n",
       "| 60h | 48  |\n",
       "| 60h | 46  |\n",
       "| 60h | 93  |\n",
       "\n"
      ],
      "text/plain": [
       "  condition total_nr_nuclei_per_blastoid\n",
       "1 60h       71                          \n",
       "2 60h       59                          \n",
       "3 60h       98                          \n",
       "4 60h       48                          \n",
       "5 60h       46                          \n",
       "6 60h       93                          "
      ]
     },
     "metadata": {},
     "output_type": "display_data"
    }
   ],
   "source": [
    "head(total_cell_nr_per_blastoid)"
   ]
  },
  {
   "cell_type": "code",
   "execution_count": 33,
   "metadata": {},
   "outputs": [],
   "source": [
    "options(repr.plot.width=3, repr.plot.height=4)\n",
    "plot3 <- ggplot(total_cell_nr_per_blastoid, aes(x= condition, y= total_nr_nuclei_per_blastoid, fill = condition)) + \n",
    "#geom_jitter(width = .1, alpha = 1, show.legend=FALSE, aes(color = \"black\")) +\n",
    "geom_point(size = 1, alpha = 1)+\n",
    "#scale_fill_manual(values=c(\"green\", \"green\", \"magenta\", \"magenta\", \"yellow\", \"yellow\")) +\n",
    "geom_boxplot(alpha=0.5, width= 0.4, show.legend=FALSE)+ #aes(color = condition)\n",
    "scale_fill_manual(values=c(\"blue\", \"blue\")) +\n",
    "#scale_color_manual(values=c(\"green\", \"green\", \"magenta\", \"magenta\", \"yellow\", \"yellow\")) +\n",
    "scale_alpha_manual(values=c(0.5,0.5)) +\n",
    "#ylim(0, 100)+\n",
    "#geom_bar(stat=\"identity\",position=position_dodge2(reverse=TRUE), width = 0.7)+\n",
    "guides(fill = guide_legend(reverse = TRUE))+\n",
    "\n",
    "\n",
    " #scale_fill_manual(color = \"grey63\")+\n",
    " #scale_color_manual(color = \"grey63\")+\n",
    "\n",
    "\n",
    "  theme(plot.title = element_text(size=14, hjust = 0.5))+\n",
    "    xlab(\"\") + \n",
    "    ylab(\"Total number of nuclei per blastoid\")+\n",
    "    #ggtitle(\"\")+\n",
    "    theme(legend.title=element_blank())+\n",
    "    theme(axis.text.x  = element_text(angle=90, vjust=0, hjust=1, size=10, colour = \"black\"))+\n",
    "    theme(axis.text.y  = element_text(angle=0, vjust=0.5, hjust=0.5, size=10, colour = \"black\"))+\n",
    "    theme(axis.line = element_line(colour = \"black\"),\n",
    "    panel.grid.major = element_blank(),\n",
    "    panel.grid.minor = element_blank(),\n",
    "    panel.border = element_rect(colour=\"black\", fill = NA, size = 1),\n",
    "    panel.background = element_blank())"
   ]
  },
  {
   "cell_type": "code",
   "execution_count": 34,
   "metadata": {},
   "outputs": [
    {
     "data": {
      "image/png": "[encoded data removed]",
      "text/plain": [
       "plot without title"
      ]
     },
     "metadata": {},
     "output_type": "display_data"
    }
   ],
   "source": [
    "plot3"
   ]
  },
  {
   "cell_type": "code",
   "execution_count": 35,
   "metadata": {},
   "outputs": [
    {
     "data": {
      "text/html": [
       "<strong>png:</strong> 2"
      ],
      "text/latex": [
       "\\textbf{png:} 2"
      ],
      "text/markdown": [
       "**png:** 2"
      ],
      "text/plain": [
       "png \n",
       "  2 "
      ]
     },
     "metadata": {},
     "output_type": "display_data"
    }
   ],
   "source": [
    "setwd('/lustre1/project/stg_00041/Irene/EZH2i_qPCR_IF_analysis/Blastoid_quantification/')\n",
    "pdf(paste0(\"total_cell_nr_per_blastoid_60h.pdf\"), useDingbats = FALSE, height=4, width=3)\n",
    "plot3\n",
    "dev.off()"
   ]
  },
  {
   "cell_type": "code",
   "execution_count": 36,
   "metadata": {},
   "outputs": [],
   "source": [
    "total_cell_nr_per_blastoid$total_nr_nuclei_per_blastoid <- as.numeric(total_cell_nr_per_blastoid$total_nr_nuclei_per_blastoid)"
   ]
  },
  {
   "cell_type": "code",
   "execution_count": 37,
   "metadata": {},
   "outputs": [
    {
     "name": "stderr",
     "output_type": "stream",
     "text": [
      "Warning message in wilcox.test.default(xi, xj, paired = paired, ...):\n",
      "\"cannot compute exact p-value with ties\""
     ]
    }
   ],
   "source": [
    "wilcox_3 <- pairwise.wilcox.test(total_cell_nr_per_blastoid$total_nr_nuclei_per_blastoid, total_cell_nr_per_blastoid$condition, p.adjust.method = \"bonferroni\")"
   ]
  },
  {
   "cell_type": "code",
   "execution_count": 38,
   "metadata": {},
   "outputs": [
    {
     "data": {
      "text/html": [
       "<table>\n",
       "<thead><tr><th></th><th scope=col>60h</th></tr></thead>\n",
       "<tbody>\n",
       "\t<tr><th scope=row>60h_PRC2i</th><td>0.001586799</td></tr>\n",
       "</tbody>\n",
       "</table>\n"
      ],
      "text/latex": [
       "\\begin{tabular}{r|l}\n",
       "  & 60h\\\\\n",
       "\\hline\n",
       "\t60h\\_PRC2i & 0.001586799\\\\\n",
       "\\end{tabular}\n"
      ],
      "text/markdown": [
       "\n",
       "| <!--/--> | 60h |\n",
       "|---|---|\n",
       "| 60h_PRC2i | 0.001586799 |\n",
       "\n"
      ],
      "text/plain": [
       "          60h        \n",
       "60h_PRC2i 0.001586799"
      ]
     },
     "metadata": {},
     "output_type": "display_data"
    }
   ],
   "source": [
    "wilcox_3$p.value"
   ]
  },
  {
   "cell_type": "code",
   "execution_count": 39,
   "metadata": {},
   "outputs": [],
   "source": [
    "ttest <- pairwise.t.test(total_cell_nr_per_blastoid$total_nr_nuclei_per_blastoid, total_cell_nr_per_blastoid$condition, p.adjust.method = \"bonferroni\")"
   ]
  },
  {
   "cell_type": "code",
   "execution_count": 40,
   "metadata": {},
   "outputs": [
    {
     "data": {
      "text/html": [
       "<table>\n",
       "<thead><tr><th></th><th scope=col>60h</th></tr></thead>\n",
       "<tbody>\n",
       "\t<tr><th scope=row>60h_PRC2i</th><td>0.0002195294</td></tr>\n",
       "</tbody>\n",
       "</table>\n"
      ],
      "text/latex": [
       "\\begin{tabular}{r|l}\n",
       "  & 60h\\\\\n",
       "\\hline\n",
       "\t60h\\_PRC2i & 0.0002195294\\\\\n",
       "\\end{tabular}\n"
      ],
      "text/markdown": [
       "\n",
       "| <!--/--> | 60h |\n",
       "|---|---|\n",
       "| 60h_PRC2i | 0.0002195294 |\n",
       "\n"
      ],
      "text/plain": [
       "          60h         \n",
       "60h_PRC2i 0.0002195294"
      ]
     },
     "metadata": {},
     "output_type": "display_data"
    }
   ],
   "source": [
    "ttest$p.value"
   ]
  },
  {
   "cell_type": "code",
   "execution_count": null,
   "metadata": {},
   "outputs": [],
   "source": []
  }
 ],
 "metadata": {
  "kernelspec": {
   "display_name": "R [conda env:R_ATACseq2]",
   "language": "R",
   "name": "conda-env-R_ATACseq2-r"
  },
  "language_info": {
   "codemirror_mode": "r",
   "file_extension": ".r",
   "mimetype": "text/x-r-source",
   "name": "R",
   "pygments_lexer": "r",
   "version": "3.6.1"
  }
 },
 "nbformat": 4,
 "nbformat_minor": 4
}
