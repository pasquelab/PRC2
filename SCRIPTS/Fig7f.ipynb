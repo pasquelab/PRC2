{
 "cells": [
  {
   "cell_type": "code",
   "execution_count": null,
   "metadata": {},
   "outputs": [],
   "source": []
  },
  {
   "cell_type": "code",
   "execution_count": 25,
   "metadata": {},
   "outputs": [],
   "source": [
    "cavitation_blastoid_value_to_36h <- read.delim(\"cavitation_blastoid_value_to_36h_new2.txt\")"
   ]
  },
  {
   "cell_type": "code",
   "execution_count": 26,
   "metadata": {},
   "outputs": [
    {
     "data": {
      "text/html": [
       "<table>\n",
       "<thead><tr><th scope=col>condition</th><th scope=col>experiment</th><th scope=col>value_to_36h</th></tr></thead>\n",
       "<tbody>\n",
       "\t<tr><td>36h_PRC2i</td><td>exp1     </td><td> 5.366504</td></tr>\n",
       "\t<tr><td>36h_PRC2i</td><td>exp2     </td><td> 2.421055</td></tr>\n",
       "\t<tr><td>36h_PRC2i</td><td>exp3     </td><td> 2.473784</td></tr>\n",
       "\t<tr><td>60h      </td><td>exp1     </td><td>10.011019</td></tr>\n",
       "\t<tr><td>60h_PRC2i</td><td>exp1     </td><td>10.535626</td></tr>\n",
       "\t<tr><td>60h      </td><td>exp2     </td><td> 8.714695</td></tr>\n",
       "\t<tr><td>60h_PRC2i</td><td>exp2     </td><td> 7.120549</td></tr>\n",
       "\t<tr><td>60h      </td><td>exp3     </td><td> 2.534187</td></tr>\n",
       "\t<tr><td>60h_PRC2i</td><td>exp3     </td><td> 2.342742</td></tr>\n",
       "</tbody>\n",
       "</table>\n"
      ],
      "text/latex": [
       "\\begin{tabular}{r|lll}\n",
       " condition & experiment & value\\_to\\_36h\\\\\n",
       "\\hline\n",
       "\t 36h\\_PRC2i & exp1        &  5.366504  \\\\\n",
       "\t 36h\\_PRC2i & exp2        &  2.421055  \\\\\n",
       "\t 36h\\_PRC2i & exp3        &  2.473784  \\\\\n",
       "\t 60h       & exp1      & 10.011019\\\\\n",
       "\t 60h\\_PRC2i & exp1        & 10.535626  \\\\\n",
       "\t 60h       & exp2      &  8.714695\\\\\n",
       "\t 60h\\_PRC2i & exp2        &  7.120549  \\\\\n",
       "\t 60h       & exp3      &  2.534187\\\\\n",
       "\t 60h\\_PRC2i & exp3        &  2.342742  \\\\\n",
       "\\end{tabular}\n"
      ],
      "text/markdown": [
       "\n",
       "| condition | experiment | value_to_36h |\n",
       "|---|---|---|\n",
       "| 36h_PRC2i | exp1      |  5.366504 |\n",
       "| 36h_PRC2i | exp2      |  2.421055 |\n",
       "| 36h_PRC2i | exp3      |  2.473784 |\n",
       "| 60h       | exp1      | 10.011019 |\n",
       "| 60h_PRC2i | exp1      | 10.535626 |\n",
       "| 60h       | exp2      |  8.714695 |\n",
       "| 60h_PRC2i | exp2      |  7.120549 |\n",
       "| 60h       | exp3      |  2.534187 |\n",
       "| 60h_PRC2i | exp3      |  2.342742 |\n",
       "\n"
      ],
      "text/plain": [
       "  condition experiment value_to_36h\n",
       "1 36h_PRC2i exp1        5.366504   \n",
       "2 36h_PRC2i exp2        2.421055   \n",
       "3 36h_PRC2i exp3        2.473784   \n",
       "4 60h       exp1       10.011019   \n",
       "5 60h_PRC2i exp1       10.535626   \n",
       "6 60h       exp2        8.714695   \n",
       "7 60h_PRC2i exp2        7.120549   \n",
       "8 60h       exp3        2.534187   \n",
       "9 60h_PRC2i exp3        2.342742   "
      ]
     },
     "metadata": {},
     "output_type": "display_data"
    }
   ],
   "source": [
    "cavitation_blastoid_value_to_36h"
   ]
  },
  {
   "cell_type": "code",
   "execution_count": 9,
   "metadata": {},
   "outputs": [],
   "source": [
    "cavitation_36h <- cavitation_blastoid_value_to_36h[1:3,]"
   ]
  },
  {
   "cell_type": "code",
   "execution_count": 10,
   "metadata": {},
   "outputs": [],
   "source": [
    "cavitation_60h <- cavitation_blastoid_value_to_36h[4:9,]"
   ]
  },
  {
   "cell_type": "code",
   "execution_count": 11,
   "metadata": {},
   "outputs": [
    {
     "data": {
      "text/html": [
       "<table>\n",
       "<thead><tr><th scope=col>condition</th><th scope=col>experiment</th><th scope=col>value_to_36h</th></tr></thead>\n",
       "<tbody>\n",
       "\t<tr><td>36h_PRC2i_exp1</td><td>exp1          </td><td>5.366504      </td></tr>\n",
       "\t<tr><td>36h_PRC2i_exp2</td><td>exp2          </td><td>2.421055      </td></tr>\n",
       "\t<tr><td>36h_PRC2i_exp3</td><td>exp3          </td><td>2.473784      </td></tr>\n",
       "</tbody>\n",
       "</table>\n"
      ],
      "text/latex": [
       "\\begin{tabular}{r|lll}\n",
       " condition & experiment & value\\_to\\_36h\\\\\n",
       "\\hline\n",
       "\t 36h\\_PRC2i\\_exp1 & exp1               & 5.366504          \\\\\n",
       "\t 36h\\_PRC2i\\_exp2 & exp2               & 2.421055          \\\\\n",
       "\t 36h\\_PRC2i\\_exp3 & exp3               & 2.473784          \\\\\n",
       "\\end{tabular}\n"
      ],
      "text/markdown": [
       "\n",
       "| condition | experiment | value_to_36h |\n",
       "|---|---|---|\n",
       "| 36h_PRC2i_exp1 | exp1           | 5.366504       |\n",
       "| 36h_PRC2i_exp2 | exp2           | 2.421055       |\n",
       "| 36h_PRC2i_exp3 | exp3           | 2.473784       |\n",
       "\n"
      ],
      "text/plain": [
       "  condition      experiment value_to_36h\n",
       "1 36h_PRC2i_exp1 exp1       5.366504    \n",
       "2 36h_PRC2i_exp2 exp2       2.421055    \n",
       "3 36h_PRC2i_exp3 exp3       2.473784    "
      ]
     },
     "metadata": {},
     "output_type": "display_data"
    },
    {
     "data": {
      "text/html": [
       "<table>\n",
       "<thead><tr><th></th><th scope=col>condition</th><th scope=col>experiment</th><th scope=col>value_to_36h</th></tr></thead>\n",
       "<tbody>\n",
       "\t<tr><th scope=row>4</th><td>60h_exp1      </td><td>exp1          </td><td>10.011019     </td></tr>\n",
       "\t<tr><th scope=row>5</th><td>60h_PRC2i_exp1</td><td>exp1          </td><td>10.535626     </td></tr>\n",
       "\t<tr><th scope=row>6</th><td>60h_exp2      </td><td>exp2          </td><td> 8.714695     </td></tr>\n",
       "\t<tr><th scope=row>7</th><td>60h_PRC2i_exp2</td><td>exp2          </td><td> 7.120549     </td></tr>\n",
       "\t<tr><th scope=row>8</th><td>60h_exp3      </td><td>exp3          </td><td> 2.534187     </td></tr>\n",
       "\t<tr><th scope=row>9</th><td>60h_PRC2i_exp3</td><td>exp3          </td><td> 2.342742     </td></tr>\n",
       "</tbody>\n",
       "</table>\n"
      ],
      "text/latex": [
       "\\begin{tabular}{r|lll}\n",
       "  & condition & experiment & value\\_to\\_36h\\\\\n",
       "\\hline\n",
       "\t4 & 60h\\_exp1       & exp1             & 10.011019       \\\\\n",
       "\t5 & 60h\\_PRC2i\\_exp1 & exp1               & 10.535626         \\\\\n",
       "\t6 & 60h\\_exp2       & exp2             &  8.714695       \\\\\n",
       "\t7 & 60h\\_PRC2i\\_exp2 & exp2               &  7.120549         \\\\\n",
       "\t8 & 60h\\_exp3       & exp3             &  2.534187       \\\\\n",
       "\t9 & 60h\\_PRC2i\\_exp3 & exp3               &  2.342742         \\\\\n",
       "\\end{tabular}\n"
      ],
      "text/markdown": [
       "\n",
       "| <!--/--> | condition | experiment | value_to_36h |\n",
       "|---|---|---|---|\n",
       "| 4 | 60h_exp1       | exp1           | 10.011019      |\n",
       "| 5 | 60h_PRC2i_exp1 | exp1           | 10.535626      |\n",
       "| 6 | 60h_exp2       | exp2           |  8.714695      |\n",
       "| 7 | 60h_PRC2i_exp2 | exp2           |  7.120549      |\n",
       "| 8 | 60h_exp3       | exp3           |  2.534187      |\n",
       "| 9 | 60h_PRC2i_exp3 | exp3           |  2.342742      |\n",
       "\n"
      ],
      "text/plain": [
       "  condition      experiment value_to_36h\n",
       "4 60h_exp1       exp1       10.011019   \n",
       "5 60h_PRC2i_exp1 exp1       10.535626   \n",
       "6 60h_exp2       exp2        8.714695   \n",
       "7 60h_PRC2i_exp2 exp2        7.120549   \n",
       "8 60h_exp3       exp3        2.534187   \n",
       "9 60h_PRC2i_exp3 exp3        2.342742   "
      ]
     },
     "metadata": {},
     "output_type": "display_data"
    }
   ],
   "source": [
    "cavitation_36h\n",
    "cavitation_60h"
   ]
  },
  {
   "cell_type": "code",
   "execution_count": 12,
   "metadata": {},
   "outputs": [
    {
     "data": {
      "text/html": [
       "<ol class=list-inline>\n",
       "\t<li>36h_PRC2i_exp1</li>\n",
       "\t<li>36h_PRC2i_exp2</li>\n",
       "\t<li>36h_PRC2i_exp3</li>\n",
       "</ol>\n",
       "\n",
       "<details>\n",
       "\t<summary style=display:list-item;cursor:pointer>\n",
       "\t\t<strong>Levels</strong>:\n",
       "\t</summary>\n",
       "\t<ol class=list-inline>\n",
       "\t\t<li>'36h_PRC2i_exp1'</li>\n",
       "\t\t<li>'36h_PRC2i_exp2'</li>\n",
       "\t\t<li>'36h_PRC2i_exp3'</li>\n",
       "\t\t<li>'60h_PRC2i_exp1'</li>\n",
       "\t\t<li>'60h_PRC2i_exp2'</li>\n",
       "\t\t<li>'60h_PRC2i_exp3'</li>\n",
       "\t\t<li>'60h_exp1'</li>\n",
       "\t\t<li>'60h_exp2'</li>\n",
       "\t\t<li>'60h_exp3'</li>\n",
       "\t</ol>\n",
       "</details>"
      ],
      "text/latex": [
       "\\begin{enumerate*}\n",
       "\\item 36h\\_PRC2i\\_exp1\n",
       "\\item 36h\\_PRC2i\\_exp2\n",
       "\\item 36h\\_PRC2i\\_exp3\n",
       "\\end{enumerate*}\n",
       "\n",
       "\\emph{Levels}: \\begin{enumerate*}\n",
       "\\item '36h\\_PRC2i\\_exp1'\n",
       "\\item '36h\\_PRC2i\\_exp2'\n",
       "\\item '36h\\_PRC2i\\_exp3'\n",
       "\\item '60h\\_PRC2i\\_exp1'\n",
       "\\item '60h\\_PRC2i\\_exp2'\n",
       "\\item '60h\\_PRC2i\\_exp3'\n",
       "\\item '60h\\_exp1'\n",
       "\\item '60h\\_exp2'\n",
       "\\item '60h\\_exp3'\n",
       "\\end{enumerate*}\n"
      ],
      "text/markdown": [
       "1. 36h_PRC2i_exp1\n",
       "2. 36h_PRC2i_exp2\n",
       "3. 36h_PRC2i_exp3\n",
       "\n",
       "\n",
       "\n",
       "**Levels**: 1. '36h_PRC2i_exp1'\n",
       "2. '36h_PRC2i_exp2'\n",
       "3. '36h_PRC2i_exp3'\n",
       "4. '60h_PRC2i_exp1'\n",
       "5. '60h_PRC2i_exp2'\n",
       "6. '60h_PRC2i_exp3'\n",
       "7. '60h_exp1'\n",
       "8. '60h_exp2'\n",
       "9. '60h_exp3'\n",
       "\n",
       "\n"
      ],
      "text/plain": [
       "[1] 36h_PRC2i_exp1 36h_PRC2i_exp2 36h_PRC2i_exp3\n",
       "9 Levels: 36h_PRC2i_exp1 36h_PRC2i_exp2 36h_PRC2i_exp3 ... 60h_exp3"
      ]
     },
     "metadata": {},
     "output_type": "display_data"
    }
   ],
   "source": [
    "unique(cavitation_36h$condition)"
   ]
  },
  {
   "cell_type": "code",
   "execution_count": 21,
   "metadata": {},
   "outputs": [
    {
     "data": {
      "text/html": [
       "<ol class=list-inline>\n",
       "\t<li>60h_exp1</li>\n",
       "\t<li>60h_PRC2i_exp1</li>\n",
       "\t<li>60h_exp2</li>\n",
       "\t<li>60h_PRC2i_exp2</li>\n",
       "\t<li>60h_exp3</li>\n",
       "\t<li>60h_PRC2i_exp3</li>\n",
       "</ol>\n",
       "\n",
       "<details>\n",
       "\t<summary style=display:list-item;cursor:pointer>\n",
       "\t\t<strong>Levels</strong>:\n",
       "\t</summary>\n",
       "\t<ol class=list-inline>\n",
       "\t\t<li>'36h_PRC2i_exp1'</li>\n",
       "\t\t<li>'36h_PRC2i_exp2'</li>\n",
       "\t\t<li>'36h_PRC2i_exp3'</li>\n",
       "\t\t<li>'60h_PRC2i_exp1'</li>\n",
       "\t\t<li>'60h_PRC2i_exp2'</li>\n",
       "\t\t<li>'60h_PRC2i_exp3'</li>\n",
       "\t\t<li>'60h_exp1'</li>\n",
       "\t\t<li>'60h_exp2'</li>\n",
       "\t\t<li>'60h_exp3'</li>\n",
       "\t</ol>\n",
       "</details>"
      ],
      "text/latex": [
       "\\begin{enumerate*}\n",
       "\\item 60h\\_exp1\n",
       "\\item 60h\\_PRC2i\\_exp1\n",
       "\\item 60h\\_exp2\n",
       "\\item 60h\\_PRC2i\\_exp2\n",
       "\\item 60h\\_exp3\n",
       "\\item 60h\\_PRC2i\\_exp3\n",
       "\\end{enumerate*}\n",
       "\n",
       "\\emph{Levels}: \\begin{enumerate*}\n",
       "\\item '36h\\_PRC2i\\_exp1'\n",
       "\\item '36h\\_PRC2i\\_exp2'\n",
       "\\item '36h\\_PRC2i\\_exp3'\n",
       "\\item '60h\\_PRC2i\\_exp1'\n",
       "\\item '60h\\_PRC2i\\_exp2'\n",
       "\\item '60h\\_PRC2i\\_exp3'\n",
       "\\item '60h\\_exp1'\n",
       "\\item '60h\\_exp2'\n",
       "\\item '60h\\_exp3'\n",
       "\\end{enumerate*}\n"
      ],
      "text/markdown": [
       "1. 60h_exp1\n",
       "2. 60h_PRC2i_exp1\n",
       "3. 60h_exp2\n",
       "4. 60h_PRC2i_exp2\n",
       "5. 60h_exp3\n",
       "6. 60h_PRC2i_exp3\n",
       "\n",
       "\n",
       "\n",
       "**Levels**: 1. '36h_PRC2i_exp1'\n",
       "2. '36h_PRC2i_exp2'\n",
       "3. '36h_PRC2i_exp3'\n",
       "4. '60h_PRC2i_exp1'\n",
       "5. '60h_PRC2i_exp2'\n",
       "6. '60h_PRC2i_exp3'\n",
       "7. '60h_exp1'\n",
       "8. '60h_exp2'\n",
       "9. '60h_exp3'\n",
       "\n",
       "\n"
      ],
      "text/plain": [
       "[1] 60h_exp1       60h_PRC2i_exp1 60h_exp2       60h_PRC2i_exp2 60h_exp3      \n",
       "[6] 60h_PRC2i_exp3\n",
       "9 Levels: 36h_PRC2i_exp1 36h_PRC2i_exp2 36h_PRC2i_exp3 ... 60h_exp3"
      ]
     },
     "metadata": {},
     "output_type": "display_data"
    }
   ],
   "source": [
    "unique(cavitation_60h$condition)"
   ]
  },
  {
   "cell_type": "code",
   "execution_count": 13,
   "metadata": {},
   "outputs": [],
   "source": [
    "cavitation_36h$condition <- factor(cavitation_36h$condition, levels = c(\"36h_PRC2i_exp1\", \"36h_PRC2i_exp2\", \"36h_PRC2i_exp3\"))"
   ]
  },
  {
   "cell_type": "code",
   "execution_count": 22,
   "metadata": {},
   "outputs": [],
   "source": [
    "cavitation_60h$condition <- factor(cavitation_60h$condition, levels = c(\"60h_exp1\", \"60h_PRC2i_exp1\", \"60h_exp2\", \"60h_PRC2i_exp2\", \"60h_exp3\", \"60h_PRC2i_exp3\"))"
   ]
  },
  {
   "cell_type": "code",
   "execution_count": 18,
   "metadata": {},
   "outputs": [],
   "source": [
    "options(repr.plot.width=3.5, repr.plot.height=5)\n",
    "plot <- ggplot(cavitation_36h, aes(x= condition, y= value_to_36h)) + \n",
    "geom_point(aes(shape = experiment), size = 4, show.legend = TRUE)+\n",
    "#geom_bar(stat = \"summary\", fun.y = \"mean\", show.legend = FALSE, alpha = 0.5, width = 0.5)+\n",
    "#geom_errorbar( aes(x=condition, ymin=ymin, ymax=ymax), width=0.2, colour=\"black\", alpha=1, size=0.2)+\n",
    "ylim(0, 6)+\n",
    "#geom_bar(stat=\"identity\",position=position_dodge2(reverse=TRUE), width = 0.7)+\n",
    "guides(fill = guide_legend(reverse = TRUE))+\n",
    "\n",
    "\n",
    " #scale_fill_manual(color = \"grey63\")+\n",
    " #scale_color_manual(color = \"grey63\")+\n",
    "\n",
    "\n",
    "  theme(plot.title = element_text(size=14, hjust = 0.5))+\n",
    "    xlab(\"\") + \n",
    "    ylab(\"Fold change % cavities relative to 36h control\")+\n",
    "    #ggtitle(\"\")+\n",
    "    theme(legend.title=element_blank())+\n",
    "    theme(axis.text.x  = element_text(angle=90, vjust=0, hjust=1, size=10, colour = \"black\"))+\n",
    "    theme(axis.text.y  = element_text(angle=0, vjust=0.5, hjust=0.5, size=10, colour = \"black\"))+\n",
    "    theme(axis.line = element_line(colour = \"black\"),\n",
    "    panel.grid.major = element_blank(),\n",
    "    panel.grid.minor = element_blank(),\n",
    "    panel.border = element_rect(colour=\"black\", fill = NA, size = 1),\n",
    "    panel.background = element_blank())"
   ]
  },
  {
   "cell_type": "code",
   "execution_count": 19,
   "metadata": {},
   "outputs": [
    {
     "data": {
      "image/png": "[encoded data removed]",
      "text/plain": [
       "plot without title"
      ]
     },
     "metadata": {},
     "output_type": "display_data"
    }
   ],
   "source": [
    "plot"
   ]
  },
  {
   "cell_type": "code",
   "execution_count": 20,
   "metadata": {},
   "outputs": [
    {
     "data": {
      "text/html": [
       "<strong>png:</strong> 2"
      ],
      "text/latex": [
       "\\textbf{png:} 2"
      ],
      "text/markdown": [
       "**png:** 2"
      ],
      "text/plain": [
       "png \n",
       "  2 "
      ]
     },
     "metadata": {},
     "output_type": "display_data"
    }
   ],
   "source": [
    "setwd('/lustre1/project/stg_00041/Irene/EZH2i_qPCR_IF_analysis/Blastoid_quantification/')\n",
    "pdf(paste0(\"blastoid_cavities_FC_relative_36ONLY36h.pdf\"), useDingbats = FALSE, height=5, width=3.5)\n",
    "plot\n",
    "dev.off()"
   ]
  },
  {
   "cell_type": "code",
   "execution_count": 26,
   "metadata": {},
   "outputs": [],
   "source": [
    "options(repr.plot.width=4, repr.plot.height=5)\n",
    "plot2 <- ggplot(cavitation_60h, aes(x= condition, y= value_to_36h)) + \n",
    "geom_point(aes(shape = experiment), size = 4, show.legend = TRUE)+\n",
    "#geom_bar(stat = \"summary\", fun.y = \"mean\", show.legend = FALSE, alpha = 0.5, width = 0.5)+\n",
    "#geom_errorbar( aes(x=condition, ymin=ymin, ymax=ymax), width=0.2, colour=\"black\", alpha=1, size=0.2)+\n",
    "ylim(0, 12)+\n",
    "#geom_bar(stat=\"identity\",position=position_dodge2(reverse=TRUE), width = 0.7)+\n",
    "guides(fill = guide_legend(reverse = TRUE))+\n",
    "\n",
    "\n",
    " #scale_fill_manual(color = \"grey63\")+\n",
    " #scale_color_manual(color = \"grey63\")+\n",
    "\n",
    "\n",
    "  theme(plot.title = element_text(size=14, hjust = 0.5))+\n",
    "    xlab(\"\") + \n",
    "    ylab(\"Fold change % cavities relative to 36h control\")+\n",
    "    #ggtitle(\"\")+\n",
    "    theme(legend.title=element_blank())+\n",
    "    theme(axis.text.x  = element_text(angle=90, vjust=0, hjust=1, size=10, colour = \"black\"))+\n",
    "    theme(axis.text.y  = element_text(angle=0, vjust=0.5, hjust=0.5, size=10, colour = \"black\"))+\n",
    "    theme(axis.line = element_line(colour = \"black\"),\n",
    "    panel.grid.major = element_blank(),\n",
    "    panel.grid.minor = element_blank(),\n",
    "    panel.border = element_rect(colour=\"black\", fill = NA, size = 1),\n",
    "    panel.background = element_blank())"
   ]
  },
  {
   "cell_type": "code",
   "execution_count": 27,
   "metadata": {},
   "outputs": [
    {
     "data": {
      "image/png": "[encoded data removed]",
      "text/plain": [
       "plot without title"
      ]
     },
     "metadata": {},
     "output_type": "display_data"
    }
   ],
   "source": [
    "plot2"
   ]
  },
  {
   "cell_type": "code",
   "execution_count": 28,
   "metadata": {},
   "outputs": [
    {
     "data": {
      "text/html": [
       "<strong>png:</strong> 2"
      ],
      "text/latex": [
       "\\textbf{png:} 2"
      ],
      "text/markdown": [
       "**png:** 2"
      ],
      "text/plain": [
       "png \n",
       "  2 "
      ]
     },
     "metadata": {},
     "output_type": "display_data"
    }
   ],
   "source": [
    "setwd('/lustre1/project/stg_00041/Irene/EZH2i_qPCR_IF_analysis/Blastoid_quantification/')\n",
    "pdf(paste0(\"blastoid_cavities_FC_relative_60ONLY36h.pdf\"), useDingbats = FALSE, height=5, width=4)\n",
    "plot2\n",
    "dev.off()"
   ]
  }
 ],
 "metadata": {
  "kernelspec": {
   "display_name": "Python [conda env:miniconda-R_ATACseq]",
   "language": "python",
   "name": "conda-env-miniconda-R_ATACseq-py"
  },
  "language_info": {
   "codemirror_mode": {
    "name": "ipython",
    "version": 3
   },
   "file_extension": ".py",
   "mimetype": "text/x-python",
   "name": "python",
   "nbconvert_exporter": "python",
   "pygments_lexer": "ipython3",
   "version": "3.7.4"
  }
 },
 "nbformat": 4,
 "nbformat_minor": 4
}
