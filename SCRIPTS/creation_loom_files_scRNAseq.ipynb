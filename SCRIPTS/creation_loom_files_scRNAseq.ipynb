{
 "cells": [
  {
   "cell_type": "markdown",
   "metadata": {},
   "source": [
    "## Import libraries"
   ]
  },
  {
   "cell_type": "code",
   "execution_count": null,
   "metadata": {},
   "outputs": [],
   "source": []
  },
  {
   "cell_type": "code",
   "execution_count": 1,
   "metadata": {},
   "outputs": [
    {
     "name": "stderr",
     "output_type": "stream",
     "text": [
      "Warning message:\n",
      "\"package 'SCopeLoomR' was built under R version 4.0.5\"\n"
     ]
    }
   ],
   "source": [
    "suppressPackageStartupMessages({\n",
    "library(dplyr)\n",
    "library(Seurat)\n",
    "library(readr)\n",
    "library(tidyr)\n",
    "library(SCopeLoomR)\n",
    "})"
   ]
  },
  {
   "cell_type": "code",
   "execution_count": 2,
   "metadata": {},
   "outputs": [
    {
     "data": {
      "text/plain": [
       "R version 4.0.3 (2020-10-10)\n",
       "Platform: x86_64-conda-linux-gnu (64-bit)\n",
       "Running under: CentOS Linux 7 (Core)\n",
       "\n",
       "Matrix products: default\n",
       "BLAS/LAPACK: /vsc-hard-mounts/leuven-data/337/vsc33726/miniconda3/envs/R_scAnalysis/lib/libopenblasp-r0.3.12.so\n",
       "\n",
       "locale:\n",
       "[1] C\n",
       "\n",
       "attached base packages:\n",
       "[1] stats     graphics  grDevices utils     datasets  methods   base     \n",
       "\n",
       "other attached packages:\n",
       "[1] SCopeLoomR_0.3.1   tidyr_1.1.3        readr_1.4.0        SeuratObject_4.0.0\n",
       "[5] Seurat_4.0.1       dplyr_1.0.5       \n",
       "\n",
       "loaded via a namespace (and not attached):\n",
       "  [1] Rtsne_0.15            colorspace_2.0-0      deldir_0.2-10        \n",
       "  [4] ellipsis_0.3.1        ggridges_0.5.3        IRdisplay_1.0        \n",
       "  [7] base64enc_0.1-3       spatstat.data_2.1-0   leiden_0.3.7         \n",
       " [10] listenv_0.8.0         ggrepel_0.9.1         bit64_4.0.5          \n",
       " [13] fansi_0.4.2           codetools_0.2-18      splines_4.0.3        \n",
       " [16] polyclip_1.10-0       IRkernel_1.1.1        jsonlite_1.7.2       \n",
       " [19] ica_1.0-2             cluster_2.1.1         png_0.1-7            \n",
       " [22] uwot_0.1.10           shiny_1.6.0           sctransform_0.3.2    \n",
       " [25] spatstat.sparse_2.0-0 compiler_4.0.3        httr_1.4.2           \n",
       " [28] assertthat_0.2.1      Matrix_1.3-2          fastmap_1.1.0        \n",
       " [31] lazyeval_0.2.2        later_1.1.0.1         htmltools_0.5.1.1    \n",
       " [34] tools_4.0.3           igraph_1.2.6          gtable_0.3.0         \n",
       " [37] glue_1.4.2            RANN_2.6.1            reshape2_1.4.4       \n",
       " [40] Rcpp_1.0.6            scattermore_0.7       vctrs_0.3.7          \n",
       " [43] nlme_3.1-152          lmtest_0.9-38         stringr_1.4.0        \n",
       " [46] globals_0.14.0        mime_0.10             miniUI_0.1.1.1       \n",
       " [49] lifecycle_1.0.0       irlba_2.3.3           goftest_1.2-2        \n",
       " [52] future_1.21.0         MASS_7.3-53.1         zoo_1.8-9            \n",
       " [55] scales_1.1.1          spatstat.core_2.0-0   hms_1.0.0            \n",
       " [58] promises_1.2.0.1      spatstat.utils_2.1-0  parallel_4.0.3       \n",
       " [61] RColorBrewer_1.1-2    reticulate_1.18       pbapply_1.4-3        \n",
       " [64] gridExtra_2.3         ggplot2_3.3.3         rpart_4.1-15         \n",
       " [67] stringi_1.5.3         repr_1.1.3            rlang_0.4.10         \n",
       " [70] pkgconfig_2.0.3       matrixStats_0.58.0    evaluate_0.14        \n",
       " [73] lattice_0.20-41       ROCR_1.0-11           purrr_0.3.4          \n",
       " [76] tensor_1.5            patchwork_1.1.1       htmlwidgets_1.5.3    \n",
       " [79] cowplot_1.1.1         bit_4.0.4             tidyselect_1.1.0     \n",
       " [82] parallelly_1.24.0     RcppAnnoy_0.0.18      plyr_1.8.6           \n",
       " [85] magrittr_2.0.1        R6_2.5.0              generics_0.1.0       \n",
       " [88] pbdZMQ_0.3-5          DBI_1.1.1             pillar_1.5.1         \n",
       " [91] mgcv_1.8-34           fitdistrplus_1.1-3    survival_3.2-10      \n",
       " [94] abind_1.4-5           tibble_3.1.0          future.apply_1.7.0   \n",
       " [97] crayon_1.4.1          hdf5r_1.3.3           uuid_0.1-4           \n",
       "[100] KernSmooth_2.23-18    utf8_1.2.1            spatstat.geom_2.0-1  \n",
       "[103] plotly_4.9.3          grid_4.0.3            data.table_1.14.0    \n",
       "[106] digest_0.6.27         xtable_1.8-4          httpuv_1.5.5         \n",
       "[109] munsell_0.5.0         viridisLite_0.3.0    "
      ]
     },
     "metadata": {},
     "output_type": "display_data"
    }
   ],
   "source": [
    "sessionInfo()"
   ]
  },
  {
   "cell_type": "markdown",
   "metadata": {},
   "source": [
    "# Set working directory"
   ]
  },
  {
   "cell_type": "code",
   "execution_count": 2,
   "metadata": {},
   "outputs": [],
   "source": [
    "setwd(\"/staging/leuven/stg_00041/Ryan/Irene_NCB\")"
   ]
  },
  {
   "cell_type": "markdown",
   "metadata": {},
   "source": [
    "# Import Seurat object"
   ]
  },
  {
   "cell_type": "code",
   "execution_count": 3,
   "metadata": {},
   "outputs": [],
   "source": [
    "seurat <- readRDS(\"d4IT_Zhou_Pet_PRC2i_split.rds\")"
   ]
  },
  {
   "cell_type": "code",
   "execution_count": 5,
   "metadata": {},
   "outputs": [
    {
     "data": {
      "text/html": [
       "<style>\n",
       ".list-inline {list-style: none; margin:0; padding: 0}\n",
       ".list-inline>li {display: inline-block}\n",
       ".list-inline>li:not(:last-child)::after {content: \"\\00b7\"; padding: 0 .5ex}\n",
       "</style>\n",
       "<ol class=list-inline><li>'orig.ident.x'</li><li>'nCount_RNA'</li><li>'nFeature_RNA'</li><li>'percent.mt'</li><li>'percent.ERCC'</li><li>'Sample'</li><li>'orig.ident.y'</li><li>'Experiment'</li><li>'combine_state'</li><li>'final_lineage'</li><li>'Cell.type'</li><li>'finalClusters'</li><li>'Lineage'</li><li>'RNA_snn_res.0.1'</li><li>'seurat_clusters'</li><li>'percent.MT'</li><li>'RNA_snn_res.0.2'</li></ol>\n"
      ],
      "text/latex": [
       "\\begin{enumerate*}\n",
       "\\item 'orig.ident.x'\n",
       "\\item 'nCount\\_RNA'\n",
       "\\item 'nFeature\\_RNA'\n",
       "\\item 'percent.mt'\n",
       "\\item 'percent.ERCC'\n",
       "\\item 'Sample'\n",
       "\\item 'orig.ident.y'\n",
       "\\item 'Experiment'\n",
       "\\item 'combine\\_state'\n",
       "\\item 'final\\_lineage'\n",
       "\\item 'Cell.type'\n",
       "\\item 'finalClusters'\n",
       "\\item 'Lineage'\n",
       "\\item 'RNA\\_snn\\_res.0.1'\n",
       "\\item 'seurat\\_clusters'\n",
       "\\item 'percent.MT'\n",
       "\\item 'RNA\\_snn\\_res.0.2'\n",
       "\\end{enumerate*}\n"
      ],
      "text/markdown": [
       "1. 'orig.ident.x'\n",
       "2. 'nCount_RNA'\n",
       "3. 'nFeature_RNA'\n",
       "4. 'percent.mt'\n",
       "5. 'percent.ERCC'\n",
       "6. 'Sample'\n",
       "7. 'orig.ident.y'\n",
       "8. 'Experiment'\n",
       "9. 'combine_state'\n",
       "10. 'final_lineage'\n",
       "11. 'Cell.type'\n",
       "12. 'finalClusters'\n",
       "13. 'Lineage'\n",
       "14. 'RNA_snn_res.0.1'\n",
       "15. 'seurat_clusters'\n",
       "16. 'percent.MT'\n",
       "17. 'RNA_snn_res.0.2'\n",
       "\n",
       "\n"
      ],
      "text/plain": [
       " [1] \"orig.ident.x\"    \"nCount_RNA\"      \"nFeature_RNA\"    \"percent.mt\"     \n",
       " [5] \"percent.ERCC\"    \"Sample\"          \"orig.ident.y\"    \"Experiment\"     \n",
       " [9] \"combine_state\"   \"final_lineage\"   \"Cell.type\"       \"finalClusters\"  \n",
       "[13] \"Lineage\"         \"RNA_snn_res.0.1\" \"seurat_clusters\" \"percent.MT\"     \n",
       "[17] \"RNA_snn_res.0.2\""
      ]
     },
     "metadata": {},
     "output_type": "display_data"
    },
    {
     "data": {
      "text/html": [
       "<table class=\"dataframe\">\n",
       "<caption>A data.frame: 1 × 17</caption>\n",
       "<thead>\n",
       "\t<tr><th></th><th scope=col>orig.ident.x</th><th scope=col>nCount_RNA</th><th scope=col>nFeature_RNA</th><th scope=col>percent.mt</th><th scope=col>percent.ERCC</th><th scope=col>Sample</th><th scope=col>orig.ident.y</th><th scope=col>Experiment</th><th scope=col>combine_state</th><th scope=col>final_lineage</th><th scope=col>Cell.type</th><th scope=col>finalClusters</th><th scope=col>Lineage</th><th scope=col>RNA_snn_res.0.1</th><th scope=col>seurat_clusters</th><th scope=col>percent.MT</th><th scope=col>RNA_snn_res.0.2</th></tr>\n",
       "\t<tr><th></th><th scope=col>&lt;chr&gt;</th><th scope=col>&lt;dbl&gt;</th><th scope=col>&lt;int&gt;</th><th scope=col>&lt;dbl&gt;</th><th scope=col>&lt;dbl&gt;</th><th scope=col>&lt;chr&gt;</th><th scope=col>&lt;chr&gt;</th><th scope=col>&lt;chr&gt;</th><th scope=col>&lt;chr&gt;</th><th scope=col>&lt;chr&gt;</th><th scope=col>&lt;chr&gt;</th><th scope=col>&lt;chr&gt;</th><th scope=col>&lt;chr&gt;</th><th scope=col>&lt;chr&gt;</th><th scope=col>&lt;chr&gt;</th><th scope=col>&lt;dbl&gt;</th><th scope=col>&lt;chr&gt;</th></tr>\n",
       "</thead>\n",
       "<tbody>\n",
       "\t<tr><th scope=row>D10_IVC4_E1_B1_10</th><td>VP_Messmer_Petropoulos_Zhou</td><td>788590</td><td>10072</td><td>0</td><td>0</td><td>D10_IVC4_E1_B1_10</td><td>IVC4</td><td>Zhou</td><td>E1</td><td>TE</td><td>post_implantation</td><td>TB.medium2</td><td>TE _ Zhou</td><td>0</td><td>0</td><td>NA</td><td>NA</td></tr>\n",
       "</tbody>\n",
       "</table>\n"
      ],
      "text/latex": [
       "A data.frame: 1 × 17\n",
       "\\begin{tabular}{r|lllllllllllllllll}\n",
       "  & orig.ident.x & nCount\\_RNA & nFeature\\_RNA & percent.mt & percent.ERCC & Sample & orig.ident.y & Experiment & combine\\_state & final\\_lineage & Cell.type & finalClusters & Lineage & RNA\\_snn\\_res.0.1 & seurat\\_clusters & percent.MT & RNA\\_snn\\_res.0.2\\\\\n",
       "  & <chr> & <dbl> & <int> & <dbl> & <dbl> & <chr> & <chr> & <chr> & <chr> & <chr> & <chr> & <chr> & <chr> & <chr> & <chr> & <dbl> & <chr>\\\\\n",
       "\\hline\n",
       "\tD10\\_IVC4\\_E1\\_B1\\_10 & VP\\_Messmer\\_Petropoulos\\_Zhou & 788590 & 10072 & 0 & 0 & D10\\_IVC4\\_E1\\_B1\\_10 & IVC4 & Zhou & E1 & TE & post\\_implantation & TB.medium2 & TE \\_ Zhou & 0 & 0 & NA & NA\\\\\n",
       "\\end{tabular}\n"
      ],
      "text/markdown": [
       "\n",
       "A data.frame: 1 × 17\n",
       "\n",
       "| <!--/--> | orig.ident.x &lt;chr&gt; | nCount_RNA &lt;dbl&gt; | nFeature_RNA &lt;int&gt; | percent.mt &lt;dbl&gt; | percent.ERCC &lt;dbl&gt; | Sample &lt;chr&gt; | orig.ident.y &lt;chr&gt; | Experiment &lt;chr&gt; | combine_state &lt;chr&gt; | final_lineage &lt;chr&gt; | Cell.type &lt;chr&gt; | finalClusters &lt;chr&gt; | Lineage &lt;chr&gt; | RNA_snn_res.0.1 &lt;chr&gt; | seurat_clusters &lt;chr&gt; | percent.MT &lt;dbl&gt; | RNA_snn_res.0.2 &lt;chr&gt; |\n",
       "|---|---|---|---|---|---|---|---|---|---|---|---|---|---|---|---|---|---|\n",
       "| D10_IVC4_E1_B1_10 | VP_Messmer_Petropoulos_Zhou | 788590 | 10072 | 0 | 0 | D10_IVC4_E1_B1_10 | IVC4 | Zhou | E1 | TE | post_implantation | TB.medium2 | TE _ Zhou | 0 | 0 | NA | NA |\n",
       "\n"
      ],
      "text/plain": [
       "                  orig.ident.x                nCount_RNA nFeature_RNA\n",
       "D10_IVC4_E1_B1_10 VP_Messmer_Petropoulos_Zhou 788590     10072       \n",
       "                  percent.mt percent.ERCC Sample            orig.ident.y\n",
       "D10_IVC4_E1_B1_10 0          0            D10_IVC4_E1_B1_10 IVC4        \n",
       "                  Experiment combine_state final_lineage Cell.type        \n",
       "D10_IVC4_E1_B1_10 Zhou       E1            TE            post_implantation\n",
       "                  finalClusters Lineage   RNA_snn_res.0.1 seurat_clusters\n",
       "D10_IVC4_E1_B1_10 TB.medium2    TE _ Zhou 0               0              \n",
       "                  percent.MT RNA_snn_res.0.2\n",
       "D10_IVC4_E1_B1_10 NA         NA             "
      ]
     },
     "metadata": {},
     "output_type": "display_data"
    }
   ],
   "source": [
    "seurat@meta.data %>% colnames()\n",
    "seurat@meta.data %>% head(1)"
   ]
  },
  {
   "cell_type": "markdown",
   "metadata": {},
   "source": [
    "## Remove the \".1\" from the cell names"
   ]
  },
  {
   "cell_type": "code",
   "execution_count": 19,
   "metadata": {},
   "outputs": [],
   "source": [
    "seurat <- RenameCells(seurat, new.names = gsub(\".1\", \"\", rownames(seurat@meta.data)))"
   ]
  },
  {
   "cell_type": "markdown",
   "metadata": {},
   "source": [
    "## Change the \"sample\" column of metadata"
   ]
  },
  {
   "cell_type": "code",
   "execution_count": null,
   "metadata": {},
   "outputs": [],
   "source": [
    "seurat@meta.data[grep(\"TSC[^P]\", rownames(seurat@meta.data), perl=TRUE),]$sample <- gsub(\"TSC\", \"Day 4 Trophoblast\", seurat@meta.data[grep(\"TSC[^P]\", rownames(seurat@meta.data), perl=TRUE),]$sample)\n",
    "seurat@meta.data[grep(\"TSCP\", rownames(seurat@meta.data), perl=TRUE),]$sample <- gsub(\"TSCPRC2i\", \"Day 4 Trophoblast PRC2i\", seurat@meta.data[grep(\"TSCP\", rownames(seurat@meta.data), perl=TRUE),]$sample)\n",
    "seurat@meta.data[grep(\"NAIVE[^P]\", rownames(seurat@meta.data), perl=TRUE),]$sample <-  gsub(\"NAIVE\", \"Day 0 Naive hPSCs\", seurat@meta.data[grep(\"NAIVE[^P]\", rownames(seurat@meta.data), perl=TRUE),]$sample)\n",
    "seurat@meta.data[grep(\"NAIVEP\", rownames(seurat@meta.data), perl=TRUE),]$sample <- gsub(\"NAIVEPRC2i\", \"Day 0 Naive hPSCs PRC2i\", seurat@meta.data[grep(\"NAIVEP\", rownames(seurat@meta.data), perl=TRUE),]$sample)\n",
    "head(seurat@meta.data)"
   ]
  },
  {
   "cell_type": "markdown",
   "metadata": {},
   "source": [
    "### Check the sample column to make sure it only contains the names you want"
   ]
  },
  {
   "cell_type": "code",
   "execution_count": 50,
   "metadata": {},
   "outputs": [
    {
     "data": {
      "text/html": [
       "<style>\n",
       ".list-inline {list-style: none; margin:0; padding: 0}\n",
       ".list-inline>li {display: inline-block}\n",
       ".list-inline>li:not(:last-child)::after {content: \"\\00b7\"; padding: 0 .5ex}\n",
       "</style>\n",
       "<ol class=list-inline><li>'Day 4 Trophoblast'</li><li>'Day 4 Trophoblast PRC2i'</li><li>'Day 0 Naive hPSCs'</li><li>'Day 0 Naive hPSCs PRC2i'</li></ol>\n"
      ],
      "text/latex": [
       "\\begin{enumerate*}\n",
       "\\item 'Day 4 Trophoblast'\n",
       "\\item 'Day 4 Trophoblast PRC2i'\n",
       "\\item 'Day 0 Naive hPSCs'\n",
       "\\item 'Day 0 Naive hPSCs PRC2i'\n",
       "\\end{enumerate*}\n"
      ],
      "text/markdown": [
       "1. 'Day 4 Trophoblast'\n",
       "2. 'Day 4 Trophoblast PRC2i'\n",
       "3. 'Day 0 Naive hPSCs'\n",
       "4. 'Day 0 Naive hPSCs PRC2i'\n",
       "\n",
       "\n"
      ],
      "text/plain": [
       "[1] \"Day 4 Trophoblast\"       \"Day 4 Trophoblast PRC2i\"\n",
       "[3] \"Day 0 Naive hPSCs\"       \"Day 0 Naive hPSCs PRC2i\""
      ]
     },
     "metadata": {},
     "output_type": "display_data"
    }
   ],
   "source": [
    "seurat@meta.data$sample %>% unique()"
   ]
  },
  {
   "cell_type": "markdown",
   "metadata": {},
   "source": [
    "# Create loom file\n",
    "#### This will fail if a loom file of the same name already exists"
   ]
  },
  {
   "cell_type": "code",
   "execution_count": 6,
   "metadata": {
    "tags": []
   },
   "outputs": [
    {
     "name": "stdout",
     "output_type": "stream",
     "text": [
      "[1] \"Adding global attributes...\"\n",
      "[1] \"Adding matrix...\"\n",
      "  |======================================================================| 100%[1] \"Adding column attributes...\"\n",
      "[1] \"Adding default metrics nUMI...\"\n",
      "[1] \"Adding default metrics nGene...\"\n",
      "[1] \"Adding default embedding...\"\n",
      "[1] \"Adding row attributes...\"\n",
      "[1] \"Adding columns edges...\"\n",
      "[1] \"Adding row edges...\"\n",
      "[1] \"Adding layers...\"\n"
     ]
    }
   ],
   "source": [
    "build_loom(file.name = \"Irene_integrated.loom\",\n",
    "        dgem = seurat@assays$RNA@counts,\n",
    "        title = \"Naive to trophoblast conversion with(out) PRC2 inhibition, integrated with embryo data\",\n",
    "        default.embedding = seurat@reductions$umap@cell.embeddings,\n",
    "        default.embedding.name = \"UMAP\")"
   ]
  },
  {
   "cell_type": "markdown",
   "metadata": {},
   "source": [
    "## Open the loom file for editing"
   ]
  },
  {
   "cell_type": "code",
   "execution_count": 9,
   "metadata": {},
   "outputs": [],
   "source": [
    "#system(\"cp Irene.loom Irene.loom_bk\")\n",
    "#system(\"cp Irene.loom_bk Irene.loom\")\n",
    "\n",
    "\n",
    "#loom <- open_loom(\"Irene.loom\")\n",
    "loom <- open_loom(\"Irene_scale_data.loom\")"
   ]
  },
  {
   "cell_type": "markdown",
   "metadata": {},
   "source": [
    "## Add two attribute columns\n",
    "#### Key:\n",
    "\n",
    "* name of the attribute\n",
    "\n",
    "#### as.annotation = TRUE:\n",
    "\n",
    "* discrete attribute\n",
    "\n",
    "#### as.metric = TRUE:\n",
    "\n",
    "* continuous attribute"
   ]
  },
  {
   "cell_type": "code",
   "execution_count": 10,
   "metadata": {},
   "outputs": [],
   "source": [
    "add_col_attr(loom = loom, key = \"cluster\",\n",
    "              value = seurat@meta.data$seurat_clusters, as.annotation = TRUE)\n",
    "add_col_attr(loom = loom, key = \"annotation\",\n",
    "              value = seurat@meta.data$sample, as.annotation = TRUE)"
   ]
  },
  {
   "cell_type": "markdown",
   "metadata": {},
   "source": [
    "# Done!\n",
    "#### Loom file is automatically updated"
   ]
  },
  {
   "cell_type": "markdown",
   "metadata": {},
   "source": [
    "# Create LOOM fle for integration of d4 trophoblast +/- PRC2i with human pre and post-implantation data sets."
   ]
  },
  {
   "cell_type": "markdown",
   "metadata": {},
   "source": [
    "## Import libraries"
   ]
  },
  {
   "cell_type": "code",
   "execution_count": 1,
   "metadata": {},
   "outputs": [
    {
     "name": "stderr",
     "output_type": "stream",
     "text": [
      "Warning message:\n",
      "\"package 'SCopeLoomR' was built under R version 4.0.5\"\n"
     ]
    }
   ],
   "source": [
    "suppressPackageStartupMessages({\n",
    "library(dplyr)\n",
    "library(Seurat)\n",
    "library(readr)\n",
    "library(tidyr)\n",
    "library(SCopeLoomR)\n",
    "})"
   ]
  },
  {
   "cell_type": "markdown",
   "metadata": {},
   "source": [
    "# Set working directory"
   ]
  },
  {
   "cell_type": "code",
   "execution_count": 2,
   "metadata": {},
   "outputs": [],
   "source": [
    "setwd(\"/staging/leuven/stg_00041/Ryan/Irene_NCB\")"
   ]
  },
  {
   "cell_type": "markdown",
   "metadata": {},
   "source": [
    "# Import Seurat object"
   ]
  },
  {
   "cell_type": "code",
   "execution_count": 3,
   "metadata": {},
   "outputs": [],
   "source": [
    "seurat <- readRDS(\"d4IT_Zhou_Pet_PRC2i_split.rds\")"
   ]
  },
  {
   "cell_type": "code",
   "execution_count": 4,
   "metadata": {},
   "outputs": [],
   "source": [
    "data_IT <- readRDS(\"seurat_object_norm.rds\")"
   ]
  },
  {
   "cell_type": "code",
   "execution_count": 5,
   "metadata": {},
   "outputs": [
    {
     "data": {
      "text/html": [
       "<table class=\"dataframe\">\n",
       "<caption>A data.frame: 6 × 7</caption>\n",
       "<thead>\n",
       "\t<tr><th></th><th scope=col>orig.ident</th><th scope=col>nCount_RNA</th><th scope=col>nFeature_RNA</th><th scope=col>percent.MT</th><th scope=col>sample</th><th scope=col>RNA_snn_res.0.2</th><th scope=col>seurat_clusters</th></tr>\n",
       "\t<tr><th></th><th scope=col>&lt;chr&gt;</th><th scope=col>&lt;dbl&gt;</th><th scope=col>&lt;int&gt;</th><th scope=col>&lt;dbl&gt;</th><th scope=col>&lt;chr&gt;</th><th scope=col>&lt;fct&gt;</th><th scope=col>&lt;fct&gt;</th></tr>\n",
       "</thead>\n",
       "<tbody>\n",
       "\t<tr><th scope=row>TSC_AAACCCACACTCCGGA.1</th><td>naive_TSC_PRC2i_Irene_VP</td><td> 79984</td><td> 8416</td><td>12.40998</td><td>TSC</td><td>1</td><td>1</td></tr>\n",
       "\t<tr><th scope=row>TSC_AAACGAAGTAAGGCCA.1</th><td>naive_TSC_PRC2i_Irene_VP</td><td>187905</td><td>10316</td><td>13.33493</td><td>TSC</td><td>1</td><td>1</td></tr>\n",
       "\t<tr><th scope=row>TSC_AAACGCTTCTACTGAG.1</th><td>naive_TSC_PRC2i_Irene_VP</td><td>103178</td><td> 8633</td><td>12.52302</td><td>TSC</td><td>2</td><td>2</td></tr>\n",
       "\t<tr><th scope=row>TSC_AAAGGGCCATGGAATA.1</th><td>naive_TSC_PRC2i_Irene_VP</td><td> 70210</td><td> 8112</td><td>18.62555</td><td>TSC</td><td>1</td><td>1</td></tr>\n",
       "\t<tr><th scope=row>TSC_AAAGGTAAGATGCTGG.1</th><td>naive_TSC_PRC2i_Irene_VP</td><td> 67006</td><td> 7910</td><td>15.51354</td><td>TSC</td><td>1</td><td>1</td></tr>\n",
       "\t<tr><th scope=row>TSC_AAAGTCCAGAAACACT.1</th><td>naive_TSC_PRC2i_Irene_VP</td><td> 56056</td><td> 7707</td><td>16.82068</td><td>TSC</td><td>1</td><td>1</td></tr>\n",
       "</tbody>\n",
       "</table>\n"
      ],
      "text/latex": [
       "A data.frame: 6 × 7\n",
       "\\begin{tabular}{r|lllllll}\n",
       "  & orig.ident & nCount\\_RNA & nFeature\\_RNA & percent.MT & sample & RNA\\_snn\\_res.0.2 & seurat\\_clusters\\\\\n",
       "  & <chr> & <dbl> & <int> & <dbl> & <chr> & <fct> & <fct>\\\\\n",
       "\\hline\n",
       "\tTSC\\_AAACCCACACTCCGGA.1 & naive\\_TSC\\_PRC2i\\_Irene\\_VP &  79984 &  8416 & 12.40998 & TSC & 1 & 1\\\\\n",
       "\tTSC\\_AAACGAAGTAAGGCCA.1 & naive\\_TSC\\_PRC2i\\_Irene\\_VP & 187905 & 10316 & 13.33493 & TSC & 1 & 1\\\\\n",
       "\tTSC\\_AAACGCTTCTACTGAG.1 & naive\\_TSC\\_PRC2i\\_Irene\\_VP & 103178 &  8633 & 12.52302 & TSC & 2 & 2\\\\\n",
       "\tTSC\\_AAAGGGCCATGGAATA.1 & naive\\_TSC\\_PRC2i\\_Irene\\_VP &  70210 &  8112 & 18.62555 & TSC & 1 & 1\\\\\n",
       "\tTSC\\_AAAGGTAAGATGCTGG.1 & naive\\_TSC\\_PRC2i\\_Irene\\_VP &  67006 &  7910 & 15.51354 & TSC & 1 & 1\\\\\n",
       "\tTSC\\_AAAGTCCAGAAACACT.1 & naive\\_TSC\\_PRC2i\\_Irene\\_VP &  56056 &  7707 & 16.82068 & TSC & 1 & 1\\\\\n",
       "\\end{tabular}\n"
      ],
      "text/markdown": [
       "\n",
       "A data.frame: 6 × 7\n",
       "\n",
       "| <!--/--> | orig.ident &lt;chr&gt; | nCount_RNA &lt;dbl&gt; | nFeature_RNA &lt;int&gt; | percent.MT &lt;dbl&gt; | sample &lt;chr&gt; | RNA_snn_res.0.2 &lt;fct&gt; | seurat_clusters &lt;fct&gt; |\n",
       "|---|---|---|---|---|---|---|---|\n",
       "| TSC_AAACCCACACTCCGGA.1 | naive_TSC_PRC2i_Irene_VP |  79984 |  8416 | 12.40998 | TSC | 1 | 1 |\n",
       "| TSC_AAACGAAGTAAGGCCA.1 | naive_TSC_PRC2i_Irene_VP | 187905 | 10316 | 13.33493 | TSC | 1 | 1 |\n",
       "| TSC_AAACGCTTCTACTGAG.1 | naive_TSC_PRC2i_Irene_VP | 103178 |  8633 | 12.52302 | TSC | 2 | 2 |\n",
       "| TSC_AAAGGGCCATGGAATA.1 | naive_TSC_PRC2i_Irene_VP |  70210 |  8112 | 18.62555 | TSC | 1 | 1 |\n",
       "| TSC_AAAGGTAAGATGCTGG.1 | naive_TSC_PRC2i_Irene_VP |  67006 |  7910 | 15.51354 | TSC | 1 | 1 |\n",
       "| TSC_AAAGTCCAGAAACACT.1 | naive_TSC_PRC2i_Irene_VP |  56056 |  7707 | 16.82068 | TSC | 1 | 1 |\n",
       "\n"
      ],
      "text/plain": [
       "                       orig.ident               nCount_RNA nFeature_RNA\n",
       "TSC_AAACCCACACTCCGGA.1 naive_TSC_PRC2i_Irene_VP  79984      8416       \n",
       "TSC_AAACGAAGTAAGGCCA.1 naive_TSC_PRC2i_Irene_VP 187905     10316       \n",
       "TSC_AAACGCTTCTACTGAG.1 naive_TSC_PRC2i_Irene_VP 103178      8633       \n",
       "TSC_AAAGGGCCATGGAATA.1 naive_TSC_PRC2i_Irene_VP  70210      8112       \n",
       "TSC_AAAGGTAAGATGCTGG.1 naive_TSC_PRC2i_Irene_VP  67006      7910       \n",
       "TSC_AAAGTCCAGAAACACT.1 naive_TSC_PRC2i_Irene_VP  56056      7707       \n",
       "                       percent.MT sample RNA_snn_res.0.2 seurat_clusters\n",
       "TSC_AAACCCACACTCCGGA.1 12.40998   TSC    1               1              \n",
       "TSC_AAACGAAGTAAGGCCA.1 13.33493   TSC    1               1              \n",
       "TSC_AAACGCTTCTACTGAG.1 12.52302   TSC    2               2              \n",
       "TSC_AAAGGGCCATGGAATA.1 18.62555   TSC    1               1              \n",
       "TSC_AAAGGTAAGATGCTGG.1 15.51354   TSC    1               1              \n",
       "TSC_AAAGTCCAGAAACACT.1 16.82068   TSC    1               1              "
      ]
     },
     "metadata": {},
     "output_type": "display_data"
    }
   ],
   "source": [
    "data_IT@meta.data %>% head()"
   ]
  },
  {
   "cell_type": "markdown",
   "metadata": {},
   "source": [
    "## Remove the \".1\" from the cell names"
   ]
  },
  {
   "cell_type": "code",
   "execution_count": 19,
   "metadata": {},
   "outputs": [],
   "source": [
    "#seurat <- RenameCells(seurat, new.names = gsub(\".1\", \"\", rownames(seurat@meta.data)))"
   ]
  },
  {
   "cell_type": "markdown",
   "metadata": {},
   "source": [
    "## Change the \"sample\" column of metadata"
   ]
  },
  {
   "cell_type": "code",
   "execution_count": null,
   "metadata": {},
   "outputs": [],
   "source": [
    "#seurat@meta.data[grep(\"TSC[^P]\", rownames(seurat@meta.data), perl=TRUE),]$sample <- gsub(\"TSC\", \"Day 4 Trophoblast\", seurat@meta.data[grep(\"TSC[^P]\", rownames(seurat@meta.data), perl=TRUE),]$sample)\n",
    "#seurat@meta.data[grep(\"TSCP\", rownames(seurat@meta.data), perl=TRUE),]$sample <- gsub(\"TSCPRC2i\", \"Day 4 Trophoblast PRC2i\", seurat@meta.data[grep(\"TSCP\", rownames(seurat@meta.data), perl=TRUE),]$sample)\n",
    "#seurat@meta.data[grep(\"NAIVE[^P]\", rownames(seurat@meta.data), perl=TRUE),]$sample <-  gsub(\"NAIVE\", \"Day 0 Naive hPSCs\", seurat@meta.data[grep(\"NAIVE[^P]\", rownames(seurat@meta.data), perl=TRUE),]$sample)\n",
    "#seurat@meta.data[grep(\"NAIVEP\", rownames(seurat@meta.data), perl=TRUE),]$sample <- gsub(\"NAIVEPRC2i\", \"Day 0 Naive hPSCs PRC2i\", seurat@meta.data[grep(\"NAIVEP\", rownames(seurat@meta.data), perl=TRUE),]$sample)\n",
    "#head(seurat@meta.data)"
   ]
  },
  {
   "cell_type": "markdown",
   "metadata": {},
   "source": [
    "### Check the sample column to make sure it only contains the names you want"
   ]
  },
  {
   "cell_type": "code",
   "execution_count": 50,
   "metadata": {},
   "outputs": [
    {
     "data": {
      "text/html": [
       "<style>\n",
       ".list-inline {list-style: none; margin:0; padding: 0}\n",
       ".list-inline>li {display: inline-block}\n",
       ".list-inline>li:not(:last-child)::after {content: \"\\00b7\"; padding: 0 .5ex}\n",
       "</style>\n",
       "<ol class=list-inline><li>'Day 4 Trophoblast'</li><li>'Day 4 Trophoblast PRC2i'</li><li>'Day 0 Naive hPSCs'</li><li>'Day 0 Naive hPSCs PRC2i'</li></ol>\n"
      ],
      "text/latex": [
       "\\begin{enumerate*}\n",
       "\\item 'Day 4 Trophoblast'\n",
       "\\item 'Day 4 Trophoblast PRC2i'\n",
       "\\item 'Day 0 Naive hPSCs'\n",
       "\\item 'Day 0 Naive hPSCs PRC2i'\n",
       "\\end{enumerate*}\n"
      ],
      "text/markdown": [
       "1. 'Day 4 Trophoblast'\n",
       "2. 'Day 4 Trophoblast PRC2i'\n",
       "3. 'Day 0 Naive hPSCs'\n",
       "4. 'Day 0 Naive hPSCs PRC2i'\n",
       "\n",
       "\n"
      ],
      "text/plain": [
       "[1] \"Day 4 Trophoblast\"       \"Day 4 Trophoblast PRC2i\"\n",
       "[3] \"Day 0 Naive hPSCs\"       \"Day 0 Naive hPSCs PRC2i\""
      ]
     },
     "metadata": {},
     "output_type": "display_data"
    }
   ],
   "source": [
    "#seurat@meta.data$sample %>% unique()"
   ]
  },
  {
   "cell_type": "markdown",
   "metadata": {},
   "source": [
    "# Create loom file\n",
    "#### This will fail if a loom file of the same name already exists"
   ]
  },
  {
   "cell_type": "code",
   "execution_count": 6,
   "metadata": {
    "scrolled": true,
    "tags": []
   },
   "outputs": [
    {
     "name": "stdout",
     "output_type": "stream",
     "text": [
      "[1] \"Adding global attributes...\"\n",
      "[1] \"Adding matrix...\"\n",
      "  |======================================================================| 100%[1] \"Adding column attributes...\"\n",
      "[1] \"Adding default metrics nUMI...\"\n",
      "[1] \"Adding default metrics nGene...\"\n",
      "[1] \"Adding default embedding...\"\n",
      "[1] \"Adding row attributes...\"\n",
      "[1] \"Adding columns edges...\"\n",
      "[1] \"Adding row edges...\"\n",
      "[1] \"Adding layers...\"\n"
     ]
    }
   ],
   "source": [
    "build_loom(file.name = \"Talon_PRC2_integrated_fixed.loom\",\n",
    "        dgem = seurat@assays$RNA@counts,\n",
    "        title = \"Naive to trophoblast conversion with(out) PRC2 inhibition, integrated with embryo data\",\n",
    "        default.embedding = seurat@reductions$umap@cell.embeddings,\n",
    "        default.embedding.name = \"UMAP\")"
   ]
  },
  {
   "cell_type": "markdown",
   "metadata": {},
   "source": [
    "## Open the loom file for editing"
   ]
  },
  {
   "cell_type": "code",
   "execution_count": 22,
   "metadata": {},
   "outputs": [],
   "source": [
    "#system(\"cp Irene.loom Irene.loom_bk\")\n",
    "#system(\"cp Irene.loom_bk Irene.loom\")\n",
    "\n",
    "\n",
    "#loom <- open_loom(\"Irene.loom\")\n",
    "loom <- open_loom(file.path = \"Talon_PRC2_integrated_fixed.loom\")"
   ]
  },
  {
   "cell_type": "markdown",
   "metadata": {},
   "source": [
    "## Add two attribute columns\n",
    "#### Key:\n",
    "\n",
    "* name of the attribute\n",
    "\n",
    "#### as.annotation = TRUE:\n",
    "\n",
    "* discrete attribute\n",
    "\n",
    "#### as.metric = TRUE:\n",
    "\n",
    "* continuous attribute"
   ]
  },
  {
   "cell_type": "code",
   "execution_count": 8,
   "metadata": {},
   "outputs": [],
   "source": [
    "seurat_meta.data_bk <- seurat@meta.data"
   ]
  },
  {
   "cell_type": "code",
   "execution_count": 9,
   "metadata": {},
   "outputs": [
    {
     "data": {
      "text/html": [
       "<style>\n",
       ".list-inline {list-style: none; margin:0; padding: 0}\n",
       ".list-inline>li {display: inline-block}\n",
       ".list-inline>li:not(:last-child)::after {content: \"\\00b7\"; padding: 0 .5ex}\n",
       "</style>\n",
       "<ol class=list-inline><li>'Zhou'</li><li>'Pet'</li><li>'naive_TSC_PRC2i_Irene_VP'</li></ol>\n"
      ],
      "text/latex": [
       "\\begin{enumerate*}\n",
       "\\item 'Zhou'\n",
       "\\item 'Pet'\n",
       "\\item 'naive\\_TSC\\_PRC2i\\_Irene\\_VP'\n",
       "\\end{enumerate*}\n"
      ],
      "text/markdown": [
       "1. 'Zhou'\n",
       "2. 'Pet'\n",
       "3. 'naive_TSC_PRC2i_Irene_VP'\n",
       "\n",
       "\n"
      ],
      "text/plain": [
       "[1] \"Zhou\"                     \"Pet\"                     \n",
       "[3] \"naive_TSC_PRC2i_Irene_VP\""
      ]
     },
     "metadata": {},
     "output_type": "display_data"
    }
   ],
   "source": [
    "seurat@meta.data[which(seurat@meta.data$seurat_clusters == 2), \"Experiment\"] %>% unique()"
   ]
  },
  {
   "cell_type": "code",
   "execution_count": 10,
   "metadata": {},
   "outputs": [
    {
     "data": {
      "text/html": [
       "<style>\n",
       ".list-inline {list-style: none; margin:0; padding: 0}\n",
       ".list-inline>li {display: inline-block}\n",
       ".list-inline>li:not(:last-child)::after {content: \"\\00b7\"; padding: 0 .5ex}\n",
       "</style>\n",
       "<ol class=list-inline><li>'TB.medium2'</li><li>NA</li><li>'TB.late'</li><li>'Pre.ST'</li><li>'TB.medium3'</li><li>'PrE'</li><li>'Pre.EVT'</li><li>'EPI'</li><li>'ST'</li><li>'EVT'</li><li>'ysTE'</li><li>'early_TE'</li><li>'medium_TE'</li><li>'TB.medium1'</li><li>'TB.early'</li><li>'B1_B2'</li><li>'TB.apoptosis'</li><li>'late_TE'</li><li>'pre_implantation'</li><li>'Intermediate'</li><li>'TSCs'</li><li>'Naive'</li><li>'TSCs_PRC2i'</li><li>'Intermediate_PRC2i'</li></ol>\n"
      ],
      "text/latex": [
       "\\begin{enumerate*}\n",
       "\\item 'TB.medium2'\n",
       "\\item NA\n",
       "\\item 'TB.late'\n",
       "\\item 'Pre.ST'\n",
       "\\item 'TB.medium3'\n",
       "\\item 'PrE'\n",
       "\\item 'Pre.EVT'\n",
       "\\item 'EPI'\n",
       "\\item 'ST'\n",
       "\\item 'EVT'\n",
       "\\item 'ysTE'\n",
       "\\item 'early\\_TE'\n",
       "\\item 'medium\\_TE'\n",
       "\\item 'TB.medium1'\n",
       "\\item 'TB.early'\n",
       "\\item 'B1\\_B2'\n",
       "\\item 'TB.apoptosis'\n",
       "\\item 'late\\_TE'\n",
       "\\item 'pre\\_implantation'\n",
       "\\item 'Intermediate'\n",
       "\\item 'TSCs'\n",
       "\\item 'Naive'\n",
       "\\item 'TSCs\\_PRC2i'\n",
       "\\item 'Intermediate\\_PRC2i'\n",
       "\\end{enumerate*}\n"
      ],
      "text/markdown": [
       "1. 'TB.medium2'\n",
       "2. NA\n",
       "3. 'TB.late'\n",
       "4. 'Pre.ST'\n",
       "5. 'TB.medium3'\n",
       "6. 'PrE'\n",
       "7. 'Pre.EVT'\n",
       "8. 'EPI'\n",
       "9. 'ST'\n",
       "10. 'EVT'\n",
       "11. 'ysTE'\n",
       "12. 'early_TE'\n",
       "13. 'medium_TE'\n",
       "14. 'TB.medium1'\n",
       "15. 'TB.early'\n",
       "16. 'B1_B2'\n",
       "17. 'TB.apoptosis'\n",
       "18. 'late_TE'\n",
       "19. 'pre_implantation'\n",
       "20. 'Intermediate'\n",
       "21. 'TSCs'\n",
       "22. 'Naive'\n",
       "23. 'TSCs_PRC2i'\n",
       "24. 'Intermediate_PRC2i'\n",
       "\n",
       "\n"
      ],
      "text/plain": [
       " [1] \"TB.medium2\"         NA                   \"TB.late\"           \n",
       " [4] \"Pre.ST\"             \"TB.medium3\"         \"PrE\"               \n",
       " [7] \"Pre.EVT\"            \"EPI\"                \"ST\"                \n",
       "[10] \"EVT\"                \"ysTE\"               \"early_TE\"          \n",
       "[13] \"medium_TE\"          \"TB.medium1\"         \"TB.early\"          \n",
       "[16] \"B1_B2\"              \"TB.apoptosis\"       \"late_TE\"           \n",
       "[19] \"pre_implantation\"   \"Intermediate\"       \"TSCs\"              \n",
       "[22] \"Naive\"              \"TSCs_PRC2i\"         \"Intermediate_PRC2i\""
      ]
     },
     "metadata": {},
     "output_type": "display_data"
    },
    {
     "data": {
      "text/html": [
       "<style>\n",
       ".list-inline {list-style: none; margin:0; padding: 0}\n",
       ".list-inline>li {display: inline-block}\n",
       ".list-inline>li:not(:last-child)::after {content: \"\\00b7\"; padding: 0 .5ex}\n",
       "</style>\n",
       "<ol class=list-inline><li>'Zhou'</li><li>'Pet'</li><li>'naive_TSC_PRC2i_Irene_VP'</li></ol>\n"
      ],
      "text/latex": [
       "\\begin{enumerate*}\n",
       "\\item 'Zhou'\n",
       "\\item 'Pet'\n",
       "\\item 'naive\\_TSC\\_PRC2i\\_Irene\\_VP'\n",
       "\\end{enumerate*}\n"
      ],
      "text/markdown": [
       "1. 'Zhou'\n",
       "2. 'Pet'\n",
       "3. 'naive_TSC_PRC2i_Irene_VP'\n",
       "\n",
       "\n"
      ],
      "text/plain": [
       "[1] \"Zhou\"                     \"Pet\"                     \n",
       "[3] \"naive_TSC_PRC2i_Irene_VP\""
      ]
     },
     "metadata": {},
     "output_type": "display_data"
    }
   ],
   "source": [
    "seurat@meta.data$finalClusters %>% unique()\n",
    "seurat@meta.data$Experiment %>% unique()"
   ]
  },
  {
   "cell_type": "code",
   "execution_count": 11,
   "metadata": {},
   "outputs": [
    {
     "data": {
      "text/html": [
       "<style>\n",
       ".list-inline {list-style: none; margin:0; padding: 0}\n",
       ".list-inline>li {display: inline-block}\n",
       ".list-inline>li:not(:last-child)::after {content: \"\\00b7\"; padding: 0 .5ex}\n",
       "</style>\n",
       "<ol class=list-inline><li>'Zhou'</li><li>'Petropoulos'</li><li>'Talon'</li></ol>\n"
      ],
      "text/latex": [
       "\\begin{enumerate*}\n",
       "\\item 'Zhou'\n",
       "\\item 'Petropoulos'\n",
       "\\item 'Talon'\n",
       "\\end{enumerate*}\n"
      ],
      "text/markdown": [
       "1. 'Zhou'\n",
       "2. 'Petropoulos'\n",
       "3. 'Talon'\n",
       "\n",
       "\n"
      ],
      "text/plain": [
       "[1] \"Zhou\"        \"Petropoulos\" \"Talon\"      "
      ]
     },
     "metadata": {},
     "output_type": "display_data"
    }
   ],
   "source": [
    "seurat@meta.data$Experiment <- gsub(\"naive_TSC_PRC2i_Irene_VP\", \"Talon\", seurat@meta.data$Experiment)\n",
    "seurat@meta.data$Experiment <- gsub(\"Pet\", \"Petropoulos\", seurat@meta.data$Experiment)\n",
    "seurat@meta.data$Experiment %>% unique()"
   ]
  },
  {
   "cell_type": "code",
   "execution_count": 12,
   "metadata": {},
   "outputs": [],
   "source": [
    "seurat@meta.data$PRC2i_treatment <- NA\n",
    "seurat@meta.data[which(seurat@meta.data$Experiment == \"Talon\"), \"PRC2i_treatment\"] <- \"No\"\n",
    "seurat@meta.data[which(grepl(\"PRC2i\", rownames(seurat@meta.data))), \"PRC2i_treatment\"] <- \"Yes\""
   ]
  },
  {
   "cell_type": "code",
   "execution_count": 11,
   "metadata": {},
   "outputs": [
    {
     "data": {
      "text/html": [
       "<style>\n",
       ".list-inline {list-style: none; margin:0; padding: 0}\n",
       ".list-inline>li {display: inline-block}\n",
       ".list-inline>li:not(:last-child)::after {content: \"\\00b7\"; padding: 0 .5ex}\n",
       "</style>\n",
       "<ol class=list-inline><li>'TSC_AAACCCACACTCCGGA.1'</li><li>'TSC_AAACGAAGTAAGGCCA.1'</li><li>'TSC_AAACGCTTCTACTGAG.1'</li><li>'TSC_AAAGGGCCATGGAATA.1'</li><li>'TSC_AAAGGTAAGATGCTGG.1'</li><li>'TSC_AAAGTCCAGAAACACT.1'</li></ol>\n"
      ],
      "text/latex": [
       "\\begin{enumerate*}\n",
       "\\item 'TSC\\_AAACCCACACTCCGGA.1'\n",
       "\\item 'TSC\\_AAACGAAGTAAGGCCA.1'\n",
       "\\item 'TSC\\_AAACGCTTCTACTGAG.1'\n",
       "\\item 'TSC\\_AAAGGGCCATGGAATA.1'\n",
       "\\item 'TSC\\_AAAGGTAAGATGCTGG.1'\n",
       "\\item 'TSC\\_AAAGTCCAGAAACACT.1'\n",
       "\\end{enumerate*}\n"
      ],
      "text/markdown": [
       "1. 'TSC_AAACCCACACTCCGGA.1'\n",
       "2. 'TSC_AAACGAAGTAAGGCCA.1'\n",
       "3. 'TSC_AAACGCTTCTACTGAG.1'\n",
       "4. 'TSC_AAAGGGCCATGGAATA.1'\n",
       "5. 'TSC_AAAGGTAAGATGCTGG.1'\n",
       "6. 'TSC_AAAGTCCAGAAACACT.1'\n",
       "\n",
       "\n"
      ],
      "text/plain": [
       "[1] \"TSC_AAACCCACACTCCGGA.1\" \"TSC_AAACGAAGTAAGGCCA.1\" \"TSC_AAACGCTTCTACTGAG.1\"\n",
       "[4] \"TSC_AAAGGGCCATGGAATA.1\" \"TSC_AAAGGTAAGATGCTGG.1\" \"TSC_AAAGTCCAGAAACACT.1\""
      ]
     },
     "metadata": {},
     "output_type": "display_data"
    }
   ],
   "source": [
    "head(rownames(seurat@meta.data[which(seurat@meta.data$Experiment == \"Talon\"),]))"
   ]
  },
  {
   "cell_type": "code",
   "execution_count": 13,
   "metadata": {},
   "outputs": [],
   "source": [
    "seurat@meta.data$Castel_annotation <- seurat@meta.data$finalClusters\n",
    "seurat@meta.data[which(seurat@meta.data$Experiment == \"Talon\"),\"Castel_annotation\"] <- \"Unannotated\""
   ]
  },
  {
   "cell_type": "code",
   "execution_count": 14,
   "metadata": {},
   "outputs": [
    {
     "data": {
      "text/html": [
       "<style>\n",
       ".list-inline {list-style: none; margin:0; padding: 0}\n",
       ".list-inline>li {display: inline-block}\n",
       ".list-inline>li:not(:last-child)::after {content: \"\\00b7\"; padding: 0 .5ex}\n",
       "</style>\n",
       "<ol class=list-inline><li>NA</li><li>'Intermediate'</li><li>'TSC'</li><li>'Naive'</li></ol>\n"
      ],
      "text/latex": [
       "\\begin{enumerate*}\n",
       "\\item NA\n",
       "\\item 'Intermediate'\n",
       "\\item 'TSC'\n",
       "\\item 'Naive'\n",
       "\\end{enumerate*}\n"
      ],
      "text/markdown": [
       "1. NA\n",
       "2. 'Intermediate'\n",
       "3. 'TSC'\n",
       "4. 'Naive'\n",
       "\n",
       "\n"
      ],
      "text/plain": [
       "[1] NA             \"Intermediate\" \"TSC\"          \"Naive\"       "
      ]
     },
     "metadata": {},
     "output_type": "display_data"
    }
   ],
   "source": [
    "seurat@meta.data$Talon_annotation <- NA\n",
    "seurat@meta.data[rownames(data_IT@meta.data[which(data_IT@meta.data$seurat_clusters==0),]), \"Talon_annotation\"] <- \"Naive\"\n",
    "seurat@meta.data[rownames(data_IT@meta.data[which(data_IT@meta.data$seurat_clusters==1),]), \"Talon_annotation\"] <- \"Intermediate\"\n",
    "seurat@meta.data[rownames(data_IT@meta.data[which(data_IT@meta.data$seurat_clusters==2),]), \"Talon_annotation\"] <- \"TSC\"\n",
    "seurat@meta.data$Talon_annotation %>% unique()"
   ]
  },
  {
   "cell_type": "code",
   "execution_count": 15,
   "metadata": {
    "scrolled": true,
    "tags": []
   },
   "outputs": [
    {
     "name": "stderr",
     "output_type": "stream",
     "text": [
      "Warning message in `[<-.data.frame`(`*tmp*`, data_IT@meta.data$seurat_clusters == :\n",
      "\"provided 8 variables to replace 7 variables\"\n",
      "Warning message in `[<-.data.frame`(`*tmp*`, data_IT@meta.data$seurat_clusters == :\n",
      "\"provided 8 variables to replace 7 variables\"\n",
      "Warning message in `[<-.data.frame`(`*tmp*`, data_IT@meta.data$seurat_clusters == :\n",
      "\"provided 8 variables to replace 7 variables\"\n"
     ]
    }
   ],
   "source": [
    "data_IT@meta.data[data_IT@meta.data$seurat_clusters==0,]$cluster_PRC2i <- \"Naive\"\n",
    "data_IT@meta.data[data_IT@meta.data$seurat_clusters==1,]$cluster_PRC2i <- \"Intermediate\"\n",
    "data_IT@meta.data[data_IT@meta.data$seurat_clusters==2,]$cluster_PRC2i <- \"TSCs\""
   ]
  },
  {
   "cell_type": "code",
   "execution_count": null,
   "metadata": {},
   "outputs": [],
   "source": [
    "# Cols to add\n",
    "# Talon_annotation\n",
    "# PRC2i_treatment\n",
    "# Experiment\n",
    "# Castel_annotation\n",
    "# Simplified_annotation (STILL TO COME)"
   ]
  },
  {
   "cell_type": "code",
   "execution_count": 17,
   "metadata": {},
   "outputs": [],
   "source": [
    "data_simple_anno <- readRDS(\"/lustre1/project/stg_00041/Irene/10X_NAIVE_TSC_2021/nonaggr_noMEFs_mouse_human_analysis/Pet_Zhou_IT_allgenes_norm_new_anno.rds\")"
   ]
  },
  {
   "cell_type": "code",
   "execution_count": 54,
   "metadata": {},
   "outputs": [
    {
     "data": {
      "text/html": [
       "<style>\n",
       ".list-inline {list-style: none; margin:0; padding: 0}\n",
       ".list-inline>li {display: inline-block}\n",
       ".list-inline>li:not(:last-child)::after {content: \"\\00b7\"; padding: 0 .5ex}\n",
       "</style>\n",
       "<ol class=list-inline><li>8809</li><li>19</li></ol>\n"
      ],
      "text/latex": [
       "\\begin{enumerate*}\n",
       "\\item 8809\n",
       "\\item 19\n",
       "\\end{enumerate*}\n"
      ],
      "text/markdown": [
       "1. 8809\n",
       "2. 19\n",
       "\n",
       "\n"
      ],
      "text/plain": [
       "[1] 8809   19"
      ]
     },
     "metadata": {},
     "output_type": "display_data"
    },
    {
     "data": {
      "text/html": [
       "<style>\n",
       ".list-inline {list-style: none; margin:0; padding: 0}\n",
       ".list-inline>li {display: inline-block}\n",
       ".list-inline>li:not(:last-child)::after {content: \"\\00b7\"; padding: 0 .5ex}\n",
       "</style>\n",
       "<ol class=list-inline><li>'orig.ident.x'</li><li>'nCount_RNA'</li><li>'nFeature_RNA'</li><li>'percent.mt'</li><li>'percent.ERCC'</li><li>'Sample'</li><li>'orig.ident.y'</li><li>'Experiment'</li><li>'combine_state'</li><li>'final_lineage'</li><li>'Cell.type'</li><li>'finalClustersold'</li><li>'Lineage'</li><li>'RNA_snn_res.0.1'</li><li>'seurat_clusters'</li><li>'percent.MT'</li><li>'RNA_snn_res.0.2'</li><li>'finalClusters'</li><li>'finalClustersMerged'</li></ol>\n"
      ],
      "text/latex": [
       "\\begin{enumerate*}\n",
       "\\item 'orig.ident.x'\n",
       "\\item 'nCount\\_RNA'\n",
       "\\item 'nFeature\\_RNA'\n",
       "\\item 'percent.mt'\n",
       "\\item 'percent.ERCC'\n",
       "\\item 'Sample'\n",
       "\\item 'orig.ident.y'\n",
       "\\item 'Experiment'\n",
       "\\item 'combine\\_state'\n",
       "\\item 'final\\_lineage'\n",
       "\\item 'Cell.type'\n",
       "\\item 'finalClustersold'\n",
       "\\item 'Lineage'\n",
       "\\item 'RNA\\_snn\\_res.0.1'\n",
       "\\item 'seurat\\_clusters'\n",
       "\\item 'percent.MT'\n",
       "\\item 'RNA\\_snn\\_res.0.2'\n",
       "\\item 'finalClusters'\n",
       "\\item 'finalClustersMerged'\n",
       "\\end{enumerate*}\n"
      ],
      "text/markdown": [
       "1. 'orig.ident.x'\n",
       "2. 'nCount_RNA'\n",
       "3. 'nFeature_RNA'\n",
       "4. 'percent.mt'\n",
       "5. 'percent.ERCC'\n",
       "6. 'Sample'\n",
       "7. 'orig.ident.y'\n",
       "8. 'Experiment'\n",
       "9. 'combine_state'\n",
       "10. 'final_lineage'\n",
       "11. 'Cell.type'\n",
       "12. 'finalClustersold'\n",
       "13. 'Lineage'\n",
       "14. 'RNA_snn_res.0.1'\n",
       "15. 'seurat_clusters'\n",
       "16. 'percent.MT'\n",
       "17. 'RNA_snn_res.0.2'\n",
       "18. 'finalClusters'\n",
       "19. 'finalClustersMerged'\n",
       "\n",
       "\n"
      ],
      "text/plain": [
       " [1] \"orig.ident.x\"        \"nCount_RNA\"          \"nFeature_RNA\"       \n",
       " [4] \"percent.mt\"          \"percent.ERCC\"        \"Sample\"             \n",
       " [7] \"orig.ident.y\"        \"Experiment\"          \"combine_state\"      \n",
       "[10] \"final_lineage\"       \"Cell.type\"           \"finalClustersold\"   \n",
       "[13] \"Lineage\"             \"RNA_snn_res.0.1\"     \"seurat_clusters\"    \n",
       "[16] \"percent.MT\"          \"RNA_snn_res.0.2\"     \"finalClusters\"      \n",
       "[19] \"finalClustersMerged\""
      ]
     },
     "metadata": {},
     "output_type": "display_data"
    },
    {
     "data": {
      "text/html": [
       "<style>\n",
       ".list-inline {list-style: none; margin:0; padding: 0}\n",
       ".list-inline>li {display: inline-block}\n",
       ".list-inline>li:not(:last-child)::after {content: \"\\00b7\"; padding: 0 .5ex}\n",
       "</style>\n",
       "<ol class=list-inline><li>7629</li><li>7</li></ol>\n"
      ],
      "text/latex": [
       "\\begin{enumerate*}\n",
       "\\item 7629\n",
       "\\item 7\n",
       "\\end{enumerate*}\n"
      ],
      "text/markdown": [
       "1. 7629\n",
       "2. 7\n",
       "\n",
       "\n"
      ],
      "text/plain": [
       "[1] 7629    7"
      ]
     },
     "metadata": {},
     "output_type": "display_data"
    },
    {
     "data": {
      "text/html": [
       "<style>\n",
       ".list-inline {list-style: none; margin:0; padding: 0}\n",
       ".list-inline>li {display: inline-block}\n",
       ".list-inline>li:not(:last-child)::after {content: \"\\00b7\"; padding: 0 .5ex}\n",
       "</style>\n",
       "<ol class=list-inline><li>8809</li><li>20</li></ol>\n"
      ],
      "text/latex": [
       "\\begin{enumerate*}\n",
       "\\item 8809\n",
       "\\item 20\n",
       "\\end{enumerate*}\n"
      ],
      "text/markdown": [
       "1. 8809\n",
       "2. 20\n",
       "\n",
       "\n"
      ],
      "text/plain": [
       "[1] 8809   20"
      ]
     },
     "metadata": {},
     "output_type": "display_data"
    },
    {
     "data": {
      "text/html": [
       "<style>\n",
       ".list-inline {list-style: none; margin:0; padding: 0}\n",
       ".list-inline>li {display: inline-block}\n",
       ".list-inline>li:not(:last-child)::after {content: \"\\00b7\"; padding: 0 .5ex}\n",
       "</style>\n",
       "<ol class=list-inline><li>'orig.ident.x'</li><li>'nCount_RNA'</li><li>'nFeature_RNA'</li><li>'percent.mt'</li><li>'percent.ERCC'</li><li>'Sample'</li><li>'orig.ident.y'</li><li>'Experiment'</li><li>'combine_state'</li><li>'final_lineage'</li><li>'Cell.type'</li><li>'finalClusters'</li><li>'Lineage'</li><li>'RNA_snn_res.0.1'</li><li>'seurat_clusters'</li><li>'percent.MT'</li><li>'RNA_snn_res.0.2'</li><li>'PRC2i_treatment'</li><li>'Castel_annotation'</li><li>'Talon_annotation'</li></ol>\n"
      ],
      "text/latex": [
       "\\begin{enumerate*}\n",
       "\\item 'orig.ident.x'\n",
       "\\item 'nCount\\_RNA'\n",
       "\\item 'nFeature\\_RNA'\n",
       "\\item 'percent.mt'\n",
       "\\item 'percent.ERCC'\n",
       "\\item 'Sample'\n",
       "\\item 'orig.ident.y'\n",
       "\\item 'Experiment'\n",
       "\\item 'combine\\_state'\n",
       "\\item 'final\\_lineage'\n",
       "\\item 'Cell.type'\n",
       "\\item 'finalClusters'\n",
       "\\item 'Lineage'\n",
       "\\item 'RNA\\_snn\\_res.0.1'\n",
       "\\item 'seurat\\_clusters'\n",
       "\\item 'percent.MT'\n",
       "\\item 'RNA\\_snn\\_res.0.2'\n",
       "\\item 'PRC2i\\_treatment'\n",
       "\\item 'Castel\\_annotation'\n",
       "\\item 'Talon\\_annotation'\n",
       "\\end{enumerate*}\n"
      ],
      "text/markdown": [
       "1. 'orig.ident.x'\n",
       "2. 'nCount_RNA'\n",
       "3. 'nFeature_RNA'\n",
       "4. 'percent.mt'\n",
       "5. 'percent.ERCC'\n",
       "6. 'Sample'\n",
       "7. 'orig.ident.y'\n",
       "8. 'Experiment'\n",
       "9. 'combine_state'\n",
       "10. 'final_lineage'\n",
       "11. 'Cell.type'\n",
       "12. 'finalClusters'\n",
       "13. 'Lineage'\n",
       "14. 'RNA_snn_res.0.1'\n",
       "15. 'seurat_clusters'\n",
       "16. 'percent.MT'\n",
       "17. 'RNA_snn_res.0.2'\n",
       "18. 'PRC2i_treatment'\n",
       "19. 'Castel_annotation'\n",
       "20. 'Talon_annotation'\n",
       "\n",
       "\n"
      ],
      "text/plain": [
       " [1] \"orig.ident.x\"      \"nCount_RNA\"        \"nFeature_RNA\"     \n",
       " [4] \"percent.mt\"        \"percent.ERCC\"      \"Sample\"           \n",
       " [7] \"orig.ident.y\"      \"Experiment\"        \"combine_state\"    \n",
       "[10] \"final_lineage\"     \"Cell.type\"         \"finalClusters\"    \n",
       "[13] \"Lineage\"           \"RNA_snn_res.0.1\"   \"seurat_clusters\"  \n",
       "[16] \"percent.MT\"        \"RNA_snn_res.0.2\"   \"PRC2i_treatment\"  \n",
       "[19] \"Castel_annotation\" \"Talon_annotation\" "
      ]
     },
     "metadata": {},
     "output_type": "display_data"
    }
   ],
   "source": [
    "data_simple_anno@meta.data %>% dim()\n",
    "data_simple_anno@meta.data %>% colnames()\n",
    "data_IT@meta.data %>% dim()\n",
    "seurat@meta.data %>% dim()\n",
    "seurat@meta.data %>% colnames()"
   ]
  },
  {
   "cell_type": "code",
   "execution_count": 21,
   "metadata": {},
   "outputs": [
    {
     "data": {
      "text/html": [
       "<style>\n",
       ".list-inline {list-style: none; margin:0; padding: 0}\n",
       ".list-inline>li {display: inline-block}\n",
       ".list-inline>li:not(:last-child)::after {content: \"\\00b7\"; padding: 0 .5ex}\n",
       "</style>\n",
       "<ol class=list-inline><li>NA</li><li>'Intermediate'</li><li>'TSC'</li><li>'Naive'</li></ol>\n"
      ],
      "text/latex": [
       "\\begin{enumerate*}\n",
       "\\item NA\n",
       "\\item 'Intermediate'\n",
       "\\item 'TSC'\n",
       "\\item 'Naive'\n",
       "\\end{enumerate*}\n"
      ],
      "text/markdown": [
       "1. NA\n",
       "2. 'Intermediate'\n",
       "3. 'TSC'\n",
       "4. 'Naive'\n",
       "\n",
       "\n"
      ],
      "text/plain": [
       "[1] NA             \"Intermediate\" \"TSC\"          \"Naive\"       "
      ]
     },
     "metadata": {},
     "output_type": "display_data"
    },
    {
     "data": {
      "text/html": [
       "<style>\n",
       ".list-inline {list-style: none; margin:0; padding: 0}\n",
       ".list-inline>li {display: inline-block}\n",
       ".list-inline>li:not(:last-child)::after {content: \"\\00b7\"; padding: 0 .5ex}\n",
       "</style>\n",
       "<ol class=list-inline><li>NA</li><li>'No'</li><li>'Yes'</li></ol>\n"
      ],
      "text/latex": [
       "\\begin{enumerate*}\n",
       "\\item NA\n",
       "\\item 'No'\n",
       "\\item 'Yes'\n",
       "\\end{enumerate*}\n"
      ],
      "text/markdown": [
       "1. NA\n",
       "2. 'No'\n",
       "3. 'Yes'\n",
       "\n",
       "\n"
      ],
      "text/plain": [
       "[1] NA    \"No\"  \"Yes\""
      ]
     },
     "metadata": {},
     "output_type": "display_data"
    },
    {
     "data": {
      "text/html": [
       "<style>\n",
       ".list-inline {list-style: none; margin:0; padding: 0}\n",
       ".list-inline>li {display: inline-block}\n",
       ".list-inline>li:not(:last-child)::after {content: \"\\00b7\"; padding: 0 .5ex}\n",
       "</style>\n",
       "<ol class=list-inline><li>'Zhou'</li><li>'Petropoulos'</li><li>'Talon'</li></ol>\n"
      ],
      "text/latex": [
       "\\begin{enumerate*}\n",
       "\\item 'Zhou'\n",
       "\\item 'Petropoulos'\n",
       "\\item 'Talon'\n",
       "\\end{enumerate*}\n"
      ],
      "text/markdown": [
       "1. 'Zhou'\n",
       "2. 'Petropoulos'\n",
       "3. 'Talon'\n",
       "\n",
       "\n"
      ],
      "text/plain": [
       "[1] \"Zhou\"        \"Petropoulos\" \"Talon\"      "
      ]
     },
     "metadata": {},
     "output_type": "display_data"
    },
    {
     "data": {
      "text/html": [
       "<style>\n",
       ".list-inline {list-style: none; margin:0; padding: 0}\n",
       ".list-inline>li {display: inline-block}\n",
       ".list-inline>li:not(:last-child)::after {content: \"\\00b7\"; padding: 0 .5ex}\n",
       "</style>\n",
       "<ol class=list-inline><li>'TB.medium2'</li><li>NA</li><li>'TB.late'</li><li>'Pre.ST'</li><li>'TB.medium3'</li><li>'PrE'</li><li>'Pre.EVT'</li><li>'EPI'</li><li>'ST'</li><li>'EVT'</li><li>'ysTE'</li><li>'early_TE'</li><li>'medium_TE'</li><li>'TB.medium1'</li><li>'TB.early'</li><li>'B1_B2'</li><li>'TB.apoptosis'</li><li>'late_TE'</li><li>'pre_implantation'</li><li>'Unannotated'</li></ol>\n"
      ],
      "text/latex": [
       "\\begin{enumerate*}\n",
       "\\item 'TB.medium2'\n",
       "\\item NA\n",
       "\\item 'TB.late'\n",
       "\\item 'Pre.ST'\n",
       "\\item 'TB.medium3'\n",
       "\\item 'PrE'\n",
       "\\item 'Pre.EVT'\n",
       "\\item 'EPI'\n",
       "\\item 'ST'\n",
       "\\item 'EVT'\n",
       "\\item 'ysTE'\n",
       "\\item 'early\\_TE'\n",
       "\\item 'medium\\_TE'\n",
       "\\item 'TB.medium1'\n",
       "\\item 'TB.early'\n",
       "\\item 'B1\\_B2'\n",
       "\\item 'TB.apoptosis'\n",
       "\\item 'late\\_TE'\n",
       "\\item 'pre\\_implantation'\n",
       "\\item 'Unannotated'\n",
       "\\end{enumerate*}\n"
      ],
      "text/markdown": [
       "1. 'TB.medium2'\n",
       "2. NA\n",
       "3. 'TB.late'\n",
       "4. 'Pre.ST'\n",
       "5. 'TB.medium3'\n",
       "6. 'PrE'\n",
       "7. 'Pre.EVT'\n",
       "8. 'EPI'\n",
       "9. 'ST'\n",
       "10. 'EVT'\n",
       "11. 'ysTE'\n",
       "12. 'early_TE'\n",
       "13. 'medium_TE'\n",
       "14. 'TB.medium1'\n",
       "15. 'TB.early'\n",
       "16. 'B1_B2'\n",
       "17. 'TB.apoptosis'\n",
       "18. 'late_TE'\n",
       "19. 'pre_implantation'\n",
       "20. 'Unannotated'\n",
       "\n",
       "\n"
      ],
      "text/plain": [
       " [1] \"TB.medium2\"       NA                 \"TB.late\"          \"Pre.ST\"          \n",
       " [5] \"TB.medium3\"       \"PrE\"              \"Pre.EVT\"          \"EPI\"             \n",
       " [9] \"ST\"               \"EVT\"              \"ysTE\"             \"early_TE\"        \n",
       "[13] \"medium_TE\"        \"TB.medium1\"       \"TB.early\"         \"B1_B2\"           \n",
       "[17] \"TB.apoptosis\"     \"late_TE\"          \"pre_implantation\" \"Unannotated\"     "
      ]
     },
     "metadata": {},
     "output_type": "display_data"
    },
    {
     "data": {
      "text/html": [
       "<style>\n",
       ".list-inline {list-style: none; margin:0; padding: 0}\n",
       ".list-inline>li {display: inline-block}\n",
       ".list-inline>li:not(:last-child)::after {content: \"\\00b7\"; padding: 0 .5ex}\n",
       "</style>\n",
       "<ol class=list-inline><li>'Embryo Trophoblast'</li><li>'unknown'</li><li>'Embryo ST'</li><li>'PrE'</li><li>'Embryo EVT'</li><li>'Epiblast'</li><li>'ysTE'</li><li>'Embryo TE'</li><li>'(Pre) Blastocyst'</li><li>'EightCells'</li><li>'Intermediate'</li><li>'TSCs'</li><li>'Naive'</li><li>'TSCs_PRC2i'</li><li>'Intermediate_PRC2i'</li></ol>\n"
      ],
      "text/latex": [
       "\\begin{enumerate*}\n",
       "\\item 'Embryo Trophoblast'\n",
       "\\item 'unknown'\n",
       "\\item 'Embryo ST'\n",
       "\\item 'PrE'\n",
       "\\item 'Embryo EVT'\n",
       "\\item 'Epiblast'\n",
       "\\item 'ysTE'\n",
       "\\item 'Embryo TE'\n",
       "\\item '(Pre) Blastocyst'\n",
       "\\item 'EightCells'\n",
       "\\item 'Intermediate'\n",
       "\\item 'TSCs'\n",
       "\\item 'Naive'\n",
       "\\item 'TSCs\\_PRC2i'\n",
       "\\item 'Intermediate\\_PRC2i'\n",
       "\\end{enumerate*}\n"
      ],
      "text/markdown": [
       "1. 'Embryo Trophoblast'\n",
       "2. 'unknown'\n",
       "3. 'Embryo ST'\n",
       "4. 'PrE'\n",
       "5. 'Embryo EVT'\n",
       "6. 'Epiblast'\n",
       "7. 'ysTE'\n",
       "8. 'Embryo TE'\n",
       "9. '(Pre) Blastocyst'\n",
       "10. 'EightCells'\n",
       "11. 'Intermediate'\n",
       "12. 'TSCs'\n",
       "13. 'Naive'\n",
       "14. 'TSCs_PRC2i'\n",
       "15. 'Intermediate_PRC2i'\n",
       "\n",
       "\n"
      ],
      "text/plain": [
       " [1] \"Embryo Trophoblast\" \"unknown\"            \"Embryo ST\"         \n",
       " [4] \"PrE\"                \"Embryo EVT\"         \"Epiblast\"          \n",
       " [7] \"ysTE\"               \"Embryo TE\"          \"(Pre) Blastocyst\"  \n",
       "[10] \"EightCells\"         \"Intermediate\"       \"TSCs\"              \n",
       "[13] \"Naive\"              \"TSCs_PRC2i\"         \"Intermediate_PRC2i\""
      ]
     },
     "metadata": {},
     "output_type": "display_data"
    }
   ],
   "source": [
    "seurat@meta.data$Talon_annotation %>% unique()\n",
    "seurat@meta.data$PRC2i_treatment %>% unique()\n",
    "seurat@meta.data$Experiment %>% unique()\n",
    "seurat@meta.data$Castel_annotation %>% unique()\n",
    "seurat@meta.data$Simplified_annotation %>% unique()"
   ]
  },
  {
   "cell_type": "code",
   "execution_count": 23,
   "metadata": {},
   "outputs": [],
   "source": [
    "add_col_attr(loom = loom, key = \"Talon_annotation\",\n",
    "              value = seurat@meta.data$Talon_annotation, as.annotation = TRUE)\n",
    "add_col_attr(loom = loom, key = \"PRC2i_treatment\",\n",
    "              value = seurat@meta.data$PRC2i_treatment, as.annotation = TRUE)\n",
    "add_col_attr(loom = loom, key = \"Experiment\",\n",
    "              value = seurat@meta.data$Experiment, as.annotation = TRUE)\n",
    "add_col_attr(loom = loom, key = \"Castel_annotation\",\n",
    "              value = seurat@meta.data$Castel_annotation, as.annotation = TRUE)\n",
    "add_col_attr(loom = loom, key = \"Simplified_annotation\",\n",
    "              value = seurat@meta.data$Simplified_annotation, as.annotation = TRUE)"
   ]
  },
  {
   "cell_type": "code",
   "execution_count": 52,
   "metadata": {},
   "outputs": [],
   "source": [
    "seurat_meta.data_backup <- seurat@meta.data"
   ]
  },
  {
   "cell_type": "code",
   "execution_count": 20,
   "metadata": {},
   "outputs": [],
   "source": [
    "seurat@meta.data <- seurat@meta.data[which(!grepl(\"NAIVE\", rownames(seurat@meta.data))),]"
   ]
  },
  {
   "cell_type": "code",
   "execution_count": 55,
   "metadata": {},
   "outputs": [],
   "source": [
    "seurat_meta.data_backup_no_naive <- seurat@meta.data"
   ]
  },
  {
   "cell_type": "code",
   "execution_count": 19,
   "metadata": {},
   "outputs": [],
   "source": [
    "seurat@meta.data[rownames(data_simple_anno@meta.data), \"Simplified_annotation\"] <- data_simple_anno@meta.data$finalClustersMerged "
   ]
  },
  {
   "cell_type": "code",
   "execution_count": 57,
   "metadata": {},
   "outputs": [
    {
     "data": {
      "text/html": [
       "<table class=\"dataframe\">\n",
       "<caption>A data.frame: 6 × 21</caption>\n",
       "<thead>\n",
       "\t<tr><th></th><th scope=col>orig.ident.x</th><th scope=col>nCount_RNA</th><th scope=col>nFeature_RNA</th><th scope=col>percent.mt</th><th scope=col>percent.ERCC</th><th scope=col>Sample</th><th scope=col>orig.ident.y</th><th scope=col>Experiment</th><th scope=col>combine_state</th><th scope=col>final_lineage</th><th scope=col>⋯</th><th scope=col>finalClusters</th><th scope=col>Lineage</th><th scope=col>RNA_snn_res.0.1</th><th scope=col>seurat_clusters</th><th scope=col>percent.MT</th><th scope=col>RNA_snn_res.0.2</th><th scope=col>PRC2i_treatment</th><th scope=col>Castel_annotation</th><th scope=col>Talon_annotation</th><th scope=col>Simplified_annotation</th></tr>\n",
       "\t<tr><th></th><th scope=col>&lt;chr&gt;</th><th scope=col>&lt;dbl&gt;</th><th scope=col>&lt;int&gt;</th><th scope=col>&lt;dbl&gt;</th><th scope=col>&lt;dbl&gt;</th><th scope=col>&lt;chr&gt;</th><th scope=col>&lt;chr&gt;</th><th scope=col>&lt;chr&gt;</th><th scope=col>&lt;chr&gt;</th><th scope=col>&lt;chr&gt;</th><th scope=col>⋯</th><th scope=col>&lt;chr&gt;</th><th scope=col>&lt;chr&gt;</th><th scope=col>&lt;chr&gt;</th><th scope=col>&lt;chr&gt;</th><th scope=col>&lt;dbl&gt;</th><th scope=col>&lt;chr&gt;</th><th scope=col>&lt;chr&gt;</th><th scope=col>&lt;chr&gt;</th><th scope=col>&lt;chr&gt;</th><th scope=col>&lt;chr&gt;</th></tr>\n",
       "</thead>\n",
       "<tbody>\n",
       "\t<tr><th scope=row>D10_IVC4_E1_B1_10</th><td>VP_Messmer_Petropoulos_Zhou</td><td> 788590</td><td>10072</td><td>0</td><td>0</td><td>D10_IVC4_E1_B1_10</td><td>IVC4</td><td>Zhou</td><td>E1</td><td>TE</td><td>⋯</td><td>TB.medium2</td><td>TE _ Zhou</td><td>0</td><td>0</td><td>NA</td><td>NA</td><td>No</td><td>TB.medium2</td><td>NA</td><td>Embryo Trophoblast</td></tr>\n",
       "\t<tr><th scope=row>D10_IVC4_E1_B1_11</th><td>VP_Messmer_Petropoulos_Zhou</td><td>  46029</td><td> 3923</td><td>0</td><td>0</td><td>D10_IVC4_E1_B1_11</td><td>IVC4</td><td>Zhou</td><td>E1</td><td>TE</td><td>⋯</td><td>NA        </td><td>TE _ Zhou</td><td>1</td><td>1</td><td>NA</td><td>NA</td><td>No</td><td>NA        </td><td>NA</td><td>unknown           </td></tr>\n",
       "\t<tr><th scope=row>D10_IVC4_E1_B1_12</th><td>VP_Messmer_Petropoulos_Zhou</td><td> 146063</td><td> 7508</td><td>0</td><td>0</td><td>D10_IVC4_E1_B1_12</td><td>IVC4</td><td>Zhou</td><td>E1</td><td>TE</td><td>⋯</td><td>TB.late   </td><td>TE _ Zhou</td><td>0</td><td>0</td><td>NA</td><td>NA</td><td>No</td><td>TB.late   </td><td>NA</td><td>Embryo Trophoblast</td></tr>\n",
       "\t<tr><th scope=row>D10_IVC4_E1_B1_13</th><td>VP_Messmer_Petropoulos_Zhou</td><td>1262641</td><td>10042</td><td>0</td><td>0</td><td>D10_IVC4_E1_B1_13</td><td>IVC4</td><td>Zhou</td><td>E1</td><td>TE</td><td>⋯</td><td>Pre.ST    </td><td>TE _ Zhou</td><td>1</td><td>1</td><td>NA</td><td>NA</td><td>No</td><td>Pre.ST    </td><td>NA</td><td>Embryo ST         </td></tr>\n",
       "\t<tr><th scope=row>D10_IVC4_E1_B1_14</th><td>VP_Messmer_Petropoulos_Zhou</td><td>  24702</td><td> 3347</td><td>0</td><td>0</td><td>D10_IVC4_E1_B1_14</td><td>IVC4</td><td>Zhou</td><td>E1</td><td>TE</td><td>⋯</td><td>NA        </td><td>TE _ Zhou</td><td>1</td><td>1</td><td>NA</td><td>NA</td><td>No</td><td>NA        </td><td>NA</td><td>unknown           </td></tr>\n",
       "\t<tr><th scope=row>D10_IVC4_E1_B1_15</th><td>VP_Messmer_Petropoulos_Zhou</td><td>2358380</td><td>12107</td><td>0</td><td>0</td><td>D10_IVC4_E1_B1_15</td><td>IVC4</td><td>Zhou</td><td>E1</td><td>TE</td><td>⋯</td><td>TB.late   </td><td>TE _ Zhou</td><td>1</td><td>1</td><td>NA</td><td>NA</td><td>No</td><td>TB.late   </td><td>NA</td><td>Embryo Trophoblast</td></tr>\n",
       "</tbody>\n",
       "</table>\n"
      ],
      "text/latex": [
       "A data.frame: 6 × 21\n",
       "\\begin{tabular}{r|lllllllllllllllllllll}\n",
       "  & orig.ident.x & nCount\\_RNA & nFeature\\_RNA & percent.mt & percent.ERCC & Sample & orig.ident.y & Experiment & combine\\_state & final\\_lineage & ⋯ & finalClusters & Lineage & RNA\\_snn\\_res.0.1 & seurat\\_clusters & percent.MT & RNA\\_snn\\_res.0.2 & PRC2i\\_treatment & Castel\\_annotation & Talon\\_annotation & Simplified\\_annotation\\\\\n",
       "  & <chr> & <dbl> & <int> & <dbl> & <dbl> & <chr> & <chr> & <chr> & <chr> & <chr> & ⋯ & <chr> & <chr> & <chr> & <chr> & <dbl> & <chr> & <chr> & <chr> & <chr> & <chr>\\\\\n",
       "\\hline\n",
       "\tD10\\_IVC4\\_E1\\_B1\\_10 & VP\\_Messmer\\_Petropoulos\\_Zhou &  788590 & 10072 & 0 & 0 & D10\\_IVC4\\_E1\\_B1\\_10 & IVC4 & Zhou & E1 & TE & ⋯ & TB.medium2 & TE \\_ Zhou & 0 & 0 & NA & NA & No & TB.medium2 & NA & Embryo Trophoblast\\\\\n",
       "\tD10\\_IVC4\\_E1\\_B1\\_11 & VP\\_Messmer\\_Petropoulos\\_Zhou &   46029 &  3923 & 0 & 0 & D10\\_IVC4\\_E1\\_B1\\_11 & IVC4 & Zhou & E1 & TE & ⋯ & NA         & TE \\_ Zhou & 1 & 1 & NA & NA & No & NA         & NA & unknown           \\\\\n",
       "\tD10\\_IVC4\\_E1\\_B1\\_12 & VP\\_Messmer\\_Petropoulos\\_Zhou &  146063 &  7508 & 0 & 0 & D10\\_IVC4\\_E1\\_B1\\_12 & IVC4 & Zhou & E1 & TE & ⋯ & TB.late    & TE \\_ Zhou & 0 & 0 & NA & NA & No & TB.late    & NA & Embryo Trophoblast\\\\\n",
       "\tD10\\_IVC4\\_E1\\_B1\\_13 & VP\\_Messmer\\_Petropoulos\\_Zhou & 1262641 & 10042 & 0 & 0 & D10\\_IVC4\\_E1\\_B1\\_13 & IVC4 & Zhou & E1 & TE & ⋯ & Pre.ST     & TE \\_ Zhou & 1 & 1 & NA & NA & No & Pre.ST     & NA & Embryo ST         \\\\\n",
       "\tD10\\_IVC4\\_E1\\_B1\\_14 & VP\\_Messmer\\_Petropoulos\\_Zhou &   24702 &  3347 & 0 & 0 & D10\\_IVC4\\_E1\\_B1\\_14 & IVC4 & Zhou & E1 & TE & ⋯ & NA         & TE \\_ Zhou & 1 & 1 & NA & NA & No & NA         & NA & unknown           \\\\\n",
       "\tD10\\_IVC4\\_E1\\_B1\\_15 & VP\\_Messmer\\_Petropoulos\\_Zhou & 2358380 & 12107 & 0 & 0 & D10\\_IVC4\\_E1\\_B1\\_15 & IVC4 & Zhou & E1 & TE & ⋯ & TB.late    & TE \\_ Zhou & 1 & 1 & NA & NA & No & TB.late    & NA & Embryo Trophoblast\\\\\n",
       "\\end{tabular}\n"
      ],
      "text/markdown": [
       "\n",
       "A data.frame: 6 × 21\n",
       "\n",
       "| <!--/--> | orig.ident.x &lt;chr&gt; | nCount_RNA &lt;dbl&gt; | nFeature_RNA &lt;int&gt; | percent.mt &lt;dbl&gt; | percent.ERCC &lt;dbl&gt; | Sample &lt;chr&gt; | orig.ident.y &lt;chr&gt; | Experiment &lt;chr&gt; | combine_state &lt;chr&gt; | final_lineage &lt;chr&gt; | ⋯ ⋯ | finalClusters &lt;chr&gt; | Lineage &lt;chr&gt; | RNA_snn_res.0.1 &lt;chr&gt; | seurat_clusters &lt;chr&gt; | percent.MT &lt;dbl&gt; | RNA_snn_res.0.2 &lt;chr&gt; | PRC2i_treatment &lt;chr&gt; | Castel_annotation &lt;chr&gt; | Talon_annotation &lt;chr&gt; | Simplified_annotation &lt;chr&gt; |\n",
       "|---|---|---|---|---|---|---|---|---|---|---|---|---|---|---|---|---|---|---|---|---|---|\n",
       "| D10_IVC4_E1_B1_10 | VP_Messmer_Petropoulos_Zhou |  788590 | 10072 | 0 | 0 | D10_IVC4_E1_B1_10 | IVC4 | Zhou | E1 | TE | ⋯ | TB.medium2 | TE _ Zhou | 0 | 0 | NA | NA | No | TB.medium2 | NA | Embryo Trophoblast |\n",
       "| D10_IVC4_E1_B1_11 | VP_Messmer_Petropoulos_Zhou |   46029 |  3923 | 0 | 0 | D10_IVC4_E1_B1_11 | IVC4 | Zhou | E1 | TE | ⋯ | NA         | TE _ Zhou | 1 | 1 | NA | NA | No | NA         | NA | unknown            |\n",
       "| D10_IVC4_E1_B1_12 | VP_Messmer_Petropoulos_Zhou |  146063 |  7508 | 0 | 0 | D10_IVC4_E1_B1_12 | IVC4 | Zhou | E1 | TE | ⋯ | TB.late    | TE _ Zhou | 0 | 0 | NA | NA | No | TB.late    | NA | Embryo Trophoblast |\n",
       "| D10_IVC4_E1_B1_13 | VP_Messmer_Petropoulos_Zhou | 1262641 | 10042 | 0 | 0 | D10_IVC4_E1_B1_13 | IVC4 | Zhou | E1 | TE | ⋯ | Pre.ST     | TE _ Zhou | 1 | 1 | NA | NA | No | Pre.ST     | NA | Embryo ST          |\n",
       "| D10_IVC4_E1_B1_14 | VP_Messmer_Petropoulos_Zhou |   24702 |  3347 | 0 | 0 | D10_IVC4_E1_B1_14 | IVC4 | Zhou | E1 | TE | ⋯ | NA         | TE _ Zhou | 1 | 1 | NA | NA | No | NA         | NA | unknown            |\n",
       "| D10_IVC4_E1_B1_15 | VP_Messmer_Petropoulos_Zhou | 2358380 | 12107 | 0 | 0 | D10_IVC4_E1_B1_15 | IVC4 | Zhou | E1 | TE | ⋯ | TB.late    | TE _ Zhou | 1 | 1 | NA | NA | No | TB.late    | NA | Embryo Trophoblast |\n",
       "\n"
      ],
      "text/plain": [
       "                  orig.ident.x                nCount_RNA nFeature_RNA\n",
       "D10_IVC4_E1_B1_10 VP_Messmer_Petropoulos_Zhou  788590    10072       \n",
       "D10_IVC4_E1_B1_11 VP_Messmer_Petropoulos_Zhou   46029     3923       \n",
       "D10_IVC4_E1_B1_12 VP_Messmer_Petropoulos_Zhou  146063     7508       \n",
       "D10_IVC4_E1_B1_13 VP_Messmer_Petropoulos_Zhou 1262641    10042       \n",
       "D10_IVC4_E1_B1_14 VP_Messmer_Petropoulos_Zhou   24702     3347       \n",
       "D10_IVC4_E1_B1_15 VP_Messmer_Petropoulos_Zhou 2358380    12107       \n",
       "                  percent.mt percent.ERCC Sample            orig.ident.y\n",
       "D10_IVC4_E1_B1_10 0          0            D10_IVC4_E1_B1_10 IVC4        \n",
       "D10_IVC4_E1_B1_11 0          0            D10_IVC4_E1_B1_11 IVC4        \n",
       "D10_IVC4_E1_B1_12 0          0            D10_IVC4_E1_B1_12 IVC4        \n",
       "D10_IVC4_E1_B1_13 0          0            D10_IVC4_E1_B1_13 IVC4        \n",
       "D10_IVC4_E1_B1_14 0          0            D10_IVC4_E1_B1_14 IVC4        \n",
       "D10_IVC4_E1_B1_15 0          0            D10_IVC4_E1_B1_15 IVC4        \n",
       "                  Experiment combine_state final_lineage <U+22EF>   finalClusters\n",
       "D10_IVC4_E1_B1_10 Zhou       E1            TE            <U+22EF> TB.medium2   \n",
       "D10_IVC4_E1_B1_11 Zhou       E1            TE            <U+22EF> NA           \n",
       "D10_IVC4_E1_B1_12 Zhou       E1            TE            <U+22EF> TB.late      \n",
       "D10_IVC4_E1_B1_13 Zhou       E1            TE            <U+22EF> Pre.ST       \n",
       "D10_IVC4_E1_B1_14 Zhou       E1            TE            <U+22EF> NA           \n",
       "D10_IVC4_E1_B1_15 Zhou       E1            TE            <U+22EF> TB.late      \n",
       "                  Lineage   RNA_snn_res.0.1 seurat_clusters percent.MT\n",
       "D10_IVC4_E1_B1_10 TE _ Zhou 0               0               NA        \n",
       "D10_IVC4_E1_B1_11 TE _ Zhou 1               1               NA        \n",
       "D10_IVC4_E1_B1_12 TE _ Zhou 0               0               NA        \n",
       "D10_IVC4_E1_B1_13 TE _ Zhou 1               1               NA        \n",
       "D10_IVC4_E1_B1_14 TE _ Zhou 1               1               NA        \n",
       "D10_IVC4_E1_B1_15 TE _ Zhou 1               1               NA        \n",
       "                  RNA_snn_res.0.2 PRC2i_treatment Castel_annotation\n",
       "D10_IVC4_E1_B1_10 NA              No              TB.medium2       \n",
       "D10_IVC4_E1_B1_11 NA              No              NA               \n",
       "D10_IVC4_E1_B1_12 NA              No              TB.late          \n",
       "D10_IVC4_E1_B1_13 NA              No              Pre.ST           \n",
       "D10_IVC4_E1_B1_14 NA              No              NA               \n",
       "D10_IVC4_E1_B1_15 NA              No              TB.late          \n",
       "                  Talon_annotation Simplified_annotation\n",
       "D10_IVC4_E1_B1_10 NA               Embryo Trophoblast   \n",
       "D10_IVC4_E1_B1_11 NA               unknown              \n",
       "D10_IVC4_E1_B1_12 NA               Embryo Trophoblast   \n",
       "D10_IVC4_E1_B1_13 NA               Embryo ST            \n",
       "D10_IVC4_E1_B1_14 NA               unknown              \n",
       "D10_IVC4_E1_B1_15 NA               Embryo Trophoblast   "
      ]
     },
     "metadata": {},
     "output_type": "display_data"
    }
   ],
   "source": [
    "head(seurat@meta.data)"
   ]
  },
  {
   "cell_type": "markdown",
   "metadata": {},
   "source": [
    "# Done!\n",
    "#### Loom file is automatically updated"
   ]
  },
  {
   "cell_type": "code",
   "execution_count": null,
   "metadata": {},
   "outputs": [],
   "source": [
    "sessionInfo()"
   ]
  }
 ],
 "metadata": {
  "kernelspec": {
   "display_name": "R",
   "language": "R",
   "name": "ir"
  },
  "language_info": {
   "codemirror_mode": "r",
   "file_extension": ".r",
   "mimetype": "text/x-r-source",
   "name": "R",
   "pygments_lexer": "r",
   "version": "3.6.1"
  }
 },
 "nbformat": 4,
 "nbformat_minor": 5
}
