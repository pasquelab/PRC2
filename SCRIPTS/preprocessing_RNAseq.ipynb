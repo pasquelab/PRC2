{
 "cells": [
  {
   "cell_type": "markdown",
   "metadata": {},
   "source": [
    "- 13_Primed: CTTGTA\n",
    "- 14_Primed: AGTCAA\n",
    "- 15_Primed: AGTTCC\n",
    "- 16_Primed_PRC2i: ATGTCA\n",
    "- 17_Primed_PRC2i: CCGTCC\n",
    "- 18_Primed_PRC2i: GTCCGC\n",
    "- 19_Naïve: GTGAAA\n",
    "- 20_Naïve: GGCTAC\n",
    "- 21_Naïve: GTGGCC\n",
    "- 22_Naïve_PRC2i: GTTTCG\n",
    "- 23_Naïve_PRC2i: CGTACG\n",
    "- 24_Naïve_PRC2i: GAGTGG"
   ]
  },
  {
   "cell_type": "markdown",
   "metadata": {},
   "source": [
    "# Fastq Quality check:"
   ]
  },
  {
   "cell_type": "code",
   "execution_count": 1,
   "metadata": {},
   "outputs": [],
   "source": [
    "cd /lustre1/project/stg_00041/Irene/Human_sequencing/"
   ]
  },
  {
   "cell_type": "code",
   "execution_count": 2,
   "metadata": {},
   "outputs": [],
   "source": [
    "module load FastQC"
   ]
  },
  {
   "cell_type": "code",
   "execution_count": 3,
   "metadata": {},
   "outputs": [
    {
     "name": "stdout",
     "output_type": "stream",
     "text": [
      "FastQC v0.11.8\n"
     ]
    }
   ],
   "source": [
    "fastqc --version "
   ]
  },
  {
   "cell_type": "code",
   "execution_count": 3,
   "metadata": {},
   "outputs": [
    {
     "name": "stdout",
     "output_type": "stream",
     "text": [
      "Started analysis of GC1002488_AGTCAA.200529.HiSeq4000.FCA.lane5.gcap_19_01.R1.fastq.gz\n",
      "Approx 5% complete for GC1002488_AGTCAA.200529.HiSeq4000.FCA.lane5.gcap_19_01.R1.fastq.gz\n",
      "Approx 10% complete for GC1002488_AGTCAA.200529.HiSeq4000.FCA.lane5.gcap_19_01.R1.fastq.gz\n",
      "Approx 15% complete for GC1002488_AGTCAA.200529.HiSeq4000.FCA.lane5.gcap_19_01.R1.fastq.gz\n",
      "Approx 20% complete for GC1002488_AGTCAA.200529.HiSeq4000.FCA.lane5.gcap_19_01.R1.fastq.gz\n",
      "Approx 25% complete for GC1002488_AGTCAA.200529.HiSeq4000.FCA.lane5.gcap_19_01.R1.fastq.gz\n",
      "Approx 30% complete for GC1002488_AGTCAA.200529.HiSeq4000.FCA.lane5.gcap_19_01.R1.fastq.gz\n",
      "Approx 35% complete for GC1002488_AGTCAA.200529.HiSeq4000.FCA.lane5.gcap_19_01.R1.fastq.gz\n",
      "Approx 40% complete for GC1002488_AGTCAA.200529.HiSeq4000.FCA.lane5.gcap_19_01.R1.fastq.gz\n",
      "Approx 45% complete for GC1002488_AGTCAA.200529.HiSeq4000.FCA.lane5.gcap_19_01.R1.fastq.gz\n",
      "Approx 50% complete for GC1002488_AGTCAA.200529.HiSeq4000.FCA.lane5.gcap_19_01.R1.fastq.gz\n",
      "Approx 55% complete for GC1002488_AGTCAA.200529.HiSeq4000.FCA.lane5.gcap_19_01.R1.fastq.gz\n",
      "Approx 60% complete for GC1002488_AGTCAA.200529.HiSeq4000.FCA.lane5.gcap_19_01.R1.fastq.gz\n",
      "Approx 65% complete for GC1002488_AGTCAA.200529.HiSeq4000.FCA.lane5.gcap_19_01.R1.fastq.gz\n",
      "Approx 70% complete for GC1002488_AGTCAA.200529.HiSeq4000.FCA.lane5.gcap_19_01.R1.fastq.gz\n",
      "Approx 75% complete for GC1002488_AGTCAA.200529.HiSeq4000.FCA.lane5.gcap_19_01.R1.fastq.gz\n",
      "Approx 80% complete for GC1002488_AGTCAA.200529.HiSeq4000.FCA.lane5.gcap_19_01.R1.fastq.gz\n",
      "Approx 85% complete for GC1002488_AGTCAA.200529.HiSeq4000.FCA.lane5.gcap_19_01.R1.fastq.gz\n",
      "Approx 90% complete for GC1002488_AGTCAA.200529.HiSeq4000.FCA.lane5.gcap_19_01.R1.fastq.gz\n",
      "Approx 95% complete for GC1002488_AGTCAA.200529.HiSeq4000.FCA.lane5.gcap_19_01.R1.fastq.gz\n",
      "Analysis complete for GC1002488_AGTCAA.200529.HiSeq4000.FCA.lane5.gcap_19_01.R1.fastq.gz\n"
     ]
    }
   ],
   "source": [
    "fastqc GC1002488_AGTCAA.200529.HiSeq4000.FCA.lane5.gcap_19_01.R1.fastq.gz"
   ]
  },
  {
   "cell_type": "code",
   "execution_count": 6,
   "metadata": {},
   "outputs": [
    {
     "name": "stdout",
     "output_type": "stream",
     "text": [
      "Started analysis of GC1002488_GTGGCC.200529.HiSeq4000.FCA.lane5.gcap_19_01.R1.fastq.gz\n",
      "Approx 5% complete for GC1002488_GTGGCC.200529.HiSeq4000.FCA.lane5.gcap_19_01.R1.fastq.gz\n",
      "Approx 10% complete for GC1002488_GTGGCC.200529.HiSeq4000.FCA.lane5.gcap_19_01.R1.fastq.gz\n",
      "Approx 15% complete for GC1002488_GTGGCC.200529.HiSeq4000.FCA.lane5.gcap_19_01.R1.fastq.gz\n",
      "Approx 20% complete for GC1002488_GTGGCC.200529.HiSeq4000.FCA.lane5.gcap_19_01.R1.fastq.gz\n",
      "Approx 25% complete for GC1002488_GTGGCC.200529.HiSeq4000.FCA.lane5.gcap_19_01.R1.fastq.gz\n",
      "Approx 30% complete for GC1002488_GTGGCC.200529.HiSeq4000.FCA.lane5.gcap_19_01.R1.fastq.gz\n",
      "Approx 35% complete for GC1002488_GTGGCC.200529.HiSeq4000.FCA.lane5.gcap_19_01.R1.fastq.gz\n",
      "Approx 40% complete for GC1002488_GTGGCC.200529.HiSeq4000.FCA.lane5.gcap_19_01.R1.fastq.gz\n",
      "Approx 45% complete for GC1002488_GTGGCC.200529.HiSeq4000.FCA.lane5.gcap_19_01.R1.fastq.gz\n",
      "Approx 50% complete for GC1002488_GTGGCC.200529.HiSeq4000.FCA.lane5.gcap_19_01.R1.fastq.gz\n",
      "Approx 55% complete for GC1002488_GTGGCC.200529.HiSeq4000.FCA.lane5.gcap_19_01.R1.fastq.gz\n",
      "Approx 60% complete for GC1002488_GTGGCC.200529.HiSeq4000.FCA.lane5.gcap_19_01.R1.fastq.gz\n",
      "Approx 65% complete for GC1002488_GTGGCC.200529.HiSeq4000.FCA.lane5.gcap_19_01.R1.fastq.gz\n",
      "Approx 70% complete for GC1002488_GTGGCC.200529.HiSeq4000.FCA.lane5.gcap_19_01.R1.fastq.gz\n",
      "Approx 75% complete for GC1002488_GTGGCC.200529.HiSeq4000.FCA.lane5.gcap_19_01.R1.fastq.gz\n",
      "Approx 80% complete for GC1002488_GTGGCC.200529.HiSeq4000.FCA.lane5.gcap_19_01.R1.fastq.gz\n",
      "Approx 85% complete for GC1002488_GTGGCC.200529.HiSeq4000.FCA.lane5.gcap_19_01.R1.fastq.gz\n",
      "Approx 90% complete for GC1002488_GTGGCC.200529.HiSeq4000.FCA.lane5.gcap_19_01.R1.fastq.gz\n",
      "Approx 95% complete for GC1002488_GTGGCC.200529.HiSeq4000.FCA.lane5.gcap_19_01.R1.fastq.gz\n",
      "Analysis complete for GC1002488_GTGGCC.200529.HiSeq4000.FCA.lane5.gcap_19_01.R1.fastq.gz\n"
     ]
    }
   ],
   "source": [
    "fastqc GC1002488_GTGGCC.200529.HiSeq4000.FCA.lane5.gcap_19_01.R1.fastq.gz"
   ]
  },
  {
   "cell_type": "code",
   "execution_count": 8,
   "metadata": {},
   "outputs": [
    {
     "name": "stdout",
     "output_type": "stream",
     "text": [
      "total 20491776\n",
      " 924160 -rw-r--r-- 1 vsc33185 vsc33185  945855396 Jun  4 11:08 \u001b[0m\u001b[01;31mRNAseq_AGTCAA.fastq.gz\u001b[0m\n",
      " 749056 -rw-r----- 1 vsc33185 vsc33185  767027572 Jun 15 19:08 RNAseq_AGTCAA_STARAligned.sortedByCoord.out.bam\n",
      "      0 -rw-r----- 1 vsc33185 vsc33185       2023 Jun 15 19:08 RNAseq_AGTCAA_STARLog.final.out\n",
      "    512 -rw-r----- 1 vsc33185 vsc33185      40884 Jun 15 19:08 RNAseq_AGTCAA_STARLog.out\n",
      "      0 -rw-r----- 1 vsc33185 vsc33185        246 Jun 15 19:08 RNAseq_AGTCAA_STARLog.progress.out\n",
      "   5632 -rw-r----- 1 vsc33185 vsc33185    5465407 Jun 15 19:08 RNAseq_AGTCAA_STARSJ.out.tab\n",
      "    512 -rw-r----- 1 vsc33185 vsc33185     252842 Jun  4 12:13 RNAseq_AGTCAA_fastqc.html\n",
      "    512 -rw-r----- 1 vsc33185 vsc33185     345217 Jun  4 12:13 \u001b[01;31mRNAseq_AGTCAA_fastqc.zip\u001b[0m\n",
      "1084928 -rw-r--r-- 1 vsc33185 vsc33185 1110784847 Jun  4 12:40 \u001b[01;31mRNAseq_AGTTCC.fastq.gz\u001b[0m\n",
      " 843264 -rw-r----- 1 vsc33185 vsc33185  863261236 Jun 15 19:06 RNAseq_AGTTCC_STARAligned.sortedByCoord.out.bam\n",
      "      0 -rw-r----- 1 vsc33185 vsc33185       2024 Jun 15 19:06 RNAseq_AGTTCC_STARLog.final.out\n",
      "    512 -rw-r----- 1 vsc33185 vsc33185      40883 Jun 15 19:06 RNAseq_AGTTCC_STARLog.out\n",
      "      0 -rw-r----- 1 vsc33185 vsc33185        364 Jun 15 19:06 RNAseq_AGTTCC_STARLog.progress.out\n",
      "   5632 -rw-r----- 1 vsc33185 vsc33185    5464793 Jun 15 19:05 RNAseq_AGTTCC_STARSJ.out.tab\n",
      "    512 -rw-r----- 1 vsc33185 vsc33185     254783 Jun  4 14:23 RNAseq_AGTTCC_fastqc.html\n",
      "    512 -rw-r----- 1 vsc33185 vsc33185     346507 Jun  4 14:23 \u001b[01;31mRNAseq_AGTTCC_fastqc.zip\u001b[0m\n",
      " 921088 -rw-r--r-- 1 vsc33185 vsc33185  943136202 Jun  4 12:27 \u001b[01;31mRNAseq_ATGTCA.fastq.gz\u001b[0m\n",
      " 744448 -rw-r----- 1 vsc33185 vsc33185  762261289 Jun 15 19:04 RNAseq_ATGTCA_STARAligned.sortedByCoord.out.bam\n",
      "      0 -rw-r----- 1 vsc33185 vsc33185       2023 Jun 15 19:04 RNAseq_ATGTCA_STARLog.final.out\n",
      "    512 -rw-r----- 1 vsc33185 vsc33185      40877 Jun 15 19:04 RNAseq_ATGTCA_STARLog.out\n",
      "      0 -rw-r----- 1 vsc33185 vsc33185        246 Jun 15 19:04 RNAseq_ATGTCA_STARLog.progress.out\n",
      "   5632 -rw-r----- 1 vsc33185 vsc33185    5479008 Jun 15 19:04 RNAseq_ATGTCA_STARSJ.out.tab\n",
      "    512 -rw-r----- 1 vsc33185 vsc33185     253844 Jun  4 14:25 RNAseq_ATGTCA_fastqc.html\n",
      "    512 -rw-r----- 1 vsc33185 vsc33185     345060 Jun  4 14:25 \u001b[01;31mRNAseq_ATGTCA_fastqc.zip\u001b[0m\n",
      "1141760 -rw-r--r-- 1 vsc33185 vsc33185 1168667521 Jun  4 13:27 \u001b[01;31mRNAseq_CCGTCC.fastq.gz\u001b[0m\n",
      " 918528 -rw-r----- 1 vsc33185 vsc33185  940203445 Jun 16 11:10 RNAseq_CCGTCC_STARAligned.sortedByCoord.out.bam\n",
      "      0 -rw-r----- 1 vsc33185 vsc33185       2024 Jun 16 11:10 RNAseq_CCGTCC_STARLog.final.out\n",
      "    512 -rw-r----- 1 vsc33185 vsc33185      40879 Jun 16 11:10 RNAseq_CCGTCC_STARLog.out\n",
      "      0 -rw-r----- 1 vsc33185 vsc33185        364 Jun 16 11:10 RNAseq_CCGTCC_STARLog.progress.out\n",
      "   6144 -rw-r----- 1 vsc33185 vsc33185    5791816 Jun 16 11:10 RNAseq_CCGTCC_STARSJ.out.tab\n",
      "    512 -rw-r----- 1 vsc33185 vsc33185     254714 Jun  4 14:27 RNAseq_CCGTCC_fastqc.html\n",
      "    512 -rw-r----- 1 vsc33185 vsc33185     346909 Jun  4 14:27 \u001b[01;31mRNAseq_CCGTCC_fastqc.zip\u001b[0m\n",
      " 749568 -rw-r--r-- 1 vsc33185 vsc33185  767294255 Jun  4 13:25 \u001b[01;31mRNAseq_CGTACG.fastq.gz\u001b[0m\n",
      " 577536 -rw-r----- 1 vsc33185 vsc33185  591239301 Jun 15 19:03 RNAseq_CGTACG_STARAligned.sortedByCoord.out.bam\n",
      "      0 -rw-r----- 1 vsc33185 vsc33185       2024 Jun 15 19:03 RNAseq_CGTACG_STARLog.final.out\n",
      "    512 -rw-r----- 1 vsc33185 vsc33185      40880 Jun 15 19:03 RNAseq_CGTACG_STARLog.out\n",
      "      0 -rw-r----- 1 vsc33185 vsc33185        246 Jun 15 19:03 RNAseq_CGTACG_STARLog.progress.out\n",
      "   5120 -rw-r----- 1 vsc33185 vsc33185    4889603 Jun 15 19:03 RNAseq_CGTACG_STARSJ.out.tab\n",
      "    512 -rw-r----- 1 vsc33185 vsc33185     253028 Jun  4 14:28 RNAseq_CGTACG_fastqc.html\n",
      "    512 -rw-r----- 1 vsc33185 vsc33185     343899 Jun  4 14:28 \u001b[01;31mRNAseq_CGTACG_fastqc.zip\u001b[0m\n",
      " 962048 -rw-r--r-- 1 vsc33185 vsc33185  985129151 Jun  4 13:30 \u001b[01;31mRNAseq_CTTGTA.fastq.gz\u001b[0m\n",
      " 750080 -rw-r----- 1 vsc33185 vsc33185  767818633 Jun 15 19:01 RNAseq_CTTGTA_STARAligned.sortedByCoord.out.bam\n",
      "      0 -rw-r----- 1 vsc33185 vsc33185       2024 Jun 15 19:01 RNAseq_CTTGTA_STARLog.final.out\n",
      "    512 -rw-r----- 1 vsc33185 vsc33185      40877 Jun 15 19:01 RNAseq_CTTGTA_STARLog.out\n",
      "      0 -rw-r----- 1 vsc33185 vsc33185        364 Jun 15 19:01 RNAseq_CTTGTA_STARLog.progress.out\n",
      "   5632 -rw-r----- 1 vsc33185 vsc33185    5385375 Jun 15 19:01 RNAseq_CTTGTA_STARSJ.out.tab\n",
      "    512 -rw-r----- 1 vsc33185 vsc33185     256589 Jun  4 14:30 RNAseq_CTTGTA_fastqc.html\n",
      "    512 -rw-r----- 1 vsc33185 vsc33185     348148 Jun  4 14:30 \u001b[01;31mRNAseq_CTTGTA_fastqc.zip\u001b[0m\n",
      " 630784 -rw-r--r-- 1 vsc33185 vsc33185  645449450 Jun  4 13:31 \u001b[01;31mRNAseq_GAGTGG.fastq.gz\u001b[0m\n",
      " 478720 -rw-r----- 1 vsc33185 vsc33185  490143612 Jun 15 18:58 RNAseq_GAGTGG_STARAligned.sortedByCoord.out.bam\n",
      "      0 -rw-r----- 1 vsc33185 vsc33185       2024 Jun 15 18:58 RNAseq_GAGTGG_STARLog.final.out\n",
      "    512 -rw-r----- 1 vsc33185 vsc33185      40872 Jun 15 18:58 RNAseq_GAGTGG_STARLog.out\n",
      "      0 -rw-r----- 1 vsc33185 vsc33185        246 Jun 15 18:58 RNAseq_GAGTGG_STARLog.progress.out\n",
      "   4608 -rw-r----- 1 vsc33185 vsc33185    4582862 Jun 15 18:58 RNAseq_GAGTGG_STARSJ.out.tab\n",
      "    512 -rw-r----- 1 vsc33185 vsc33185     254343 Jun  4 14:31 RNAseq_GAGTGG_fastqc.html\n",
      "    512 -rw-r----- 1 vsc33185 vsc33185     345352 Jun  4 14:31 \u001b[01;31mRNAseq_GAGTGG_fastqc.zip\u001b[0m\n",
      " 762880 -rw-r--r-- 1 vsc33185 vsc33185  781156228 Jun  4 13:34 \u001b[01;31mRNAseq_GGCTAC.fastq.gz\u001b[0m\n",
      " 589312 -rw-r----- 1 vsc33185 vsc33185  603367681 Jun 15 18:54 RNAseq_GGCTAC_STARAligned.sortedByCoord.out.bam\n",
      "      0 -rw-r----- 1 vsc33185 vsc33185       2024 Jun 15 18:54 RNAseq_GGCTAC_STARLog.final.out\n",
      "    512 -rw-r----- 1 vsc33185 vsc33185      40876 Jun 15 18:54 RNAseq_GGCTAC_STARLog.out\n",
      "      0 -rw-r----- 1 vsc33185 vsc33185        246 Jun 15 18:54 RNAseq_GGCTAC_STARLog.progress.out\n",
      "   5120 -rw-r----- 1 vsc33185 vsc33185    4866060 Jun 15 18:54 RNAseq_GGCTAC_STARSJ.out.tab\n",
      "    512 -rw-r----- 1 vsc33185 vsc33185     254674 Jun  4 14:33 RNAseq_GGCTAC_fastqc.html\n",
      "    512 -rw-r----- 1 vsc33185 vsc33185     346326 Jun  4 14:33 \u001b[01;31mRNAseq_GGCTAC_fastqc.zip\u001b[0m\n",
      "1098240 -rw-r--r-- 1 vsc33185 vsc33185 1124150790 Jun  4 13:38 \u001b[01;31mRNAseq_GTCCGC.fastq.gz\u001b[0m\n",
      " 845312 -rw-r----- 1 vsc33185 vsc33185  865255795 Jun 15 18:53 RNAseq_GTCCGC_STARAligned.sortedByCoord.out.bam\n",
      "      0 -rw-r----- 1 vsc33185 vsc33185       2024 Jun 15 18:53 RNAseq_GTCCGC_STARLog.final.out\n",
      "    512 -rw-r----- 1 vsc33185 vsc33185      40876 Jun 15 18:53 RNAseq_GTCCGC_STARLog.out\n",
      "      0 -rw-r----- 1 vsc33185 vsc33185        364 Jun 15 18:53 RNAseq_GTCCGC_STARLog.progress.out\n",
      "   5632 -rw-r----- 1 vsc33185 vsc33185    5626437 Jun 15 18:53 RNAseq_GTCCGC_STARSJ.out.tab\n",
      "    512 -rw-r----- 1 vsc33185 vsc33185     253057 Jun  4 14:35 RNAseq_GTCCGC_fastqc.html\n",
      "    512 -rw-r----- 1 vsc33185 vsc33185     343955 Jun  4 14:35 \u001b[01;31mRNAseq_GTCCGC_fastqc.zip\u001b[0m\n",
      " 758784 -rw-r--r-- 1 vsc33185 vsc33185  776686861 Jun  4 13:42 \u001b[01;31mRNAseq_GTGAAA.fastq.gz\u001b[0m\n",
      " 591872 -rw-r----- 1 vsc33185 vsc33185  605885192 Jun 15 18:51 RNAseq_GTGAAA_STARAligned.sortedByCoord.out.bam\n",
      "      0 -rw-r----- 1 vsc33185 vsc33185       2024 Jun 15 18:51 RNAseq_GTGAAA_STARLog.final.out\n",
      "    512 -rw-r----- 1 vsc33185 vsc33185      40880 Jun 15 18:51 RNAseq_GTGAAA_STARLog.out\n",
      "      0 -rw-r----- 1 vsc33185 vsc33185        246 Jun 15 18:51 RNAseq_GTGAAA_STARLog.progress.out\n",
      "   5120 -rw-r----- 1 vsc33185 vsc33185    4906354 Jun 15 18:51 RNAseq_GTGAAA_STARSJ.out.tab\n",
      "    512 -rw-r----- 1 vsc33185 vsc33185     255290 Jun  4 14:36 RNAseq_GTGAAA_fastqc.html\n",
      "    512 -rw-r----- 1 vsc33185 vsc33185     346651 Jun  4 14:36 \u001b[01;31mRNAseq_GTGAAA_fastqc.zip\u001b[0m\n",
      "1251840 -rw-r--r-- 1 vsc33185 vsc33185 1281440118 Jun  4 13:49 \u001b[01;31mRNAseq_GTGGCC.fastq.gz\u001b[0m\n",
      " 857600 -rw-r----- 1 vsc33185 vsc33185  877687556 Jun 15 17:59 RNAseq_GTGGCC_STARAligned.sortedByCoord.out.bam\n",
      "      0 -rw-r----- 1 vsc33185 vsc33185       2024 Jun 15 17:59 RNAseq_GTGGCC_STARLog.final.out\n",
      "    512 -rw-r----- 1 vsc33185 vsc33185      40882 Jun 15 17:59 RNAseq_GTGGCC_STARLog.out\n",
      "      0 -rw-r----- 1 vsc33185 vsc33185        364 Jun 15 17:59 RNAseq_GTGGCC_STARLog.progress.out\n",
      "   5632 -rw-r----- 1 vsc33185 vsc33185    5303485 Jun 15 17:59 RNAseq_GTGGCC_STARSJ.out.tab\n",
      "    512 -rw-r----- 1 vsc33185 vsc33185     255679 Jun  4 14:00 RNAseq_GTGGCC_fastqc.html\n",
      "    512 -rw-r----- 1 vsc33185 vsc33185     349751 Jun  4 14:00 \u001b[01;31mRNAseq_GTGGCC_fastqc.zip\u001b[0m\n",
      "1241088 -rw-r--r-- 1 vsc33185 vsc33185 1270848612 Jun  4 13:54 \u001b[01;31mRNAseq_GTTTCG.fastq.gz\u001b[0m\n",
      " 934912 -rw-r----- 1 vsc33185 vsc33185  957124120 Jun 15 18:48 RNAseq_GTTTCG_STARAligned.sortedByCoord.out.bam\n",
      "      0 -rw-r----- 1 vsc33185 vsc33185       2024 Jun 15 18:48 RNAseq_GTTTCG_STARLog.final.out\n",
      "    512 -rw-r----- 1 vsc33185 vsc33185      40875 Jun 15 18:48 RNAseq_GTTTCG_STARLog.out\n",
      "      0 -rw-r----- 1 vsc33185 vsc33185        364 Jun 15 18:48 RNAseq_GTTTCG_STARLog.progress.out\n",
      "   5632 -rw-r----- 1 vsc33185 vsc33185    5467146 Jun 15 18:48 RNAseq_GTTTCG_STARSJ.out.tab\n",
      "    512 -rw-r----- 1 vsc33185 vsc33185     256886 Jun  4 14:39 RNAseq_GTTTCG_fastqc.html\n",
      "    512 -rw-r----- 1 vsc33185 vsc33185     349262 Jun  4 14:39 \u001b[01;31mRNAseq_GTTTCG_fastqc.zip\u001b[0m\n",
      "      0 drwx------ 2 vsc33185 vsc33185       4096 Jun 15 17:55 \u001b[01;34m_STARtmp\u001b[0m\n",
      "      0 drwxr-xr-x 2 vsc33185 vsc33185       4096 Jun 16 15:51 \u001b[01;34mfeatureCount\u001b[0m\n"
     ]
    }
   ],
   "source": [
    "ls -ls"
   ]
  },
  {
   "cell_type": "code",
   "execution_count": null,
   "metadata": {},
   "outputs": [
    {
     "name": "stdout",
     "output_type": "stream",
     "text": [
      "Started analysis of RNAseq_AGTTCC.fastq.gz\n",
      "Approx 5% complete for RNAseq_AGTTCC.fastq.gz\n",
      "Approx 10% complete for RNAseq_AGTTCC.fastq.gz\n",
      "Approx 15% complete for RNAseq_AGTTCC.fastq.gz\n",
      "Approx 20% complete for RNAseq_AGTTCC.fastq.gz\n",
      "Approx 25% complete for RNAseq_AGTTCC.fastq.gz\n",
      "Approx 30% complete for RNAseq_AGTTCC.fastq.gz\n",
      "Approx 35% complete for RNAseq_AGTTCC.fastq.gz\n",
      "Approx 40% complete for RNAseq_AGTTCC.fastq.gz\n",
      "Approx 45% complete for RNAseq_AGTTCC.fastq.gz\n",
      "Approx 50% complete for RNAseq_AGTTCC.fastq.gz\n",
      "Approx 55% complete for RNAseq_AGTTCC.fastq.gz\n",
      "Approx 60% complete for RNAseq_AGTTCC.fastq.gz\n",
      "Approx 65% complete for RNAseq_AGTTCC.fastq.gz\n",
      "Approx 70% complete for RNAseq_AGTTCC.fastq.gz\n",
      "Approx 75% complete for RNAseq_AGTTCC.fastq.gz\n",
      "Approx 80% complete for RNAseq_AGTTCC.fastq.gz\n",
      "Approx 85% complete for RNAseq_AGTTCC.fastq.gz\n",
      "Approx 90% complete for RNAseq_AGTTCC.fastq.gz\n",
      "Approx 95% complete for RNAseq_AGTTCC.fastq.gz\n",
      "Analysis complete for RNAseq_AGTTCC.fastq.gz\n",
      "Started analysis of RNAseq_ATGTCA.fastq.gz\n",
      "Approx 5% complete for RNAseq_ATGTCA.fastq.gz\n",
      "Approx 10% complete for RNAseq_ATGTCA.fastq.gz\n",
      "Approx 15% complete for RNAseq_ATGTCA.fastq.gz\n",
      "Approx 20% complete for RNAseq_ATGTCA.fastq.gz\n",
      "Approx 25% complete for RNAseq_ATGTCA.fastq.gz\n",
      "Approx 30% complete for RNAseq_ATGTCA.fastq.gz\n",
      "Approx 35% complete for RNAseq_ATGTCA.fastq.gz\n",
      "Approx 40% complete for RNAseq_ATGTCA.fastq.gz\n",
      "Approx 45% complete for RNAseq_ATGTCA.fastq.gz\n",
      "Approx 50% complete for RNAseq_ATGTCA.fastq.gz\n",
      "Approx 55% complete for RNAseq_ATGTCA.fastq.gz\n",
      "Approx 60% complete for RNAseq_ATGTCA.fastq.gz\n",
      "Approx 65% complete for RNAseq_ATGTCA.fastq.gz\n",
      "Approx 70% complete for RNAseq_ATGTCA.fastq.gz\n",
      "Approx 75% complete for RNAseq_ATGTCA.fastq.gz\n",
      "Approx 80% complete for RNAseq_ATGTCA.fastq.gz\n",
      "Approx 85% complete for RNAseq_ATGTCA.fastq.gz\n",
      "Approx 90% complete for RNAseq_ATGTCA.fastq.gz\n",
      "Approx 95% complete for RNAseq_ATGTCA.fastq.gz\n",
      "Analysis complete for RNAseq_ATGTCA.fastq.gz\n",
      "Started analysis of RNAseq_CCGTCC.fastq.gz\n",
      "Approx 5% complete for RNAseq_CCGTCC.fastq.gz\n",
      "Approx 10% complete for RNAseq_CCGTCC.fastq.gz\n",
      "Approx 15% complete for RNAseq_CCGTCC.fastq.gz\n",
      "Approx 20% complete for RNAseq_CCGTCC.fastq.gz\n",
      "Approx 25% complete for RNAseq_CCGTCC.fastq.gz\n",
      "Approx 30% complete for RNAseq_CCGTCC.fastq.gz\n",
      "Approx 35% complete for RNAseq_CCGTCC.fastq.gz\n",
      "Approx 40% complete for RNAseq_CCGTCC.fastq.gz\n",
      "Approx 45% complete for RNAseq_CCGTCC.fastq.gz\n",
      "Approx 50% complete for RNAseq_CCGTCC.fastq.gz\n",
      "Approx 55% complete for RNAseq_CCGTCC.fastq.gz\n",
      "Approx 60% complete for RNAseq_CCGTCC.fastq.gz\n",
      "Approx 65% complete for RNAseq_CCGTCC.fastq.gz\n",
      "Approx 70% complete for RNAseq_CCGTCC.fastq.gz\n",
      "Approx 75% complete for RNAseq_CCGTCC.fastq.gz\n",
      "Approx 80% complete for RNAseq_CCGTCC.fastq.gz\n",
      "Approx 85% complete for RNAseq_CCGTCC.fastq.gz\n",
      "Approx 90% complete for RNAseq_CCGTCC.fastq.gz\n",
      "Approx 95% complete for RNAseq_CCGTCC.fastq.gz\n",
      "Analysis complete for RNAseq_CCGTCC.fastq.gz\n",
      "Started analysis of RNAseq_CGTACG.fastq.gz\n",
      "Approx 5% complete for RNAseq_CGTACG.fastq.gz\n",
      "Approx 10% complete for RNAseq_CGTACG.fastq.gz\n",
      "Approx 15% complete for RNAseq_CGTACG.fastq.gz\n",
      "Approx 20% complete for RNAseq_CGTACG.fastq.gz\n",
      "Approx 25% complete for RNAseq_CGTACG.fastq.gz\n",
      "Approx 30% complete for RNAseq_CGTACG.fastq.gz\n",
      "Approx 35% complete for RNAseq_CGTACG.fastq.gz\n",
      "Approx 40% complete for RNAseq_CGTACG.fastq.gz\n",
      "Approx 45% complete for RNAseq_CGTACG.fastq.gz\n",
      "Approx 50% complete for RNAseq_CGTACG.fastq.gz\n",
      "Approx 55% complete for RNAseq_CGTACG.fastq.gz\n",
      "Approx 60% complete for RNAseq_CGTACG.fastq.gz\n",
      "Approx 65% complete for RNAseq_CGTACG.fastq.gz\n",
      "Approx 70% complete for RNAseq_CGTACG.fastq.gz\n",
      "Approx 75% complete for RNAseq_CGTACG.fastq.gz\n",
      "Approx 80% complete for RNAseq_CGTACG.fastq.gz\n",
      "Approx 85% complete for RNAseq_CGTACG.fastq.gz\n",
      "Approx 90% complete for RNAseq_CGTACG.fastq.gz\n",
      "Approx 95% complete for RNAseq_CGTACG.fastq.gz\n",
      "Analysis complete for RNAseq_CGTACG.fastq.gz\n",
      "Started analysis of RNAseq_CTTGTA.fastq.gz\n",
      "Approx 5% complete for RNAseq_CTTGTA.fastq.gz\n",
      "Approx 10% complete for RNAseq_CTTGTA.fastq.gz\n",
      "Approx 15% complete for RNAseq_CTTGTA.fastq.gz\n",
      "Approx 20% complete for RNAseq_CTTGTA.fastq.gz\n",
      "Approx 25% complete for RNAseq_CTTGTA.fastq.gz\n",
      "Approx 30% complete for RNAseq_CTTGTA.fastq.gz\n",
      "Approx 35% complete for RNAseq_CTTGTA.fastq.gz\n",
      "Approx 40% complete for RNAseq_CTTGTA.fastq.gz\n",
      "Approx 45% complete for RNAseq_CTTGTA.fastq.gz\n",
      "Approx 50% complete for RNAseq_CTTGTA.fastq.gz\n",
      "Approx 55% complete for RNAseq_CTTGTA.fastq.gz\n",
      "Approx 60% complete for RNAseq_CTTGTA.fastq.gz\n",
      "Approx 65% complete for RNAseq_CTTGTA.fastq.gz\n",
      "Approx 70% complete for RNAseq_CTTGTA.fastq.gz\n",
      "Approx 75% complete for RNAseq_CTTGTA.fastq.gz\n",
      "Approx 80% complete for RNAseq_CTTGTA.fastq.gz\n",
      "Approx 85% complete for RNAseq_CTTGTA.fastq.gz\n",
      "Approx 90% complete for RNAseq_CTTGTA.fastq.gz\n",
      "Approx 95% complete for RNAseq_CTTGTA.fastq.gz\n",
      "Approx 100% complete for RNAseq_CTTGTA.fastq.gz\n",
      "Analysis complete for RNAseq_CTTGTA.fastq.gz\n",
      "Started analysis of RNAseq_GAGTGG.fastq.gz\n",
      "Approx 5% complete for RNAseq_GAGTGG.fastq.gz\n",
      "Approx 10% complete for RNAseq_GAGTGG.fastq.gz\n",
      "Approx 15% complete for RNAseq_GAGTGG.fastq.gz\n",
      "Approx 20% complete for RNAseq_GAGTGG.fastq.gz\n",
      "Approx 25% complete for RNAseq_GAGTGG.fastq.gz\n",
      "Approx 30% complete for RNAseq_GAGTGG.fastq.gz\n",
      "Approx 35% complete for RNAseq_GAGTGG.fastq.gz\n",
      "Approx 40% complete for RNAseq_GAGTGG.fastq.gz\n",
      "Approx 45% complete for RNAseq_GAGTGG.fastq.gz\n",
      "Approx 50% complete for RNAseq_GAGTGG.fastq.gz\n",
      "Approx 55% complete for RNAseq_GAGTGG.fastq.gz\n",
      "Approx 60% complete for RNAseq_GAGTGG.fastq.gz\n",
      "Approx 65% complete for RNAseq_GAGTGG.fastq.gz\n",
      "Approx 70% complete for RNAseq_GAGTGG.fastq.gz\n",
      "Approx 75% complete for RNAseq_GAGTGG.fastq.gz\n",
      "Approx 80% complete for RNAseq_GAGTGG.fastq.gz\n",
      "Approx 85% complete for RNAseq_GAGTGG.fastq.gz\n",
      "Approx 90% complete for RNAseq_GAGTGG.fastq.gz\n",
      "Approx 95% complete for RNAseq_GAGTGG.fastq.gz\n",
      "Analysis complete for RNAseq_GAGTGG.fastq.gz\n",
      "Started analysis of RNAseq_GGCTAC.fastq.gz\n",
      "Approx 5% complete for RNAseq_GGCTAC.fastq.gz\n",
      "Approx 10% complete for RNAseq_GGCTAC.fastq.gz\n",
      "Approx 15% complete for RNAseq_GGCTAC.fastq.gz\n",
      "Approx 20% complete for RNAseq_GGCTAC.fastq.gz\n",
      "Approx 25% complete for RNAseq_GGCTAC.fastq.gz\n",
      "Approx 30% complete for RNAseq_GGCTAC.fastq.gz\n",
      "Approx 35% complete for RNAseq_GGCTAC.fastq.gz\n",
      "Approx 40% complete for RNAseq_GGCTAC.fastq.gz\n",
      "Approx 45% complete for RNAseq_GGCTAC.fastq.gz\n",
      "Approx 50% complete for RNAseq_GGCTAC.fastq.gz\n",
      "Approx 55% complete for RNAseq_GGCTAC.fastq.gz\n",
      "Approx 60% complete for RNAseq_GGCTAC.fastq.gz\n",
      "Approx 65% complete for RNAseq_GGCTAC.fastq.gz\n",
      "Approx 70% complete for RNAseq_GGCTAC.fastq.gz\n",
      "Approx 75% complete for RNAseq_GGCTAC.fastq.gz\n",
      "Approx 80% complete for RNAseq_GGCTAC.fastq.gz\n",
      "Approx 85% complete for RNAseq_GGCTAC.fastq.gz\n",
      "Approx 90% complete for RNAseq_GGCTAC.fastq.gz\n",
      "Approx 95% complete for RNAseq_GGCTAC.fastq.gz\n",
      "Analysis complete for RNAseq_GGCTAC.fastq.gz\n",
      "Started analysis of RNAseq_GTCCGC.fastq.gz\n",
      "Approx 5% complete for RNAseq_GTCCGC.fastq.gz\n",
      "Approx 10% complete for RNAseq_GTCCGC.fastq.gz\n",
      "Approx 15% complete for RNAseq_GTCCGC.fastq.gz\n",
      "Approx 20% complete for RNAseq_GTCCGC.fastq.gz\n",
      "Approx 25% complete for RNAseq_GTCCGC.fastq.gz\n",
      "Approx 30% complete for RNAseq_GTCCGC.fastq.gz\n",
      "Approx 35% complete for RNAseq_GTCCGC.fastq.gz\n",
      "Approx 40% complete for RNAseq_GTCCGC.fastq.gz\n",
      "Approx 45% complete for RNAseq_GTCCGC.fastq.gz\n",
      "Approx 50% complete for RNAseq_GTCCGC.fastq.gz\n",
      "Approx 55% complete for RNAseq_GTCCGC.fastq.gz\n",
      "Approx 60% complete for RNAseq_GTCCGC.fastq.gz\n",
      "Approx 65% complete for RNAseq_GTCCGC.fastq.gz\n",
      "Approx 70% complete for RNAseq_GTCCGC.fastq.gz\n",
      "Approx 75% complete for RNAseq_GTCCGC.fastq.gz\n",
      "Approx 80% complete for RNAseq_GTCCGC.fastq.gz\n",
      "Approx 85% complete for RNAseq_GTCCGC.fastq.gz\n",
      "Approx 90% complete for RNAseq_GTCCGC.fastq.gz\n",
      "Approx 95% complete for RNAseq_GTCCGC.fastq.gz\n",
      "Analysis complete for RNAseq_GTCCGC.fastq.gz\n",
      "Started analysis of RNAseq_GTGAAA.fastq.gz\n",
      "Approx 5% complete for RNAseq_GTGAAA.fastq.gz\n",
      "Approx 10% complete for RNAseq_GTGAAA.fastq.gz\n",
      "Approx 15% complete for RNAseq_GTGAAA.fastq.gz\n",
      "Approx 20% complete for RNAseq_GTGAAA.fastq.gz\n",
      "Approx 25% complete for RNAseq_GTGAAA.fastq.gz\n",
      "Approx 30% complete for RNAseq_GTGAAA.fastq.gz\n",
      "Approx 35% complete for RNAseq_GTGAAA.fastq.gz\n",
      "Approx 40% complete for RNAseq_GTGAAA.fastq.gz\n",
      "Approx 45% complete for RNAseq_GTGAAA.fastq.gz\n",
      "Approx 50% complete for RNAseq_GTGAAA.fastq.gz\n",
      "Approx 55% complete for RNAseq_GTGAAA.fastq.gz\n",
      "Approx 60% complete for RNAseq_GTGAAA.fastq.gz\n",
      "Approx 65% complete for RNAseq_GTGAAA.fastq.gz\n",
      "Approx 70% complete for RNAseq_GTGAAA.fastq.gz\n",
      "Approx 75% complete for RNAseq_GTGAAA.fastq.gz\n",
      "Approx 80% complete for RNAseq_GTGAAA.fastq.gz\n",
      "Approx 85% complete for RNAseq_GTGAAA.fastq.gz\n",
      "Approx 90% complete for RNAseq_GTGAAA.fastq.gz\n",
      "Approx 95% complete for RNAseq_GTGAAA.fastq.gz\n",
      "Analysis complete for RNAseq_GTGAAA.fastq.gz\n",
      "Started analysis of RNAseq_GTTTCG.fastq.gz\n",
      "Approx 5% complete for RNAseq_GTTTCG.fastq.gz\n",
      "Approx 10% complete for RNAseq_GTTTCG.fastq.gz\n",
      "Approx 15% complete for RNAseq_GTTTCG.fastq.gz\n",
      "Approx 20% complete for RNAseq_GTTTCG.fastq.gz\n",
      "Approx 25% complete for RNAseq_GTTTCG.fastq.gz\n",
      "Approx 30% complete for RNAseq_GTTTCG.fastq.gz\n",
      "Approx 35% complete for RNAseq_GTTTCG.fastq.gz\n",
      "Approx 40% complete for RNAseq_GTTTCG.fastq.gz\n",
      "Approx 45% complete for RNAseq_GTTTCG.fastq.gz\n",
      "Approx 50% complete for RNAseq_GTTTCG.fastq.gz\n",
      "Approx 55% complete for RNAseq_GTTTCG.fastq.gz\n"
     ]
    }
   ],
   "source": [
    "fastqc RNAseq_AGTTCC.fastq.gz RNAseq_ATGTCA.fastq.gz RNAseq_CCGTCC.fastq.gz RNAseq_CGTACG.fastq.gz RNAseq_CTTGTA.fastq.gz RNAseq_GAGTGG.fastq.gz RNAseq_GGCTAC.fastq.gz RNAseq_GTCCGC.fastq.gz RNAseq_GTGAAA.fastq.gz RNAseq_GTTTCG.fastq.gz  "
   ]
  },
  {
   "cell_type": "markdown",
   "metadata": {},
   "source": [
    "# Map to the Reference genome with STAR:"
   ]
  },
  {
   "cell_type": "code",
   "execution_count": 2,
   "metadata": {},
   "outputs": [
    {
     "name": "stdout",
     "output_type": "stream",
     "text": [
      "\u001b[0m\u001b[01;32mGenome\u001b[0m         \u001b[01;32mchrNameLength.txt\u001b[0m  \u001b[01;32mgenomeParameters.txt\u001b[0m\n",
      "\u001b[01;32mSA\u001b[0m             \u001b[01;32mchrStart.txt\u001b[0m       \u001b[01;32msjdbInfo.txt\u001b[0m\n",
      "\u001b[01;32mSAindex\u001b[0m        \u001b[01;32mexonGeTrInfo.tab\u001b[0m   \u001b[01;32msjdbList.fromGTF.out.tab\u001b[0m\n",
      "\u001b[01;32mchrLength.txt\u001b[0m  \u001b[01;32mexonInfo.tab\u001b[0m       \u001b[01;32msjdbList.out.tab\u001b[0m\n",
      "\u001b[01;32mchrName.txt\u001b[0m    \u001b[01;32mgeneInfo.tab\u001b[0m       \u001b[01;32mtranscriptInfo.tab\u001b[0m\n"
     ]
    }
   ],
   "source": [
    "ls /ddn1/vol1/staging/leuven/stg_00041/genomes/GRCh38/star_index/"
   ]
  },
  {
   "cell_type": "code",
   "execution_count": 9,
   "metadata": {},
   "outputs": [],
   "source": [
    "cd /ddn1/vol1/staging/leuven/stg_00041/Irene/Human_sequencing/"
   ]
  },
  {
   "cell_type": "code",
   "execution_count": 10,
   "metadata": {},
   "outputs": [
    {
     "name": "stdout",
     "output_type": "stream",
     "text": [
      "/ddn1/vol1/staging/leuven/stg_00041/Irene/Human_sequencing\n"
     ]
    }
   ],
   "source": [
    "pwd"
   ]
  },
  {
   "cell_type": "code",
   "execution_count": 19,
   "metadata": {},
   "outputs": [
    {
     "name": "stdout",
     "output_type": "stream",
     "text": [
      "Jun 15 17:58:00 ..... started STAR run\n",
      "Jun 15 17:58:00 ..... loading genome\n",
      "Jun 15 17:58:14 ..... started mapping\n",
      "Jun 15 17:59:10 ..... finished mapping\n",
      "Jun 15 17:59:11 ..... started sorting BAM\n",
      "Jun 15 17:59:26 ..... finished successfully\n"
     ]
    }
   ],
   "source": [
    "\"/ddn1/vol1/staging/leuven/stg_00041/software/STAR_2.7.1a/STAR-2.7.1a/bin/Linux_x86_64/STAR\" --genomeDir \"/ddn1/vol1/staging/leuven/stg_00041/genomes/GRCh38/star_index\" --runThreadN 20 --outFilterMultimapNmax 1 --readFilesIn \"/ddn1/vol1/staging/leuven/stg_00041/Irene/Human_sequencing/RNAseq_GTGGCC.fastq.gz\" --readFilesCommand zcat --outSAMtype BAM SortedByCoordinate --outFileNamePrefix RNAseq_GTGGCC_STAR"
   ]
  },
  {
   "cell_type": "code",
   "execution_count": 20,
   "metadata": {},
   "outputs": [
    {
     "name": "stdout",
     "output_type": "stream",
     "text": [
      "Jun 15 18:47:17 ..... started STAR run\n",
      "Jun 15 18:47:18 ..... loading genome\n",
      "Jun 15 18:47:34 ..... started mapping\n",
      "Jun 15 18:48:34 ..... finished mapping\n",
      "Jun 15 18:48:35 ..... started sorting BAM\n",
      "Jun 15 18:48:53 ..... finished successfully\n"
     ]
    }
   ],
   "source": [
    "\"/ddn1/vol1/staging/leuven/stg_00041/software/STAR_2.7.1a/STAR-2.7.1a/bin/Linux_x86_64/STAR\" --genomeDir \"/ddn1/vol1/staging/leuven/stg_00041/genomes/GRCh38/star_index\" --runThreadN 20 --outFilterMultimapNmax 1 --readFilesIn \"/ddn1/vol1/staging/leuven/stg_00041/Irene/Human_sequencing/RNAseq_GTTTCG.fastq.gz\" --readFilesCommand zcat --outSAMtype BAM SortedByCoordinate --outFileNamePrefix RNAseq_GTTTCG_STAR"
   ]
  },
  {
   "cell_type": "code",
   "execution_count": 21,
   "metadata": {},
   "outputs": [
    {
     "name": "stdout",
     "output_type": "stream",
     "text": [
      "Jun 15 18:50:26 ..... started STAR run\n",
      "Jun 15 18:50:26 ..... loading genome\n",
      "Jun 15 18:50:41 ..... started mapping\n",
      "Jun 15 18:51:20 ..... finished mapping\n",
      "Jun 15 18:51:20 ..... started sorting BAM\n",
      "Jun 15 18:51:32 ..... finished successfully\n"
     ]
    }
   ],
   "source": [
    "\"/ddn1/vol1/staging/leuven/stg_00041/software/STAR_2.7.1a/STAR-2.7.1a/bin/Linux_x86_64/STAR\" --genomeDir \"/ddn1/vol1/staging/leuven/stg_00041/genomes/GRCh38/star_index\" --runThreadN 20 --outFilterMultimapNmax 1 --readFilesIn \"/ddn1/vol1/staging/leuven/stg_00041/Irene/Human_sequencing/RNAseq_GTGAAA.fastq.gz\" --readFilesCommand zcat --outSAMtype BAM SortedByCoordinate --outFileNamePrefix RNAseq_GTGAAA_STAR"
   ]
  },
  {
   "cell_type": "code",
   "execution_count": 22,
   "metadata": {},
   "outputs": [
    {
     "name": "stdout",
     "output_type": "stream",
     "text": [
      "Jun 15 18:51:53 ..... started STAR run\n",
      "Jun 15 18:51:53 ..... loading genome\n",
      "Jun 15 18:52:12 ..... started mapping\n",
      "Jun 15 18:53:05 ..... finished mapping\n",
      "Jun 15 18:53:06 ..... started sorting BAM\n",
      "Jun 15 18:53:24 ..... finished successfully\n"
     ]
    }
   ],
   "source": [
    "\"/ddn1/vol1/staging/leuven/stg_00041/software/STAR_2.7.1a/STAR-2.7.1a/bin/Linux_x86_64/STAR\" --genomeDir \"/ddn1/vol1/staging/leuven/stg_00041/genomes/GRCh38/star_index\" --runThreadN 20 --outFilterMultimapNmax 1 --readFilesIn \"/ddn1/vol1/staging/leuven/stg_00041/Irene/Human_sequencing/RNAseq_GTCCGC.fastq.gz\" --readFilesCommand zcat --outSAMtype BAM SortedByCoordinate --outFileNamePrefix RNAseq_GTCCGC_STAR"
   ]
  },
  {
   "cell_type": "code",
   "execution_count": 23,
   "metadata": {},
   "outputs": [
    {
     "name": "stdout",
     "output_type": "stream",
     "text": [
      "Jun 15 18:53:32 ..... started STAR run\n",
      "Jun 15 18:53:32 ..... loading genome\n",
      "Jun 15 18:53:48 ..... started mapping\n",
      "Jun 15 18:54:27 ..... finished mapping\n",
      "Jun 15 18:54:27 ..... started sorting BAM\n",
      "Jun 15 18:54:41 ..... finished successfully\n"
     ]
    }
   ],
   "source": [
    "\"/ddn1/vol1/staging/leuven/stg_00041/software/STAR_2.7.1a/STAR-2.7.1a/bin/Linux_x86_64/STAR\" --genomeDir \"/ddn1/vol1/staging/leuven/stg_00041/genomes/GRCh38/star_index\" --runThreadN 20 --outFilterMultimapNmax 1 --readFilesIn \"/ddn1/vol1/staging/leuven/stg_00041/Irene/Human_sequencing/RNAseq_GGCTAC.fastq.gz\" --readFilesCommand zcat --outSAMtype BAM SortedByCoordinate --outFileNamePrefix RNAseq_GGCTAC_STAR"
   ]
  },
  {
   "cell_type": "code",
   "execution_count": 24,
   "metadata": {},
   "outputs": [
    {
     "name": "stdout",
     "output_type": "stream",
     "text": [
      "Jun 15 18:57:22 ..... started STAR run\n",
      "Jun 15 18:57:22 ..... loading genome\n",
      "Jun 15 18:57:40 ..... started mapping\n",
      "Jun 15 18:58:12 ..... finished mapping\n",
      "Jun 15 18:58:12 ..... started sorting BAM\n",
      "Jun 15 18:58:22 ..... finished successfully\n"
     ]
    }
   ],
   "source": [
    "\"/ddn1/vol1/staging/leuven/stg_00041/software/STAR_2.7.1a/STAR-2.7.1a/bin/Linux_x86_64/STAR\" --genomeDir \"/ddn1/vol1/staging/leuven/stg_00041/genomes/GRCh38/star_index\" --runThreadN 20 --outFilterMultimapNmax 1 --readFilesIn \"/ddn1/vol1/staging/leuven/stg_00041/Irene/Human_sequencing/RNAseq_GAGTGG.fastq.gz\" --readFilesCommand zcat --outSAMtype BAM SortedByCoordinate --outFileNamePrefix RNAseq_GAGTGG_STAR"
   ]
  },
  {
   "cell_type": "code",
   "execution_count": 25,
   "metadata": {},
   "outputs": [
    {
     "name": "stdout",
     "output_type": "stream",
     "text": [
      "Jun 15 19:00:29 ..... started STAR run\n",
      "Jun 15 19:00:29 ..... loading genome\n",
      "Jun 15 19:00:44 ..... started mapping\n",
      "Jun 15 19:01:29 ..... finished mapping\n",
      "Jun 15 19:01:30 ..... started sorting BAM\n",
      "Jun 15 19:01:44 ..... finished successfully\n"
     ]
    }
   ],
   "source": [
    "\"/ddn1/vol1/staging/leuven/stg_00041/software/STAR_2.7.1a/STAR-2.7.1a/bin/Linux_x86_64/STAR\" --genomeDir \"/ddn1/vol1/staging/leuven/stg_00041/genomes/GRCh38/star_index\" --runThreadN 20 --outFilterMultimapNmax 1 --readFilesIn \"/ddn1/vol1/staging/leuven/stg_00041/Irene/Human_sequencing/RNAseq_CTTGTA.fastq.gz\" --readFilesCommand zcat --outSAMtype BAM SortedByCoordinate --outFileNamePrefix RNAseq_CTTGTA_STAR"
   ]
  },
  {
   "cell_type": "code",
   "execution_count": 26,
   "metadata": {},
   "outputs": [
    {
     "name": "stdout",
     "output_type": "stream",
     "text": [
      "Jun 15 19:02:13 ..... started STAR run\n",
      "Jun 15 19:02:13 ..... loading genome\n",
      "Jun 15 19:02:30 ..... started mapping\n",
      "Jun 15 19:03:08 ..... finished mapping\n",
      "Jun 15 19:03:08 ..... started sorting BAM\n",
      "Jun 15 19:03:21 ..... finished successfully\n"
     ]
    }
   ],
   "source": [
    "\"/ddn1/vol1/staging/leuven/stg_00041/software/STAR_2.7.1a/STAR-2.7.1a/bin/Linux_x86_64/STAR\" --genomeDir \"/ddn1/vol1/staging/leuven/stg_00041/genomes/GRCh38/star_index\" --runThreadN 20 --outFilterMultimapNmax 1 --readFilesIn \"/ddn1/vol1/staging/leuven/stg_00041/Irene/Human_sequencing/RNAseq_CGTACG.fastq.gz\" --readFilesCommand zcat --outSAMtype BAM SortedByCoordinate --outFileNamePrefix RNAseq_CGTACG_STAR"
   ]
  },
  {
   "cell_type": "code",
   "execution_count": 27,
   "metadata": {},
   "outputs": [
    {
     "name": "stdout",
     "output_type": "stream",
     "text": [
      "Jun 15 19:03:26 ..... started STAR run\n",
      "Jun 15 19:03:26 ..... loading genome\n",
      "Jun 15 19:03:43 ..... started mapping\n",
      "Jun 15 19:04:26 ..... finished mapping\n",
      "Jun 15 19:04:27 ..... started sorting BAM\n",
      "Jun 15 19:04:41 ..... finished successfully\n"
     ]
    }
   ],
   "source": [
    "\"/ddn1/vol1/staging/leuven/stg_00041/software/STAR_2.7.1a/STAR-2.7.1a/bin/Linux_x86_64/STAR\" --genomeDir \"/ddn1/vol1/staging/leuven/stg_00041/genomes/GRCh38/star_index\" --runThreadN 20 --outFilterMultimapNmax 1 --readFilesIn \"/ddn1/vol1/staging/leuven/stg_00041/Irene/Human_sequencing/RNAseq_ATGTCA.fastq.gz\" --readFilesCommand zcat --outSAMtype BAM SortedByCoordinate --outFileNamePrefix RNAseq_ATGTCA_STAR"
   ]
  },
  {
   "cell_type": "code",
   "execution_count": 28,
   "metadata": {},
   "outputs": [
    {
     "name": "stdout",
     "output_type": "stream",
     "text": [
      "Jun 15 19:04:45 ..... started STAR run\n",
      "Jun 15 19:04:46 ..... loading genome\n",
      "Jun 15 19:05:03 ..... started mapping\n",
      "Jun 15 19:05:54 ..... finished mapping\n",
      "Jun 15 19:05:54 ..... started sorting BAM\n",
      "Jun 15 19:06:10 ..... finished successfully\n"
     ]
    }
   ],
   "source": [
    "\"/ddn1/vol1/staging/leuven/stg_00041/software/STAR_2.7.1a/STAR-2.7.1a/bin/Linux_x86_64/STAR\" --genomeDir \"/ddn1/vol1/staging/leuven/stg_00041/genomes/GRCh38/star_index\" --runThreadN 20 --outFilterMultimapNmax 1 --readFilesIn \"/ddn1/vol1/staging/leuven/stg_00041/Irene/Human_sequencing/RNAseq_AGTTCC.fastq.gz\" --readFilesCommand zcat --outSAMtype BAM SortedByCoordinate --outFileNamePrefix RNAseq_AGTTCC_STAR"
   ]
  },
  {
   "cell_type": "code",
   "execution_count": 29,
   "metadata": {},
   "outputs": [
    {
     "name": "stdout",
     "output_type": "stream",
     "text": [
      "Jun 15 19:07:20 ..... started STAR run\n",
      "Jun 15 19:07:20 ..... loading genome\n",
      "Jun 15 19:07:39 ..... started mapping\n",
      "Jun 15 19:08:22 ..... finished mapping\n",
      "Jun 15 19:08:22 ..... started sorting BAM\n",
      "Jun 15 19:08:35 ..... finished successfully\n"
     ]
    }
   ],
   "source": [
    "\"/ddn1/vol1/staging/leuven/stg_00041/software/STAR_2.7.1a/STAR-2.7.1a/bin/Linux_x86_64/STAR\" --genomeDir \"/ddn1/vol1/staging/leuven/stg_00041/genomes/GRCh38/star_index\" --runThreadN 20 --outFilterMultimapNmax 1 --readFilesIn \"/ddn1/vol1/staging/leuven/stg_00041/Irene/Human_sequencing/RNAseq_AGTCAA.fastq.gz\" --readFilesCommand zcat --outSAMtype BAM SortedByCoordinate --outFileNamePrefix RNAseq_AGTCAA_STAR"
   ]
  },
  {
   "cell_type": "code",
   "execution_count": 37,
   "metadata": {},
   "outputs": [
    {
     "name": "stdout",
     "output_type": "stream",
     "text": [
      "Jun 16 11:08:50 ..... started STAR run\n",
      "Jun 16 11:08:50 ..... loading genome\n",
      "Jun 16 11:09:08 ..... started mapping\n",
      "Jun 16 11:10:00 ..... finished mapping\n",
      "Jun 16 11:10:01 ..... started sorting BAM\n",
      "Jun 16 11:10:18 ..... finished successfully\n"
     ]
    }
   ],
   "source": [
    "\"/ddn1/vol1/staging/leuven/stg_00041/software/STAR_2.7.1a/STAR-2.7.1a/bin/Linux_x86_64/STAR\" --genomeDir \"/ddn1/vol1/staging/leuven/stg_00041/genomes/GRCh38/star_index\" --runThreadN 20 --outFilterMultimapNmax 1 --readFilesIn \"/ddn1/vol1/staging/leuven/stg_00041/Irene/Human_sequencing/RNAseq_CCGTCC.fastq.gz\" --readFilesCommand zcat --outSAMtype BAM SortedByCoordinate --outFileNamePrefix RNAseq_CCGTCC_STAR"
   ]
  },
  {
   "cell_type": "markdown",
   "metadata": {},
   "source": [
    "Let's look at the files generated when mapping:"
   ]
  },
  {
   "cell_type": "code",
   "execution_count": 34,
   "metadata": {},
   "outputs": [
    {
     "name": "stdout",
     "output_type": "stream",
     "text": [
      "-rw-r----- 1 vsc33185 vsc33185 957124120 Jun 15 18:48 RNAseq_GTTTCG_STARAligned.sortedByCoord.out.bam\n",
      "-rw-r----- 1 vsc33185 vsc33185      2024 Jun 15 18:48 RNAseq_GTTTCG_STARLog.final.out\n",
      "-rw-r----- 1 vsc33185 vsc33185     40875 Jun 15 18:48 RNAseq_GTTTCG_STARLog.out\n",
      "-rw-r----- 1 vsc33185 vsc33185       364 Jun 15 18:48 RNAseq_GTTTCG_STARLog.progress.out\n",
      "-rw-r----- 1 vsc33185 vsc33185   5467146 Jun 15 18:48 RNAseq_GTTTCG_STARSJ.out.tab\n"
     ]
    }
   ],
   "source": [
    "ls RNAseq_GTTTCG_STAR* -l"
   ]
  },
  {
   "cell_type": "code",
   "execution_count": 40,
   "metadata": {},
   "outputs": [
    {
     "name": "stdout",
     "output_type": "stream",
     "text": [
      "-rw-r----- 1 vsc33185 vsc33185 767027572 Jun 15 19:08 RNAseq_AGTCAA_STARAligned.sortedByCoord.out.bam\n",
      "-rw-r----- 1 vsc33185 vsc33185 863261236 Jun 15 19:06 RNAseq_AGTTCC_STARAligned.sortedByCoord.out.bam\n",
      "-rw-r----- 1 vsc33185 vsc33185 762261289 Jun 15 19:04 RNAseq_ATGTCA_STARAligned.sortedByCoord.out.bam\n",
      "-rw-r----- 1 vsc33185 vsc33185 940203445 Jun 16 11:10 RNAseq_CCGTCC_STARAligned.sortedByCoord.out.bam\n",
      "-rw-r----- 1 vsc33185 vsc33185 591239301 Jun 15 19:03 RNAseq_CGTACG_STARAligned.sortedByCoord.out.bam\n",
      "-rw-r----- 1 vsc33185 vsc33185 767818633 Jun 15 19:01 RNAseq_CTTGTA_STARAligned.sortedByCoord.out.bam\n",
      "-rw-r----- 1 vsc33185 vsc33185 490143612 Jun 15 18:58 RNAseq_GAGTGG_STARAligned.sortedByCoord.out.bam\n",
      "-rw-r----- 1 vsc33185 vsc33185 603367681 Jun 15 18:54 RNAseq_GGCTAC_STARAligned.sortedByCoord.out.bam\n",
      "-rw-r----- 1 vsc33185 vsc33185 865255795 Jun 15 18:53 RNAseq_GTCCGC_STARAligned.sortedByCoord.out.bam\n",
      "-rw-r----- 1 vsc33185 vsc33185 605885192 Jun 15 18:51 RNAseq_GTGAAA_STARAligned.sortedByCoord.out.bam\n",
      "-rw-r----- 1 vsc33185 vsc33185 877687556 Jun 15 17:59 RNAseq_GTGGCC_STARAligned.sortedByCoord.out.bam\n",
      "-rw-r----- 1 vsc33185 vsc33185 957124120 Jun 15 18:48 RNAseq_GTTTCG_STARAligned.sortedByCoord.out.bam\n"
     ]
    }
   ],
   "source": [
    "ls *.bam -l"
   ]
  },
  {
   "cell_type": "code",
   "execution_count": 22,
   "metadata": {},
   "outputs": [
    {
     "name": "stdout",
     "output_type": "stream",
     "text": [
      "                                 Started job on |\tJun 15 17:58:00\n",
      "                             Started mapping on |\tJun 15 17:58:14\n",
      "                                    Finished on |\tJun 15 17:59:26\n",
      "       Mapping speed, Million of reads per hour |\t1913.02\n",
      "\n",
      "                          Number of input reads |\t38260411\n",
      "                      Average input read length |\t51\n",
      "                                    UNIQUE READS:\n",
      "                   Uniquely mapped reads number |\t27977645\n",
      "                        Uniquely mapped reads % |\t73.12%\n",
      "                          Average mapped length |\t50.82\n",
      "                       Number of splices: Total |\t4300090\n",
      "            Number of splices: Annotated (sjdb) |\t4265449\n",
      "                       Number of splices: GT/AG |\t4254240\n",
      "                       Number of splices: GC/AG |\t33435\n",
      "                       Number of splices: AT/AC |\t4463\n",
      "               Number of splices: Non-canonical |\t7952\n",
      "                      Mismatch rate per base, % |\t0.23%\n",
      "                         Deletion rate per base |\t0.00%\n",
      "                        Deletion average length |\t1.42\n",
      "                        Insertion rate per base |\t0.00%\n",
      "                       Insertion average length |\t1.29\n",
      "                             MULTI-MAPPING READS:\n",
      "        Number of reads mapped to multiple loci |\t0\n",
      "             % of reads mapped to multiple loci |\t0.00%\n",
      "        Number of reads mapped to too many loci |\t9766879\n",
      "             % of reads mapped to too many loci |\t25.53%\n",
      "                                  UNMAPPED READS:\n",
      "  Number of reads unmapped: too many mismatches |\t0\n",
      "       % of reads unmapped: too many mismatches |\t0.00%\n",
      "            Number of reads unmapped: too short |\t218984\n",
      "                 % of reads unmapped: too short |\t0.57%\n",
      "                Number of reads unmapped: other |\t296903\n",
      "                     % of reads unmapped: other |\t0.78%\n",
      "                                  CHIMERIC READS:\n",
      "                       Number of chimeric reads |\t0\n",
      "                            % of chimeric reads |\t0.00%\n"
     ]
    }
   ],
   "source": [
    "cat  RNAseq_GTGGCC_STARLog.final.out"
   ]
  },
  {
   "cell_type": "markdown",
   "metadata": {},
   "source": [
    "# Converting bam files to normalized bigWig files Using deeptools:"
   ]
  },
  {
   "cell_type": "markdown",
   "metadata": {},
   "source": [
    "With normalized bigWig files we can already look at them with IGV."
   ]
  },
  {
   "cell_type": "markdown",
   "metadata": {},
   "source": [
    "This tool takes an alignment of reads or fragments as input (BAM file) and generates a coverage track (bigWig or bedGraph) as output. "
   ]
  },
  {
   "cell_type": "markdown",
   "metadata": {},
   "source": [
    "You will need to create the bam files again. The fastq files are located here: \n",
    "\n",
    "/vsc-hard-mounts/leuven-archive/arc_00041/Irene/RNAseq_hPSC_naive_primed_EZH2i_2020/"
   ]
  },
  {
   "cell_type": "markdown",
   "metadata": {},
   "source": [
    "RNAseq_CTTGTA.fastq.gz\t13_Primed: CTTGTA\n",
    "\n",
    "RNAseq_AGTCAA.fastq.gz\t14_Primed: \n",
    "\n",
    "RNAseq_AGTTCC.fastq.gz\t15_Primed: AGTTCC\n",
    "\n",
    "\n",
    "RNAseq_GTGAAA.fastq.gz\t19_Naïve: GTGAAA \n",
    "\n",
    "RNAseq_GGCTAC.fastq.gz\t20_Naïve: GGCTAC\n",
    "\n",
    "RNAseq_GTGGCC.fastq.gz\t21_Naïve: GTGGCC\n",
    "\n"
   ]
  },
  {
   "cell_type": "code",
   "execution_count": 2,
   "metadata": {},
   "outputs": [
    {
     "name": "stdout",
     "output_type": "stream",
     "text": [
      "total 12312\n",
      "  0 drwxr-xr-x 3 vsc33185 vsc33185   4096 Feb  4 16:27 \u001b[0m\u001b[01;34mFigures\u001b[0m\n",
      "  0 -rw-r----- 1 vsc33185 vsc33185   2023 Jun 15  2020 RNAseq_AGTCAA_STARLog.final.out\n",
      "512 -rw-r----- 1 vsc33185 vsc33185  40884 Jun 15  2020 RNAseq_AGTCAA_STARLog.out\n",
      "  0 -rw-r----- 1 vsc33185 vsc33185    246 Jun 15  2020 RNAseq_AGTCAA_STARLog.progress.out\n",
      "512 -rw-r----- 1 vsc33185 vsc33185 252842 Jun  4  2020 RNAseq_AGTCAA_fastqc.html\n",
      "  0 -rw-r----- 1 vsc33185 vsc33185   2024 Jun 15  2020 RNAseq_AGTTCC_STARLog.final.out\n",
      "512 -rw-r----- 1 vsc33185 vsc33185  40883 Jun 15  2020 RNAseq_AGTTCC_STARLog.out\n",
      "  0 -rw-r----- 1 vsc33185 vsc33185    364 Jun 15  2020 RNAseq_AGTTCC_STARLog.progress.out\n",
      "512 -rw-r----- 1 vsc33185 vsc33185 254783 Jun  4  2020 RNAseq_AGTTCC_fastqc.html\n",
      "  0 -rw-r----- 1 vsc33185 vsc33185   2023 Jun 15  2020 RNAseq_ATGTCA_STARLog.final.out\n",
      "512 -rw-r----- 1 vsc33185 vsc33185  40877 Jun 15  2020 RNAseq_ATGTCA_STARLog.out\n",
      "  0 -rw-r----- 1 vsc33185 vsc33185    246 Jun 15  2020 RNAseq_ATGTCA_STARLog.progress.out\n",
      "512 -rw-r----- 1 vsc33185 vsc33185 253844 Jun  4  2020 RNAseq_ATGTCA_fastqc.html\n",
      "  0 -rw-r----- 1 vsc33185 vsc33185   2024 Jun 16  2020 RNAseq_CCGTCC_STARLog.final.out\n",
      "512 -rw-r----- 1 vsc33185 vsc33185  40879 Jun 16  2020 RNAseq_CCGTCC_STARLog.out\n",
      "  0 -rw-r----- 1 vsc33185 vsc33185    364 Jun 16  2020 RNAseq_CCGTCC_STARLog.progress.out\n",
      "512 -rw-r----- 1 vsc33185 vsc33185 254714 Jun  4  2020 RNAseq_CCGTCC_fastqc.html\n",
      "  0 -rw-r----- 1 vsc33185 vsc33185   2024 Jun 15  2020 RNAseq_CGTACG_STARLog.final.out\n",
      "512 -rw-r----- 1 vsc33185 vsc33185  40880 Jun 15  2020 RNAseq_CGTACG_STARLog.out\n",
      "  0 -rw-r----- 1 vsc33185 vsc33185    246 Jun 15  2020 RNAseq_CGTACG_STARLog.progress.out\n",
      "512 -rw-r----- 1 vsc33185 vsc33185 253028 Jun  4  2020 RNAseq_CGTACG_fastqc.html\n",
      "  0 -rw-r----- 1 vsc33185 vsc33185   2024 Jun 15  2020 RNAseq_CTTGTA_STARLog.final.out\n",
      "512 -rw-r----- 1 vsc33185 vsc33185  40877 Jun 15  2020 RNAseq_CTTGTA_STARLog.out\n",
      "  0 -rw-r----- 1 vsc33185 vsc33185    364 Jun 15  2020 RNAseq_CTTGTA_STARLog.progress.out\n",
      "512 -rw-r----- 1 vsc33185 vsc33185 256589 Jun  4  2020 RNAseq_CTTGTA_fastqc.html\n",
      "  0 -rw-r----- 1 vsc33185 vsc33185   2024 Jun 15  2020 RNAseq_GAGTGG_STARLog.final.out\n",
      "512 -rw-r----- 1 vsc33185 vsc33185  40872 Jun 15  2020 RNAseq_GAGTGG_STARLog.out\n",
      "  0 -rw-r----- 1 vsc33185 vsc33185    246 Jun 15  2020 RNAseq_GAGTGG_STARLog.progress.out\n",
      "512 -rw-r----- 1 vsc33185 vsc33185 254343 Jun  4  2020 RNAseq_GAGTGG_fastqc.html\n",
      "  0 -rw-r----- 1 vsc33185 vsc33185   2024 Jun 15  2020 RNAseq_GGCTAC_STARLog.final.out\n",
      "512 -rw-r----- 1 vsc33185 vsc33185  40876 Jun 15  2020 RNAseq_GGCTAC_STARLog.out\n",
      "  0 -rw-r----- 1 vsc33185 vsc33185    246 Jun 15  2020 RNAseq_GGCTAC_STARLog.progress.out\n",
      "512 -rw-r----- 1 vsc33185 vsc33185 254674 Jun  4  2020 RNAseq_GGCTAC_fastqc.html\n",
      "  0 -rw-r----- 1 vsc33185 vsc33185   2024 Jun 15  2020 RNAseq_GTCCGC_STARLog.final.out\n",
      "512 -rw-r----- 1 vsc33185 vsc33185  40876 Jun 15  2020 RNAseq_GTCCGC_STARLog.out\n",
      "  0 -rw-r----- 1 vsc33185 vsc33185    364 Jun 15  2020 RNAseq_GTCCGC_STARLog.progress.out\n",
      "512 -rw-r----- 1 vsc33185 vsc33185 253057 Jun  4  2020 RNAseq_GTCCGC_fastqc.html\n",
      "  0 -rw-r----- 1 vsc33185 vsc33185   2024 Jun 15  2020 RNAseq_GTGAAA_STARLog.final.out\n",
      "512 -rw-r----- 1 vsc33185 vsc33185  40880 Jun 15  2020 RNAseq_GTGAAA_STARLog.out\n",
      "  0 -rw-r----- 1 vsc33185 vsc33185    246 Jun 15  2020 RNAseq_GTGAAA_STARLog.progress.out\n",
      "512 -rw-r----- 1 vsc33185 vsc33185 255290 Jun  4  2020 RNAseq_GTGAAA_fastqc.html\n",
      "  0 -rw-r----- 1 vsc33185 vsc33185   2024 Jun 15  2020 RNAseq_GTGGCC_STARLog.final.out\n",
      "512 -rw-r----- 1 vsc33185 vsc33185  40882 Jun 15  2020 RNAseq_GTGGCC_STARLog.out\n",
      "  0 -rw-r----- 1 vsc33185 vsc33185    364 Jun 15  2020 RNAseq_GTGGCC_STARLog.progress.out\n",
      "512 -rw-r----- 1 vsc33185 vsc33185 255679 Jun  4  2020 RNAseq_GTGGCC_fastqc.html\n",
      "  0 -rw-r----- 1 vsc33185 vsc33185   2024 Jun 15  2020 RNAseq_GTTTCG_STARLog.final.out\n",
      "512 -rw-r----- 1 vsc33185 vsc33185  40875 Jun 15  2020 RNAseq_GTTTCG_STARLog.out\n",
      "  0 -rw-r----- 1 vsc33185 vsc33185    364 Jun 15  2020 RNAseq_GTTTCG_STARLog.progress.out\n",
      "512 -rw-r----- 1 vsc33185 vsc33185 256886 Jun  4  2020 RNAseq_GTTTCG_fastqc.html\n",
      "  0 drwx------ 2 vsc33185 vsc33185   4096 Jun 15  2020 \u001b[01;34m_STARtmp\u001b[0m\n",
      " 24 drwxrwxrwx 3 vsc33185 vsc33185  12288 Feb 15 18:35 \u001b[34;42mfeatureCount\u001b[0m\n"
     ]
    }
   ],
   "source": [
    "ls -ls"
   ]
  },
  {
   "cell_type": "code",
   "execution_count": null,
   "metadata": {},
   "outputs": [],
   "source": [
    "bamCoverage -b a.bam -o a.bw"
   ]
  },
  {
   "cell_type": "markdown",
   "metadata": {},
   "source": [
    "# Generate a count table with FeatureCounts"
   ]
  },
  {
   "cell_type": "markdown",
   "metadata": {},
   "source": [
    "To count the reads per gene, we first need a mouse annotation file:"
   ]
  },
  {
   "cell_type": "code",
   "execution_count": 42,
   "metadata": {},
   "outputs": [
    {
     "name": "stdout",
     "output_type": "stream",
     "text": [
      "##description: evidence-based annotation of the human genome (GRCh38), version 31 (Ensembl 97)\n",
      "##provider: GENCODE\n",
      "##contact: gencode-help@ebi.ac.uk\n",
      "##format: gtf\n",
      "##date: 2019-06-27\n",
      "chr1\tHAVANA\tgene\t11869\t14409\t.\t+\t.\tgene_id \"ENSG00000223972.5\"; gene_type \"transcribed_unprocessed_pseudogene\"; gene_name \"DDX11L1\"; level 2; hgnc_id \"HGNC:37102\"; havana_gene \"OTTHUMG00000000961.2\";\n",
      "chr1\tHAVANA\ttranscript\t11869\t14409\t.\t+\t.\tgene_id \"ENSG00000223972.5\"; transcript_id \"ENST00000456328.2\"; gene_type \"transcribed_unprocessed_pseudogene\"; gene_name \"DDX11L1\"; transcript_type \"lncRNA\"; transcript_name \"DDX11L1-202\"; level 2; transcript_support_level \"1\"; hgnc_id \"HGNC:37102\"; tag \"basic\"; havana_gene \"OTTHUMG00000000961.2\"; havana_transcript \"OTTHUMT00000362751.1\";\n",
      "chr1\tHAVANA\texon\t11869\t12227\t.\t+\t.\tgene_id \"ENSG00000223972.5\"; transcript_id \"ENST00000456328.2\"; gene_type \"transcribed_unprocessed_pseudogene\"; gene_name \"DDX11L1\"; transcript_type \"lncRNA\"; transcript_name \"DDX11L1-202\"; exon_number 1; exon_id \"ENSE00002234944.1\"; level 2; transcript_support_level \"1\"; hgnc_id \"HGNC:37102\"; tag \"basic\"; havana_gene \"OTTHUMG00000000961.2\"; havana_transcript \"OTTHUMT00000362751.1\";\n"
     ]
    }
   ],
   "source": [
    "head -8 \"/ddn1/vol1/staging/leuven/stg_00041/genomes/GRCh38/gencode.v31.annotation.gtf\""
   ]
  },
  {
   "cell_type": "code",
   "execution_count": 2,
   "metadata": {},
   "outputs": [
    {
     "name": "stdout",
     "output_type": "stream",
     "text": [
      "\n",
      "Version 2.0.1\n",
      "\n",
      "Usage: featureCounts [options] -a <annotation_file> -o <output_file> input_file1 [input_file2] ... \n",
      "\n",
      "## Mandatory arguments:\n",
      "\n",
      "  -a <string>         Name of an annotation file. GTF/GFF format by default. See\n",
      "                      -F option for more format information. Inbuilt annotations\n",
      "                      (SAF format) is available in 'annotation' directory of the\n",
      "                      package. Gzipped file is also accepted.\n",
      "\n",
      "  -o <string>         Name of output file including read counts. A separate file\n",
      "                      including summary statistics of counting results is also\n",
      "                      included in the output ('<string>.summary'). Both files\n",
      "                      are in tab delimited format.\n",
      "\n",
      "  input_file1 [input_file2] ...   A list of SAM or BAM format files. They can be\n",
      "                      either name or location sorted. If no files provided,\n",
      "                      <stdin> input is expected. Location-sorted paired-end reads\n",
      "                      are automatically sorted by read names.\n",
      "\n",
      "## Optional arguments:\n",
      "# Annotation\n",
      "\n",
      "  -F <string>         Specify format of the provided annotation file. Acceptable\n",
      "                      formats include 'GTF' (or compatible GFF format) and\n",
      "                      'SAF'. 'GTF' by default.  For SAF format, please refer to\n",
      "                      Users Guide.\n",
      "\n",
      "  -t <string>         Specify feature type(s) in a GTF annotation. If multiple\n",
      "                      types are provided, they should be separated by ',' with\n",
      "                      no space in between. 'exon' by default. Rows in the\n",
      "                      annotation with a matched feature will be extracted and\n",
      "                      used for read mapping. \n",
      "\n",
      "  -g <string>         Specify attribute type in GTF annotation. 'gene_id' by \n",
      "                      default. Meta-features used for read counting will be \n",
      "                      extracted from annotation using the provided value.\n",
      "\n",
      "  --extraAttributes   Extract extra attribute types from the provided GTF\n",
      "                      annotation and include them in the counting output. These\n",
      "                      attribute types will not be used to group features. If\n",
      "                      more than one attribute type is provided they should be\n",
      "                      separated by comma.\n",
      "\n",
      "  -A <string>         Provide a chromosome name alias file to match chr names in\n",
      "                      annotation with those in the reads. This should be a two-\n",
      "                      column comma-delimited text file. Its first column should\n",
      "                      include chr names in the annotation and its second column\n",
      "                      should include chr names in the reads. Chr names are case\n",
      "                      sensitive. No column header should be included in the\n",
      "                      file.\n",
      "\n",
      "# Level of summarization\n",
      "\n",
      "  -f                  Perform read counting at feature level (eg. counting \n",
      "                      reads for exons rather than genes).\n",
      "\n",
      "# Overlap between reads and features\n",
      "\n",
      "  -O                  Assign reads to all their overlapping meta-features (or \n",
      "                      features if -f is specified).\n",
      "\n",
      "  --minOverlap <int>  Minimum number of overlapping bases in a read that is\n",
      "                      required for read assignment. 1 by default. Number of\n",
      "                      overlapping bases is counted from both reads if paired\n",
      "                      end. If a negative value is provided, then a gap of up\n",
      "                      to specified size will be allowed between read and the\n",
      "                      feature that the read is assigned to.\n",
      "\n",
      "  --fracOverlap <float> Minimum fraction of overlapping bases in a read that is\n",
      "                      required for read assignment. Value should be within range\n",
      "                      [0,1]. 0 by default. Number of overlapping bases is\n",
      "                      counted from both reads if paired end. Both this option\n",
      "                      and '--minOverlap' option need to be satisfied for read\n",
      "                      assignment.\n",
      "\n",
      "  --fracOverlapFeature <float> Minimum fraction of overlapping bases in a\n",
      "                      feature that is required for read assignment. Value\n",
      "                      should be within range [0,1]. 0 by default.\n",
      "\n",
      "  --largestOverlap    Assign reads to a meta-feature/feature that has the \n",
      "                      largest number of overlapping bases.\n",
      "\n",
      "  --nonOverlap <int>  Maximum number of non-overlapping bases in a read (or a\n",
      "                      read pair) that is allowed when being assigned to a\n",
      "                      feature. No limit is set by default.\n",
      "\n",
      "  --nonOverlapFeature <int> Maximum number of non-overlapping bases in a feature\n",
      "                      that is allowed in read assignment. No limit is set by\n",
      "                      default.\n",
      "\n",
      "  --readExtension5 <int> Reads are extended upstream by <int> bases from their\n",
      "                      5' end.\n",
      "\n",
      "  --readExtension3 <int> Reads are extended upstream by <int> bases from their\n",
      "                      3' end.\n",
      "\n",
      "  --read2pos <5:3>    Reduce reads to their 5' most base or 3' most base. Read\n",
      "                      counting is then performed based on the single base the \n",
      "                      read is reduced to.\n",
      "\n",
      "# Multi-mapping reads\n",
      "\n",
      "  -M                  Multi-mapping reads will also be counted. For a multi-\n",
      "                      mapping read, all its reported alignments will be \n",
      "                      counted. The 'NH' tag in BAM/SAM input is used to detect \n",
      "                      multi-mapping reads.\n",
      "\n",
      "# Fractional counting\n",
      "\n",
      "  --fraction          Assign fractional counts to features. This option must\n",
      "                      be used together with '-M' or '-O' or both. When '-M' is\n",
      "                      specified, each reported alignment from a multi-mapping\n",
      "                      read (identified via 'NH' tag) will carry a fractional\n",
      "                      count of 1/x, instead of 1 (one), where x is the total\n",
      "                      number of alignments reported for the same read. When '-O'\n",
      "                      is specified, each overlapping feature will receive a\n",
      "                      fractional count of 1/y, where y is the total number of\n",
      "                      features overlapping with the read. When both '-M' and\n",
      "                      '-O' are specified, each alignment will carry a fractional\n",
      "                      count of 1/(x*y).\n",
      "\n",
      "# Read filtering\n",
      "\n",
      "  -Q <int>            The minimum mapping quality score a read must satisfy in\n",
      "                      order to be counted. For paired-end reads, at least one\n",
      "                      end should satisfy this criteria. 0 by default.\n",
      "\n",
      "  --splitOnly         Count split alignments only (ie. alignments with CIGAR\n",
      "                      string containing 'N'). An example of split alignments is\n",
      "                      exon-spanning reads in RNA-seq data.\n",
      "\n",
      "  --nonSplitOnly      If specified, only non-split alignments (CIGAR strings do\n",
      "                      not contain letter 'N') will be counted. All the other\n",
      "                      alignments will be ignored.\n",
      "\n",
      "  --primary           Count primary alignments only. Primary alignments are \n",
      "                      identified using bit 0x100 in SAM/BAM FLAG field.\n",
      "\n",
      "  --ignoreDup         Ignore duplicate reads in read counting. Duplicate reads \n",
      "                      are identified using bit Ox400 in BAM/SAM FLAG field. The \n",
      "                      whole read pair is ignored if one of the reads is a \n",
      "                      duplicate read for paired end data.\n",
      "\n",
      "# Strandness\n",
      "\n",
      "  -s <int or string>  Perform strand-specific read counting. A single integer\n",
      "                      value (applied to all input files) or a string of comma-\n",
      "                      separated values (applied to each corresponding input\n",
      "                      file) should be provided. Possible values include:\n",
      "                      0 (unstranded), 1 (stranded) and 2 (reversely stranded).\n",
      "                      Default value is 0 (ie. unstranded read counting carried\n",
      "                      out for all input files).\n",
      "\n",
      "# Exon-exon junctions\n",
      "\n",
      "  -J                  Count number of reads supporting each exon-exon junction.\n",
      "                      Junctions were identified from those exon-spanning reads\n",
      "                      in the input (containing 'N' in CIGAR string). Counting\n",
      "                      results are saved to a file named '<output_file>.jcounts'\n",
      "\n",
      "  -G <string>         Provide the name of a FASTA-format file that contains the\n",
      "                      reference sequences used in read mapping that produced the\n",
      "                      provided SAM/BAM files. This optional argument can be used\n",
      "                      with '-J' option to improve read counting for junctions.\n",
      "\n",
      "# Parameters specific to paired end reads\n",
      "\n",
      "  -p                  If specified, fragments (or templates) will be counted\n",
      "                      instead of reads. This option is only applicable for\n",
      "                      paired-end reads; single-end reads are always counted as\n",
      "                      reads.\n",
      "\n",
      "  -B                  Only count read pairs that have both ends aligned.\n",
      "\n",
      "  -P                  Check validity of paired-end distance when counting read \n",
      "                      pairs. Use -d and -D to set thresholds.\n",
      "\n",
      "  -d <int>            Minimum fragment/template length, 50 by default.\n",
      "\n",
      "  -D <int>            Maximum fragment/template length, 600 by default.\n",
      "\n",
      "  -C                  Do not count read pairs that have their two ends mapping \n",
      "                      to different chromosomes or mapping to same chromosome \n",
      "                      but on different strands.\n",
      "\n",
      "  --donotsort         Do not sort reads in BAM/SAM input. Note that reads from \n",
      "                      the same pair are required to be located next to each \n",
      "                      other in the input.\n",
      "\n",
      "# Number of CPU threads\n",
      "\n",
      "  -T <int>            Number of the threads. 1 by default.\n",
      "\n",
      "# Read groups\n",
      "\n",
      "  --byReadGroup       Assign reads by read group. \"RG\" tag is required to be\n",
      "                      present in the input BAM/SAM files.\n",
      "                      \n",
      "\n",
      "# Long reads\n",
      "\n",
      "  -L                  Count long reads such as Nanopore and PacBio reads. Long\n",
      "                      read counting can only run in one thread and only reads\n",
      "                      (not read-pairs) can be counted. There is no limitation on\n",
      "                      the number of 'M' operations allowed in a CIGAR string in\n",
      "                      long read counting.\n",
      "\n",
      "# Assignment results for each read\n",
      "\n",
      "  -R <format>         Output detailed assignment results for each read or read-\n",
      "                      pair. Results are saved to a file that is in one of the\n",
      "                      following formats: CORE, SAM and BAM. See Users Guide for\n",
      "                      more info about these formats.\n",
      "\n",
      "  --Rpath <string>    Specify a directory to save the detailed assignment\n",
      "                      results. If unspecified, the directory where counting\n",
      "                      results are saved is used.\n",
      "\n",
      "# Miscellaneous\n",
      "\n",
      "  --tmpDir <string>   Directory under which intermediate files are saved (later\n",
      "                      removed). By default, intermediate files will be saved to\n",
      "                      the directory specified in '-o' argument.\n",
      "\n",
      "  --maxMOp <int>      Maximum number of 'M' operations allowed in a CIGAR\n",
      "                      string. 10 by default. Both 'X' and '=' are treated as 'M'\n",
      "                      and adjacent 'M' operations are merged in the CIGAR\n",
      "                      string.\n",
      "\n",
      "  --verbose           Output verbose information for debugging, such as un-\n",
      "                      matched chromosome/contig names.\n",
      "\n",
      "  -v                  Output version of the program.\n",
      "\n"
     ]
    },
    {
     "ename": "",
     "evalue": "255",
     "output_type": "error",
     "traceback": []
    }
   ],
   "source": [
    "featureCounts help"
   ]
  },
  {
   "cell_type": "markdown",
   "metadata": {},
   "source": [
    " Subread package has been installed here: /vsc-hard-mounts/leuven-data/331/vsc33185/yes/pkgs/ "
   ]
  },
  {
   "cell_type": "code",
   "execution_count": 3,
   "metadata": {},
   "outputs": [],
   "source": [
    "cd /ddn1/vol1/staging/leuven/stg_00041/Irene/Human_sequencing/"
   ]
  },
  {
   "cell_type": "code",
   "execution_count": 5,
   "metadata": {},
   "outputs": [
    {
     "name": "stdout",
     "output_type": "stream",
     "text": [
      "\n",
      "       \u001b[44;37m ========== \u001b[0m\u001b[36m    _____ _    _ ____  _____  ______          _____  \n",
      "       \u001b[44;37m =====      \u001b[0m\u001b[36m   / ____| |  | |  _ \\|  __ \\|  ____|   /\\   |  __ \\ \n",
      "       \u001b[44;37m   =====    \u001b[0m\u001b[36m  | (___ | |  | | |_) | |__) | |__     /  \\  | |  | |\n",
      "       \u001b[44;37m     ====   \u001b[0m\u001b[36m   \\___ \\| |  | |  _ <|  _  /|  __|   / /\\ \\ | |  | |\n",
      "       \u001b[44;37m       ==== \u001b[0m\u001b[36m   ____) | |__| | |_) | | \\ \\| |____ / ____ \\| |__| |\n",
      "       \u001b[44;37m ========== \u001b[0m\u001b[36m  |_____/ \\____/|____/|_|  \\_\\______/_/    \\_\\_____/\u001b[0m\n",
      "\t  v2.0.1\n",
      "\n",
      "//==========================\u001b[36m featureCounts setting \u001b[0m===========================\\\\\n",
      "||  \u001b[0m                                                                          ||\n",
      "||             Input files : \u001b[36m12 BAM files  \u001b[0m \u001b[0m                                  ||\n",
      "||                           \u001b[32mo\u001b[36m RNAseq_AGTCAA_STARAligned.sortedByCoord.ou\u001b[0m ... \u001b[0m||\n",
      "||                           \u001b[32mo\u001b[36m RNAseq_AGTTCC_STARAligned.sortedByCoord.ou\u001b[0m ... \u001b[0m||\n",
      "||                           \u001b[32mo\u001b[36m RNAseq_ATGTCA_STARAligned.sortedByCoord.ou\u001b[0m ... \u001b[0m||\n",
      "||                           \u001b[32mo\u001b[36m RNAseq_CCGTCC_STARAligned.sortedByCoord.ou\u001b[0m ... \u001b[0m||\n",
      "||                           \u001b[32mo\u001b[36m RNAseq_CGTACG_STARAligned.sortedByCoord.ou\u001b[0m ... \u001b[0m||\n",
      "||                           \u001b[32mo\u001b[36m RNAseq_CTTGTA_STARAligned.sortedByCoord.ou\u001b[0m ... \u001b[0m||\n",
      "||                           \u001b[32mo\u001b[36m RNAseq_GAGTGG_STARAligned.sortedByCoord.ou\u001b[0m ... \u001b[0m||\n",
      "||                           \u001b[32mo\u001b[36m RNAseq_GGCTAC_STARAligned.sortedByCoord.ou\u001b[0m ... \u001b[0m||\n",
      "||                           \u001b[32mo\u001b[36m RNAseq_GTCCGC_STARAligned.sortedByCoord.ou\u001b[0m ... \u001b[0m||\n",
      "||                           \u001b[32mo\u001b[36m RNAseq_GTGAAA_STARAligned.sortedByCoord.ou\u001b[0m ... \u001b[0m||\n",
      "||                           \u001b[32mo\u001b[36m RNAseq_GTGGCC_STARAligned.sortedByCoord.ou\u001b[0m ... \u001b[0m||\n",
      "||                           \u001b[32mo\u001b[36m RNAseq_GTTTCG_STARAligned.sortedByCoord.ou\u001b[0m ... \u001b[0m||\n",
      "||  \u001b[0m                                                                          ||\n",
      "||             Output file : \u001b[36mRNAseq_human2020_counts.txt\u001b[0m \u001b[0m                     ||\n",
      "||                 Summary : \u001b[36mRNAseq_human2020_counts.txt.summary\u001b[0m \u001b[0m             ||\n",
      "||              Annotation : \u001b[36mgencode.v31.annotation.gtf (GTF)\u001b[0m \u001b[0m                ||\n",
      "||      Dir for temp files : \u001b[36mfeatureCount\u001b[0m \u001b[0m                                    ||\n",
      "||  \u001b[0m                                                                          ||\n",
      "||                 Threads : \u001b[36m20\u001b[0m \u001b[0m                                              ||\n",
      "||                   Level : \u001b[36mmeta-feature level\u001b[0m \u001b[0m                              ||\n",
      "||              Paired-end : \u001b[36mno\u001b[0m \u001b[0m                                              ||\n",
      "||      Multimapping reads : \u001b[36mnot counted\u001b[0m \u001b[0m                                     ||\n",
      "|| Multi-overlapping reads : \u001b[36mnot counted\u001b[0m \u001b[0m                                     ||\n",
      "||   Min overlapping bases : \u001b[36m1\u001b[0m \u001b[0m                                               ||\n",
      "||  \u001b[0m                                                                          ||\n",
      "\\\\============================================================================//\n",
      "\n",
      "//=================================\u001b[36m Running \u001b[0m==================================\\\\\n",
      "||  \u001b[0m                                                                          ||\n",
      "|| Load annotation file gencode.v31.annotation.gtf \u001b[0m... \u001b[0m                       ||\n",
      "||    Features : \u001b[36m1363843\u001b[0m \u001b[0m                                                     ||\n",
      "||    Meta-features : \u001b[36m59050\u001b[0m \u001b[0m                                                  ||\n",
      "||    Chromosomes/contigs : \u001b[36m25\u001b[0m \u001b[0m                                               ||\n",
      "||  \u001b[0m                                                                          ||\n",
      "|| Process BAM file RNAseq_AGTCAA_STARAligned.sortedByCoord.out.bam... \u001b[0m       ||\n",
      "||    Single-end reads are included. \u001b[0m                                         ||\n",
      "||    Total alignments : \u001b[36m22910507\u001b[0m \u001b[0m                                            ||\n",
      "||    Successfully assigned alignments : \u001b[36m17549906 (76.6%)\u001b[0m \u001b[0m                    ||\n",
      "||    Running time : \u001b[36m0.03 minutes\u001b[0m \u001b[0m                                            ||\n",
      "||  \u001b[0m                                                                          ||\n",
      "|| Process BAM file RNAseq_AGTTCC_STARAligned.sortedByCoord.out.bam... \u001b[0m       ||\n",
      "||    Single-end reads are included. \u001b[0m                                         ||\n",
      "||    Total alignments : \u001b[36m26928894\u001b[0m \u001b[0m                                            ||\n",
      "||    Successfully assigned alignments : \u001b[36m20911204 (77.7%)\u001b[0m \u001b[0m                    ||\n",
      "||    Running time : \u001b[36m0.03 minutes\u001b[0m \u001b[0m                                            ||\n",
      "||  \u001b[0m                                                                          ||\n",
      "|| Process BAM file RNAseq_ATGTCA_STARAligned.sortedByCoord.out.bam... \u001b[0m       ||\n",
      "||    Single-end reads are included. \u001b[0m                                         ||\n",
      "||    Total alignments : \u001b[36m22817071\u001b[0m \u001b[0m                                            ||\n",
      "||    Successfully assigned alignments : \u001b[36m17658601 (77.4%)\u001b[0m \u001b[0m                    ||\n",
      "||    Running time : \u001b[36m0.02 minutes\u001b[0m \u001b[0m                                            ||\n",
      "||  \u001b[0m                                                                          ||\n",
      "|| Process BAM file RNAseq_CCGTCC_STARAligned.sortedByCoord.out.bam... \u001b[0m       ||\n",
      "||    Single-end reads are included. \u001b[0m                                         ||\n",
      "||    Total alignments : \u001b[36m28223911\u001b[0m \u001b[0m                                            ||\n",
      "||    Successfully assigned alignments : \u001b[36m21853248 (77.4%)\u001b[0m \u001b[0m                    ||\n",
      "||    Running time : \u001b[36m0.03 minutes\u001b[0m \u001b[0m                                            ||\n",
      "||  \u001b[0m                                                                          ||\n",
      "|| Process BAM file RNAseq_CGTACG_STARAligned.sortedByCoord.out.bam... \u001b[0m       ||\n",
      "||    Single-end reads are included. \u001b[0m                                         ||\n",
      "||    Total alignments : \u001b[36m18026634\u001b[0m \u001b[0m                                            ||\n",
      "||    Successfully assigned alignments : \u001b[36m14912243 (82.7%)\u001b[0m \u001b[0m                    ||\n",
      "||    Running time : \u001b[36m0.02 minutes\u001b[0m \u001b[0m                                            ||\n",
      "||  \u001b[0m                                                                          ||\n",
      "|| Process BAM file RNAseq_CTTGTA_STARAligned.sortedByCoord.out.bam... \u001b[0m       ||\n",
      "||    Single-end reads are included. \u001b[0m                                         ||\n",
      "||    Total alignments : \u001b[36m23570216\u001b[0m \u001b[0m                                            ||\n",
      "||    Successfully assigned alignments : \u001b[36m18427558 (78.2%)\u001b[0m \u001b[0m                    ||\n",
      "||    Running time : \u001b[36m0.03 minutes\u001b[0m \u001b[0m                                            ||\n",
      "||  \u001b[0m                                                                          ||\n",
      "|| Process BAM file RNAseq_GAGTGG_STARAligned.sortedByCoord.out.bam... \u001b[0m       ||\n",
      "||    Single-end reads are included. \u001b[0m                                         ||\n",
      "||    Total alignments : \u001b[36m14980010\u001b[0m \u001b[0m                                            ||\n",
      "||    Successfully assigned alignments : \u001b[36m12285751 (82.0%)\u001b[0m \u001b[0m                    ||\n",
      "||    Running time : \u001b[36m0.02 minutes\u001b[0m \u001b[0m                                            ||\n",
      "||  \u001b[0m                                                                          ||\n",
      "|| Process BAM file RNAseq_GGCTAC_STARAligned.sortedByCoord.out.bam... \u001b[0m       ||\n",
      "||    Single-end reads are included. \u001b[0m                                         ||\n",
      "||    Total alignments : \u001b[36m18472308\u001b[0m \u001b[0m                                            ||\n",
      "||    Successfully assigned alignments : \u001b[36m15148943 (82.0%)\u001b[0m \u001b[0m                    ||\n",
      "||    Running time : \u001b[36m0.02 minutes\u001b[0m \u001b[0m                                            ||\n",
      "||  \u001b[0m                                                                          ||\n",
      "|| Process BAM file RNAseq_GTCCGC_STARAligned.sortedByCoord.out.bam... \u001b[0m       ||\n",
      "||    Single-end reads are included. \u001b[0m                                         ||\n",
      "||    Total alignments : \u001b[36m26859836\u001b[0m \u001b[0m                                            ||\n",
      "||    Successfully assigned alignments : \u001b[36m21206473 (79.0%)\u001b[0m \u001b[0m                    ||\n",
      "||    Running time : \u001b[36m0.03 minutes\u001b[0m \u001b[0m                                            ||\n",
      "||  \u001b[0m                                                                          ||\n",
      "|| Process BAM file RNAseq_GTGAAA_STARAligned.sortedByCoord.out.bam... \u001b[0m       ||\n",
      "||    Single-end reads are included. \u001b[0m                                         ||\n",
      "||    Total alignments : \u001b[36m18322363\u001b[0m \u001b[0m                                            ||\n",
      "||    Successfully assigned alignments : \u001b[36m14947780 (81.6%)\u001b[0m \u001b[0m                    ||\n",
      "||    Running time : \u001b[36m0.02 minutes\u001b[0m \u001b[0m                                            ||\n",
      "||  \u001b[0m                                                                          ||\n",
      "|| Process BAM file RNAseq_GTGGCC_STARAligned.sortedByCoord.out.bam... \u001b[0m       ||\n",
      "||    Single-end reads are included. \u001b[0m                                         ||\n",
      "||    Total alignments : \u001b[36m27977645\u001b[0m \u001b[0m                                            ||\n",
      "||    Successfully assigned alignments : \u001b[36m23039153 (82.3%)\u001b[0m \u001b[0m                    ||\n",
      "||    Running time : \u001b[36m0.03 minutes\u001b[0m \u001b[0m                                            ||\n",
      "||  \u001b[0m                                                                          ||\n",
      "|| Process BAM file RNAseq_GTTTCG_STARAligned.sortedByCoord.out.bam... \u001b[0m       ||\n",
      "||    Single-end reads are included. \u001b[0m                                         ||\n",
      "||    Total alignments : \u001b[36m30144672\u001b[0m \u001b[0m                                            ||\n",
      "||    Successfully assigned alignments : \u001b[36m24621325 (81.7%)\u001b[0m \u001b[0m                    ||\n",
      "||    Running time : \u001b[36m0.03 minutes\u001b[0m \u001b[0m                                            ||\n",
      "||  \u001b[0m                                                                          ||\n",
      "|| Write the final count table. \u001b[0m                                              ||\n",
      "|| Write the read assignment summary. \u001b[0m                                        ||\n",
      "||  \u001b[0m                                                                          ||\n",
      "|| Summary of counting results can be found in file \"featureCount/RNAseq_hum \u001b[0m ||\n",
      "|| an2020_counts.txt.summary\" \u001b[0m                                                ||\n",
      "||  \u001b[0m                                                                          ||\n",
      "\\\\============================================================================//\n",
      "\n"
     ]
    }
   ],
   "source": [
    "featureCounts -a \"/ddn1/vol1/staging/leuven/stg_00041/genomes/GRCh38/gencode.v31.annotation.gtf\" -g gene_name -o featureCount/RNAseq_human2020_counts.txt RNAseq_AGTCAA_STARAligned.sortedByCoord.out.bam RNAseq_AGTTCC_STARAligned.sortedByCoord.out.bam RNAseq_ATGTCA_STARAligned.sortedByCoord.out.bam RNAseq_CCGTCC_STARAligned.sortedByCoord.out.bam RNAseq_CGTACG_STARAligned.sortedByCoord.out.bam RNAseq_CTTGTA_STARAligned.sortedByCoord.out.bam RNAseq_GAGTGG_STARAligned.sortedByCoord.out.bam RNAseq_GGCTAC_STARAligned.sortedByCoord.out.bam RNAseq_GTCCGC_STARAligned.sortedByCoord.out.bam RNAseq_GTGAAA_STARAligned.sortedByCoord.out.bam RNAseq_GTGGCC_STARAligned.sortedByCoord.out.bam RNAseq_GTTTCG_STARAligned.sortedByCoord.out.bam -T 20"
   ]
  },
  {
   "cell_type": "code",
   "execution_count": 10,
   "metadata": {},
   "outputs": [
    {
     "name": "stdout",
     "output_type": "stream",
     "text": [
      "# Program:featureCounts v2.0.1; Command:\"featureCounts\" \"-a\" \"/ddn1/vol1/staging/leuven/stg_00041/genomes/GRCh38/gencode.v31.annotation.gtf\" \"-g\" \"gene_name\" \"-o\" \"featureCount/RNAseq_human2020_counts.txt\" \"RNAseq_AGTCAA_STARAligned.sortedByCoord.out.bam\" \"RNAseq_AGTTCC_STARAligned.sortedByCoord.out.bam\" \"RNAseq_ATGTCA_STARAligned.sortedByCoord.out.bam\" \"RNAseq_CCGTCC_STARAligned.sortedByCoord.out.bam\" \"RNAseq_CGTACG_STARAligned.sortedByCoord.out.bam\" \"RNAseq_CTTGTA_STARAligned.sortedByCoord.out.bam\" \"RNAseq_GAGTGG_STARAligned.sortedByCoord.out.bam\" \"RNAseq_GGCTAC_STARAligned.sortedByCoord.out.bam\" \"RNAseq_GTCCGC_STARAligned.sortedByCoord.out.bam\" \"RNAseq_GTGAAA_STARAligned.sortedByCoord.out.bam\" \"RNAseq_GTGGCC_STARAligned.sortedByCoord.out.bam\" \"RNAseq_GTTTCG_STARAligned.sortedByCoord.out.bam\" \"-T\" \"20\" \n",
      "Geneid\tChr\tStart\tEnd\tStrand\tLength\tRNAseq_AGTCAA_STARAligned.sortedByCoord.out.bam\tRNAseq_AGTTCC_STARAligned.sortedByCoord.out.bam\tRNAseq_ATGTCA_STARAligned.sortedByCoord.out.bam\tRNAseq_CCGTCC_STARAligned.sortedByCoord.out.bam\tRNAseq_CGTACG_STARAligned.sortedByCoord.out.bam\tRNAseq_CTTGTA_STARAligned.sortedByCoord.out.bam\tRNAseq_GAGTGG_STARAligned.sortedByCoord.out.bam\tRNAseq_GGCTAC_STARAligned.sortedByCoord.out.bam\tRNAseq_GTCCGC_STARAligned.sortedByCoord.out.bam\tRNAseq_GTGAAA_STARAligned.sortedByCoord.out.bam\tRNAseq_GTGGCC_STARAligned.sortedByCoord.out.bam\tRNAseq_GTTTCG_STARAligned.sortedByCoord.out.bam\n",
      "DDX11L1\tchr1;chr1;chr1;chr1;chr1;chr1;chr1;chr1;chr1\t11869;12010;12179;12613;12613;12975;13221;13221;13453\t12227;12057;12227;12721;12697;13052;13374;14409;13670\t+;+;+;+;+;+;+;+;+\t1735\t0\t0\t0\t0\t0\t1\t0\t0\t0\t0\t0\t0\n",
      "WASH7P\tchr1;chr1;chr1;chr1;chr1;chr1;chr1;chr1;chr1;chr1;chr1\t14404;15005;15796;16607;16858;17233;17606;17915;18268;24738;29534\t14501;15038;15947;16765;17055;17368;17742;18061;18366;24891;29570\t-;-;-;-;-;-;-;-;-;-;-\t1351\t0\t1\t2\t1\t1\t0\t0\t1\t0\t0\t1\t0\n",
      "MIR6859-1\tchr1\t17369\t17436\t-\t68\t0\t0\t0\t0\t0\t0\t0\t0\t0\t0\t0\t0\n",
      "MIR1302-2HG\tchr1;chr1;chr1;chr1;chr1\t29554;30267;30564;30976;30976\t30039;30667;30667;31109;31097\t+;+;+;+;+\t1021\t0\t0\t0\t0\t0\t0\t0\t0\t0\t0\t0\t0\n",
      "MIR1302-2\tchr1\t30366\t30503\t+\t138\t0\t0\t0\t0\t0\t0\t0\t0\t0\t0\t0\t0\n",
      "FAM138A\tchr1;chr1;chr1;chr1;chr1\t34554;35245;35277;35721;35721\t35174;35481;35481;36073;36081\t-;-;-;-;-\t1219\t0\t0\t0\t0\t0\t0\t0\t0\t0\t0\t0\t0\n",
      "OR4G4P\tchr1\t52473\t53312\t+\t840\t0\t0\t0\t0\t0\t0\t0\t0\t0\t0\t0\t0\n",
      "OR4G11P\tchr1;chr1;chr1;chr1\t57598;58700;62916;62949\t57653;58856;64116;63887\t+;+;+;+\t1414\t0\t0\t0\t0\t0\t0\t0\t0\t0\t0\t0\t0\n"
     ]
    }
   ],
   "source": [
    "head RNAseq_human2020_counts.txt"
   ]
  },
  {
   "cell_type": "markdown",
   "metadata": {},
   "source": [
    "Remove the header line that starts with '#'"
   ]
  },
  {
   "cell_type": "code",
   "execution_count": 11,
   "metadata": {},
   "outputs": [],
   "source": [
    "grep -v '^#' RNAseq_human2020_counts.txt > RNAseq_human2020_counts2.txt"
   ]
  },
  {
   "cell_type": "code",
   "execution_count": 12,
   "metadata": {},
   "outputs": [
    {
     "name": "stdout",
     "output_type": "stream",
     "text": [
      "Geneid\tChr\tStart\tEnd\tStrand\tLength\tRNAseq_AGTCAA_STARAligned.sortedByCoord.out.bam\tRNAseq_AGTTCC_STARAligned.sortedByCoord.out.bam\tRNAseq_ATGTCA_STARAligned.sortedByCoord.out.bam\tRNAseq_CCGTCC_STARAligned.sortedByCoord.out.bam\tRNAseq_CGTACG_STARAligned.sortedByCoord.out.bam\tRNAseq_CTTGTA_STARAligned.sortedByCoord.out.bam\tRNAseq_GAGTGG_STARAligned.sortedByCoord.out.bam\tRNAseq_GGCTAC_STARAligned.sortedByCoord.out.bam\tRNAseq_GTCCGC_STARAligned.sortedByCoord.out.bam\tRNAseq_GTGAAA_STARAligned.sortedByCoord.out.bam\tRNAseq_GTGGCC_STARAligned.sortedByCoord.out.bam\tRNAseq_GTTTCG_STARAligned.sortedByCoord.out.bam\n",
      "DDX11L1\tchr1;chr1;chr1;chr1;chr1;chr1;chr1;chr1;chr1\t11869;12010;12179;12613;12613;12975;13221;13221;13453\t12227;12057;12227;12721;12697;13052;13374;14409;13670\t+;+;+;+;+;+;+;+;+\t1735\t0\t0\t0\t0\t0\t1\t0\t0\t0\t0\t0\t0\n",
      "WASH7P\tchr1;chr1;chr1;chr1;chr1;chr1;chr1;chr1;chr1;chr1;chr1\t14404;15005;15796;16607;16858;17233;17606;17915;18268;24738;29534\t14501;15038;15947;16765;17055;17368;17742;18061;18366;24891;29570\t-;-;-;-;-;-;-;-;-;-;-\t1351\t0\t1\t2\t1\t1\t0\t0\t1\t0\t0\t1\t0\n",
      "MIR6859-1\tchr1\t17369\t17436\t-\t68\t0\t0\t0\t0\t0\t0\t0\t0\t0\t0\t0\t0\n",
      "MIR1302-2HG\tchr1;chr1;chr1;chr1;chr1\t29554;30267;30564;30976;30976\t30039;30667;30667;31109;31097\t+;+;+;+;+\t1021\t0\t0\t0\t0\t0\t0\t0\t0\t0\t0\t0\t0\n",
      "MIR1302-2\tchr1\t30366\t30503\t+\t138\t0\t0\t0\t0\t0\t0\t0\t0\t0\t0\t0\t0\n",
      "FAM138A\tchr1;chr1;chr1;chr1;chr1\t34554;35245;35277;35721;35721\t35174;35481;35481;36073;36081\t-;-;-;-;-\t1219\t0\t0\t0\t0\t0\t0\t0\t0\t0\t0\t0\t0\n",
      "OR4G4P\tchr1\t52473\t53312\t+\t840\t0\t0\t0\t0\t0\t0\t0\t0\t0\t0\t0\t0\n",
      "OR4G11P\tchr1;chr1;chr1;chr1\t57598;58700;62916;62949\t57653;58856;64116;63887\t+;+;+;+\t1414\t0\t0\t0\t0\t0\t0\t0\t0\t0\t0\t0\t0\n",
      "OR4F5\tchr1;chr1;chr1;chr1\t65419;65520;69037;69055\t65433;65573;71585;70108\t+;+;+;+\t2618\t0\t0\t0\t0\t0\t0\t0\t0\t0\t0\t0\t0\n"
     ]
    }
   ],
   "source": [
    "head RNAseq_human2020_counts2.txt"
   ]
  },
  {
   "cell_type": "markdown",
   "metadata": {},
   "source": [
    "Separate the columns with the counts from the ones that contain information about the gene (6 first columns vs the rest):"
   ]
  },
  {
   "cell_type": "code",
   "execution_count": 13,
   "metadata": {},
   "outputs": [
    {
     "name": "stdout",
     "output_type": "stream",
     "text": [
      "Geneid\tChr\tStart\tEnd\tStrand\tLength\n",
      "DDX11L1\tchr1;chr1;chr1;chr1;chr1;chr1;chr1;chr1;chr1\t11869;12010;12179;12613;12613;12975;13221;13221;13453\t12227;12057;12227;12721;12697;13052;13374;14409;13670\t+;+;+;+;+;+;+;+;+\t1735\n",
      "WASH7P\tchr1;chr1;chr1;chr1;chr1;chr1;chr1;chr1;chr1;chr1;chr1\t14404;15005;15796;16607;16858;17233;17606;17915;18268;24738;29534\t14501;15038;15947;16765;17055;17368;17742;18061;18366;24891;29570\t-;-;-;-;-;-;-;-;-;-;-\t1351\n",
      "MIR6859-1\tchr1\t17369\t17436\t-\t68\n",
      "MIR1302-2HG\tchr1;chr1;chr1;chr1;chr1\t29554;30267;30564;30976;30976\t30039;30667;30667;31109;31097\t+;+;+;+;+\t1021\n",
      "MIR1302-2\tchr1\t30366\t30503\t+\t138\n",
      "FAM138A\tchr1;chr1;chr1;chr1;chr1\t34554;35245;35277;35721;35721\t35174;35481;35481;36073;36081\t-;-;-;-;-\t1219\n",
      "OR4G4P\tchr1\t52473\t53312\t+\t840\n",
      "OR4G11P\tchr1;chr1;chr1;chr1\t57598;58700;62916;62949\t57653;58856;64116;63887\t+;+;+;+\t1414\n",
      "OR4F5\tchr1;chr1;chr1;chr1\t65419;65520;69037;69055\t65433;65573;71585;70108\t+;+;+;+\t2618\n"
     ]
    }
   ],
   "source": [
    "cut -f-6 RNAseq_human2020_counts2.txt > RNAseq_human2020_genedata.txt\n",
    "head RNAseq_human2020_genedata.txt"
   ]
  },
  {
   "cell_type": "code",
   "execution_count": 15,
   "metadata": {},
   "outputs": [
    {
     "name": "stdout",
     "output_type": "stream",
     "text": [
      "Geneid       RNAseq_AGTCAA_STARAligned.sortedByCoord.out.bam  RNAseq_AGTTCC_STARAligned.sortedByCoord.out.bam  RNAseq_ATGTCA_STARAligned.sortedByCoord.out.bam  RNAseq_CCGTCC_STARAligned.sortedByCoord.out.bam  RNAseq_CGTACG_STARAligned.sortedByCoord.out.bam  RNAseq_CTTGTA_STARAligned.sortedByCoord.out.bam  RNAseq_GAGTGG_STARAligned.sortedByCoord.out.bam  RNAseq_GGCTAC_STARAligned.sortedByCoord.out.bam  RNAseq_GTCCGC_STARAligned.sortedByCoord.out.bam  RNAseq_GTGAAA_STARAligned.sortedByCoord.out.bam  RNAseq_GTGGCC_STARAligned.sortedByCoord.out.bam  RNAseq_GTTTCG_STARAligned.sortedByCoord.out.bam\n",
      "DDX11L1      0                                                0                                                0                                                0                                                0                                                1                                                0                                                0                                                0                                                0                                                0                                                0\n",
      "WASH7P       0                                                1                                                2                                                1                                                1                                                0                                                0                                                1                                                0                                                0                                                1                                                0\n",
      "MIR6859-1    0                                                0                                                0                                                0                                                0                                                0                                                0                                                0                                                0                                                0                                                0                                                0\n",
      "MIR1302-2HG  0                                                0                                                0                                                0                                                0                                                0                                                0                                                0                                                0                                                0                                                0                                                0\n",
      "MIR1302-2    0                                                0                                                0                                                0                                                0                                                0                                                0                                                0                                                0                                                0                                                0                                                0\n",
      "FAM138A      0                                                0                                                0                                                0                                                0                                                0                                                0                                                0                                                0                                                0                                                0                                                0\n",
      "OR4G4P       0                                                0                                                0                                                0                                                0                                                0                                                0                                                0                                                0                                                0                                                0                                                0\n",
      "OR4G11P      0                                                0                                                0                                                0                                                0                                                0                                                0                                                0                                                0                                                0                                                0                                                0\n",
      "OR4F5        0                                                0                                                0                                                0                                                0                                                0                                                0                                                0                                                0                                                0                                                0                                                0\n"
     ]
    }
   ],
   "source": [
    "cut -f1,7- RNAseq_human2020_counts2.txt > RNAseq_human2020_counts_short.txt\n",
    "head RNAseq_human2020_counts_short.txt | column -t"
   ]
  },
  {
   "cell_type": "markdown",
   "metadata": {},
   "source": [
    "unzip count matrix from Bredenkamp/Guo Wnt Inhibition Facilitates RNA-Mediated Reprogramming of Human Somatic Cells to Naive Pluripotency / Stem Cell Reports / 2019"
   ]
  },
  {
   "cell_type": "code",
   "execution_count": 2,
   "metadata": {},
   "outputs": [],
   "source": [
    "cd /ddn1/vol1/staging/leuven/stg_00041/Irene/Human_sequencing/featureCount/"
   ]
  },
  {
   "cell_type": "code",
   "execution_count": 3,
   "metadata": {},
   "outputs": [],
   "source": [
    "gunzip GSE138304_counts.txt.gz"
   ]
  },
  {
   "cell_type": "code",
   "execution_count": 4,
   "metadata": {},
   "outputs": [],
   "source": [
    "gunzip GSE138304_series_matrix.txt.gz"
   ]
  },
  {
   "cell_type": "code",
   "execution_count": null,
   "metadata": {},
   "outputs": [],
   "source": []
  }
 ],
 "metadata": {
  "kernelspec": {
   "display_name": "Bash",
   "language": "bash",
   "name": "bash"
  },
  "language_info": {
   "codemirror_mode": "shell",
   "file_extension": ".sh",
   "mimetype": "text/x-sh",
   "name": "bash"
  }
 },
 "nbformat": 4,
 "nbformat_minor": 4
}
