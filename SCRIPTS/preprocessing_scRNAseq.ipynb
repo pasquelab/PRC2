{
 "cells": [
  {
   "cell_type": "code",
   "execution_count": null,
   "metadata": {},
   "outputs": [],
   "source": [
    "Samples in fastq files from the Genomics Core (A1-14 are mine) are here:\n",
    "/ddn1/vol1/staging/leuven/stg_00041/SanKit/SKT010/DATA/demultiplex.210329.NovaSeq1.FCA_cellranger/H5YYLDRXY/\n",
    "\n",
    "These samples correspond to:\n",
    "A1: D0 DMSO Naive cells\n",
    "A2: D0 PRC2i Naive cells\n",
    "A3: D4 DMSO TSC conversion cells\n",
    "A4: D4 PRC2i TSC conversion cells\n",
    "\n",
    "Location of reference genome data:\n",
    "/ddn1/vol1/staging/leuven/stg_00041/software/CellRanger_4_0_0/refdata-gex-GRCh38-and-mm10-2020-A/\n",
    "\n",
    "Location of the cellranger software is here:\n",
    "/ddn1/vol1/staging/leuven/stg_00041/software/CellRanger_4_0_0/cellranger-4.0.0/"
   ]
  },
  {
   "cell_type": "code",
   "execution_count": null,
   "metadata": {},
   "outputs": [],
   "source": [
    "cd /ddn1/vol1/staging/leuven/stg_00041/Irene/10X_NAIVE_TSC_2021/"
   ]
  },
  {
   "cell_type": "code",
   "execution_count": null,
   "metadata": {},
   "outputs": [],
   "source": [
    "#Add cell ranger to my path:\n",
    "export PATH=/ddn1/vol1/staging/leuven/stg_00041/software/CellRanger_4_0_0/cellranger-4.0.0:$PATH"
   ]
  },
  {
   "cell_type": "code",
   "execution_count": null,
   "metadata": {},
   "outputs": [],
   "source": [
    "# We will run cellranger count to perform alignment, filtering, barcode counting, and UMI counting (mapping to mouse and human genome together): \n",
    "#This is because MEF feeders in our cultures, and we want to know which cells are MEFs (mouse embryonic fibroblasts)\n",
    "# do this for each sample"
   ]
  },
  {
   "cell_type": "code",
   "execution_count": null,
   "metadata": {},
   "outputs": [],
   "source": [
    "cellranger count --id=D4_PRC2i_TSC_mouse_hum \\\n",
    "                   --transcriptome=/ddn1/vol1/staging/leuven/stg_00041/software/CellRanger_4_0_0/refdata-gex-GRCh38-and-mm10-2020-A \\\n",
    "                   --fastqs=/ddn1/vol1/staging/leuven/stg_00041/SanKit/SKT010/DATA/demultiplex.210329.NovaSeq1.FCA_cellranger/H5YYLDRXY/GC108758_SI-GA-A4/ \\\n",
    "                   --expect-cells=4000 \\\n",
    "                   --localcores=32 \\\n",
    "                   --localmem=128"
   ]
  },
  {
   "cell_type": "code",
   "execution_count": null,
   "metadata": {},
   "outputs": [],
   "source": [
    "# outputs for each sample:\n",
    "\n",
    "analysis\n",
    "cloupe.cloupe\n",
    "filtered_feature_bc_matrix\n",
    "filtered_feature_bc_matrix.h5\n",
    "metrics_summary.csv\n",
    "molecule_info.h5\n",
    "possorted_genome_bam.bam #--> deleted because they were very heavy and i didn't have space\n",
    "possorted_genome_bam.bam.bai\n",
    "raw_feature_bc_matrix\n",
    "raw_feature_bc_matrix.h5\n",
    "web_summary.html #--> check these!!!"
   ]
  },
  {
   "cell_type": "code",
   "execution_count": null,
   "metadata": {},
   "outputs": [],
   "source": [
    "# Create a csv file with: library_id and path to molecule_info.h5: \n",
    "#with these csv files you can create seurat objects with the function CreateSeuratObject from Seurat package (see notebook )\n",
    "\n",
    "library_id,molecule_h5\n",
    "D0_DMSO_naive,/ddn1/vol1/staging/leuven/stg_00041/Irene/10X_NAIVE_TSC_2021/D0_DMSO_naive/outs/molecule_info.h5\n",
    "D0_PRC2i_naive,/ddn1/vol1/staging/leuven/stg_00041/Irene/10X_NAIVE_TSC_2021/D0_PRC2i_naive/outs/molecule_info.h5\n",
    "D4_DMSO_TSC,/ddn1/vol1/staging/leuven/stg_00041/Irene/10X_NAIVE_TSC_2021/D4_DMSO_TSC/outs/molecule_info.h5\n",
    "D4_PRC2i_TSC,/ddn1/vol1/staging/leuven/stg_00041/Irene/10X_NAIVE_TSC_2021/D4_PRC2i_TSC/outs/molecule_info.h5"
   ]
  }
 ],
 "metadata": {
  "kernelspec": {
   "display_name": "Python_base",
   "language": "python",
   "name": "python_base"
  },
  "language_info": {
   "codemirror_mode": {
    "name": "ipython",
    "version": 3
   },
   "file_extension": ".py",
   "mimetype": "text/x-python",
   "name": "python",
   "nbconvert_exporter": "python",
   "pygments_lexer": "ipython3",
   "version": "3.7.4"
  }
 },
 "nbformat": 4,
 "nbformat_minor": 4
}
